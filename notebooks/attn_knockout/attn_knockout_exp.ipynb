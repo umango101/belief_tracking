{
 "cells": [
  {
   "cell_type": "code",
   "execution_count": null,
   "metadata": {},
   "outputs": [],
   "source": [
    "import json\n",
    "import math\n",
    "import os\n",
    "import random\n",
    "import sys\n",
    "\n",
    "import matplotlib.pyplot as plt\n",
    "import torch\n",
    "from nnsight import CONFIG, LanguageModel\n",
    "from torch.utils.data import DataLoader\n",
    "from tqdm import tqdm\n",
    "\n",
    "current_dir = os.getcwd()\n",
    "sys.path.append(os.path.dirname(os.path.dirname(current_dir)))\n",
    "from src import global_utils\n",
    "from src.dataset import STORY_TEMPLATES, Dataset, Sample\n",
    "\n",
    "device = torch.device(\"cuda\" if torch.cuda.is_available() else \"cpu\")\n",
    "random.seed(10)\n",
    "\n",
    "CONFIG.APP.REMOTE_LOGGING = True\n",
    "\n",
    "os.environ[\"NDIF_KEY\"] = global_utils.load_env_var(\"NDIF_KEY\")\n",
    "os.environ[\"HF_TOKEN\"] = global_utils.load_env_var(\"HF_WRITE\")"
   ]
  },
  {
   "cell_type": "markdown",
   "metadata": {},
   "source": [
    "# Loading Synthetic Data"
   ]
  },
  {
   "cell_type": "code",
   "execution_count": null,
   "metadata": {},
   "outputs": [
    {
     "name": "stdout",
     "output_type": "stream",
     "text": [
      "#characters: 103\n",
      "#objects: 21\n",
      "#states: 23\n"
     ]
    }
   ],
   "source": [
    "all_characters = json.load(\n",
    "    open(\n",
    "        os.path.join(\n",
    "            global_utils.DEFAULT_DATA_DIR, \"synthetic_entities\", \"characters.json\"\n",
    "        ),\n",
    "        \"r\",\n",
    "    )\n",
    ")\n",
    "all_objects = json.load(\n",
    "    open(\n",
    "        os.path.join(\n",
    "            global_utils.DEFAULT_DATA_DIR, \"synthetic_entities\", \"bottles.json\"\n",
    "        ),\n",
    "        \"r\",\n",
    "    )\n",
    ")\n",
    "all_states = json.load(\n",
    "    open(\n",
    "        os.path.join(\n",
    "            global_utils.DEFAULT_DATA_DIR, \"synthetic_entities\", \"drinks.json\"\n",
    "        ),\n",
    "        \"r\",\n",
    "    )\n",
    ")\n",
    "\n",
    "print(f\"#characters: {len(all_characters)}\")\n",
    "print(f\"#objects: {len(all_objects)}\")\n",
    "print(f\"#states: {len(all_states)}\")"
   ]
  },
  {
   "cell_type": "markdown",
   "metadata": {},
   "source": [
    "# Loading model"
   ]
  },
  {
   "cell_type": "code",
   "execution_count": 4,
   "metadata": {},
   "outputs": [
    {
     "name": "stderr",
     "output_type": "stream",
     "text": [
      "Loading checkpoint shards: 100%|██████████| 30/30 [00:35<00:00,  1.17s/it]\n"
     ]
    }
   ],
   "source": [
    "is_remote = False\n",
    "\n",
    "if is_remote:\n",
    "    model = LanguageModel(\"meta-llama/Meta-Llama-3.1-405B-Instruct\")\n",
    "else:\n",
    "    model = LanguageModel(\n",
    "        \"meta-llama/Meta-Llama-3-70B-Instruct\",\n",
    "        device_map=\"auto\",\n",
    "        dtype=torch.float16,\n",
    "        dispatch=True,\n",
    "    )"
   ]
  },
  {
   "cell_type": "markdown",
   "metadata": {},
   "source": [
    "# Sampling dataset"
   ]
  },
  {
   "cell_type": "code",
   "execution_count": null,
   "metadata": {},
   "outputs": [],
   "source": [
    "n_samples = 20\n",
    "batch_size = 1\n",
    "\n",
    "configs, samples = [], []\n",
    "template_idx = 1\n",
    "for _ in range(n_samples):\n",
    "    template = STORY_TEMPLATES[\"templates\"][template_idx]\n",
    "    characters = random.sample(all_characters, 2)\n",
    "    objects = random.sample(all_objects, 2)\n",
    "    states = random.sample(all_states, 2)\n",
    "\n",
    "    sample = Sample(\n",
    "        template_idx=template_idx,\n",
    "        characters=characters,\n",
    "        objects=objects,\n",
    "        states=states,\n",
    "    )\n",
    "    configs.append(sample)\n",
    "\n",
    "dataset = Dataset(configs)\n",
    "\n",
    "for i in range(n_samples):\n",
    "    sample = dataset.__getitem__(i, set_container=1, set_character=0)\n",
    "    samples.append(sample)\n",
    "\n",
    "dataloader = DataLoader(samples, batch_size=1, shuffle=False)\n"
   ]
  },
  {
   "cell_type": "code",
   "execution_count": 8,
   "metadata": {},
   "outputs": [
    {
     "name": "stdout",
     "output_type": "stream",
     "text": [
      "Instruction: 1. Track the belief of each character as described in the story. 2. A character's belief is formed only when they perform an action themselves or can observe the action taking place. 3. A character does not have any beliefs about the container and its contents which they cannot observe. 4. To answer the question, predict only what is inside the queried container, strictly based on the belief of the character, mentioned in the question. 5. If the queried character has no belief about the container in question, then predict 'unknown'. 6. Do not predict container or character as the final output.\n",
      "\n",
      "Story: Tony and Nancy are working in a busy restaurant. To complete an order, Tony grabs an opaque dispenser and fills it with stout. Then Nancy grabs another opaque can and fills it with juice. Nancy cannot observe Tony's actions. Tony can observe Nancy's actions.\n",
      "Question: What does Tony believe the can contains?\n",
      "Answer: juice\n"
     ]
    }
   ],
   "source": [
    "idx = 0\n",
    "data = samples[idx]\n",
    "prompt = data[\"prompt\"]\n",
    "target = data[\"target\"]\n",
    "print(prompt, target)"
   ]
  },
  {
   "cell_type": "markdown",
   "metadata": {},
   "source": [
    "# Attn Knockout"
   ]
  },
  {
   "cell_type": "code",
   "execution_count": 9,
   "metadata": {},
   "outputs": [],
   "source": [
    "n_rep = model.config.num_key_value_heads\n",
    "n_heads = model.config.num_attention_heads\n",
    "head_dim = model.config.hidden_size // model.config.num_attention_heads\n",
    "\n",
    "\n",
    "def rotate_half(x):\n",
    "    \"\"\"Rotates half the hidden dims of the input.\"\"\"\n",
    "    x1 = x[..., : head_dim // 2]\n",
    "    x2 = x[..., head_dim // 2 :]\n",
    "    return torch.cat((-x2, x1), dim=-1)\n",
    "\n",
    "\n",
    "def apply_rotary_pos_emb(q, k, cos, sin, position_ids=None, unsqueeze_dim=1):\n",
    "    \"\"\"Applies Rotary Position Embedding to the query and key tensors.\n",
    "\n",
    "    Args:\n",
    "        q (`torch.Tensor`): The query tensor.\n",
    "        k (`torch.Tensor`): The key tensor.\n",
    "        cos (`torch.Tensor`): The cosine part of the rotary embedding.\n",
    "        sin (`torch.Tensor`): The sine part of the rotary embedding.\n",
    "        position_ids (`torch.Tensor`, *optional*):\n",
    "            Deprecated and unused.\n",
    "        unsqueeze_dim (`int`, *optional*, defaults to 1):\n",
    "            The 'unsqueeze_dim' argument specifies the dimension along which to unsqueeze cos[position_ids] and\n",
    "            sin[position_ids] so that they can be properly broadcasted to the dimensions of q and k. For example, note\n",
    "            that cos[position_ids] and sin[position_ids] have the shape [batch_size, seq_len, head_dim]. Then, if q and\n",
    "            k have the shape [batch_size, heads, seq_len, head_dim], then setting unsqueeze_dim=1 makes\n",
    "            cos[position_ids] and sin[position_ids] broadcastable to the shapes of q and k. Similarly, if q and k have\n",
    "            the shape [batch_size, seq_len, heads, head_dim], then set unsqueeze_dim=2.\n",
    "    Returns:\n",
    "        `tuple(torch.Tensor)` comprising of the query and key tensors rotated using the Rotary Position Embedding.\n",
    "    \"\"\"\n",
    "    cos = cos.unsqueeze(unsqueeze_dim)\n",
    "    sin = sin.unsqueeze(unsqueeze_dim)\n",
    "    q_embed = (q * cos) + (rotate_half(q) * sin)\n",
    "    k_embed = (k * cos) + (rotate_half(k) * sin)\n",
    "    return q_embed, k_embed\n",
    "\n",
    "\n",
    "def repeat_kv(hidden_states: torch.Tensor, n_rep: int) -> torch.Tensor:\n",
    "    \"\"\"\n",
    "    This is the equivalent of torch.repeat_interleave(x, dim=1, repeats=n_rep). The hidden states go from (batch,\n",
    "    num_key_value_heads, seqlen, head_dim) to (batch, num_attention_heads, seqlen, head_dim)\n",
    "    \"\"\"\n",
    "    X = hidden_states.shape\n",
    "    batch, num_key_value_heads, slen, head_dim = X[0], X[1], X[2], X[3]\n",
    "    if n_rep == 1:\n",
    "        return hidden_states\n",
    "    hidden_states = hidden_states[:, :, None, :, :].expand(\n",
    "        batch, num_key_value_heads, n_rep, slen, head_dim\n",
    "    )\n",
    "    return hidden_states.reshape(batch, num_key_value_heads * n_rep, slen, head_dim)"
   ]
  },
  {
   "cell_type": "code",
   "execution_count": 10,
   "metadata": {},
   "outputs": [],
   "source": [
    "def apply_causal_mask(attn_scores, knockout_mask=None):\n",
    "    ignore = torch.tensor(torch.finfo(torch.float16).min)\n",
    "\n",
    "    # Apply causal mask\n",
    "    mask = torch.triu(\n",
    "        torch.ones(\n",
    "            attn_scores.size(-2), attn_scores.size(-1), device=attn_scores.device\n",
    "        ),\n",
    "        diagonal=1,\n",
    "    ).bool()\n",
    "    attn_scores.masked_fill_(mask, ignore)\n",
    "\n",
    "    attn_scores.masked_fill_(knockout_mask.to(attn_scores.device), ignore)\n",
    "\n",
    "    return attn_scores"
   ]
  },
  {
   "cell_type": "markdown",
   "metadata": {},
   "source": [
    "# Experiments"
   ]
  },
  {
   "cell_type": "code",
   "execution_count": 11,
   "metadata": {},
   "outputs": [],
   "source": [
    "first_visibility_sent = [i for i in range(169, 176)]\n",
    "second_visibility_sent = [i for i in range(176, 183)]\n",
    "first_sent = [i for i in range(146, 157)]\n",
    "second_sent = [i for i in range(158, 169)]"
   ]
  },
  {
   "cell_type": "markdown",
   "metadata": {},
   "source": [
    "## Second Sentence + First Visibility Sentence"
   ]
  },
  {
   "cell_type": "code",
   "execution_count": 12,
   "metadata": {},
   "outputs": [],
   "source": [
    "knockout = {}\n",
    "for t in second_visibility_sent:\n",
    "    knockout[t] = second_sent.copy()\n",
    "    knockout[t] += first_visibility_sent.copy()\n",
    "\n",
    "batch_size = 1\n",
    "num_heads = model.config.num_attention_heads\n",
    "tokens = model.tokenizer(samples[0][\"prompt\"], return_tensors=\"pt\")[\"input_ids\"]\n",
    "q_len = tokens.size(1)\n",
    "\n",
    "knockout_mask = torch.zeros(\n",
    "    batch_size, num_heads, q_len, q_len, device=model.device, dtype=torch.bool\n",
    ")\n",
    "\n",
    "from_indices = []\n",
    "to_indices = []\n",
    "\n",
    "for from_pos, to_pos_list in knockout.items():\n",
    "    for to_pos in to_pos_list:\n",
    "        from_indices.append(from_pos)\n",
    "        to_indices.append(to_pos)\n",
    "\n",
    "from_indices = torch.tensor(from_indices)\n",
    "to_indices = torch.tensor(to_indices)\n",
    "\n",
    "for b in range(1, batch_size):\n",
    "    knockout_mask[b, :, from_indices, to_indices] = True\n",
    "\n",
    "for h in range(num_heads):\n",
    "    knockout_mask[0, h, from_indices, to_indices] = True"
   ]
  },
  {
   "cell_type": "code",
   "execution_count": 13,
   "metadata": {},
   "outputs": [
    {
     "name": "stderr",
     "output_type": "stream",
     "text": [
      "  0%|          | 0/20 [00:00<?, ?it/s]/tmp/ipykernel_135520/462571743.py:14: UserWarning: To copy construct from a tensor, it is recommended to use sourceTensor.detach().clone() or sourceTensor.detach().clone().requires_grad_(True), rather than torch.tensor(sourceTensor).\n",
      "  positions = torch.tensor(positions).unsqueeze(0).repeat(bsz, 1)\n",
      "100%|██████████| 20/20 [00:20<00:00,  1.01s/it]\n"
     ]
    },
    {
     "name": "stdout",
     "output_type": "stream",
     "text": [
      "Layer: 0 | Accuracy: 0.0\n"
     ]
    },
    {
     "name": "stderr",
     "output_type": "stream",
     "text": [
      "100%|██████████| 20/20 [00:19<00:00,  1.04it/s]\n"
     ]
    },
    {
     "name": "stdout",
     "output_type": "stream",
     "text": [
      "Layer: 2 | Accuracy: 0.0\n"
     ]
    },
    {
     "name": "stderr",
     "output_type": "stream",
     "text": [
      "100%|██████████| 20/20 [00:18<00:00,  1.07it/s]\n"
     ]
    },
    {
     "name": "stdout",
     "output_type": "stream",
     "text": [
      "Layer: 4 | Accuracy: 0.05\n"
     ]
    },
    {
     "name": "stderr",
     "output_type": "stream",
     "text": [
      "100%|██████████| 20/20 [00:18<00:00,  1.09it/s]\n"
     ]
    },
    {
     "name": "stdout",
     "output_type": "stream",
     "text": [
      "Layer: 6 | Accuracy: 0.0\n"
     ]
    },
    {
     "name": "stderr",
     "output_type": "stream",
     "text": [
      "100%|██████████| 20/20 [00:17<00:00,  1.11it/s]\n"
     ]
    },
    {
     "name": "stdout",
     "output_type": "stream",
     "text": [
      "Layer: 8 | Accuracy: 0.0\n"
     ]
    },
    {
     "name": "stderr",
     "output_type": "stream",
     "text": [
      "100%|██████████| 20/20 [00:17<00:00,  1.14it/s]\n"
     ]
    },
    {
     "name": "stdout",
     "output_type": "stream",
     "text": [
      "Layer: 10 | Accuracy: 0.0\n"
     ]
    },
    {
     "name": "stderr",
     "output_type": "stream",
     "text": [
      "100%|██████████| 20/20 [00:17<00:00,  1.17it/s]\n"
     ]
    },
    {
     "name": "stdout",
     "output_type": "stream",
     "text": [
      "Layer: 12 | Accuracy: 0.0\n"
     ]
    },
    {
     "name": "stderr",
     "output_type": "stream",
     "text": [
      "100%|██████████| 20/20 [00:16<00:00,  1.19it/s]\n"
     ]
    },
    {
     "name": "stdout",
     "output_type": "stream",
     "text": [
      "Layer: 14 | Accuracy: 0.0\n"
     ]
    },
    {
     "name": "stderr",
     "output_type": "stream",
     "text": [
      "100%|██████████| 20/20 [00:16<00:00,  1.22it/s]\n"
     ]
    },
    {
     "name": "stdout",
     "output_type": "stream",
     "text": [
      "Layer: 16 | Accuracy: 0.0\n"
     ]
    },
    {
     "name": "stderr",
     "output_type": "stream",
     "text": [
      "100%|██████████| 20/20 [00:15<00:00,  1.26it/s]\n"
     ]
    },
    {
     "name": "stdout",
     "output_type": "stream",
     "text": [
      "Layer: 18 | Accuracy: 0.0\n"
     ]
    },
    {
     "name": "stderr",
     "output_type": "stream",
     "text": [
      "100%|██████████| 20/20 [00:15<00:00,  1.27it/s]\n"
     ]
    },
    {
     "name": "stdout",
     "output_type": "stream",
     "text": [
      "Layer: 20 | Accuracy: 0.05\n"
     ]
    },
    {
     "name": "stderr",
     "output_type": "stream",
     "text": [
      "100%|██████████| 20/20 [00:15<00:00,  1.31it/s]\n"
     ]
    },
    {
     "name": "stdout",
     "output_type": "stream",
     "text": [
      "Layer: 22 | Accuracy: 0.05\n"
     ]
    },
    {
     "name": "stderr",
     "output_type": "stream",
     "text": [
      "100%|██████████| 20/20 [00:14<00:00,  1.34it/s]\n"
     ]
    },
    {
     "name": "stdout",
     "output_type": "stream",
     "text": [
      "Layer: 24 | Accuracy: 0.3\n"
     ]
    },
    {
     "name": "stderr",
     "output_type": "stream",
     "text": [
      "100%|██████████| 20/20 [00:14<00:00,  1.38it/s]\n"
     ]
    },
    {
     "name": "stdout",
     "output_type": "stream",
     "text": [
      "Layer: 26 | Accuracy: 0.8\n"
     ]
    },
    {
     "name": "stderr",
     "output_type": "stream",
     "text": [
      "100%|██████████| 20/20 [00:14<00:00,  1.40it/s]\n"
     ]
    },
    {
     "name": "stdout",
     "output_type": "stream",
     "text": [
      "Layer: 28 | Accuracy: 1.0\n"
     ]
    },
    {
     "name": "stderr",
     "output_type": "stream",
     "text": [
      "100%|██████████| 20/20 [00:14<00:00,  1.41it/s]\n"
     ]
    },
    {
     "name": "stdout",
     "output_type": "stream",
     "text": [
      "Layer: 30 | Accuracy: 1.0\n"
     ]
    },
    {
     "name": "stderr",
     "output_type": "stream",
     "text": [
      "100%|██████████| 20/20 [00:12<00:00,  1.64it/s]\n"
     ]
    },
    {
     "name": "stdout",
     "output_type": "stream",
     "text": [
      "Layer: 40 | Accuracy: 1.0\n"
     ]
    },
    {
     "name": "stderr",
     "output_type": "stream",
     "text": [
      "100%|██████████| 20/20 [00:10<00:00,  1.96it/s]\n"
     ]
    },
    {
     "name": "stdout",
     "output_type": "stream",
     "text": [
      "Layer: 50 | Accuracy: 1.0\n"
     ]
    },
    {
     "name": "stderr",
     "output_type": "stream",
     "text": [
      "100%|██████████| 20/20 [00:08<00:00,  2.38it/s]\n"
     ]
    },
    {
     "name": "stdout",
     "output_type": "stream",
     "text": [
      "Layer: 60 | Accuracy: 1.0\n"
     ]
    },
    {
     "name": "stderr",
     "output_type": "stream",
     "text": [
      "100%|██████████| 20/20 [00:06<00:00,  3.17it/s]"
     ]
    },
    {
     "name": "stdout",
     "output_type": "stream",
     "text": [
      "Layer: 70 | Accuracy: 1.0\n"
     ]
    },
    {
     "name": "stderr",
     "output_type": "stream",
     "text": [
      "\n"
     ]
    }
   ],
   "source": [
    "second_sent_first_vis_sent = {}\n",
    "patch_layers = [i for i in range(0, 32, 2)] + [\n",
    "    i for i in range(40, model.config.num_hidden_layers, 10)\n",
    "]\n",
    "\n",
    "for layer_idx in patch_layers:\n",
    "    correct, total = 0, 0\n",
    "    for bi, batch in tqdm(enumerate(dataloader), total=len(dataloader)):\n",
    "        prompt = batch[\"prompt\"][0]\n",
    "        ans = batch[\"target\"][0]\n",
    "        input_tokens = model.tokenizer(prompt, return_tensors=\"pt\").input_ids\n",
    "        bsz, q_len = input_tokens.shape\n",
    "        positions = torch.arange(q_len)\n",
    "        positions = torch.tensor(positions).unsqueeze(0).repeat(bsz, 1)\n",
    "\n",
    "        with torch.no_grad():\n",
    "            with model.trace(prompt, remote=is_remote) as tracer:\n",
    "                for l in range(layer_idx, model.config.num_hidden_layers):\n",
    "                    query_states = model.model.layers[l].self_attn.q_proj.output\n",
    "                    key_states = model.model.layers[l].self_attn.k_proj.output\n",
    "                    value_states = model.model.layers[l].self_attn.v_proj.output\n",
    "\n",
    "                    query_states = query_states.view(\n",
    "                        bsz, q_len, -1, head_dim\n",
    "                    ).transpose(1, 2)\n",
    "                    key_states = key_states.view(bsz, q_len, -1, head_dim).transpose(\n",
    "                        1, 2\n",
    "                    )\n",
    "                    value_states = value_states.view(\n",
    "                        bsz, q_len, -1, head_dim\n",
    "                    ).transpose(1, 2)\n",
    "\n",
    "                    X = model.model.rotary_emb(value_states, positions)\n",
    "                    cos, sin = X[0], X[1]\n",
    "                    X = apply_rotary_pos_emb(\n",
    "                        q=query_states, k=key_states, cos=cos, sin=sin\n",
    "                    )\n",
    "                    query_states, key_states = X[0], X[1]\n",
    "\n",
    "                    key_states = repeat_kv(key_states, n_rep)\n",
    "                    value_states = repeat_kv(value_states, n_rep)\n",
    "\n",
    "                    attn_weights = torch.matmul(\n",
    "                        query_states, key_states.transpose(2, 3)\n",
    "                    ) / math.sqrt(head_dim)\n",
    "                    attn_weights = apply_causal_mask(\n",
    "                        attn_scores=attn_weights,\n",
    "                        knockout_mask=knockout_mask,\n",
    "                    )\n",
    "\n",
    "                    attn_weights = torch.nn.functional.softmax(attn_weights, dim=-1)\n",
    "                    attn_weights = torch.nn.functional.dropout(\n",
    "                        attn_weights, p=0.0, training=False\n",
    "                    )\n",
    "                    attn_output = torch.matmul(attn_weights, value_states)\n",
    "                    attn_output = attn_output.transpose(1, 2).contiguous()\n",
    "                    attn_output = attn_output.reshape(bsz, q_len, -1)\n",
    "\n",
    "                    model.model.layers[l].self_attn.o_proj.input = attn_output\n",
    "\n",
    "                pred = model.lm_head.output[:, -1].argmax(dim=-1).item().save()\n",
    "\n",
    "            # print(\n",
    "            #     f\"Prediction: {model.tokenizer.decode([pred]).lower().strip()} | Target: {ans}\"\n",
    "            # )\n",
    "            if model.tokenizer.decode([pred]).lower().strip() == ans:\n",
    "                correct += 1\n",
    "            total += 1\n",
    "\n",
    "    print(f\"Layer: {layer_idx} | Accuracy: {round(correct / total, 2)}\")\n",
    "\n",
    "    second_sent_first_vis_sent[layer_idx] = round(correct / total, 2)"
   ]
  },
  {
   "cell_type": "code",
   "execution_count": 14,
   "metadata": {},
   "outputs": [
    {
     "data": {
      "image/png": "[encoded data removed]",
      "text/plain": [
       "<Figure size 700x300 with 1 Axes>"
      ]
     },
     "metadata": {},
     "output_type": "display_data"
    }
   ],
   "source": [
    "# Visualize second_sent_first_vis_sent as a line plot\n",
    "plt.figure(figsize=(7, 3))\n",
    "layers = list(second_sent_first_vis_sent.keys())\n",
    "accuracies = list(second_sent_first_vis_sent.values())\n",
    "\n",
    "plt.plot(layers, accuracies, marker=\"o\", linestyle=\"-\", linewidth=2)\n",
    "plt.xlabel(\"Layer\")\n",
    "plt.ylabel(\"IIA\")\n",
    "plt.title(\"Layer-wise IIA with Attention Knockout\")\n",
    "plt.grid(True, linestyle=\"--\", alpha=0.7)\n",
    "plt.xticks(layers)\n",
    "plt.ylim(0, 1.1)\n",
    "\n",
    "plt.tight_layout()\n",
    "plt.show()"
   ]
  },
  {
   "cell_type": "markdown",
   "metadata": {},
   "source": [
    "## First Visibility Sentence"
   ]
  },
  {
   "cell_type": "code",
   "execution_count": 15,
   "metadata": {},
   "outputs": [],
   "source": [
    "knockout = {}\n",
    "for t in second_visibility_sent:\n",
    "    knockout[t] = first_visibility_sent.copy()\n",
    "\n",
    "batch_size = 1\n",
    "num_heads = model.config.num_attention_heads\n",
    "tokens = model.tokenizer(samples[0][\"prompt\"], return_tensors=\"pt\")[\"input_ids\"]\n",
    "q_len = tokens.size(1)\n",
    "\n",
    "knockout_mask = torch.zeros(\n",
    "    batch_size, num_heads, q_len, q_len, device=model.device, dtype=torch.bool\n",
    ")\n",
    "\n",
    "from_indices = []\n",
    "to_indices = []\n",
    "\n",
    "for from_pos, to_pos_list in knockout.items():\n",
    "    for to_pos in to_pos_list:\n",
    "        from_indices.append(from_pos)\n",
    "        to_indices.append(to_pos)\n",
    "\n",
    "from_indices = torch.tensor(from_indices)\n",
    "to_indices = torch.tensor(to_indices)\n",
    "\n",
    "for b in range(1, batch_size):\n",
    "    knockout_mask[b, :, from_indices, to_indices] = True\n",
    "\n",
    "for h in range(num_heads):\n",
    "    knockout_mask[0, h, from_indices, to_indices] = True"
   ]
  },
  {
   "cell_type": "code",
   "execution_count": 16,
   "metadata": {},
   "outputs": [
    {
     "name": "stderr",
     "output_type": "stream",
     "text": [
      "  0%|          | 0/20 [00:00<?, ?it/s]/tmp/ipykernel_135520/380285424.py:14: UserWarning: To copy construct from a tensor, it is recommended to use sourceTensor.detach().clone() or sourceTensor.detach().clone().requires_grad_(True), rather than torch.tensor(sourceTensor).\n",
      "  positions = torch.tensor(positions).unsqueeze(0).repeat(bsz, 1)\n",
      "100%|██████████| 20/20 [00:20<00:00,  1.00s/it]\n"
     ]
    },
    {
     "name": "stdout",
     "output_type": "stream",
     "text": [
      "Layer: 0 | Accuracy: 0.05\n"
     ]
    },
    {
     "name": "stderr",
     "output_type": "stream",
     "text": [
      "100%|██████████| 20/20 [00:19<00:00,  1.02it/s]\n"
     ]
    },
    {
     "name": "stdout",
     "output_type": "stream",
     "text": [
      "Layer: 2 | Accuracy: 0.1\n"
     ]
    },
    {
     "name": "stderr",
     "output_type": "stream",
     "text": [
      "100%|██████████| 20/20 [00:19<00:00,  1.04it/s]\n"
     ]
    },
    {
     "name": "stdout",
     "output_type": "stream",
     "text": [
      "Layer: 4 | Accuracy: 0.35\n"
     ]
    },
    {
     "name": "stderr",
     "output_type": "stream",
     "text": [
      "100%|██████████| 20/20 [00:18<00:00,  1.07it/s]\n"
     ]
    },
    {
     "name": "stdout",
     "output_type": "stream",
     "text": [
      "Layer: 6 | Accuracy: 0.3\n"
     ]
    },
    {
     "name": "stderr",
     "output_type": "stream",
     "text": [
      "100%|██████████| 20/20 [00:18<00:00,  1.09it/s]\n"
     ]
    },
    {
     "name": "stdout",
     "output_type": "stream",
     "text": [
      "Layer: 8 | Accuracy: 0.15\n"
     ]
    },
    {
     "name": "stderr",
     "output_type": "stream",
     "text": [
      "100%|██████████| 20/20 [00:18<00:00,  1.11it/s]\n"
     ]
    },
    {
     "name": "stdout",
     "output_type": "stream",
     "text": [
      "Layer: 10 | Accuracy: 0.05\n"
     ]
    },
    {
     "name": "stderr",
     "output_type": "stream",
     "text": [
      "100%|██████████| 20/20 [00:17<00:00,  1.14it/s]\n"
     ]
    },
    {
     "name": "stdout",
     "output_type": "stream",
     "text": [
      "Layer: 12 | Accuracy: 0.25\n"
     ]
    },
    {
     "name": "stderr",
     "output_type": "stream",
     "text": [
      "100%|██████████| 20/20 [00:17<00:00,  1.16it/s]\n"
     ]
    },
    {
     "name": "stdout",
     "output_type": "stream",
     "text": [
      "Layer: 14 | Accuracy: 0.3\n"
     ]
    },
    {
     "name": "stderr",
     "output_type": "stream",
     "text": [
      "100%|██████████| 20/20 [00:16<00:00,  1.18it/s]\n"
     ]
    },
    {
     "name": "stdout",
     "output_type": "stream",
     "text": [
      "Layer: 16 | Accuracy: 0.3\n"
     ]
    },
    {
     "name": "stderr",
     "output_type": "stream",
     "text": [
      "100%|██████████| 20/20 [00:16<00:00,  1.22it/s]\n"
     ]
    },
    {
     "name": "stdout",
     "output_type": "stream",
     "text": [
      "Layer: 18 | Accuracy: 0.2\n"
     ]
    },
    {
     "name": "stderr",
     "output_type": "stream",
     "text": [
      "100%|██████████| 20/20 [00:16<00:00,  1.24it/s]\n"
     ]
    },
    {
     "name": "stdout",
     "output_type": "stream",
     "text": [
      "Layer: 20 | Accuracy: 0.65\n"
     ]
    },
    {
     "name": "stderr",
     "output_type": "stream",
     "text": [
      "100%|██████████| 20/20 [00:15<00:00,  1.28it/s]\n"
     ]
    },
    {
     "name": "stdout",
     "output_type": "stream",
     "text": [
      "Layer: 22 | Accuracy: 1.0\n"
     ]
    },
    {
     "name": "stderr",
     "output_type": "stream",
     "text": [
      "100%|██████████| 20/20 [00:15<00:00,  1.31it/s]\n"
     ]
    },
    {
     "name": "stdout",
     "output_type": "stream",
     "text": [
      "Layer: 24 | Accuracy: 1.0\n"
     ]
    },
    {
     "name": "stderr",
     "output_type": "stream",
     "text": [
      "100%|██████████| 20/20 [00:14<00:00,  1.35it/s]\n"
     ]
    },
    {
     "name": "stdout",
     "output_type": "stream",
     "text": [
      "Layer: 26 | Accuracy: 1.0\n"
     ]
    },
    {
     "name": "stderr",
     "output_type": "stream",
     "text": [
      "100%|██████████| 20/20 [00:14<00:00,  1.38it/s]\n"
     ]
    },
    {
     "name": "stdout",
     "output_type": "stream",
     "text": [
      "Layer: 28 | Accuracy: 1.0\n"
     ]
    },
    {
     "name": "stderr",
     "output_type": "stream",
     "text": [
      "100%|██████████| 20/20 [00:14<00:00,  1.41it/s]\n"
     ]
    },
    {
     "name": "stdout",
     "output_type": "stream",
     "text": [
      "Layer: 30 | Accuracy: 1.0\n"
     ]
    },
    {
     "name": "stderr",
     "output_type": "stream",
     "text": [
      "100%|██████████| 20/20 [00:12<00:00,  1.64it/s]\n"
     ]
    },
    {
     "name": "stdout",
     "output_type": "stream",
     "text": [
      "Layer: 40 | Accuracy: 1.0\n"
     ]
    },
    {
     "name": "stderr",
     "output_type": "stream",
     "text": [
      "100%|██████████| 20/20 [00:10<00:00,  1.96it/s]\n"
     ]
    },
    {
     "name": "stdout",
     "output_type": "stream",
     "text": [
      "Layer: 50 | Accuracy: 1.0\n"
     ]
    },
    {
     "name": "stderr",
     "output_type": "stream",
     "text": [
      "100%|██████████| 20/20 [00:08<00:00,  2.38it/s]\n"
     ]
    },
    {
     "name": "stdout",
     "output_type": "stream",
     "text": [
      "Layer: 60 | Accuracy: 1.0\n"
     ]
    },
    {
     "name": "stderr",
     "output_type": "stream",
     "text": [
      "100%|██████████| 20/20 [00:06<00:00,  3.16it/s]"
     ]
    },
    {
     "name": "stdout",
     "output_type": "stream",
     "text": [
      "Layer: 70 | Accuracy: 1.0\n"
     ]
    },
    {
     "name": "stderr",
     "output_type": "stream",
     "text": [
      "\n"
     ]
    }
   ],
   "source": [
    "accs_first_vis_sent = {}\n",
    "patch_layers = [i for i in range(0, 32, 2)] + [\n",
    "    i for i in range(40, model.config.num_hidden_layers, 10)\n",
    "]\n",
    "\n",
    "for layer_idx in patch_layers:\n",
    "    correct, total = 0, 0\n",
    "    for bi, batch in tqdm(enumerate(dataloader), total=len(dataloader)):\n",
    "        prompt = batch[\"prompt\"][0]\n",
    "        ans = batch[\"target\"][0]\n",
    "        input_tokens = model.tokenizer(prompt, return_tensors=\"pt\").input_ids\n",
    "        bsz, q_len = input_tokens.shape\n",
    "        positions = torch.arange(q_len)\n",
    "        positions = torch.tensor(positions).unsqueeze(0).repeat(bsz, 1)\n",
    "\n",
    "        with torch.no_grad():\n",
    "            with model.trace(prompt, remote=is_remote) as tracer:\n",
    "                for l in range(layer_idx, model.config.num_hidden_layers):\n",
    "                    query_states = model.model.layers[l].self_attn.q_proj.output\n",
    "                    key_states = model.model.layers[l].self_attn.k_proj.output\n",
    "                    value_states = model.model.layers[l].self_attn.v_proj.output\n",
    "\n",
    "                    query_states = query_states.view(\n",
    "                        bsz, q_len, -1, head_dim\n",
    "                    ).transpose(1, 2)\n",
    "                    key_states = key_states.view(bsz, q_len, -1, head_dim).transpose(\n",
    "                        1, 2\n",
    "                    )\n",
    "                    value_states = value_states.view(\n",
    "                        bsz, q_len, -1, head_dim\n",
    "                    ).transpose(1, 2)\n",
    "\n",
    "                    X = model.model.rotary_emb(value_states, positions)\n",
    "                    cos, sin = X[0], X[1]\n",
    "                    X = apply_rotary_pos_emb(\n",
    "                        q=query_states, k=key_states, cos=cos, sin=sin\n",
    "                    )\n",
    "                    query_states, key_states = X[0], X[1]\n",
    "\n",
    "                    key_states = repeat_kv(key_states, n_rep)\n",
    "                    value_states = repeat_kv(value_states, n_rep)\n",
    "\n",
    "                    attn_weights = torch.matmul(\n",
    "                        query_states, key_states.transpose(2, 3)\n",
    "                    ) / math.sqrt(head_dim)\n",
    "                    attn_weights = apply_causal_mask(\n",
    "                        attn_scores=attn_weights,\n",
    "                        knockout_mask=knockout_mask,\n",
    "                    )\n",
    "\n",
    "                    attn_weights = torch.nn.functional.softmax(attn_weights, dim=-1)\n",
    "                    attn_weights = torch.nn.functional.dropout(\n",
    "                        attn_weights, p=0.0, training=False\n",
    "                    )\n",
    "                    attn_output = torch.matmul(attn_weights, value_states)\n",
    "                    attn_output = attn_output.transpose(1, 2).contiguous()\n",
    "                    attn_output = attn_output.reshape(bsz, q_len, -1)\n",
    "\n",
    "                    model.model.layers[l].self_attn.o_proj.input = attn_output\n",
    "\n",
    "                pred = model.lm_head.output[:, -1].argmax(dim=-1).item().save()\n",
    "\n",
    "            # print(\n",
    "            #     f\"Prediction: {model.tokenizer.decode([pred]).lower().strip()} | Target: {ans}\"\n",
    "            # )\n",
    "            if model.tokenizer.decode([pred]).lower().strip() == ans:\n",
    "                correct += 1\n",
    "            total += 1\n",
    "\n",
    "    print(f\"Layer: {layer_idx} | Accuracy: {round(correct / total, 2)}\")\n",
    "\n",
    "    accs_first_vis_sent[layer_idx] = round(correct / total, 2)"
   ]
  },
  {
   "cell_type": "code",
   "execution_count": 14,
   "metadata": {},
   "outputs": [
    {
     "data": {
      "image/png": "[encoded data removed]",
      "text/plain": [
       "<Figure size 700x300 with 1 Axes>"
      ]
     },
     "metadata": {},
     "output_type": "display_data"
    }
   ],
   "source": [
    "# Visualize accs_first_vis_sent as a line plot\n",
    "plt.figure(figsize=(7, 3))\n",
    "layers = list(accs_first_vis_sent.keys())\n",
    "accuracies = list(accs_first_vis_sent.values())\n",
    "\n",
    "plt.plot(layers, accuracies, marker=\"o\", linestyle=\"-\", linewidth=2)\n",
    "plt.xlabel(\"Layer\")\n",
    "plt.ylabel(\"IIA\")\n",
    "plt.title(\"Layer-wise IIA with Attention Knockout\")\n",
    "plt.grid(True, linestyle=\"--\", alpha=0.7)\n",
    "plt.xticks(layers)\n",
    "plt.ylim(0, 1.1)\n",
    "\n",
    "plt.tight_layout()\n",
    "plt.show()"
   ]
  },
  {
   "cell_type": "markdown",
   "metadata": {},
   "source": [
    "## Second Story Sentence"
   ]
  },
  {
   "cell_type": "code",
   "execution_count": 15,
   "metadata": {},
   "outputs": [],
   "source": [
    "knockout = {}\n",
    "for t in second_visibility_sent:\n",
    "    knockout[t] = second_sent.copy()\n",
    "\n",
    "batch_size = 1\n",
    "num_heads = model.config.num_attention_heads\n",
    "tokens = model.tokenizer(samples[0][\"prompt\"], return_tensors=\"pt\")[\"input_ids\"]\n",
    "q_len = tokens.size(1)\n",
    "\n",
    "knockout_mask = torch.zeros(\n",
    "    batch_size, num_heads, q_len, q_len, device=model.device, dtype=torch.bool\n",
    ")\n",
    "\n",
    "from_indices = []\n",
    "to_indices = []\n",
    "\n",
    "for from_pos, to_pos_list in knockout.items():\n",
    "    for to_pos in to_pos_list:\n",
    "        from_indices.append(from_pos)\n",
    "        to_indices.append(to_pos)\n",
    "\n",
    "from_indices = torch.tensor(from_indices)\n",
    "to_indices = torch.tensor(to_indices)\n",
    "\n",
    "for b in range(1, batch_size):\n",
    "    knockout_mask[b, :, from_indices, to_indices] = True\n",
    "\n",
    "for h in range(num_heads):\n",
    "    knockout_mask[0, h, from_indices, to_indices] = True"
   ]
  },
  {
   "cell_type": "code",
   "execution_count": 16,
   "metadata": {},
   "outputs": [
    {
     "name": "stderr",
     "output_type": "stream",
     "text": [
      "  0%|          | 0/20 [00:00<?, ?it/s]/tmp/ipykernel_1897831/2119420221.py:14: UserWarning: To copy construct from a tensor, it is recommended to use sourceTensor.clone().detach() or sourceTensor.clone().detach().requires_grad_(True), rather than torch.tensor(sourceTensor).\n",
      "  positions = torch.tensor(positions).unsqueeze(0).repeat(bsz, 1)\n",
      "100%|██████████| 20/20 [00:23<00:00,  1.17s/it]\n"
     ]
    },
    {
     "name": "stdout",
     "output_type": "stream",
     "text": [
      "Layer: 0 | Accuracy: 0.2\n"
     ]
    },
    {
     "name": "stderr",
     "output_type": "stream",
     "text": [
      "100%|██████████| 20/20 [00:22<00:00,  1.14s/it]\n"
     ]
    },
    {
     "name": "stdout",
     "output_type": "stream",
     "text": [
      "Layer: 2 | Accuracy: 0.15\n"
     ]
    },
    {
     "name": "stderr",
     "output_type": "stream",
     "text": [
      "100%|██████████| 20/20 [00:22<00:00,  1.12s/it]\n"
     ]
    },
    {
     "name": "stdout",
     "output_type": "stream",
     "text": [
      "Layer: 4 | Accuracy: 0.2\n"
     ]
    },
    {
     "name": "stderr",
     "output_type": "stream",
     "text": [
      "100%|██████████| 20/20 [00:21<00:00,  1.09s/it]\n"
     ]
    },
    {
     "name": "stdout",
     "output_type": "stream",
     "text": [
      "Layer: 6 | Accuracy: 0.2\n"
     ]
    },
    {
     "name": "stderr",
     "output_type": "stream",
     "text": [
      "100%|██████████| 20/20 [00:21<00:00,  1.07s/it]\n"
     ]
    },
    {
     "name": "stdout",
     "output_type": "stream",
     "text": [
      "Layer: 8 | Accuracy: 0.2\n"
     ]
    },
    {
     "name": "stderr",
     "output_type": "stream",
     "text": [
      "100%|██████████| 20/20 [00:20<00:00,  1.04s/it]\n"
     ]
    },
    {
     "name": "stdout",
     "output_type": "stream",
     "text": [
      "Layer: 10 | Accuracy: 0.2\n"
     ]
    },
    {
     "name": "stderr",
     "output_type": "stream",
     "text": [
      "100%|██████████| 20/20 [00:20<00:00,  1.02s/it]\n"
     ]
    },
    {
     "name": "stdout",
     "output_type": "stream",
     "text": [
      "Layer: 12 | Accuracy: 0.2\n"
     ]
    },
    {
     "name": "stderr",
     "output_type": "stream",
     "text": [
      "100%|██████████| 20/20 [00:19<00:00,  1.00it/s]\n"
     ]
    },
    {
     "name": "stdout",
     "output_type": "stream",
     "text": [
      "Layer: 14 | Accuracy: 0.2\n"
     ]
    },
    {
     "name": "stderr",
     "output_type": "stream",
     "text": [
      "100%|██████████| 20/20 [00:19<00:00,  1.03it/s]\n"
     ]
    },
    {
     "name": "stdout",
     "output_type": "stream",
     "text": [
      "Layer: 16 | Accuracy: 0.3\n"
     ]
    },
    {
     "name": "stderr",
     "output_type": "stream",
     "text": [
      "100%|██████████| 20/20 [00:19<00:00,  1.05it/s]\n"
     ]
    },
    {
     "name": "stdout",
     "output_type": "stream",
     "text": [
      "Layer: 18 | Accuracy: 0.5\n"
     ]
    },
    {
     "name": "stderr",
     "output_type": "stream",
     "text": [
      "100%|██████████| 20/20 [00:18<00:00,  1.08it/s]\n"
     ]
    },
    {
     "name": "stdout",
     "output_type": "stream",
     "text": [
      "Layer: 20 | Accuracy: 0.6\n"
     ]
    },
    {
     "name": "stderr",
     "output_type": "stream",
     "text": [
      "100%|██████████| 20/20 [00:18<00:00,  1.11it/s]\n"
     ]
    },
    {
     "name": "stdout",
     "output_type": "stream",
     "text": [
      "Layer: 22 | Accuracy: 0.75\n"
     ]
    },
    {
     "name": "stderr",
     "output_type": "stream",
     "text": [
      "100%|██████████| 20/20 [00:17<00:00,  1.14it/s]\n"
     ]
    },
    {
     "name": "stdout",
     "output_type": "stream",
     "text": [
      "Layer: 24 | Accuracy: 1.0\n"
     ]
    },
    {
     "name": "stderr",
     "output_type": "stream",
     "text": [
      "100%|██████████| 20/20 [00:17<00:00,  1.17it/s]\n"
     ]
    },
    {
     "name": "stdout",
     "output_type": "stream",
     "text": [
      "Layer: 26 | Accuracy: 1.0\n"
     ]
    },
    {
     "name": "stderr",
     "output_type": "stream",
     "text": [
      "100%|██████████| 20/20 [00:16<00:00,  1.20it/s]\n"
     ]
    },
    {
     "name": "stdout",
     "output_type": "stream",
     "text": [
      "Layer: 28 | Accuracy: 1.0\n"
     ]
    },
    {
     "name": "stderr",
     "output_type": "stream",
     "text": [
      "100%|██████████| 20/20 [00:16<00:00,  1.24it/s]\n"
     ]
    },
    {
     "name": "stdout",
     "output_type": "stream",
     "text": [
      "Layer: 30 | Accuracy: 1.0\n"
     ]
    },
    {
     "name": "stderr",
     "output_type": "stream",
     "text": [
      "100%|██████████| 20/20 [00:13<00:00,  1.45it/s]\n"
     ]
    },
    {
     "name": "stdout",
     "output_type": "stream",
     "text": [
      "Layer: 40 | Accuracy: 1.0\n"
     ]
    },
    {
     "name": "stderr",
     "output_type": "stream",
     "text": [
      "100%|██████████| 20/20 [00:11<00:00,  1.75it/s]\n"
     ]
    },
    {
     "name": "stdout",
     "output_type": "stream",
     "text": [
      "Layer: 50 | Accuracy: 1.0\n"
     ]
    },
    {
     "name": "stderr",
     "output_type": "stream",
     "text": [
      "100%|██████████| 20/20 [00:09<00:00,  2.18it/s]\n"
     ]
    },
    {
     "name": "stdout",
     "output_type": "stream",
     "text": [
      "Layer: 60 | Accuracy: 1.0\n"
     ]
    },
    {
     "name": "stderr",
     "output_type": "stream",
     "text": [
      "100%|██████████| 20/20 [00:06<00:00,  2.90it/s]"
     ]
    },
    {
     "name": "stdout",
     "output_type": "stream",
     "text": [
      "Layer: 70 | Accuracy: 1.0\n"
     ]
    },
    {
     "name": "stderr",
     "output_type": "stream",
     "text": [
      "\n"
     ]
    }
   ],
   "source": [
    "accs_second_sent = {}\n",
    "patch_layers = [i for i in range(0, 32, 2)] + [\n",
    "    i for i in range(40, model.config.num_hidden_layers, 10)\n",
    "]\n",
    "\n",
    "for layer_idx in patch_layers:\n",
    "    correct, total = 0, 0\n",
    "    for bi, batch in tqdm(enumerate(dataloader), total=len(dataloader)):\n",
    "        prompt = batch[\"prompt\"][0]\n",
    "        ans = batch[\"target\"][0]\n",
    "        input_tokens = model.tokenizer(prompt, return_tensors=\"pt\").input_ids\n",
    "        bsz, q_len = input_tokens.shape\n",
    "        positions = torch.arange(q_len)\n",
    "        positions = torch.tensor(positions).unsqueeze(0).repeat(bsz, 1)\n",
    "\n",
    "        with torch.no_grad():\n",
    "            with model.trace(prompt) as tracer:\n",
    "                for l in range(layer_idx, model.config.num_hidden_layers):\n",
    "                    query_states = model.model.layers[l].self_attn.q_proj.output\n",
    "                    key_states = model.model.layers[l].self_attn.k_proj.output\n",
    "                    value_states = model.model.layers[l].self_attn.v_proj.output\n",
    "\n",
    "                    query_states = query_states.view(\n",
    "                        bsz, q_len, -1, head_dim\n",
    "                    ).transpose(1, 2)\n",
    "                    key_states = key_states.view(bsz, q_len, -1, head_dim).transpose(\n",
    "                        1, 2\n",
    "                    )\n",
    "                    value_states = value_states.view(\n",
    "                        bsz, q_len, -1, head_dim\n",
    "                    ).transpose(1, 2)\n",
    "\n",
    "                    X = model.model.rotary_emb(value_states, positions)\n",
    "                    cos, sin = X[0], X[1]\n",
    "                    X = apply_rotary_pos_emb(\n",
    "                        q=query_states, k=key_states, cos=cos, sin=sin\n",
    "                    )\n",
    "                    query_states, key_states = X[0], X[1]\n",
    "\n",
    "                    key_states = repeat_kv(key_states, n_rep)\n",
    "                    value_states = repeat_kv(value_states, n_rep)\n",
    "\n",
    "                    attn_weights = torch.matmul(\n",
    "                        query_states, key_states.transpose(2, 3)\n",
    "                    ) / math.sqrt(head_dim)\n",
    "                    attn_weights = apply_causal_mask(\n",
    "                        attn_scores=attn_weights,\n",
    "                        knockout_mask=knockout_mask,\n",
    "                    )\n",
    "\n",
    "                    attn_weights = torch.nn.functional.softmax(attn_weights, dim=-1)\n",
    "                    attn_weights = torch.nn.functional.dropout(\n",
    "                        attn_weights, p=0.0, training=False\n",
    "                    )\n",
    "                    attn_output = torch.matmul(attn_weights, value_states)\n",
    "                    attn_output = attn_output.transpose(1, 2).contiguous()\n",
    "                    attn_output = attn_output.reshape(bsz, q_len, -1)\n",
    "\n",
    "                    model.model.layers[l].self_attn.o_proj.input = attn_output\n",
    "\n",
    "                pred = model.lm_head.output[:, -1].argmax(dim=-1).item().save()\n",
    "\n",
    "            # print(\n",
    "            #     f\"Prediction: {model.tokenizer.decode([pred]).lower().strip()} | Target: {ans}\"\n",
    "            # )\n",
    "            if model.tokenizer.decode([pred]).lower().strip() == ans:\n",
    "                correct += 1\n",
    "            total += 1\n",
    "\n",
    "    print(f\"Layer: {layer_idx} | Accuracy: {round(correct / total, 2)}\")\n",
    "\n",
    "    accs_second_sent[layer_idx] = round(correct / total, 2)"
   ]
  },
  {
   "cell_type": "code",
   "execution_count": 17,
   "metadata": {},
   "outputs": [
    {
     "data": {
      "image/png": "[encoded data removed]",
      "text/plain": [
       "<Figure size 700x300 with 1 Axes>"
      ]
     },
     "metadata": {},
     "output_type": "display_data"
    }
   ],
   "source": [
    "# Visualize accs_second_sent as a line plot\n",
    "plt.figure(figsize=(7, 3))\n",
    "layers = list(accs_second_sent.keys())\n",
    "accuracies = list(accs_second_sent.values())\n",
    "\n",
    "plt.plot(layers, accuracies, marker=\"o\", linestyle=\"-\", linewidth=2)\n",
    "plt.xlabel(\"Layer\")\n",
    "plt.ylabel(\"IIA\")\n",
    "plt.title(\"Layer-wise IIA with Attention Knockout\")\n",
    "plt.grid(True, linestyle=\"--\", alpha=0.7)\n",
    "plt.xticks(layers)\n",
    "plt.ylim(0, 1.1)\n",
    "\n",
    "plt.tight_layout()\n",
    "plt.show()"
   ]
  }
 ],
 "metadata": {
  "kernelspec": {
   "display_name": ".venv",
   "language": "python",
   "name": "python3"
  },
  "language_info": {
   "codemirror_mode": {
    "name": "ipython",
    "version": 3
   },
   "file_extension": ".py",
   "mimetype": "text/x-python",
   "name": "python",
   "nbconvert_exporter": "python",
   "pygments_lexer": "ipython3",
   "version": "3.12.11"
  }
 },
 "nbformat": 4,
 "nbformat_minor": 2
}
