{
 "cells": [
  {
   "cell_type": "code",
   "execution_count": 1,
   "id": "26871101",
   "metadata": {},
   "outputs": [
    {
     "name": "stderr",
     "output_type": "stream",
     "text": [
      "/disk/u/nikhil/mind/.venv/lib/python3.12/site-packages/tqdm/auto.py:21: TqdmWarning: IProgress not found. Please update jupyter and ipywidgets. See https://ipywidgets.readthedocs.io/en/stable/user_install.html\n",
      "  from .autonotebook import tqdm as notebook_tqdm\n"
     ]
    }
   ],
   "source": [
    "import json\n",
    "import os\n",
    "import random\n",
    "import sys\n",
    "\n",
    "import matplotlib.pyplot as plt\n",
    "import torch\n",
    "from nnsight import CONFIG, LanguageModel\n",
    "from torch.utils.data import DataLoader\n",
    "from tqdm import tqdm\n",
    "from utils import (\n",
    "    error_detection,\n",
    "    get_answer_lookback_payload,\n",
    "    get_reversed_sent_diff_state_counterfacts,\n",
    ")\n",
    "\n",
    "current_dir = os.getcwd()\n",
    "sys.path.append(os.path.dirname(os.path.dirname(current_dir)))\n",
    "from src import global_utils\n",
    "\n",
    "device = torch.device(\"cuda\" if torch.cuda.is_available() else \"cpu\")\n",
    "random.seed(10)\n",
    "\n",
    "CONFIG.APP.REMOTE_LOGGING = False\n",
    "CONFIG.set_default_api_key(global_utils.load_env_var(\"NDIF_KEY\"))\n",
    "os.environ[\"HF_TOKEN\"] = global_utils.load_env_var(\"HF_WRITE\")\n",
    "\n",
    "%load_ext autoreload"
   ]
  },
  {
   "cell_type": "markdown",
   "id": "9ff6af44",
   "metadata": {},
   "source": [
    "# Load Characters, Objects, and States"
   ]
  },
  {
   "cell_type": "code",
   "execution_count": 2,
   "id": "7c671730",
   "metadata": {},
   "outputs": [
    {
     "name": "stdout",
     "output_type": "stream",
     "text": [
      "#characters: 103\n",
      "#objects: 21\n",
      "#states: 23\n"
     ]
    }
   ],
   "source": [
    "all_characters = json.load(\n",
    "    open(\n",
    "        os.path.join(global_utils.DATA_DIR, \"synthetic_entities\", \"characters.json\"),\n",
    "        \"r\",\n",
    "    )\n",
    ")\n",
    "all_objects = json.load(\n",
    "    open(\n",
    "        os.path.join(global_utils.DATA_DIR, \"synthetic_entities\", \"bottles.json\"),\n",
    "        \"r\",\n",
    "    )\n",
    ")\n",
    "all_states = json.load(\n",
    "    open(\n",
    "        os.path.join(global_utils.DATA_DIR, \"synthetic_entities\", \"drinks.json\"),\n",
    "        \"r\",\n",
    "    )\n",
    ")\n",
    "\n",
    "print(f\"#characters: {len(all_characters)}\")\n",
    "print(f\"#objects: {len(all_objects)}\")\n",
    "print(f\"#states: {len(all_states)}\")"
   ]
  },
  {
   "cell_type": "markdown",
   "id": "f6b61404",
   "metadata": {},
   "source": [
    "# Load Model"
   ]
  },
  {
   "cell_type": "code",
   "execution_count": null,
   "id": "c6f60bdb",
   "metadata": {},
   "outputs": [
    {
     "name": "stderr",
     "output_type": "stream",
     "text": [
      "`torch_dtype` is deprecated! Use `dtype` instead!\n",
      "`torch_dtype` is deprecated! Use `dtype` instead!\n",
      "Loading checkpoint shards: 100%|██████████| 30/30 [00:33<00:00,  1.13s/it]\n"
     ]
    }
   ],
   "source": [
    "is_remote = False\n",
    "\n",
    "if is_remote:\n",
    "    model = LanguageModel(\"meta-llama/Llama-3.1-405B-Instruct\")\n",
    "else:\n",
    "    model = LanguageModel(\n",
    "        \"meta-llama/Meta-Llama-3-70B-Instruct\",\n",
    "        device_map=\"auto\",\n",
    "        dtype=torch.float16,\n",
    "        dispatch=True,\n",
    "    )"
   ]
  },
  {
   "cell_type": "markdown",
   "id": "88fde122",
   "metadata": {},
   "source": [
    "# Pointer (Fig 4 in the paper)"
   ]
  },
  {
   "cell_type": "code",
   "execution_count": 16,
   "id": "5d34d541",
   "metadata": {},
   "outputs": [],
   "source": [
    "n_samples = 20\n",
    "batch_size = 1\n",
    "\n",
    "dataset = get_reversed_sent_diff_state_counterfacts(\n",
    "    all_characters,\n",
    "    all_objects,\n",
    "    all_states,\n",
    "    n_samples,\n",
    ")\n",
    "dataloader = DataLoader(dataset, batch_size=batch_size, shuffle=False)"
   ]
  },
  {
   "cell_type": "code",
   "execution_count": 17,
   "id": "3254ec03",
   "metadata": {},
   "outputs": [
    {
     "name": "stdout",
     "output_type": "stream",
     "text": [
      "COUNTERFACTUAL EXAMPLE\n",
      "=========================\n",
      "Instruction: 1. Track the belief of each character as described in the story. 2. A character's belief is formed only when they perform an action themselves or can observe the action taking place. 3. A character does not have any beliefs about the container and its contents which they cannot observe. 4. To answer the question, predict only what is inside the queried container, strictly based on the belief of the character, mentioned in the question. 5. If the queried character has no belief about the container in question, then predict 'unknown'. 6. Do not predict container or character as the final output.\n",
      "\n",
      "Story: Rick and Pete are working in a busy restaurant. To complete an order, Rick grabs an opaque bottle and fills it with tea. Then Pete grabs another opaque tun and fills it with milk.\n",
      "Question: What does Rick believe the bottle contains?\n",
      "Answer: tea\n",
      "\n",
      "CLEAN EXAMPLE\n",
      "=========================\n",
      "Instruction: 1. Track the belief of each character as described in the story. 2. A character's belief is formed only when they perform an action themselves or can observe the action taking place. 3. A character does not have any beliefs about the container and its contents which they cannot observe. 4. To answer the question, predict only what is inside the queried container, strictly based on the belief of the character, mentioned in the question. 5. If the queried character has no belief about the container in question, then predict 'unknown'. 6. Do not predict container or character as the final output.\n",
      "\n",
      "Story: Pete and Rick are working in a busy restaurant. To complete an order, Pete grabs an opaque tun and fills it with porter. Then Rick grabs another opaque bottle and fills it with rum.\n",
      "Question: What does Rick believe the bottle contains?\n",
      "Answer: rum\n",
      "\n",
      "Target:  porter\n"
     ]
    }
   ],
   "source": [
    "idx = 0\n",
    "print(\"COUNTERFACTUAL EXAMPLE\")\n",
    "print(\"=\" * 25)\n",
    "print(dataset[idx][\"counterfactual_prompt\"], dataset[idx][\"counterfactual_ans\"])\n",
    "print()\n",
    "\n",
    "print(\"CLEAN EXAMPLE\")\n",
    "print(\"=\" * 25)\n",
    "print(dataset[idx][\"clean_prompt\"], dataset[idx][\"clean_ans\"])\n",
    "print(f\"\\nTarget: {dataset[idx]['target']}\")"
   ]
  },
  {
   "cell_type": "code",
   "execution_count": 18,
   "id": "6e42697c",
   "metadata": {},
   "outputs": [
    {
     "name": "stderr",
     "output_type": "stream",
     "text": [
      "100%|██████████| 20/20 [00:06<00:00,  2.88it/s]"
     ]
    },
    {
     "name": "stdout",
     "output_type": "stream",
     "text": [
      "Dataset size to be used for IIA: 20 (0 errors)\n"
     ]
    },
    {
     "name": "stderr",
     "output_type": "stream",
     "text": [
      "\n"
     ]
    }
   ],
   "source": [
    "_, errors = error_detection(model, dataloader, is_remote)\n",
    "print(\n",
    "    f\"Dataset size to be used for IIA: {len(dataset) - len(errors)} ({len(errors)} errors)\"\n",
    ")"
   ]
  },
  {
   "cell_type": "code",
   "execution_count": null,
   "id": "c74265eb",
   "metadata": {},
   "outputs": [
    {
     "name": "stderr",
     "output_type": "stream",
     "text": [
      "100%|██████████| 20/20 [00:08<00:00,  2.23it/s]\n"
     ]
    },
    {
     "name": "stdout",
     "output_type": "stream",
     "text": [
      "Layer: 0 | Accuracy: 0.0\n"
     ]
    },
    {
     "name": "stderr",
     "output_type": "stream",
     "text": [
      "100%|██████████| 20/20 [00:08<00:00,  2.24it/s]\n"
     ]
    },
    {
     "name": "stdout",
     "output_type": "stream",
     "text": [
      "Layer: 10 | Accuracy: 0.0\n"
     ]
    },
    {
     "name": "stderr",
     "output_type": "stream",
     "text": [
      "100%|██████████| 20/20 [00:08<00:00,  2.23it/s]\n"
     ]
    },
    {
     "name": "stdout",
     "output_type": "stream",
     "text": [
      "Layer: 20 | Accuracy: 0.0\n"
     ]
    },
    {
     "name": "stderr",
     "output_type": "stream",
     "text": [
      "100%|██████████| 20/20 [00:08<00:00,  2.24it/s]\n"
     ]
    },
    {
     "name": "stdout",
     "output_type": "stream",
     "text": [
      "Layer: 32 | Accuracy: 0.15\n"
     ]
    },
    {
     "name": "stderr",
     "output_type": "stream",
     "text": [
      "100%|██████████| 20/20 [00:08<00:00,  2.24it/s]\n"
     ]
    },
    {
     "name": "stdout",
     "output_type": "stream",
     "text": [
      "Layer: 34 | Accuracy: 1.0\n"
     ]
    },
    {
     "name": "stderr",
     "output_type": "stream",
     "text": [
      "100%|██████████| 20/20 [00:08<00:00,  2.24it/s]\n"
     ]
    },
    {
     "name": "stdout",
     "output_type": "stream",
     "text": [
      "Layer: 36 | Accuracy: 0.95\n"
     ]
    },
    {
     "name": "stderr",
     "output_type": "stream",
     "text": [
      "100%|██████████| 20/20 [00:08<00:00,  2.24it/s]\n"
     ]
    },
    {
     "name": "stdout",
     "output_type": "stream",
     "text": [
      "Layer: 38 | Accuracy: 1.0\n"
     ]
    },
    {
     "name": "stderr",
     "output_type": "stream",
     "text": [
      "100%|██████████| 20/20 [00:08<00:00,  2.24it/s]\n"
     ]
    },
    {
     "name": "stdout",
     "output_type": "stream",
     "text": [
      "Layer: 40 | Accuracy: 0.95\n"
     ]
    },
    {
     "name": "stderr",
     "output_type": "stream",
     "text": [
      "100%|██████████| 20/20 [00:08<00:00,  2.24it/s]\n"
     ]
    },
    {
     "name": "stdout",
     "output_type": "stream",
     "text": [
      "Layer: 42 | Accuracy: 0.95\n"
     ]
    },
    {
     "name": "stderr",
     "output_type": "stream",
     "text": [
      "100%|██████████| 20/20 [00:08<00:00,  2.24it/s]\n"
     ]
    },
    {
     "name": "stdout",
     "output_type": "stream",
     "text": [
      "Layer: 44 | Accuracy: 0.95\n"
     ]
    },
    {
     "name": "stderr",
     "output_type": "stream",
     "text": [
      "100%|██████████| 20/20 [00:08<00:00,  2.24it/s]\n"
     ]
    },
    {
     "name": "stdout",
     "output_type": "stream",
     "text": [
      "Layer: 46 | Accuracy: 0.95\n"
     ]
    },
    {
     "name": "stderr",
     "output_type": "stream",
     "text": [
      "100%|██████████| 20/20 [00:08<00:00,  2.24it/s]\n"
     ]
    },
    {
     "name": "stdout",
     "output_type": "stream",
     "text": [
      "Layer: 48 | Accuracy: 0.95\n"
     ]
    },
    {
     "name": "stderr",
     "output_type": "stream",
     "text": [
      "100%|██████████| 20/20 [00:08<00:00,  2.24it/s]\n"
     ]
    },
    {
     "name": "stdout",
     "output_type": "stream",
     "text": [
      "Layer: 50 | Accuracy: 0.95\n"
     ]
    },
    {
     "name": "stderr",
     "output_type": "stream",
     "text": [
      "100%|██████████| 20/20 [00:08<00:00,  2.24it/s]\n"
     ]
    },
    {
     "name": "stdout",
     "output_type": "stream",
     "text": [
      "Layer: 52 | Accuracy: 0.85\n"
     ]
    },
    {
     "name": "stderr",
     "output_type": "stream",
     "text": [
      "100%|██████████| 20/20 [00:08<00:00,  2.24it/s]\n"
     ]
    },
    {
     "name": "stdout",
     "output_type": "stream",
     "text": [
      "Layer: 54 | Accuracy: 0.7\n"
     ]
    },
    {
     "name": "stderr",
     "output_type": "stream",
     "text": [
      "100%|██████████| 20/20 [00:08<00:00,  2.24it/s]\n"
     ]
    },
    {
     "name": "stdout",
     "output_type": "stream",
     "text": [
      "Layer: 56 | Accuracy: 0.15\n"
     ]
    },
    {
     "name": "stderr",
     "output_type": "stream",
     "text": [
      "100%|██████████| 20/20 [00:08<00:00,  2.23it/s]\n"
     ]
    },
    {
     "name": "stdout",
     "output_type": "stream",
     "text": [
      "Layer: 58 | Accuracy: 0.05\n"
     ]
    },
    {
     "name": "stderr",
     "output_type": "stream",
     "text": [
      "100%|██████████| 20/20 [00:08<00:00,  2.24it/s]\n"
     ]
    },
    {
     "name": "stdout",
     "output_type": "stream",
     "text": [
      "Layer: 60 | Accuracy: 0.0\n"
     ]
    },
    {
     "name": "stderr",
     "output_type": "stream",
     "text": [
      "100%|██████████| 20/20 [00:08<00:00,  2.24it/s]"
     ]
    },
    {
     "name": "stdout",
     "output_type": "stream",
     "text": [
      "Layer: 70 | Accuracy: 0.0\n"
     ]
    },
    {
     "name": "stderr",
     "output_type": "stream",
     "text": [
      "\n"
     ]
    }
   ],
   "source": [
    "accs_answer_lookback_pointer = {}\n",
    "patch_layers = (\n",
    "    [i for i in range(0, 30, 10)]\n",
    "    + [i for i in range(32, 62, 2)]\n",
    "    + [i for i in range(70, model.config.num_hidden_layers, 10)]\n",
    ")\n",
    "\n",
    "for layer_idx in patch_layers:\n",
    "    correct, total = 0, 0\n",
    "    for bi, batch in tqdm(enumerate(dataloader), total=len(dataloader)):\n",
    "        if bi in errors:\n",
    "            continue\n",
    "        counterfactual_prompt = batch[\"counterfactual_prompt\"][0]\n",
    "        clean_prompt = batch[\"clean_prompt\"][0]\n",
    "        target = batch[\"target\"][0]\n",
    "\n",
    "        with torch.no_grad():\n",
    "            with model.trace(counterfactual_prompt):\n",
    "                counterfactual_layer_out = (\n",
    "                    model.model.layers[layer_idx].output[0, -1].save()\n",
    "                )\n",
    "\n",
    "            with model.trace(clean_prompt):\n",
    "                model.model.layers[layer_idx].output[0, -1] = counterfactual_layer_out\n",
    "                pred = model.lm_head.output[0, -1].argmax(dim=-1).save()\n",
    "\n",
    "            if model.tokenizer.decode([pred]).lower().strip() == target.lower().strip():\n",
    "                correct += 1\n",
    "            total += 1\n",
    "\n",
    "            del pred\n",
    "            torch.cuda.empty_cache()\n",
    "\n",
    "    acc = round(correct / total, 2)\n",
    "    print(f\"Layer: {layer_idx} | Accuracy: {acc}\")\n",
    "\n",
    "    accs_answer_lookback_pointer[layer_idx] = acc"
   ]
  },
  {
   "cell_type": "code",
   "execution_count": 23,
   "id": "d70c13be",
   "metadata": {},
   "outputs": [
    {
     "data": {
      "image/png": "[encoded data removed]",
      "text/plain": [
       "<Figure size 700x300 with 1 Axes>"
      ]
     },
     "metadata": {},
     "output_type": "display_data"
    }
   ],
   "source": [
    "# Visualize accs_binding_addr_and_payload as a line plot\n",
    "plt.figure(figsize=(7, 3))\n",
    "layers = list(accs_answer_lookback_pointer.keys())\n",
    "accuracies = list(accs_answer_lookback_pointer.values())\n",
    "\n",
    "plt.plot(layers, accuracies, marker=\"o\", linestyle=\"-\", linewidth=2)\n",
    "plt.xlabel(\"Layer\")\n",
    "plt.ylabel(\"IIA\")\n",
    "plt.title(\"Answer Lookback Pointer IIA by Layer\")\n",
    "plt.grid(True, linestyle=\"--\", alpha=0.7)\n",
    "plt.xticks(layers)\n",
    "plt.ylim(0, 1.1)\n",
    "\n",
    "plt.tight_layout()\n",
    "plt.show()"
   ]
  },
  {
   "cell_type": "markdown",
   "id": "90d4e3b3",
   "metadata": {},
   "source": [
    "# Payload (Fig 4 in the paper)"
   ]
  },
  {
   "cell_type": "code",
   "execution_count": 24,
   "id": "c117bf3c",
   "metadata": {},
   "outputs": [],
   "source": [
    "n_samples = 10\n",
    "batch_size = 1\n",
    "\n",
    "dataset = get_answer_lookback_payload(\n",
    "    all_characters,\n",
    "    all_objects,\n",
    "    all_states,\n",
    "    n_samples,\n",
    ")\n",
    "dataloader = DataLoader(dataset, batch_size=batch_size, shuffle=False)"
   ]
  },
  {
   "cell_type": "code",
   "execution_count": 25,
   "id": "14aa3c9f",
   "metadata": {},
   "outputs": [
    {
     "name": "stdout",
     "output_type": "stream",
     "text": [
      "COUNTERFACTUAL EXAMPLE\n",
      "=========================\n",
      "Instruction: 1. Track the belief of each character as described in the story. 2. A character's belief is formed only when they perform an action themselves or can observe the action taking place. 3. A character does not have any beliefs about the container and its contents which they cannot observe. 4. To answer the question, predict only what is inside the queried container, strictly based on the belief of the character, mentioned in the question. 5. If the queried character has no belief about the container in question, then predict 'unknown'. 6. Do not predict container or character as the final output.\n",
      "\n",
      "Story: Charlie and Mark are working in a busy restaurant. To complete an order, Charlie grabs an opaque quart and fills it with rum. Then Mark grabs another opaque pitcher and fills it with milk.\n",
      "Question: What does Mark believe the pitcher contains?\n",
      "Answer: milk\n",
      "\n",
      "CLEAN EXAMPLE\n",
      "=========================\n",
      "Instruction: 1. Track the belief of each character as described in the story. 2. A character's belief is formed only when they perform an action themselves or can observe the action taking place. 3. A character does not have any beliefs about the container and its contents which they cannot observe. 4. To answer the question, predict only what is inside the queried container, strictly based on the belief of the character, mentioned in the question. 5. If the queried character has no belief about the container in question, then predict 'unknown'. 6. Do not predict container or character as the final output.\n",
      "\n",
      "Story: John and Dave are working in a busy restaurant. To complete an order, John grabs an opaque cup and fills it with juice. Then Dave grabs another opaque drum and fills it with beer.\n",
      "Question: What does Dave believe the cup contains?\n",
      "Answer: unknown\n",
      "\n",
      "Target: milk\n"
     ]
    }
   ],
   "source": [
    "idx = 0\n",
    "print(\"COUNTERFACTUAL EXAMPLE\")\n",
    "print(\"=\" * 25)\n",
    "print(dataset[idx][\"counterfactual_prompt\"], dataset[idx][\"counterfactual_ans\"])\n",
    "print()\n",
    "\n",
    "print(\"CLEAN EXAMPLE\")\n",
    "print(\"=\" * 25)\n",
    "print(dataset[idx][\"clean_prompt\"], dataset[idx][\"clean_ans\"])\n",
    "print(f\"\\nTarget: {dataset[idx]['target']}\")"
   ]
  },
  {
   "cell_type": "code",
   "execution_count": 26,
   "id": "41723fab",
   "metadata": {},
   "outputs": [
    {
     "name": "stderr",
     "output_type": "stream",
     "text": [
      "100%|██████████| 10/10 [00:03<00:00,  2.90it/s]"
     ]
    },
    {
     "name": "stdout",
     "output_type": "stream",
     "text": [
      "Dataset size to be used for IIA: 8 (2 errors)\n"
     ]
    },
    {
     "name": "stderr",
     "output_type": "stream",
     "text": [
      "\n"
     ]
    }
   ],
   "source": [
    "_, errors = error_detection(model, dataloader, is_remote)\n",
    "print(\n",
    "    f\"Dataset size to be used for IIA: {len(dataset) - len(errors)} ({len(errors)} errors)\"\n",
    ")"
   ]
  },
  {
   "cell_type": "code",
   "execution_count": null,
   "id": "7b1eb686",
   "metadata": {},
   "outputs": [
    {
     "name": "stderr",
     "output_type": "stream",
     "text": [
      "100%|██████████| 10/10 [00:03<00:00,  2.76it/s]\n"
     ]
    },
    {
     "name": "stdout",
     "output_type": "stream",
     "text": [
      "Layer: 0 | Accuracy: 0.0\n"
     ]
    },
    {
     "name": "stderr",
     "output_type": "stream",
     "text": [
      "100%|██████████| 10/10 [00:03<00:00,  2.80it/s]\n"
     ]
    },
    {
     "name": "stdout",
     "output_type": "stream",
     "text": [
      "Layer: 10 | Accuracy: 0.0\n"
     ]
    },
    {
     "name": "stderr",
     "output_type": "stream",
     "text": [
      "100%|██████████| 10/10 [00:03<00:00,  2.80it/s]\n"
     ]
    },
    {
     "name": "stdout",
     "output_type": "stream",
     "text": [
      "Layer: 20 | Accuracy: 0.0\n"
     ]
    },
    {
     "name": "stderr",
     "output_type": "stream",
     "text": [
      "100%|██████████| 10/10 [00:03<00:00,  2.80it/s]\n"
     ]
    },
    {
     "name": "stdout",
     "output_type": "stream",
     "text": [
      "Layer: 30 | Accuracy: 0.0\n"
     ]
    },
    {
     "name": "stderr",
     "output_type": "stream",
     "text": [
      "100%|██████████| 10/10 [00:03<00:00,  2.80it/s]\n"
     ]
    },
    {
     "name": "stdout",
     "output_type": "stream",
     "text": [
      "Layer: 40 | Accuracy: 0.0\n"
     ]
    },
    {
     "name": "stderr",
     "output_type": "stream",
     "text": [
      "100%|██████████| 10/10 [00:03<00:00,  2.80it/s]\n"
     ]
    },
    {
     "name": "stdout",
     "output_type": "stream",
     "text": [
      "Layer: 50 | Accuracy: 0.0\n"
     ]
    },
    {
     "name": "stderr",
     "output_type": "stream",
     "text": [
      "100%|██████████| 10/10 [00:03<00:00,  2.80it/s]\n"
     ]
    },
    {
     "name": "stdout",
     "output_type": "stream",
     "text": [
      "Layer: 52 | Accuracy: 0.0\n"
     ]
    },
    {
     "name": "stderr",
     "output_type": "stream",
     "text": [
      "100%|██████████| 10/10 [00:03<00:00,  2.80it/s]\n"
     ]
    },
    {
     "name": "stdout",
     "output_type": "stream",
     "text": [
      "Layer: 54 | Accuracy: 0.25\n"
     ]
    },
    {
     "name": "stderr",
     "output_type": "stream",
     "text": [
      "100%|██████████| 10/10 [00:03<00:00,  2.80it/s]\n"
     ]
    },
    {
     "name": "stdout",
     "output_type": "stream",
     "text": [
      "Layer: 56 | Accuracy: 0.75\n"
     ]
    },
    {
     "name": "stderr",
     "output_type": "stream",
     "text": [
      "100%|██████████| 10/10 [00:03<00:00,  2.80it/s]\n"
     ]
    },
    {
     "name": "stdout",
     "output_type": "stream",
     "text": [
      "Layer: 58 | Accuracy: 0.88\n"
     ]
    },
    {
     "name": "stderr",
     "output_type": "stream",
     "text": [
      "100%|██████████| 10/10 [00:03<00:00,  2.80it/s]\n"
     ]
    },
    {
     "name": "stdout",
     "output_type": "stream",
     "text": [
      "Layer: 60 | Accuracy: 0.88\n"
     ]
    },
    {
     "name": "stderr",
     "output_type": "stream",
     "text": [
      "100%|██████████| 10/10 [00:03<00:00,  2.80it/s]\n"
     ]
    },
    {
     "name": "stdout",
     "output_type": "stream",
     "text": [
      "Layer: 62 | Accuracy: 0.88\n"
     ]
    },
    {
     "name": "stderr",
     "output_type": "stream",
     "text": [
      "100%|██████████| 10/10 [00:03<00:00,  2.80it/s]\n"
     ]
    },
    {
     "name": "stdout",
     "output_type": "stream",
     "text": [
      "Layer: 64 | Accuracy: 1.0\n"
     ]
    },
    {
     "name": "stderr",
     "output_type": "stream",
     "text": [
      "100%|██████████| 10/10 [00:03<00:00,  2.80it/s]\n"
     ]
    },
    {
     "name": "stdout",
     "output_type": "stream",
     "text": [
      "Layer: 66 | Accuracy: 1.0\n"
     ]
    },
    {
     "name": "stderr",
     "output_type": "stream",
     "text": [
      "100%|██████████| 10/10 [00:03<00:00,  2.80it/s]\n"
     ]
    },
    {
     "name": "stdout",
     "output_type": "stream",
     "text": [
      "Layer: 68 | Accuracy: 1.0\n"
     ]
    },
    {
     "name": "stderr",
     "output_type": "stream",
     "text": [
      "100%|██████████| 10/10 [00:03<00:00,  2.80it/s]\n"
     ]
    },
    {
     "name": "stdout",
     "output_type": "stream",
     "text": [
      "Layer: 70 | Accuracy: 1.0\n"
     ]
    },
    {
     "name": "stderr",
     "output_type": "stream",
     "text": [
      "100%|██████████| 10/10 [00:03<00:00,  2.79it/s]\n"
     ]
    },
    {
     "name": "stdout",
     "output_type": "stream",
     "text": [
      "Layer: 72 | Accuracy: 1.0\n"
     ]
    },
    {
     "name": "stderr",
     "output_type": "stream",
     "text": [
      "100%|██████████| 10/10 [00:03<00:00,  2.80it/s]\n"
     ]
    },
    {
     "name": "stdout",
     "output_type": "stream",
     "text": [
      "Layer: 74 | Accuracy: 1.0\n"
     ]
    },
    {
     "name": "stderr",
     "output_type": "stream",
     "text": [
      "100%|██████████| 10/10 [00:03<00:00,  2.80it/s]\n"
     ]
    },
    {
     "name": "stdout",
     "output_type": "stream",
     "text": [
      "Layer: 76 | Accuracy: 1.0\n"
     ]
    },
    {
     "name": "stderr",
     "output_type": "stream",
     "text": [
      "100%|██████████| 10/10 [00:03<00:00,  2.80it/s]"
     ]
    },
    {
     "name": "stdout",
     "output_type": "stream",
     "text": [
      "Layer: 78 | Accuracy: 1.0\n"
     ]
    },
    {
     "name": "stderr",
     "output_type": "stream",
     "text": [
      "\n"
     ]
    }
   ],
   "source": [
    "accs_answer_lookback_payload = {}\n",
    "patch_layers = [i for i in range(0, 60, 10)] + [\n",
    "    i for i in range(52, model.config.num_hidden_layers, 2)\n",
    "]\n",
    "\n",
    "for layer_idx in patch_layers:\n",
    "    correct, total = 0, 0\n",
    "    for bi, batch in tqdm(enumerate(dataloader), total=len(dataloader)):\n",
    "        if bi in errors:\n",
    "            continue\n",
    "        counterfactual_prompt = batch[\"counterfactual_prompt\"][0]\n",
    "        clean_prompt = batch[\"clean_prompt\"][0]\n",
    "        target = batch[\"target\"][0]\n",
    "\n",
    "        with torch.no_grad():\n",
    "            with model.trace(counterfactual_prompt, remote=is_remote):\n",
    "                counterfactual_layer_out = (\n",
    "                    model.model.layers[layer_idx].output[0, -1].save()\n",
    "                )\n",
    "\n",
    "            with model.trace(clean_prompt, remote=is_remote):\n",
    "                model.model.layers[layer_idx].output[0, -1] = counterfactual_layer_out\n",
    "                pred = model.lm_head.output[0, -1].argmax(dim=-1).save()\n",
    "\n",
    "        if model.tokenizer.decode([pred]).lower().strip() == target.lower().strip():\n",
    "            correct += 1\n",
    "        total += 1\n",
    "\n",
    "        del pred\n",
    "        torch.cuda.empty_cache()\n",
    "\n",
    "    acc = round(correct / total, 2)\n",
    "    print(f\"Layer: {layer_idx} | Accuracy: {acc}\")\n",
    "\n",
    "    accs_answer_lookback_payload[layer_idx] = acc"
   ]
  },
  {
   "cell_type": "code",
   "execution_count": 29,
   "id": "d581518f",
   "metadata": {},
   "outputs": [
    {
     "data": {
      "image/png": "[encoded data removed]",
      "text/plain": [
       "<Figure size 700x300 with 1 Axes>"
      ]
     },
     "metadata": {},
     "output_type": "display_data"
    }
   ],
   "source": [
    "# Visualize accs_binding_addr_and_payload as a line plot\n",
    "plt.figure(figsize=(7, 3))\n",
    "layers = list(accs_answer_lookback_payload.keys())\n",
    "accuracies = list(accs_answer_lookback_payload.values())\n",
    "\n",
    "plt.plot(layers, accuracies, marker=\"o\", linestyle=\"-\", linewidth=2)\n",
    "plt.xlabel(\"Layer\")\n",
    "plt.ylabel(\"IIA\")\n",
    "plt.title(\"Answer Lookback Pointer IIA by Layer\")\n",
    "plt.grid(True, linestyle=\"--\", alpha=0.7)\n",
    "plt.xticks(layers)\n",
    "plt.ylim(0, 1.1)\n",
    "\n",
    "plt.tight_layout()\n",
    "plt.show()"
   ]
  },
  {
   "cell_type": "code",
   "execution_count": null,
   "id": "ae0a4297",
   "metadata": {},
   "outputs": [],
   "source": []
  }
 ],
 "metadata": {
  "kernelspec": {
   "display_name": ".venv",
   "language": "python",
   "name": "python3"
  },
  "language_info": {
   "codemirror_mode": {
    "name": "ipython",
    "version": 3
   },
   "file_extension": ".py",
   "mimetype": "text/x-python",
   "name": "python",
   "nbconvert_exporter": "python",
   "pygments_lexer": "ipython3",
   "version": "3.12.11"
  }
 },
 "nbformat": 4,
 "nbformat_minor": 5
}
