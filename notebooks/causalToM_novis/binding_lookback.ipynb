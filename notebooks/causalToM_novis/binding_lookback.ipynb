{
 "cells": [
  {
   "cell_type": "code",
   "execution_count": null,
   "id": "0faaf9d0",
   "metadata": {},
   "outputs": [
    {
     "name": "stderr",
     "output_type": "stream",
     "text": [
      "/disk/u/nikhil/mind/.venv/lib/python3.12/site-packages/tqdm/auto.py:21: TqdmWarning: IProgress not found. Please update jupyter and ipywidgets. See https://ipywidgets.readthedocs.io/en/stable/user_install.html\n",
      "  from .autonotebook import tqdm as notebook_tqdm\n"
     ]
    }
   ],
   "source": [
    "import json\n",
    "import os\n",
    "import random\n",
    "import sys\n",
    "from collections import defaultdict\n",
    "\n",
    "import matplotlib.pyplot as plt\n",
    "import torch\n",
    "from nnsight import CONFIG, LanguageModel\n",
    "from torch.utils.data import DataLoader\n",
    "from tqdm import tqdm\n",
    "from utils import (\n",
    "    error_detection,\n",
    "    get_query_charac_oi,\n",
    "    get_query_object_oi,\n",
    "    get_reversed_sent_diff_state_counterfacts,\n",
    "    get_reversed_sentence_counterfacts,\n",
    ")\n",
    "\n",
    "current_dir = os.getcwd()\n",
    "sys.path.append(os.path.dirname(os.path.dirname(current_dir)))\n",
    "from src import global_utils\n",
    "\n",
    "device = torch.device(\"cuda\" if torch.cuda.is_available() else \"cpu\")\n",
    "random.seed(10)\n",
    "\n",
    "CONFIG.APP.REMOTE_LOGGING = False\n",
    "CONFIG.set_default_api_key(global_utils.load_env_var(\"NDIF_KEY\"))\n",
    "os.environ[\"HF_TOKEN\"] = global_utils.load_env_var(\"HF_WRITE\")\n",
    "\n",
    "%load_ext autoreload"
   ]
  },
  {
   "cell_type": "markdown",
   "id": "20e1c027",
   "metadata": {},
   "source": [
    "# Load Characters, Objects, and States"
   ]
  },
  {
   "cell_type": "code",
   "execution_count": 2,
   "id": "2f792f36",
   "metadata": {},
   "outputs": [
    {
     "name": "stdout",
     "output_type": "stream",
     "text": [
      "#characters: 103\n",
      "#objects: 21\n",
      "#states: 23\n"
     ]
    }
   ],
   "source": [
    "all_characters = json.load(\n",
    "    open(\n",
    "        os.path.join(global_utils.DATA_DIR, \"synthetic_entities\", \"characters.json\"),\n",
    "        \"r\",\n",
    "    )\n",
    ")\n",
    "all_objects = json.load(\n",
    "    open(\n",
    "        os.path.join(global_utils.DATA_DIR, \"synthetic_entities\", \"bottles.json\"),\n",
    "        \"r\",\n",
    "    )\n",
    ")\n",
    "all_states = json.load(\n",
    "    open(\n",
    "        os.path.join(global_utils.DATA_DIR, \"synthetic_entities\", \"drinks.json\"),\n",
    "        \"r\",\n",
    "    )\n",
    ")\n",
    "\n",
    "print(f\"#characters: {len(all_characters)}\")\n",
    "print(f\"#objects: {len(all_objects)}\")\n",
    "print(f\"#states: {len(all_states)}\")"
   ]
  },
  {
   "cell_type": "markdown",
   "id": "1086dc02",
   "metadata": {},
   "source": [
    "# Load Model"
   ]
  },
  {
   "cell_type": "code",
   "execution_count": 3,
   "id": "798a32c5",
   "metadata": {},
   "outputs": [
    {
     "name": "stderr",
     "output_type": "stream",
     "text": [
      "Loading checkpoint shards: 100%|██████████| 30/30 [00:33<00:00,  1.12s/it]\n"
     ]
    }
   ],
   "source": [
    "is_remote = False\n",
    "\n",
    "if is_remote:\n",
    "    model = LanguageModel(\"meta-llama/Llama-3.1-405B-Instruct\")\n",
    "else:\n",
    "    model = LanguageModel(\n",
    "        \"meta-llama/Meta-Llama-3-70B-Instruct\",\n",
    "        device_map=\"auto\",\n",
    "        dtype=torch.float16,\n",
    "        dispatch=True,\n",
    "    )"
   ]
  },
  {
   "cell_type": "markdown",
   "id": "725847c7",
   "metadata": {},
   "source": [
    "# Address and Payload (Fig. 5 in the paper)"
   ]
  },
  {
   "cell_type": "code",
   "execution_count": 4,
   "id": "a92f7011",
   "metadata": {},
   "outputs": [],
   "source": [
    "n_samples = 10\n",
    "batch_size = 1\n",
    "\n",
    "dataset = get_reversed_sentence_counterfacts(\n",
    "    all_characters, all_objects, all_states, n_samples\n",
    ")\n",
    "dataloader = DataLoader(dataset, batch_size=batch_size, shuffle=False)"
   ]
  },
  {
   "cell_type": "code",
   "execution_count": 5,
   "id": "f8c5643e",
   "metadata": {},
   "outputs": [
    {
     "name": "stdout",
     "output_type": "stream",
     "text": [
      "COUNTERFACTUAL EXAMPLE\n",
      "=========================\n",
      "Instruction: 1. Track the belief of each character as described in the story. 2. A character's belief is formed only when they perform an action themselves or can observe the action taking place. 3. A character does not have any beliefs about the container and its contents which they cannot observe. 4. To answer the question, predict only what is inside the queried container, strictly based on the belief of the character, mentioned in the question. 5. If the queried character has no belief about the container in question, then predict 'unknown'. 6. Do not predict container or character as the final output.\n",
      "\n",
      "Story: Karen and Max are working in a busy restaurant. To complete an order, Karen grabs an opaque dispenser and fills it with water. Then Max grabs another opaque tun and fills it with port.\n",
      "Question: What does Karen believe the dispenser contains?\n",
      "Answer: water\n",
      "\n",
      "CLEAN EXAMPLE\n",
      "=========================\n",
      "Instruction: 1. Track the belief of each character as described in the story. 2. A character's belief is formed only when they perform an action themselves or can observe the action taking place. 3. A character does not have any beliefs about the container and its contents which they cannot observe. 4. To answer the question, predict only what is inside the queried container, strictly based on the belief of the character, mentioned in the question. 5. If the queried character has no belief about the container in question, then predict 'unknown'. 6. Do not predict container or character as the final output.\n",
      "\n",
      "Story: Max and Karen are working in a busy restaurant. To complete an order, Max grabs an opaque tun and fills it with port. Then Karen grabs another opaque dispenser and fills it with water.\n",
      "Question: What does Karen believe the dispenser contains?\n",
      "Answer: water\n",
      "\n",
      "Target:  port\n"
     ]
    }
   ],
   "source": [
    "idx = 0\n",
    "print(\"COUNTERFACTUAL EXAMPLE\")\n",
    "print(\"=\" * 25)\n",
    "print(dataset[idx][\"counterfactual_prompt\"], dataset[idx][\"counterfactual_ans\"])\n",
    "print()\n",
    "\n",
    "print(\"CLEAN EXAMPLE\")\n",
    "print(\"=\" * 25)\n",
    "print(dataset[idx][\"clean_prompt\"], dataset[idx][\"clean_ans\"])\n",
    "print(f\"\\nTarget: {dataset[idx]['target']}\")"
   ]
  },
  {
   "cell_type": "code",
   "execution_count": 6,
   "id": "c9d9cf65",
   "metadata": {},
   "outputs": [
    {
     "name": "stderr",
     "output_type": "stream",
     "text": [
      "  0%|          | 0/10 [00:00<?, ?it/s]You're using a PreTrainedTokenizerFast tokenizer. Please note that with a fast tokenizer, using the `__call__` method is faster than using a method to encode the text followed by a call to the `pad` method to get a padded encoding.\n",
      "100%|██████████| 10/10 [00:03<00:00,  2.53it/s]"
     ]
    },
    {
     "name": "stdout",
     "output_type": "stream",
     "text": [
      "Dataset size to be used for IIA: 10 (0 errors)\n"
     ]
    },
    {
     "name": "stderr",
     "output_type": "stream",
     "text": [
      "\n"
     ]
    }
   ],
   "source": [
    "_, errors = error_detection(model, dataloader, is_remote)\n",
    "print(\n",
    "    f\"Dataset size to be used for IIA: {len(dataset) - len(errors)} ({len(errors)} errors)\"\n",
    ")"
   ]
  },
  {
   "cell_type": "code",
   "execution_count": 7,
   "id": "1422acb5",
   "metadata": {},
   "outputs": [
    {
     "name": "stderr",
     "output_type": "stream",
     "text": [
      "  8%|▊         | 1/12 [00:03<00:37,  3.41s/it]"
     ]
    },
    {
     "name": "stdout",
     "output_type": "stream",
     "text": [
      "Layer: 0 | Accuracy: 0.0\n"
     ]
    },
    {
     "name": "stderr",
     "output_type": "stream",
     "text": [
      " 17%|█▋        | 2/12 [00:06<00:34,  3.41s/it]"
     ]
    },
    {
     "name": "stdout",
     "output_type": "stream",
     "text": [
      "Layer: 10 | Accuracy: 0.0\n"
     ]
    },
    {
     "name": "stderr",
     "output_type": "stream",
     "text": [
      " 25%|██▌       | 3/12 [00:10<00:30,  3.40s/it]"
     ]
    },
    {
     "name": "stdout",
     "output_type": "stream",
     "text": [
      "Layer: 20 | Accuracy: 0.0\n"
     ]
    },
    {
     "name": "stderr",
     "output_type": "stream",
     "text": [
      " 33%|███▎      | 4/12 [00:13<00:27,  3.40s/it]"
     ]
    },
    {
     "name": "stdout",
     "output_type": "stream",
     "text": [
      "Layer: 30 | Accuracy: 0.6\n"
     ]
    },
    {
     "name": "stderr",
     "output_type": "stream",
     "text": [
      " 42%|████▏     | 5/12 [00:17<00:23,  3.40s/it]"
     ]
    },
    {
     "name": "stdout",
     "output_type": "stream",
     "text": [
      "Layer: 32 | Accuracy: 0.7\n"
     ]
    },
    {
     "name": "stderr",
     "output_type": "stream",
     "text": [
      " 50%|█████     | 6/12 [00:20<00:20,  3.40s/it]"
     ]
    },
    {
     "name": "stdout",
     "output_type": "stream",
     "text": [
      "Layer: 34 | Accuracy: 1.0\n"
     ]
    },
    {
     "name": "stderr",
     "output_type": "stream",
     "text": [
      " 58%|█████▊    | 7/12 [00:23<00:17,  3.40s/it]"
     ]
    },
    {
     "name": "stdout",
     "output_type": "stream",
     "text": [
      "Layer: 36 | Accuracy: 0.8\n"
     ]
    },
    {
     "name": "stderr",
     "output_type": "stream",
     "text": [
      " 67%|██████▋   | 8/12 [00:27<00:13,  3.42s/it]"
     ]
    },
    {
     "name": "stdout",
     "output_type": "stream",
     "text": [
      "Layer: 38 | Accuracy: 0.8\n"
     ]
    },
    {
     "name": "stderr",
     "output_type": "stream",
     "text": [
      " 75%|███████▌  | 9/12 [00:30<00:10,  3.42s/it]"
     ]
    },
    {
     "name": "stdout",
     "output_type": "stream",
     "text": [
      "Layer: 40 | Accuracy: 0.3\n"
     ]
    },
    {
     "name": "stderr",
     "output_type": "stream",
     "text": [
      " 83%|████████▎ | 10/12 [00:34<00:06,  3.43s/it]"
     ]
    },
    {
     "name": "stdout",
     "output_type": "stream",
     "text": [
      "Layer: 50 | Accuracy: 0.0\n"
     ]
    },
    {
     "name": "stderr",
     "output_type": "stream",
     "text": [
      " 92%|█████████▏| 11/12 [00:37<00:03,  3.43s/it]"
     ]
    },
    {
     "name": "stdout",
     "output_type": "stream",
     "text": [
      "Layer: 60 | Accuracy: 0.0\n"
     ]
    },
    {
     "name": "stderr",
     "output_type": "stream",
     "text": [
      "100%|██████████| 12/12 [00:41<00:00,  3.42s/it]"
     ]
    },
    {
     "name": "stdout",
     "output_type": "stream",
     "text": [
      "Layer: 70 | Accuracy: 0.0\n"
     ]
    },
    {
     "name": "stderr",
     "output_type": "stream",
     "text": [
      "\n"
     ]
    }
   ],
   "source": [
    "accs_binding_addr_and_payload = {}\n",
    "patch_layers = (\n",
    "    [i for i in range(0, 30, 10)]\n",
    "    + [i for i in range(30, 42, 2)]\n",
    "    + [i for i in range(50, model.config.num_hidden_layers, 10)]\n",
    ")\n",
    "\n",
    "for layer_idx in tqdm(patch_layers, total=len(patch_layers)):\n",
    "    correct, total = 0, 0\n",
    "\n",
    "    for bi, batch in enumerate(dataloader):\n",
    "        if bi in errors:\n",
    "            continue\n",
    "        counterfactual_prompt = batch[\"counterfactual_prompt\"][0]\n",
    "        clean_prompt = batch[\"clean_prompt\"][0]\n",
    "        target = batch[\"target\"][0]\n",
    "        input_tokens = model.tokenizer(clean_prompt, return_tensors=\"pt\").input_ids\n",
    "\n",
    "        state_indices = [155, 156, 167, 168]\n",
    "        reversed_state_indices = [167, 168, 155, 156]\n",
    "\n",
    "        counterfactual_layer_out = defaultdict(dict)\n",
    "        with torch.no_grad():\n",
    "            with model.trace(remote=is_remote) as tracer:\n",
    "                with tracer.invoke(counterfactual_prompt):\n",
    "                    for i, token_idx in enumerate(state_indices):\n",
    "                        counterfactual_layer_out[i] = model.model.layers[\n",
    "                            layer_idx\n",
    "                        ].output[0, token_idx].save()\n",
    "\n",
    "                with tracer.invoke(clean_prompt):\n",
    "                    for i, token_idx in enumerate(reversed_state_indices):\n",
    "                        model.model.layers[layer_idx].output[0, token_idx] = (\n",
    "                            counterfactual_layer_out[i]\n",
    "                        )\n",
    "\n",
    "                    pred = model.lm_head.output[0, -1].argmax(dim=-1).save()\n",
    "\n",
    "        if model.tokenizer.decode([pred]).lower().strip() == target.lower().strip():\n",
    "            correct += 1\n",
    "        total += 1\n",
    "\n",
    "        del counterfactual_layer_out, pred\n",
    "        torch.cuda.empty_cache()\n",
    "\n",
    "    acc = round(correct / total, 2)\n",
    "    print(f\"Layer: {layer_idx} | Accuracy: {acc}\")\n",
    "\n",
    "    accs_binding_addr_and_payload[layer_idx] = acc"
   ]
  },
  {
   "cell_type": "code",
   "execution_count": 8,
   "id": "a23551c3",
   "metadata": {},
   "outputs": [
    {
     "data": {
      "image/png": "[encoded data removed]",
      "text/plain": [
       "<Figure size 700x300 with 1 Axes>"
      ]
     },
     "metadata": {},
     "output_type": "display_data"
    }
   ],
   "source": [
    "# Visualize accs_binding_addr_and_payload as a line plot\n",
    "plt.figure(figsize=(7, 3))\n",
    "layers = list(accs_binding_addr_and_payload.keys())\n",
    "accuracies = list(accs_binding_addr_and_payload.values())\n",
    "\n",
    "plt.plot(layers, accuracies, marker=\"o\", linestyle=\"-\", linewidth=2)\n",
    "plt.xlabel(\"Layer\")\n",
    "plt.ylabel(\"IIA\")\n",
    "plt.title(\"Binding Address and Payload IIA by Layer\")\n",
    "plt.grid(True, linestyle=\"--\", alpha=0.7)\n",
    "plt.xticks(layers)\n",
    "plt.ylim(0, 1.1)\n",
    "\n",
    "plt.tight_layout()\n",
    "plt.show()"
   ]
  },
  {
   "cell_type": "markdown",
   "id": "2ed0bad2",
   "metadata": {},
   "source": [
    "# Source (Fig. 6 and Fig. 13 in the paper)"
   ]
  },
  {
   "cell_type": "code",
   "execution_count": 9,
   "id": "4488aa84",
   "metadata": {},
   "outputs": [],
   "source": [
    "n_samples = 10\n",
    "batch_size = 1\n",
    "\n",
    "dataset = get_reversed_sent_diff_state_counterfacts(\n",
    "    all_characters, all_objects, all_states, n_samples\n",
    ")\n",
    "dataloader = DataLoader(dataset, batch_size=batch_size, shuffle=False)"
   ]
  },
  {
   "cell_type": "code",
   "execution_count": 10,
   "id": "308bee12",
   "metadata": {},
   "outputs": [
    {
     "name": "stdout",
     "output_type": "stream",
     "text": [
      "COUNTERFACTUAL EXAMPLE\n",
      "=========================\n",
      "Instruction: 1. Track the belief of each character as described in the story. 2. A character's belief is formed only when they perform an action themselves or can observe the action taking place. 3. A character does not have any beliefs about the container and its contents which they cannot observe. 4. To answer the question, predict only what is inside the queried container, strictly based on the belief of the character, mentioned in the question. 5. If the queried character has no belief about the container in question, then predict 'unknown'. 6. Do not predict container or character as the final output.\n",
      "\n",
      "Story: Diane and Fred are working in a busy restaurant. To complete an order, Diane grabs an opaque horn and fills it with float. Then Fred grabs another opaque flute and fills it with soda.\n",
      "Question: What does Diane believe the horn contains?\n",
      "Answer: float\n",
      "\n",
      "CLEAN EXAMPLE\n",
      "=========================\n",
      "Instruction: 1. Track the belief of each character as described in the story. 2. A character's belief is formed only when they perform an action themselves or can observe the action taking place. 3. A character does not have any beliefs about the container and its contents which they cannot observe. 4. To answer the question, predict only what is inside the queried container, strictly based on the belief of the character, mentioned in the question. 5. If the queried character has no belief about the container in question, then predict 'unknown'. 6. Do not predict container or character as the final output.\n",
      "\n",
      "Story: Fred and Diane are working in a busy restaurant. To complete an order, Fred grabs an opaque flute and fills it with port. Then Diane grabs another opaque horn and fills it with cocktail.\n",
      "Question: What does Diane believe the horn contains?\n",
      "Answer: cocktail\n",
      "\n",
      "Target:  port\n"
     ]
    }
   ],
   "source": [
    "idx = 0\n",
    "print(\"COUNTERFACTUAL EXAMPLE\")\n",
    "print(\"=\" * 25)\n",
    "print(dataset[idx][\"counterfactual_prompt\"], dataset[idx][\"counterfactual_ans\"])\n",
    "print()\n",
    "\n",
    "print(\"CLEAN EXAMPLE\")\n",
    "print(\"=\" * 25)\n",
    "print(dataset[idx][\"clean_prompt\"], dataset[idx][\"clean_ans\"])\n",
    "print(f\"\\nTarget: {dataset[idx]['target']}\")"
   ]
  },
  {
   "cell_type": "code",
   "execution_count": 11,
   "id": "53e97be1",
   "metadata": {},
   "outputs": [
    {
     "name": "stderr",
     "output_type": "stream",
     "text": [
      "100%|██████████| 10/10 [00:03<00:00,  2.90it/s]"
     ]
    },
    {
     "name": "stdout",
     "output_type": "stream",
     "text": [
      "Dataset size to be used for IIA: 10 (0 errors)\n"
     ]
    },
    {
     "name": "stderr",
     "output_type": "stream",
     "text": [
      "\n"
     ]
    }
   ],
   "source": [
    "_, errors = error_detection(model, dataloader, is_remote)\n",
    "print(\n",
    "    f\"Dataset size to be used for IIA: {len(dataset) - len(errors)} ({len(errors)} errors)\"\n",
    ")"
   ]
  },
  {
   "cell_type": "markdown",
   "id": "48243f29",
   "metadata": {},
   "source": [
    "## Freezing the address and payload of Binding lookback (Fig.6 in the paper)"
   ]
  },
  {
   "cell_type": "code",
   "execution_count": 12,
   "id": "791866b0",
   "metadata": {},
   "outputs": [
    {
     "name": "stderr",
     "output_type": "stream",
     "text": [
      "  6%|▋         | 1/16 [00:06<01:41,  6.76s/it]"
     ]
    },
    {
     "name": "stdout",
     "output_type": "stream",
     "text": [
      "Layer: 0 | Accuracy: 0.0\n"
     ]
    },
    {
     "name": "stderr",
     "output_type": "stream",
     "text": [
      " 12%|█▎        | 2/16 [00:13<01:37,  6.94s/it]"
     ]
    },
    {
     "name": "stdout",
     "output_type": "stream",
     "text": [
      "Layer: 10 | Accuracy: 0.0\n"
     ]
    },
    {
     "name": "stderr",
     "output_type": "stream",
     "text": [
      " 19%|█▉        | 3/16 [00:20<01:31,  7.04s/it]"
     ]
    },
    {
     "name": "stdout",
     "output_type": "stream",
     "text": [
      "Layer: 20 | Accuracy: 0.8\n"
     ]
    },
    {
     "name": "stderr",
     "output_type": "stream",
     "text": [
      " 25%|██▌       | 4/16 [00:28<01:25,  7.09s/it]"
     ]
    },
    {
     "name": "stdout",
     "output_type": "stream",
     "text": [
      "Layer: 22 | Accuracy: 0.8\n"
     ]
    },
    {
     "name": "stderr",
     "output_type": "stream",
     "text": [
      " 31%|███▏      | 5/16 [00:35<01:19,  7.20s/it]"
     ]
    },
    {
     "name": "stdout",
     "output_type": "stream",
     "text": [
      "Layer: 24 | Accuracy: 1.0\n"
     ]
    },
    {
     "name": "stderr",
     "output_type": "stream",
     "text": [
      " 38%|███▊      | 6/16 [00:42<01:12,  7.22s/it]"
     ]
    },
    {
     "name": "stdout",
     "output_type": "stream",
     "text": [
      "Layer: 26 | Accuracy: 1.0\n"
     ]
    },
    {
     "name": "stderr",
     "output_type": "stream",
     "text": [
      " 44%|████▍     | 7/16 [00:50<01:05,  7.25s/it]"
     ]
    },
    {
     "name": "stdout",
     "output_type": "stream",
     "text": [
      "Layer: 28 | Accuracy: 1.0\n"
     ]
    },
    {
     "name": "stderr",
     "output_type": "stream",
     "text": [
      " 50%|█████     | 8/16 [00:57<00:58,  7.28s/it]"
     ]
    },
    {
     "name": "stdout",
     "output_type": "stream",
     "text": [
      "Layer: 30 | Accuracy: 1.0\n"
     ]
    },
    {
     "name": "stderr",
     "output_type": "stream",
     "text": [
      " 56%|█████▋    | 9/16 [01:04<00:51,  7.34s/it]"
     ]
    },
    {
     "name": "stdout",
     "output_type": "stream",
     "text": [
      "Layer: 32 | Accuracy: 1.0\n"
     ]
    },
    {
     "name": "stderr",
     "output_type": "stream",
     "text": [
      " 62%|██████▎   | 10/16 [01:12<00:44,  7.36s/it]"
     ]
    },
    {
     "name": "stdout",
     "output_type": "stream",
     "text": [
      "Layer: 34 | Accuracy: 1.0\n"
     ]
    },
    {
     "name": "stderr",
     "output_type": "stream",
     "text": [
      " 69%|██████▉   | 11/16 [01:19<00:36,  7.38s/it]"
     ]
    },
    {
     "name": "stdout",
     "output_type": "stream",
     "text": [
      "Layer: 36 | Accuracy: 0.6\n"
     ]
    },
    {
     "name": "stderr",
     "output_type": "stream",
     "text": [
      " 75%|███████▌  | 12/16 [01:27<00:29,  7.44s/it]"
     ]
    },
    {
     "name": "stdout",
     "output_type": "stream",
     "text": [
      "Layer: 38 | Accuracy: 0.5\n"
     ]
    },
    {
     "name": "stderr",
     "output_type": "stream",
     "text": [
      " 81%|████████▏ | 13/16 [01:34<00:22,  7.47s/it]"
     ]
    },
    {
     "name": "stdout",
     "output_type": "stream",
     "text": [
      "Layer: 40 | Accuracy: 0.2\n"
     ]
    },
    {
     "name": "stderr",
     "output_type": "stream",
     "text": [
      " 88%|████████▊ | 14/16 [01:42<00:15,  7.57s/it]"
     ]
    },
    {
     "name": "stdout",
     "output_type": "stream",
     "text": [
      "Layer: 50 | Accuracy: 0.2\n"
     ]
    },
    {
     "name": "stderr",
     "output_type": "stream",
     "text": [
      " 94%|█████████▍| 15/16 [01:50<00:07,  7.65s/it]"
     ]
    },
    {
     "name": "stdout",
     "output_type": "stream",
     "text": [
      "Layer: 60 | Accuracy: 0.2\n"
     ]
    },
    {
     "name": "stderr",
     "output_type": "stream",
     "text": [
      "100%|██████████| 16/16 [01:58<00:00,  7.42s/it]"
     ]
    },
    {
     "name": "stdout",
     "output_type": "stream",
     "text": [
      "Layer: 70 | Accuracy: 0.2\n"
     ]
    },
    {
     "name": "stderr",
     "output_type": "stream",
     "text": [
      "\n"
     ]
    }
   ],
   "source": [
    "accs_source_1 = {}\n",
    "patch_layers = (\n",
    "    [i for i in range(0, 20, 10)]\n",
    "    + [i for i in range(20, 42, 2)]\n",
    "    + [i for i in range(50, model.config.num_hidden_layers, 10)]\n",
    ")\n",
    "\n",
    "for layer_idx in tqdm(patch_layers):\n",
    "    correct, total = 0, 0\n",
    "\n",
    "    for bi, batch in enumerate(dataloader):\n",
    "        counterfactual_prompt = batch[\"counterfactual_prompt\"][0]\n",
    "        clean_prompt = batch[\"clean_prompt\"][0]\n",
    "        target = batch[\"target\"][0]\n",
    "\n",
    "        charac_indices = [131, 133, 146, 147, 158, 159]\n",
    "        object_indices = [150, 151, 162, 163]\n",
    "        state_indices = [155, 156, 167, 168]\n",
    "        reversed_charac_indices = [133, 131, 158, 159, 146, 147]\n",
    "        reversed_obj_indices = [162, 163, 150, 151]\n",
    "        reversed_state_indices = [167, 168, 155, 156]\n",
    "        n_layers = model.config.num_hidden_layers\n",
    "        counterfactual_layer_out, clean_layer_out = (\n",
    "            defaultdict(dict),\n",
    "            defaultdict(dict),\n",
    "        )\n",
    "        with torch.no_grad():\n",
    "            with model.trace(counterfactual_prompt, remote=is_remote):\n",
    "                for l in range(layer_idx + 1):\n",
    "                    for i, token_idx in enumerate(charac_indices + object_indices):\n",
    "                        counterfactual_layer_out[l][i] = (\n",
    "                            model.model.layers[l].output[0, token_idx].save()\n",
    "                        )\n",
    "\n",
    "            with model.trace(clean_prompt, remote=is_remote):\n",
    "                for l in range(n_layers):\n",
    "                    for i, token_idx in enumerate(state_indices):\n",
    "                        clean_layer_out[l][i] = (\n",
    "                            model.model.layers[l].output[0, token_idx].save()\n",
    "                        )\n",
    "\n",
    "            with model.trace(clean_prompt, remote=is_remote):\n",
    "                for l in range(layer_idx + 1):\n",
    "                    for i, token_idx in enumerate(\n",
    "                        reversed_charac_indices + reversed_obj_indices\n",
    "                    ):\n",
    "                        model.model.layers[l].output[0, token_idx] = (\n",
    "                            counterfactual_layer_out[l][i]\n",
    "                        )\n",
    "\n",
    "                for l in range(n_layers):\n",
    "                    for i, token_idx in enumerate(state_indices):\n",
    "                        model.model.layers[l].output[0, token_idx] = clean_layer_out[l][\n",
    "                            i\n",
    "                        ]\n",
    "\n",
    "                pred = model.lm_head.output[0, -1].argmax(dim=-1).save()\n",
    "\n",
    "        if model.tokenizer.decode([pred]).lower().strip() == target.lower().strip():\n",
    "            correct += 1\n",
    "        total += 1\n",
    "\n",
    "        del counterfactual_layer_out, clean_layer_out, pred\n",
    "        torch.cuda.empty_cache()\n",
    "\n",
    "    acc = round(correct / total, 2)\n",
    "    print(f\"Layer: {layer_idx} | Accuracy: {acc}\")\n",
    "\n",
    "    accs_source_1[layer_idx] = acc"
   ]
  },
  {
   "cell_type": "code",
   "execution_count": 13,
   "id": "e0022045",
   "metadata": {},
   "outputs": [
    {
     "data": {
      "image/png": "[encoded data removed]",
      "text/plain": [
       "<Figure size 700x300 with 1 Axes>"
      ]
     },
     "metadata": {},
     "output_type": "display_data"
    }
   ],
   "source": [
    "# Visualize accs_binding_addr_and_payload as a line plot\n",
    "plt.figure(figsize=(7, 3))\n",
    "layers = list(accs_source_1.keys())\n",
    "accuracies = list(accs_source_1.values())\n",
    "\n",
    "plt.plot(layers, accuracies, marker=\"o\", linestyle=\"-\", linewidth=2)\n",
    "plt.xlabel(\"Layer\")\n",
    "plt.ylabel(\"IIA\")\n",
    "plt.title(\"Binding Source IIA by Layer\")\n",
    "plt.grid(True, linestyle=\"--\", alpha=0.7)\n",
    "plt.xticks(layers)\n",
    "plt.ylim(0, 1.1)\n",
    "\n",
    "plt.tight_layout()\n",
    "plt.show()"
   ]
  },
  {
   "cell_type": "markdown",
   "id": "907f4855",
   "metadata": {},
   "source": [
    "## Without freezing the address and payload of Binding lookback (Fig.12 in the paper)"
   ]
  },
  {
   "cell_type": "code",
   "execution_count": 15,
   "id": "a9071b38",
   "metadata": {},
   "outputs": [
    {
     "name": "stderr",
     "output_type": "stream",
     "text": [
      "  6%|▋         | 1/16 [00:03<00:51,  3.45s/it]"
     ]
    },
    {
     "name": "stdout",
     "output_type": "stream",
     "text": [
      "Layer: 0 | Accuracy: 0.0\n"
     ]
    },
    {
     "name": "stderr",
     "output_type": "stream",
     "text": [
      " 12%|█▎        | 2/16 [00:07<00:50,  3.61s/it]"
     ]
    },
    {
     "name": "stdout",
     "output_type": "stream",
     "text": [
      "Layer: 10 | Accuracy: 0.0\n"
     ]
    },
    {
     "name": "stderr",
     "output_type": "stream",
     "text": [
      " 19%|█▉        | 3/16 [00:11<00:49,  3.77s/it]"
     ]
    },
    {
     "name": "stdout",
     "output_type": "stream",
     "text": [
      "Layer: 20 | Accuracy: 0.0\n"
     ]
    },
    {
     "name": "stderr",
     "output_type": "stream",
     "text": [
      " 25%|██▌       | 4/16 [00:15<00:46,  3.86s/it]"
     ]
    },
    {
     "name": "stdout",
     "output_type": "stream",
     "text": [
      "Layer: 22 | Accuracy: 0.0\n"
     ]
    },
    {
     "name": "stderr",
     "output_type": "stream",
     "text": [
      " 31%|███▏      | 5/16 [00:19<00:44,  4.01s/it]"
     ]
    },
    {
     "name": "stdout",
     "output_type": "stream",
     "text": [
      "Layer: 24 | Accuracy: 0.0\n"
     ]
    },
    {
     "name": "stderr",
     "output_type": "stream",
     "text": [
      " 38%|███▊      | 6/16 [00:23<00:40,  4.04s/it]"
     ]
    },
    {
     "name": "stdout",
     "output_type": "stream",
     "text": [
      "Layer: 26 | Accuracy: 0.0\n"
     ]
    },
    {
     "name": "stderr",
     "output_type": "stream",
     "text": [
      " 44%|████▍     | 7/16 [00:27<00:37,  4.14s/it]"
     ]
    },
    {
     "name": "stdout",
     "output_type": "stream",
     "text": [
      "Layer: 28 | Accuracy: 0.0\n"
     ]
    },
    {
     "name": "stderr",
     "output_type": "stream",
     "text": [
      " 50%|█████     | 8/16 [00:32<00:33,  4.16s/it]"
     ]
    },
    {
     "name": "stdout",
     "output_type": "stream",
     "text": [
      "Layer: 30 | Accuracy: 0.0\n"
     ]
    },
    {
     "name": "stderr",
     "output_type": "stream",
     "text": [
      " 56%|█████▋    | 9/16 [00:36<00:29,  4.24s/it]"
     ]
    },
    {
     "name": "stdout",
     "output_type": "stream",
     "text": [
      "Layer: 32 | Accuracy: 0.2\n"
     ]
    },
    {
     "name": "stderr",
     "output_type": "stream",
     "text": [
      " 62%|██████▎   | 10/16 [00:40<00:25,  4.27s/it]"
     ]
    },
    {
     "name": "stdout",
     "output_type": "stream",
     "text": [
      "Layer: 34 | Accuracy: 0.2\n"
     ]
    },
    {
     "name": "stderr",
     "output_type": "stream",
     "text": [
      " 69%|██████▉   | 11/16 [00:45<00:21,  4.34s/it]"
     ]
    },
    {
     "name": "stdout",
     "output_type": "stream",
     "text": [
      "Layer: 36 | Accuracy: 0.2\n"
     ]
    },
    {
     "name": "stderr",
     "output_type": "stream",
     "text": [
      " 75%|███████▌  | 12/16 [00:49<00:17,  4.37s/it]"
     ]
    },
    {
     "name": "stdout",
     "output_type": "stream",
     "text": [
      "Layer: 38 | Accuracy: 0.2\n"
     ]
    },
    {
     "name": "stderr",
     "output_type": "stream",
     "text": [
      " 81%|████████▏ | 13/16 [00:54<00:13,  4.44s/it]"
     ]
    },
    {
     "name": "stdout",
     "output_type": "stream",
     "text": [
      "Layer: 40 | Accuracy: 0.2\n"
     ]
    },
    {
     "name": "stderr",
     "output_type": "stream",
     "text": [
      " 88%|████████▊ | 14/16 [00:59<00:09,  4.58s/it]"
     ]
    },
    {
     "name": "stdout",
     "output_type": "stream",
     "text": [
      "Layer: 50 | Accuracy: 0.2\n"
     ]
    },
    {
     "name": "stderr",
     "output_type": "stream",
     "text": [
      " 94%|█████████▍| 15/16 [01:04<00:04,  4.74s/it]"
     ]
    },
    {
     "name": "stdout",
     "output_type": "stream",
     "text": [
      "Layer: 60 | Accuracy: 0.2\n"
     ]
    },
    {
     "name": "stderr",
     "output_type": "stream",
     "text": [
      "100%|██████████| 16/16 [01:09<00:00,  4.36s/it]"
     ]
    },
    {
     "name": "stdout",
     "output_type": "stream",
     "text": [
      "Layer: 70 | Accuracy: 0.2\n"
     ]
    },
    {
     "name": "stderr",
     "output_type": "stream",
     "text": [
      "\n"
     ]
    }
   ],
   "source": [
    "accs_source_2 = {}\n",
    "patch_layers = (\n",
    "    [i for i in range(0, 20, 10)]\n",
    "    + [i for i in range(20, 42, 2)]\n",
    "    + [i for i in range(50, model.config.num_hidden_layers, 10)]\n",
    ")\n",
    "\n",
    "for layer_idx in tqdm(patch_layers):\n",
    "    correct, total = 0, 0\n",
    "\n",
    "    for bi, batch in enumerate(dataloader):\n",
    "        counterfactual_prompt = batch[\"counterfactual_prompt\"][0]\n",
    "        clean_prompt = batch[\"clean_prompt\"][0]\n",
    "        target = batch[\"target\"][0]\n",
    "\n",
    "        charac_indices = [131, 133, 146, 147, 158, 159]\n",
    "        object_indices = [150, 151, 162, 163]\n",
    "        state_indices = [155, 156, 167, 168]\n",
    "        reversed_charac_indices = [133, 131, 158, 159, 146, 147]\n",
    "        reversed_obj_indices = [162, 163, 150, 151]\n",
    "        reversed_state_indices = [167, 168, 155, 156]\n",
    "        n_layers = model.config.num_hidden_layers\n",
    "        counterfactual_layer_out, clean_layer_out = (\n",
    "            defaultdict(dict),\n",
    "            defaultdict(dict),\n",
    "        )\n",
    "        with torch.no_grad():\n",
    "            with model.trace(remote=is_remote) as tracer:\n",
    "                with tracer.invoke(counterfactual_prompt):\n",
    "                    for l in range(layer_idx + 1):\n",
    "                        for i, token_idx in enumerate(charac_indices + object_indices):\n",
    "                            counterfactual_layer_out[l][i] = model.model.layers[\n",
    "                                l\n",
    "                            ].output[0, token_idx].save()\n",
    "\n",
    "                with tracer.invoke(clean_prompt):\n",
    "                    for l in range(layer_idx + 1):\n",
    "                        for i, token_idx in enumerate(\n",
    "                            reversed_charac_indices + reversed_obj_indices\n",
    "                        ):\n",
    "                            model.model.layers[l].output[0, token_idx] = (\n",
    "                                counterfactual_layer_out[l][i]\n",
    "                            )\n",
    "\n",
    "                    pred = model.lm_head.output[0, -1].argmax(dim=-1).save()\n",
    "\n",
    "        if model.tokenizer.decode([pred]).lower().strip() == target.lower().strip():\n",
    "            correct += 1\n",
    "        total += 1\n",
    "\n",
    "        del counterfactual_layer_out, clean_layer_out, pred\n",
    "        torch.cuda.empty_cache()\n",
    "\n",
    "    acc = round(correct / total, 2)\n",
    "    print(f\"Layer: {layer_idx} | Accuracy: {acc}\")\n",
    "\n",
    "    accs_source_2[layer_idx] = acc"
   ]
  },
  {
   "cell_type": "code",
   "execution_count": 16,
   "id": "3f19ea48",
   "metadata": {},
   "outputs": [
    {
     "data": {
      "image/png": "[encoded data removed]",
      "text/plain": [
       "<Figure size 700x300 with 1 Axes>"
      ]
     },
     "metadata": {},
     "output_type": "display_data"
    }
   ],
   "source": [
    "# Visualize accs_binding_addr_and_payload as a line plot\n",
    "plt.figure(figsize=(7, 3))\n",
    "layers = list(accs_source_2.keys())\n",
    "accuracies = list(accs_source_2.values())\n",
    "\n",
    "plt.plot(layers, accuracies, marker=\"o\", linestyle=\"-\", linewidth=2)\n",
    "plt.xlabel(\"Layer\")\n",
    "plt.ylabel(\"IIA\")\n",
    "plt.title(\"Binding Source IIA by Layer\")\n",
    "plt.grid(True, linestyle=\"--\", alpha=0.7)\n",
    "plt.xticks(layers)\n",
    "plt.ylim(0, 1.1)\n",
    "\n",
    "plt.tight_layout()\n",
    "plt.show()"
   ]
  },
  {
   "cell_type": "markdown",
   "id": "6e3f2881",
   "metadata": {},
   "source": [
    "# Pointer (Query Character OI; Fig. 16 in the paper)"
   ]
  },
  {
   "cell_type": "code",
   "execution_count": 17,
   "id": "6dc66871",
   "metadata": {},
   "outputs": [],
   "source": [
    "n_samples = 10\n",
    "batch_size = 1\n",
    "\n",
    "dataset = get_query_charac_oi(all_characters, all_objects, all_states, n_samples)\n",
    "dataloader = DataLoader(dataset, batch_size=batch_size, shuffle=False)"
   ]
  },
  {
   "cell_type": "code",
   "execution_count": 18,
   "id": "5cdc6dca",
   "metadata": {},
   "outputs": [
    {
     "name": "stdout",
     "output_type": "stream",
     "text": [
      "COUNTERFACTUAL EXAMPLE\n",
      "=========================\n",
      "Instruction: 1. Track the belief of each character as described in the story. 2. A character's belief is formed only when they perform an action themselves or can observe the action taking place. 3. A character does not have any beliefs about the container and its contents which they cannot observe. 4. To answer the question, predict only what is inside the queried container, strictly based on the belief of the character, mentioned in the question. 5. If the queried character has no belief about the container in question, then predict 'unknown'. 6. Do not predict container or character as the final output.\n",
      "\n",
      "Story: Greg and Kevin are working in a busy restaurant. To complete an order, Greg grabs an opaque urn and fills it with stout. Then Kevin grabs another opaque can and fills it with monster.\n",
      "Question: What does Greg believe the urn contains?\n",
      "Answer: stout\n",
      "\n",
      "CLEAN EXAMPLE\n",
      "=========================\n",
      "Instruction: 1. Track the belief of each character as described in the story. 2. A character's belief is formed only when they perform an action themselves or can observe the action taking place. 3. A character does not have any beliefs about the container and its contents which they cannot observe. 4. To answer the question, predict only what is inside the queried container, strictly based on the belief of the character, mentioned in the question. 5. If the queried character has no belief about the container in question, then predict 'unknown'. 6. Do not predict container or character as the final output.\n",
      "\n",
      "Story: Kevin and Greg are working in a busy restaurant. To complete an order, Kevin grabs an opaque can and fills it with espresso. Then Greg grabs another opaque urn and fills it with champagne.\n",
      "Question: What does Greg believe the can contains?\n",
      "Answer: unknown\n",
      "\n",
      "Target:  espresso\n"
     ]
    }
   ],
   "source": [
    "idx = 0\n",
    "print(\"COUNTERFACTUAL EXAMPLE\")\n",
    "print(\"=\" * 25)\n",
    "print(dataset[idx][\"counterfactual_prompt\"], dataset[idx][\"counterfactual_ans\"])\n",
    "print()\n",
    "\n",
    "print(\"CLEAN EXAMPLE\")\n",
    "print(\"=\" * 25)\n",
    "print(dataset[idx][\"clean_prompt\"], dataset[idx][\"clean_ans\"])\n",
    "print(f\"\\nTarget: {dataset[idx]['target']}\")"
   ]
  },
  {
   "cell_type": "code",
   "execution_count": 19,
   "id": "289212b7",
   "metadata": {},
   "outputs": [
    {
     "name": "stderr",
     "output_type": "stream",
     "text": [
      "100%|██████████| 10/10 [00:03<00:00,  2.90it/s]"
     ]
    },
    {
     "name": "stdout",
     "output_type": "stream",
     "text": [
      "Dataset size to be used for IIA: 10 (0 errors)\n"
     ]
    },
    {
     "name": "stderr",
     "output_type": "stream",
     "text": [
      "\n"
     ]
    }
   ],
   "source": [
    "_, errors = error_detection(model, dataloader, is_remote)\n",
    "print(\n",
    "    f\"Dataset size to be used for IIA: {len(dataset) - len(errors)} ({len(errors)} errors)\"\n",
    ")"
   ]
  },
  {
   "cell_type": "code",
   "execution_count": 20,
   "id": "6c5001d7",
   "metadata": {},
   "outputs": [
    {
     "name": "stderr",
     "output_type": "stream",
     "text": [
      "  6%|▌         | 1/17 [00:03<00:54,  3.44s/it]"
     ]
    },
    {
     "name": "stdout",
     "output_type": "stream",
     "text": [
      "Layer: 0 | Accuracy: 0.0\n"
     ]
    },
    {
     "name": "stderr",
     "output_type": "stream",
     "text": [
      " 12%|█▏        | 2/17 [00:06<00:51,  3.44s/it]"
     ]
    },
    {
     "name": "stdout",
     "output_type": "stream",
     "text": [
      "Layer: 10 | Accuracy: 0.0\n"
     ]
    },
    {
     "name": "stderr",
     "output_type": "stream",
     "text": [
      " 18%|█▊        | 3/17 [00:10<00:48,  3.44s/it]"
     ]
    },
    {
     "name": "stdout",
     "output_type": "stream",
     "text": [
      "Layer: 16 | Accuracy: 1.0\n"
     ]
    },
    {
     "name": "stderr",
     "output_type": "stream",
     "text": [
      " 24%|██▎       | 4/17 [00:13<00:44,  3.44s/it]"
     ]
    },
    {
     "name": "stdout",
     "output_type": "stream",
     "text": [
      "Layer: 18 | Accuracy: 1.0\n"
     ]
    },
    {
     "name": "stderr",
     "output_type": "stream",
     "text": [
      " 29%|██▉       | 5/17 [00:17<00:41,  3.44s/it]"
     ]
    },
    {
     "name": "stdout",
     "output_type": "stream",
     "text": [
      "Layer: 20 | Accuracy: 1.0\n"
     ]
    },
    {
     "name": "stderr",
     "output_type": "stream",
     "text": [
      " 35%|███▌      | 6/17 [00:20<00:37,  3.44s/it]"
     ]
    },
    {
     "name": "stdout",
     "output_type": "stream",
     "text": [
      "Layer: 22 | Accuracy: 1.0\n"
     ]
    },
    {
     "name": "stderr",
     "output_type": "stream",
     "text": [
      " 41%|████      | 7/17 [00:24<00:34,  3.44s/it]"
     ]
    },
    {
     "name": "stdout",
     "output_type": "stream",
     "text": [
      "Layer: 24 | Accuracy: 1.0\n"
     ]
    },
    {
     "name": "stderr",
     "output_type": "stream",
     "text": [
      " 47%|████▋     | 8/17 [00:27<00:30,  3.44s/it]"
     ]
    },
    {
     "name": "stdout",
     "output_type": "stream",
     "text": [
      "Layer: 26 | Accuracy: 1.0\n"
     ]
    },
    {
     "name": "stderr",
     "output_type": "stream",
     "text": [
      " 53%|█████▎    | 9/17 [00:30<00:27,  3.44s/it]"
     ]
    },
    {
     "name": "stdout",
     "output_type": "stream",
     "text": [
      "Layer: 28 | Accuracy: 1.0\n"
     ]
    },
    {
     "name": "stderr",
     "output_type": "stream",
     "text": [
      " 59%|█████▉    | 10/17 [00:34<00:24,  3.44s/it]"
     ]
    },
    {
     "name": "stdout",
     "output_type": "stream",
     "text": [
      "Layer: 30 | Accuracy: 0.8\n"
     ]
    },
    {
     "name": "stderr",
     "output_type": "stream",
     "text": [
      " 65%|██████▍   | 11/17 [00:37<00:20,  3.44s/it]"
     ]
    },
    {
     "name": "stdout",
     "output_type": "stream",
     "text": [
      "Layer: 32 | Accuracy: 0.4\n"
     ]
    },
    {
     "name": "stderr",
     "output_type": "stream",
     "text": [
      " 71%|███████   | 12/17 [00:41<00:17,  3.44s/it]"
     ]
    },
    {
     "name": "stdout",
     "output_type": "stream",
     "text": [
      "Layer: 34 | Accuracy: 0.0\n"
     ]
    },
    {
     "name": "stderr",
     "output_type": "stream",
     "text": [
      " 76%|███████▋  | 13/17 [00:44<00:13,  3.44s/it]"
     ]
    },
    {
     "name": "stdout",
     "output_type": "stream",
     "text": [
      "Layer: 36 | Accuracy: 0.0\n"
     ]
    },
    {
     "name": "stderr",
     "output_type": "stream",
     "text": [
      " 82%|████████▏ | 14/17 [00:48<00:10,  3.44s/it]"
     ]
    },
    {
     "name": "stdout",
     "output_type": "stream",
     "text": [
      "Layer: 40 | Accuracy: 0.0\n"
     ]
    },
    {
     "name": "stderr",
     "output_type": "stream",
     "text": [
      " 88%|████████▊ | 15/17 [00:51<00:06,  3.44s/it]"
     ]
    },
    {
     "name": "stdout",
     "output_type": "stream",
     "text": [
      "Layer: 50 | Accuracy: 0.0\n"
     ]
    },
    {
     "name": "stderr",
     "output_type": "stream",
     "text": [
      " 94%|█████████▍| 16/17 [00:54<00:03,  3.44s/it]"
     ]
    },
    {
     "name": "stdout",
     "output_type": "stream",
     "text": [
      "Layer: 60 | Accuracy: 0.0\n"
     ]
    },
    {
     "name": "stderr",
     "output_type": "stream",
     "text": [
      "100%|██████████| 17/17 [00:58<00:00,  3.44s/it]"
     ]
    },
    {
     "name": "stdout",
     "output_type": "stream",
     "text": [
      "Layer: 70 | Accuracy: 0.0\n"
     ]
    },
    {
     "name": "stderr",
     "output_type": "stream",
     "text": [
      "\n"
     ]
    }
   ],
   "source": [
    "accs_query_charac_oi = {}\n",
    "patch_layers = (\n",
    "    [i for i in range(0, 20, 10)]\n",
    "    + [i for i in range(16, 38, 2)]\n",
    "    + [i for i in range(40, model.config.num_hidden_layers, 10)]\n",
    ")\n",
    "\n",
    "for layer_idx in tqdm(patch_layers, total=len(patch_layers)):\n",
    "    correct, total = 0, 0\n",
    "    for bi, batch in enumerate(dataloader):\n",
    "        if bi in errors:\n",
    "            continue\n",
    "        counterfactual_prompt = batch[\"counterfactual_prompt\"][0]\n",
    "        clean_prompt = batch[\"clean_prompt\"][0]\n",
    "        target = batch[\"target\"][0]\n",
    "\n",
    "        counterfactual_layer_out, clean_state_out = defaultdict(dict), defaultdict(dict)\n",
    "        with torch.no_grad():\n",
    "            with model.trace(remote=is_remote) as tracer:\n",
    "                with tracer.invoke(counterfactual_prompt):\n",
    "                    for token_idx in [-8, -7]:\n",
    "                        counterfactual_layer_out[token_idx] = model.model.layers[\n",
    "                            layer_idx\n",
    "                        ].output[0, token_idx].save()\n",
    "\n",
    "                with tracer.invoke(clean_prompt):\n",
    "                    for token_idx in [-8, -7]:\n",
    "                        model.model.layers[layer_idx].output[0, token_idx] = (\n",
    "                            counterfactual_layer_out[token_idx]\n",
    "                        )\n",
    "\n",
    "                    pred = model.lm_head.output[0, -1].argmax(dim=-1).save()\n",
    "\n",
    "        # print(f\"Pred: {model.tokenizer.decode([pred]).lower().strip()} | Target: {target}\")\n",
    "        if model.tokenizer.decode([pred]).lower().strip() == target.lower().strip():\n",
    "            correct += 1\n",
    "        total += 1\n",
    "\n",
    "        del counterfactual_layer_out, pred\n",
    "        torch.cuda.empty_cache()\n",
    "\n",
    "    acc = round(correct / total, 2)\n",
    "    print(f\"Layer: {layer_idx} | Accuracy: {acc}\")\n",
    "\n",
    "    accs_query_charac_oi[layer_idx] = acc"
   ]
  },
  {
   "cell_type": "code",
   "execution_count": 21,
   "id": "4e04524c",
   "metadata": {},
   "outputs": [
    {
     "data": {
      "image/png": "[encoded data removed]",
      "text/plain": [
       "<Figure size 700x300 with 1 Axes>"
      ]
     },
     "metadata": {},
     "output_type": "display_data"
    }
   ],
   "source": [
    "# Visualize accs_binding_addr_and_payload as a line plot\n",
    "plt.figure(figsize=(7, 3))\n",
    "layers = list(accs_query_charac_oi.keys())\n",
    "accuracies = list(accs_query_charac_oi.values())\n",
    "\n",
    "plt.plot(layers, accuracies, marker=\"o\", linestyle=\"-\", linewidth=2)\n",
    "plt.xlabel(\"Layer\")\n",
    "plt.ylabel(\"IIA\")\n",
    "plt.title(\"Query Character OI IIA by Layer\")\n",
    "plt.grid(True, linestyle=\"--\", alpha=0.7)\n",
    "plt.xticks(layers)\n",
    "plt.ylim(0, 1.1)\n",
    "\n",
    "plt.tight_layout()\n",
    "plt.show()"
   ]
  },
  {
   "cell_type": "markdown",
   "id": "53fb90e7",
   "metadata": {},
   "source": [
    "# Pointer (Query Object OI; Fig. 17 in the paper)"
   ]
  },
  {
   "cell_type": "code",
   "execution_count": 22,
   "id": "421f324b",
   "metadata": {},
   "outputs": [],
   "source": [
    "n_samples = 10\n",
    "batch_size = 1\n",
    "\n",
    "dataset = get_query_object_oi(all_characters, all_objects, all_states, n_samples)\n",
    "dataloader = DataLoader(dataset, batch_size=batch_size, shuffle=False)"
   ]
  },
  {
   "cell_type": "code",
   "execution_count": 23,
   "id": "48a27dc4",
   "metadata": {},
   "outputs": [
    {
     "name": "stdout",
     "output_type": "stream",
     "text": [
      "COUNTERFACTUAL EXAMPLE\n",
      "=========================\n",
      "Instruction: 1. Track the belief of each character as described in the story. 2. A character's belief is formed only when they perform an action themselves or can observe the action taking place. 3. A character does not have any beliefs about the container and its contents which they cannot observe. 4. To answer the question, predict only what is inside the queried container, strictly based on the belief of the character, mentioned in the question. 5. If the queried character has no belief about the container in question, then predict 'unknown'. 6. Do not predict container or character as the final output.\n",
      "\n",
      "Story: Heidi and Jack are working in a busy restaurant. To complete an order, Heidi grabs an opaque mug and fills it with cocktail. Then Jack grabs another opaque dispenser and fills it with punch.\n",
      "Question: What does Heidi believe the mug contains?\n",
      "Answer: cocktail\n",
      "\n",
      "CLEAN EXAMPLE\n",
      "=========================\n",
      "Instruction: 1. Track the belief of each character as described in the story. 2. A character's belief is formed only when they perform an action themselves or can observe the action taking place. 3. A character does not have any beliefs about the container and its contents which they cannot observe. 4. To answer the question, predict only what is inside the queried container, strictly based on the belief of the character, mentioned in the question. 5. If the queried character has no belief about the container in question, then predict 'unknown'. 6. Do not predict container or character as the final output.\n",
      "\n",
      "Story: Jack and Heidi are working in a busy restaurant. To complete an order, Jack grabs an opaque dispenser and fills it with porter. Then Heidi grabs another opaque mug and fills it with bourbon.\n",
      "Question: What does Jack believe the mug contains?\n",
      "Answer: unknown\n",
      "\n",
      "Target:  porter\n"
     ]
    }
   ],
   "source": [
    "idx = 0\n",
    "print(\"COUNTERFACTUAL EXAMPLE\")\n",
    "print(\"=\" * 25)\n",
    "print(dataset[idx][\"counterfactual_prompt\"], dataset[idx][\"counterfactual_ans\"])\n",
    "print()\n",
    "\n",
    "print(\"CLEAN EXAMPLE\")\n",
    "print(\"=\" * 25)\n",
    "print(dataset[idx][\"clean_prompt\"], dataset[idx][\"clean_ans\"])\n",
    "print(f\"\\nTarget: {dataset[idx]['target']}\")"
   ]
  },
  {
   "cell_type": "code",
   "execution_count": 24,
   "id": "dc59cc20",
   "metadata": {},
   "outputs": [
    {
     "name": "stderr",
     "output_type": "stream",
     "text": [
      "100%|██████████| 10/10 [00:03<00:00,  2.90it/s]"
     ]
    },
    {
     "name": "stdout",
     "output_type": "stream",
     "text": [
      "Dataset size to be used for IIA: 9 (1 errors)\n"
     ]
    },
    {
     "name": "stderr",
     "output_type": "stream",
     "text": [
      "\n"
     ]
    }
   ],
   "source": [
    "_, errors = error_detection(model, dataloader, is_remote)\n",
    "print(\n",
    "    f\"Dataset size to be used for IIA: {len(dataset) - len(errors)} ({len(errors)} errors)\"\n",
    ")"
   ]
  },
  {
   "cell_type": "code",
   "execution_count": 25,
   "id": "1d3147c0",
   "metadata": {},
   "outputs": [
    {
     "name": "stderr",
     "output_type": "stream",
     "text": [
      "100%|██████████| 10/10 [00:03<00:00,  3.23it/s]\n"
     ]
    },
    {
     "name": "stdout",
     "output_type": "stream",
     "text": [
      "Layer: 0 | Accuracy: 0.0\n"
     ]
    },
    {
     "name": "stderr",
     "output_type": "stream",
     "text": [
      "100%|██████████| 10/10 [00:03<00:00,  3.23it/s]\n"
     ]
    },
    {
     "name": "stdout",
     "output_type": "stream",
     "text": [
      "Layer: 10 | Accuracy: 0.0\n"
     ]
    },
    {
     "name": "stderr",
     "output_type": "stream",
     "text": [
      "100%|██████████| 10/10 [00:03<00:00,  3.23it/s]\n"
     ]
    },
    {
     "name": "stdout",
     "output_type": "stream",
     "text": [
      "Layer: 16 | Accuracy: 0.89\n"
     ]
    },
    {
     "name": "stderr",
     "output_type": "stream",
     "text": [
      "100%|██████████| 10/10 [00:03<00:00,  3.23it/s]\n"
     ]
    },
    {
     "name": "stdout",
     "output_type": "stream",
     "text": [
      "Layer: 18 | Accuracy: 1.0\n"
     ]
    },
    {
     "name": "stderr",
     "output_type": "stream",
     "text": [
      "100%|██████████| 10/10 [00:03<00:00,  3.23it/s]\n"
     ]
    },
    {
     "name": "stdout",
     "output_type": "stream",
     "text": [
      "Layer: 20 | Accuracy: 1.0\n"
     ]
    },
    {
     "name": "stderr",
     "output_type": "stream",
     "text": [
      "100%|██████████| 10/10 [00:03<00:00,  3.22it/s]\n"
     ]
    },
    {
     "name": "stdout",
     "output_type": "stream",
     "text": [
      "Layer: 22 | Accuracy: 1.0\n"
     ]
    },
    {
     "name": "stderr",
     "output_type": "stream",
     "text": [
      "100%|██████████| 10/10 [00:03<00:00,  3.23it/s]\n"
     ]
    },
    {
     "name": "stdout",
     "output_type": "stream",
     "text": [
      "Layer: 24 | Accuracy: 1.0\n"
     ]
    },
    {
     "name": "stderr",
     "output_type": "stream",
     "text": [
      "100%|██████████| 10/10 [00:03<00:00,  3.23it/s]\n"
     ]
    },
    {
     "name": "stdout",
     "output_type": "stream",
     "text": [
      "Layer: 26 | Accuracy: 1.0\n"
     ]
    },
    {
     "name": "stderr",
     "output_type": "stream",
     "text": [
      "100%|██████████| 10/10 [00:03<00:00,  3.23it/s]\n"
     ]
    },
    {
     "name": "stdout",
     "output_type": "stream",
     "text": [
      "Layer: 28 | Accuracy: 0.89\n"
     ]
    },
    {
     "name": "stderr",
     "output_type": "stream",
     "text": [
      "100%|██████████| 10/10 [00:03<00:00,  3.23it/s]\n"
     ]
    },
    {
     "name": "stdout",
     "output_type": "stream",
     "text": [
      "Layer: 30 | Accuracy: 0.44\n"
     ]
    },
    {
     "name": "stderr",
     "output_type": "stream",
     "text": [
      "100%|██████████| 10/10 [00:03<00:00,  3.23it/s]\n"
     ]
    },
    {
     "name": "stdout",
     "output_type": "stream",
     "text": [
      "Layer: 32 | Accuracy: 0.0\n"
     ]
    },
    {
     "name": "stderr",
     "output_type": "stream",
     "text": [
      "100%|██████████| 10/10 [00:03<00:00,  3.23it/s]\n"
     ]
    },
    {
     "name": "stdout",
     "output_type": "stream",
     "text": [
      "Layer: 34 | Accuracy: 0.0\n"
     ]
    },
    {
     "name": "stderr",
     "output_type": "stream",
     "text": [
      "100%|██████████| 10/10 [00:03<00:00,  3.23it/s]\n"
     ]
    },
    {
     "name": "stdout",
     "output_type": "stream",
     "text": [
      "Layer: 36 | Accuracy: 0.0\n"
     ]
    },
    {
     "name": "stderr",
     "output_type": "stream",
     "text": [
      "100%|██████████| 10/10 [00:03<00:00,  3.23it/s]\n"
     ]
    },
    {
     "name": "stdout",
     "output_type": "stream",
     "text": [
      "Layer: 40 | Accuracy: 0.0\n"
     ]
    },
    {
     "name": "stderr",
     "output_type": "stream",
     "text": [
      "100%|██████████| 10/10 [00:03<00:00,  3.23it/s]\n"
     ]
    },
    {
     "name": "stdout",
     "output_type": "stream",
     "text": [
      "Layer: 50 | Accuracy: 0.0\n"
     ]
    },
    {
     "name": "stderr",
     "output_type": "stream",
     "text": [
      "100%|██████████| 10/10 [00:03<00:00,  3.23it/s]\n"
     ]
    },
    {
     "name": "stdout",
     "output_type": "stream",
     "text": [
      "Layer: 60 | Accuracy: 0.0\n"
     ]
    },
    {
     "name": "stderr",
     "output_type": "stream",
     "text": [
      "100%|██████████| 10/10 [00:03<00:00,  3.23it/s]"
     ]
    },
    {
     "name": "stdout",
     "output_type": "stream",
     "text": [
      "Layer: 70 | Accuracy: 0.0\n"
     ]
    },
    {
     "name": "stderr",
     "output_type": "stream",
     "text": [
      "\n"
     ]
    }
   ],
   "source": [
    "accs_query_object_oi = {}\n",
    "patch_layers = (\n",
    "    [i for i in range(0, 20, 10)]\n",
    "    + [i for i in range(16, 38, 2)]\n",
    "    + [i for i in range(40, model.config.num_hidden_layers, 10)]\n",
    ")\n",
    "\n",
    "for layer_idx in patch_layers:\n",
    "    correct, total = 0, 0\n",
    "    for bi, batch in tqdm(enumerate(dataloader), total=len(dataloader)):\n",
    "        if bi in errors:\n",
    "            continue\n",
    "        counterfactual_prompt = batch[\"counterfactual_prompt\"][0]\n",
    "        clean_prompt = batch[\"clean_prompt\"][0]\n",
    "        target = batch[\"target\"][0]\n",
    "\n",
    "        counterfactual_layer_out, clean_state_out = defaultdict(dict), defaultdict(dict)\n",
    "        with torch.no_grad():\n",
    "            with model.trace(remote=is_remote) as tracer:\n",
    "                with tracer.invoke(counterfactual_prompt):\n",
    "                    for token_idx in [-5, -4]:\n",
    "                        counterfactual_layer_out[token_idx] = model.model.layers[\n",
    "                            layer_idx\n",
    "                        ].output[0, token_idx].save()\n",
    "\n",
    "                with tracer.invoke(clean_prompt):\n",
    "                    for token_idx in [-5, -4]:\n",
    "                        model.model.layers[layer_idx].output[0, token_idx] = (\n",
    "                            counterfactual_layer_out[token_idx]\n",
    "                        )\n",
    "\n",
    "                    pred = model.lm_head.output[0, -1].argmax(dim=-1).save()\n",
    "\n",
    "        # print(f\"Pred: {model.tokenizer.decode([pred]).lower().strip()} | Target: {target}\")\n",
    "        if model.tokenizer.decode([pred]).lower().strip() == target.lower().strip():\n",
    "            correct += 1\n",
    "        total += 1\n",
    "\n",
    "        del counterfactual_layer_out, pred\n",
    "        torch.cuda.empty_cache()\n",
    "\n",
    "    acc = round(correct / total, 2)\n",
    "    print(f\"Layer: {layer_idx} | Accuracy: {acc}\")\n",
    "\n",
    "    accs_query_object_oi[layer_idx] = acc"
   ]
  },
  {
   "cell_type": "code",
   "execution_count": 26,
   "id": "bc56d831",
   "metadata": {},
   "outputs": [
    {
     "data": {
      "image/png": "[encoded data removed]",
      "text/plain": [
       "<Figure size 700x300 with 1 Axes>"
      ]
     },
     "metadata": {},
     "output_type": "display_data"
    }
   ],
   "source": [
    "# Visualize accs_binding_addr_and_payload as a line plot\n",
    "plt.figure(figsize=(7, 3))\n",
    "layers = list(accs_query_object_oi.keys())\n",
    "accuracies = list(accs_query_object_oi.values())\n",
    "\n",
    "plt.plot(layers, accuracies, marker=\"o\", linestyle=\"-\", linewidth=2)\n",
    "plt.xlabel(\"Layer\")\n",
    "plt.ylabel(\"IIA\")\n",
    "plt.title(\"Query Object OI IIA by Layer\")\n",
    "plt.grid(True, linestyle=\"--\", alpha=0.7)\n",
    "plt.xticks(layers)\n",
    "plt.ylim(0, 1.1)\n",
    "\n",
    "plt.tight_layout()\n",
    "plt.show()"
   ]
  }
 ],
 "metadata": {
  "kernelspec": {
   "display_name": ".venv",
   "language": "python",
   "name": "python3"
  },
  "language_info": {
   "codemirror_mode": {
    "name": "ipython",
    "version": 3
   },
   "file_extension": ".py",
   "mimetype": "text/x-python",
   "name": "python",
   "nbconvert_exporter": "python",
   "pygments_lexer": "ipython3",
   "version": "3.12.11"
  }
 },
 "nbformat": 4,
 "nbformat_minor": 5
}
