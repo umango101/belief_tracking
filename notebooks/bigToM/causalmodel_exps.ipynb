{
 "cells": [
  {
   "cell_type": "code",
   "execution_count": 1,
   "metadata": {},
   "outputs": [
    {
     "name": "stderr",
     "output_type": "stream",
     "text": [
      "/disk/u/nikhil/mind/.venv/lib/python3.12/site-packages/tqdm/auto.py:21: TqdmWarning: IProgress not found. Please update jupyter and ipywidgets. See https://ipywidgets.readthedocs.io/en/stable/user_install.html\n",
      "  from .autonotebook import tqdm as notebook_tqdm\n"
     ]
    }
   ],
   "source": [
    "import os\n",
    "import random\n",
    "import sys\n",
    "from collections import defaultdict\n",
    "\n",
    "import matplotlib.pyplot as plt\n",
    "import pandas as pd\n",
    "import torch\n",
    "from nnsight import CONFIG, LanguageModel\n",
    "from torch.utils.data import DataLoader\n",
    "from tqdm import tqdm\n",
    "from utils import (\n",
    "    get_answer_lookback_payload_exps,\n",
    "    get_answer_lookback_pointer_exps,\n",
    "    get_binding_lookback_pointer_exps,\n",
    "    get_prompt_token_len,\n",
    "    get_ques_start_token_idx,\n",
    "    get_visibility_lookback_exps,\n",
    "    get_visitibility_sent_start_idx,\n",
    ")\n",
    "\n",
    "current_dir = os.getcwd()\n",
    "sys.path.append(os.path.dirname(os.path.dirname(current_dir)))\n",
    "from src import global_utils\n",
    "\n",
    "device = torch.device(\"cuda\" if torch.cuda.is_available() else \"cpu\")\n",
    "random.seed(10)\n",
    "\n",
    "CONFIG.APP.REMOTE_LOGGING = True\n",
    "\n",
    "os.environ[\"NDIF_KEY\"] = global_utils.load_env_var(\"NDIF_KEY\")\n",
    "os.environ[\"HF_TOKEN\"] = global_utils.load_env_var(\"HF_WRITE\")"
   ]
  },
  {
   "cell_type": "markdown",
   "metadata": {},
   "source": [
    "# Loading model"
   ]
  },
  {
   "cell_type": "code",
   "execution_count": 2,
   "metadata": {},
   "outputs": [
    {
     "name": "stderr",
     "output_type": "stream",
     "text": [
      "Loading checkpoint shards: 100%|██████████| 30/30 [00:32<00:00,  1.08s/it]\n"
     ]
    }
   ],
   "source": [
    "is_remote = False\n",
    "\n",
    "if is_remote:\n",
    "    model = LanguageModel(\"meta-llama/Meta-Llama-3.1-405B-Instruct\")\n",
    "else:\n",
    "    model = LanguageModel(\n",
    "        \"meta-llama/Meta-Llama-3-70B-Instruct\",\n",
    "        device_map=\"auto\",\n",
    "        dtype=torch.float16,\n",
    "        dispatch=True,\n",
    "    )"
   ]
  },
  {
   "cell_type": "markdown",
   "metadata": {},
   "source": [
    "# Loading Raw BigToM data"
   ]
  },
  {
   "cell_type": "code",
   "execution_count": 3,
   "metadata": {},
   "outputs": [],
   "source": [
    "df_false = pd.read_csv(\n",
    "    os.path.join(\n",
    "        global_utils.DEFAULT_DATA_DIR,\n",
    "        \"bigtom\",\n",
    "        \"0_forward_belief_false_belief\",\n",
    "        \"stories.csv\",\n",
    "    ),\n",
    "    delimiter=\";\",\n",
    ")\n",
    "\n",
    "df_true = pd.read_csv(\n",
    "    os.path.join(\n",
    "        global_utils.DEFAULT_DATA_DIR,\n",
    "        \"bigtom\",\n",
    "        \"0_forward_belief_true_belief\",\n",
    "        \"stories.csv\",\n",
    "    ),\n",
    "    delimiter=\";\",\n",
    ")"
   ]
  },
  {
   "cell_type": "markdown",
   "metadata": {},
   "source": [
    "# Answer Lookback"
   ]
  },
  {
   "cell_type": "markdown",
   "metadata": {},
   "source": [
    "## Payload"
   ]
  },
  {
   "cell_type": "code",
   "execution_count": 4,
   "metadata": {},
   "outputs": [],
   "source": [
    "n_samples = 10\n",
    "batch_size = 1\n",
    "\n",
    "dataset = get_answer_lookback_payload_exps(df_false, df_true, n_samples)\n",
    "dataloader = DataLoader(dataset, batch_size=batch_size, shuffle=False)"
   ]
  },
  {
   "cell_type": "code",
   "execution_count": 5,
   "metadata": {},
   "outputs": [
    {
     "name": "stdout",
     "output_type": "stream",
     "text": [
      "COUNTERFACTUAL EXAMPLE\n",
      "=========================\n",
      "Instructions: 1. Track the belief of each character as described in the story. 2. A character's belief is formed only when they perform an action themselves or can observe the action taking place. 3. A character does not have any belief about the container or its content which they cannot observe directly. 4. To answer the question, predict only the final state of the queried container in fewest tokens possible, strictly based on the belief of the character, mentioned in the question. 5. Do not predict the entire sentence with character or container as the final output.\n",
      "\n",
      "Story: Amara is a botanist exploring a dense rainforest in search of a rare orchid species. Amara's goal is to find the rare orchid and study its unique characteristics. She spots an orchid with vibrant purple petals that she thinks might be the one she is searching for. As she continues to explore, a sudden downpour washes away the purple pigment from the orchid, revealing that it is actually a common white orchid. Amara witnesses the downpour and the color change in the orchid.\n",
      "Question: Does Amara believe the orchid with vibrant purple petals is the rare species or a common white orchid?\n",
      "Answer: is a common white orchid\n",
      "\n",
      "CLEAN EXAMPLE\n",
      "=========================\n",
      "Instructions: 1. Track the belief of each character as described in the story. 2. A character's belief is formed only when they perform an action themselves or can observe the action taking place. 3. A character does not have any belief about the container or its content which they cannot observe directly. 4. To answer the question, predict only the final state of the queried container in fewest tokens possible, strictly based on the belief of the character, mentioned in the question. 5. Do not predict the entire sentence with character or container as the final output.\n",
      "\n",
      "Story: Noor is working as a barista at a busy coffee shop. Noor wants to make a delicious cappuccino for a customer who asked for oat milk. Noor grabs a milk pitcher and fills it with oat milk. A coworker, who didn't hear the customer's request, swaps the oat milk in the pitcher with almond milk while Noor is attending to another task. Noor sees her coworker swapping the milk.\n",
      "Question: Does Noor believe the milk pitcher contains oat milk or almond milk?\n",
      "Answer: almond milk\n",
      "\n",
      "Target: is a common white orchid\n"
     ]
    }
   ],
   "source": [
    "idx = 0\n",
    "print(\"COUNTERFACTUAL EXAMPLE\")\n",
    "print(\"=\" * 25)\n",
    "print(dataset[idx][\"counterfactual_prompt\"], dataset[idx][\"counterfactual_ans\"])\n",
    "print()\n",
    "\n",
    "print(\"CLEAN EXAMPLE\")\n",
    "print(\"=\" * 25)\n",
    "print(dataset[idx][\"clean_prompt\"], dataset[idx][\"clean_ans\"])\n",
    "print(f\"\\nTarget: {dataset[idx]['target']}\")"
   ]
  },
  {
   "cell_type": "code",
   "execution_count": 7,
   "metadata": {},
   "outputs": [
    {
     "name": "stderr",
     "output_type": "stream",
     "text": [
      "100%|██████████| 10/10 [00:05<00:00,  1.73it/s]\n"
     ]
    },
    {
     "name": "stdout",
     "output_type": "stream",
     "text": [
      "Layer: 0 | Accuracy: 0.0\n"
     ]
    },
    {
     "name": "stderr",
     "output_type": "stream",
     "text": [
      "100%|██████████| 10/10 [00:05<00:00,  1.73it/s]\n"
     ]
    },
    {
     "name": "stdout",
     "output_type": "stream",
     "text": [
      "Layer: 10 | Accuracy: 0.0\n"
     ]
    },
    {
     "name": "stderr",
     "output_type": "stream",
     "text": [
      "100%|██████████| 10/10 [00:05<00:00,  1.73it/s]\n"
     ]
    },
    {
     "name": "stdout",
     "output_type": "stream",
     "text": [
      "Layer: 20 | Accuracy: 0.0\n"
     ]
    },
    {
     "name": "stderr",
     "output_type": "stream",
     "text": [
      "100%|██████████| 10/10 [00:05<00:00,  1.73it/s]\n"
     ]
    },
    {
     "name": "stdout",
     "output_type": "stream",
     "text": [
      "Layer: 30 | Accuracy: 0.0\n"
     ]
    },
    {
     "name": "stderr",
     "output_type": "stream",
     "text": [
      "100%|██████████| 10/10 [00:05<00:00,  1.73it/s]\n"
     ]
    },
    {
     "name": "stdout",
     "output_type": "stream",
     "text": [
      "Layer: 40 | Accuracy: 0.0\n"
     ]
    },
    {
     "name": "stderr",
     "output_type": "stream",
     "text": [
      "100%|██████████| 10/10 [00:05<00:00,  1.73it/s]\n"
     ]
    },
    {
     "name": "stdout",
     "output_type": "stream",
     "text": [
      "Layer: 50 | Accuracy: 0.0\n"
     ]
    },
    {
     "name": "stderr",
     "output_type": "stream",
     "text": [
      "100%|██████████| 10/10 [00:05<00:00,  1.73it/s]\n"
     ]
    },
    {
     "name": "stdout",
     "output_type": "stream",
     "text": [
      "Layer: 51 | Accuracy: 0.0\n"
     ]
    },
    {
     "name": "stderr",
     "output_type": "stream",
     "text": [
      "100%|██████████| 10/10 [00:05<00:00,  1.73it/s]\n"
     ]
    },
    {
     "name": "stdout",
     "output_type": "stream",
     "text": [
      "Layer: 52 | Accuracy: 0.0\n"
     ]
    },
    {
     "name": "stderr",
     "output_type": "stream",
     "text": [
      "100%|██████████| 10/10 [00:05<00:00,  1.73it/s]\n"
     ]
    },
    {
     "name": "stdout",
     "output_type": "stream",
     "text": [
      "Layer: 53 | Accuracy: 0.1\n"
     ]
    },
    {
     "name": "stderr",
     "output_type": "stream",
     "text": [
      "100%|██████████| 10/10 [00:05<00:00,  1.73it/s]\n"
     ]
    },
    {
     "name": "stdout",
     "output_type": "stream",
     "text": [
      "Layer: 54 | Accuracy: 0.3\n"
     ]
    },
    {
     "name": "stderr",
     "output_type": "stream",
     "text": [
      "100%|██████████| 10/10 [00:05<00:00,  1.73it/s]\n"
     ]
    },
    {
     "name": "stdout",
     "output_type": "stream",
     "text": [
      "Layer: 55 | Accuracy: 0.3\n"
     ]
    },
    {
     "name": "stderr",
     "output_type": "stream",
     "text": [
      "100%|██████████| 10/10 [00:05<00:00,  1.73it/s]\n"
     ]
    },
    {
     "name": "stdout",
     "output_type": "stream",
     "text": [
      "Layer: 56 | Accuracy: 0.6\n"
     ]
    },
    {
     "name": "stderr",
     "output_type": "stream",
     "text": [
      "100%|██████████| 10/10 [00:05<00:00,  1.73it/s]\n"
     ]
    },
    {
     "name": "stdout",
     "output_type": "stream",
     "text": [
      "Layer: 57 | Accuracy: 0.7\n"
     ]
    },
    {
     "name": "stderr",
     "output_type": "stream",
     "text": [
      "100%|██████████| 10/10 [00:05<00:00,  1.72it/s]\n"
     ]
    },
    {
     "name": "stdout",
     "output_type": "stream",
     "text": [
      "Layer: 58 | Accuracy: 0.7\n"
     ]
    },
    {
     "name": "stderr",
     "output_type": "stream",
     "text": [
      "100%|██████████| 10/10 [00:05<00:00,  1.73it/s]\n"
     ]
    },
    {
     "name": "stdout",
     "output_type": "stream",
     "text": [
      "Layer: 59 | Accuracy: 0.7\n"
     ]
    },
    {
     "name": "stderr",
     "output_type": "stream",
     "text": [
      "100%|██████████| 10/10 [00:05<00:00,  1.73it/s]\n"
     ]
    },
    {
     "name": "stdout",
     "output_type": "stream",
     "text": [
      "Layer: 60 | Accuracy: 0.9\n"
     ]
    },
    {
     "name": "stderr",
     "output_type": "stream",
     "text": [
      "100%|██████████| 10/10 [00:05<00:00,  1.73it/s]\n"
     ]
    },
    {
     "name": "stdout",
     "output_type": "stream",
     "text": [
      "Layer: 61 | Accuracy: 1.0\n"
     ]
    },
    {
     "name": "stderr",
     "output_type": "stream",
     "text": [
      "100%|██████████| 10/10 [00:05<00:00,  1.73it/s]\n"
     ]
    },
    {
     "name": "stdout",
     "output_type": "stream",
     "text": [
      "Layer: 62 | Accuracy: 1.0\n"
     ]
    },
    {
     "name": "stderr",
     "output_type": "stream",
     "text": [
      "100%|██████████| 10/10 [00:05<00:00,  1.73it/s]\n"
     ]
    },
    {
     "name": "stdout",
     "output_type": "stream",
     "text": [
      "Layer: 63 | Accuracy: 1.0\n"
     ]
    },
    {
     "name": "stderr",
     "output_type": "stream",
     "text": [
      "100%|██████████| 10/10 [00:05<00:00,  1.73it/s]\n"
     ]
    },
    {
     "name": "stdout",
     "output_type": "stream",
     "text": [
      "Layer: 64 | Accuracy: 1.0\n"
     ]
    },
    {
     "name": "stderr",
     "output_type": "stream",
     "text": [
      "100%|██████████| 10/10 [00:05<00:00,  1.73it/s]\n"
     ]
    },
    {
     "name": "stdout",
     "output_type": "stream",
     "text": [
      "Layer: 65 | Accuracy: 1.0\n"
     ]
    },
    {
     "name": "stderr",
     "output_type": "stream",
     "text": [
      "100%|██████████| 10/10 [00:05<00:00,  1.73it/s]\n"
     ]
    },
    {
     "name": "stdout",
     "output_type": "stream",
     "text": [
      "Layer: 66 | Accuracy: 1.0\n"
     ]
    },
    {
     "name": "stderr",
     "output_type": "stream",
     "text": [
      "100%|██████████| 10/10 [00:05<00:00,  1.73it/s]\n"
     ]
    },
    {
     "name": "stdout",
     "output_type": "stream",
     "text": [
      "Layer: 67 | Accuracy: 1.0\n"
     ]
    },
    {
     "name": "stderr",
     "output_type": "stream",
     "text": [
      "100%|██████████| 10/10 [00:05<00:00,  1.73it/s]\n"
     ]
    },
    {
     "name": "stdout",
     "output_type": "stream",
     "text": [
      "Layer: 68 | Accuracy: 1.0\n"
     ]
    },
    {
     "name": "stderr",
     "output_type": "stream",
     "text": [
      "100%|██████████| 10/10 [00:05<00:00,  1.73it/s]\n"
     ]
    },
    {
     "name": "stdout",
     "output_type": "stream",
     "text": [
      "Layer: 69 | Accuracy: 1.0\n"
     ]
    },
    {
     "name": "stderr",
     "output_type": "stream",
     "text": [
      "100%|██████████| 10/10 [00:05<00:00,  1.73it/s]\n"
     ]
    },
    {
     "name": "stdout",
     "output_type": "stream",
     "text": [
      "Layer: 70 | Accuracy: 1.0\n"
     ]
    },
    {
     "name": "stderr",
     "output_type": "stream",
     "text": [
      "100%|██████████| 10/10 [00:05<00:00,  1.73it/s]\n"
     ]
    },
    {
     "name": "stdout",
     "output_type": "stream",
     "text": [
      "Layer: 71 | Accuracy: 1.0\n"
     ]
    },
    {
     "name": "stderr",
     "output_type": "stream",
     "text": [
      "100%|██████████| 10/10 [00:05<00:00,  1.73it/s]\n"
     ]
    },
    {
     "name": "stdout",
     "output_type": "stream",
     "text": [
      "Layer: 72 | Accuracy: 0.9\n"
     ]
    },
    {
     "name": "stderr",
     "output_type": "stream",
     "text": [
      "100%|██████████| 10/10 [00:05<00:00,  1.73it/s]\n"
     ]
    },
    {
     "name": "stdout",
     "output_type": "stream",
     "text": [
      "Layer: 73 | Accuracy: 0.9\n"
     ]
    },
    {
     "name": "stderr",
     "output_type": "stream",
     "text": [
      "100%|██████████| 10/10 [00:05<00:00,  1.73it/s]\n"
     ]
    },
    {
     "name": "stdout",
     "output_type": "stream",
     "text": [
      "Layer: 74 | Accuracy: 0.9\n"
     ]
    },
    {
     "name": "stderr",
     "output_type": "stream",
     "text": [
      "100%|██████████| 10/10 [00:05<00:00,  1.73it/s]\n"
     ]
    },
    {
     "name": "stdout",
     "output_type": "stream",
     "text": [
      "Layer: 75 | Accuracy: 0.9\n"
     ]
    },
    {
     "name": "stderr",
     "output_type": "stream",
     "text": [
      "100%|██████████| 10/10 [00:05<00:00,  1.72it/s]\n"
     ]
    },
    {
     "name": "stdout",
     "output_type": "stream",
     "text": [
      "Layer: 76 | Accuracy: 0.9\n"
     ]
    },
    {
     "name": "stderr",
     "output_type": "stream",
     "text": [
      "100%|██████████| 10/10 [00:05<00:00,  1.73it/s]\n"
     ]
    },
    {
     "name": "stdout",
     "output_type": "stream",
     "text": [
      "Layer: 77 | Accuracy: 0.9\n"
     ]
    },
    {
     "name": "stderr",
     "output_type": "stream",
     "text": [
      "100%|██████████| 10/10 [00:05<00:00,  1.73it/s]\n"
     ]
    },
    {
     "name": "stdout",
     "output_type": "stream",
     "text": [
      "Layer: 78 | Accuracy: 0.9\n"
     ]
    },
    {
     "name": "stderr",
     "output_type": "stream",
     "text": [
      "100%|██████████| 10/10 [00:05<00:00,  1.73it/s]"
     ]
    },
    {
     "name": "stdout",
     "output_type": "stream",
     "text": [
      "Layer: 79 | Accuracy: 0.9\n"
     ]
    },
    {
     "name": "stderr",
     "output_type": "stream",
     "text": [
      "\n"
     ]
    }
   ],
   "source": [
    "accs_answer_lookback_payload = {}\n",
    "patch_layers = [i for i in range(0, 60, 10)] + [\n",
    "    i for i in range(51, model.config.num_hidden_layers, 1)\n",
    "]\n",
    "\n",
    "for layer_idx in patch_layers:\n",
    "    correct, total = 0, 0\n",
    "\n",
    "    for bi, batch in tqdm(enumerate(dataloader), total=len(dataloader)):\n",
    "        clean_prompt = batch[\"clean_prompt\"][0]\n",
    "        clean_ans = batch[\"clean_ans\"][0]\n",
    "        counterfactual_prompt = batch[\"counterfactual_prompt\"][0]\n",
    "        counterfactual_ans = batch[\"counterfactual_ans\"][0]\n",
    "        target = batch[\"target\"][0]\n",
    "\n",
    "        clean_prompt_len = get_prompt_token_len(model.tokenizer, clean_prompt)\n",
    "        counterfactual_prompt_len = get_prompt_token_len(\n",
    "            model.tokenizer, counterfactual_prompt\n",
    "        )\n",
    "\n",
    "        with torch.no_grad():\n",
    "            with model.session() as session:\n",
    "                with model.trace(counterfactual_prompt, remote=is_remote):\n",
    "                    counterfactual_layer_out = (\n",
    "                        model.model.layers[layer_idx].output[0, -1].save()\n",
    "                    )\n",
    "\n",
    "                with model.generate(\n",
    "                    clean_prompt,\n",
    "                    max_new_tokens=2,\n",
    "                    do_sample=False,\n",
    "                    num_return_sequences=1,\n",
    "                    pad_token_id=model.tokenizer.pad_token_id,\n",
    "                    eos_token_id=model.tokenizer.eos_token_id,\n",
    "                    remote=is_remote,\n",
    "                ):\n",
    "                    model.model.layers[layer_idx].output[0, -1] = (\n",
    "                        counterfactual_layer_out\n",
    "                    )\n",
    "\n",
    "                    out = model.generator.output.save()\n",
    "\n",
    "                del counterfactual_layer_out\n",
    "                torch.cuda.empty_cache()\n",
    "\n",
    "            pred = model.tokenizer.decode(out[0][clean_prompt_len:-1]).strip()\n",
    "            # print(f\"Prediction: {pred} | Target: {target}\")\n",
    "            if pred in target:\n",
    "                correct += 1\n",
    "            total += 1\n",
    "\n",
    "    acc = round(correct / total, 2)\n",
    "    print(f\"Layer: {layer_idx} | Accuracy: {acc}\")\n",
    "\n",
    "    accs_answer_lookback_payload[layer_idx] = acc"
   ]
  },
  {
   "cell_type": "code",
   "execution_count": 8,
   "metadata": {},
   "outputs": [
    {
     "data": {
      "image/png": "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",
      "text/plain": [
       "<Figure size 700x300 with 1 Axes>"
      ]
     },
     "metadata": {},
     "output_type": "display_data"
    }
   ],
   "source": [
    "# Visualize accs_answer_lookback_payload as a line plot\n",
    "plt.figure(figsize=(7, 3))\n",
    "layers = list(accs_answer_lookback_payload.keys())\n",
    "accuracies = list(accs_answer_lookback_payload.values())\n",
    "\n",
    "plt.plot(layers, accuracies, marker=\"o\", linestyle=\"-\", linewidth=2)\n",
    "plt.xlabel(\"Layer\")\n",
    "plt.ylabel(\"IIA\")\n",
    "plt.title(\"Answer Lookback Payload IIA by Layer\")\n",
    "plt.grid(True, linestyle=\"--\", alpha=0.7)\n",
    "plt.xticks(layers)\n",
    "plt.ylim(0, 1.1)\n",
    "\n",
    "plt.tight_layout()\n",
    "plt.show()"
   ]
  },
  {
   "cell_type": "markdown",
   "metadata": {},
   "source": [
    "## Pointer"
   ]
  },
  {
   "cell_type": "code",
   "execution_count": 5,
   "metadata": {},
   "outputs": [],
   "source": [
    "n_samples = 10\n",
    "batch_size = 1\n",
    "\n",
    "dataset = get_answer_lookback_pointer_exps(df_false, df_true, n_samples)\n",
    "dataloader = DataLoader(dataset, batch_size=batch_size, shuffle=False)"
   ]
  },
  {
   "cell_type": "code",
   "execution_count": 6,
   "metadata": {},
   "outputs": [
    {
     "name": "stdout",
     "output_type": "stream",
     "text": [
      "COUNTERFACTUAL EXAMPLE\n",
      "=========================\n",
      "Instructions: 1. Track the belief of each character as described in the story. 2. A character's belief is formed only when they perform an action themselves or can observe the action taking place. 3. A character does not have any belief about the container or its content which they cannot observe directly. 4. To answer the question, predict only the final state of the queried container in fewest tokens possible, strictly based on the belief of the character, mentioned in the question. 5. Do not predict the entire sentence with character or container as the final output.\n",
      "\n",
      "Story: Amara is a botanist exploring a dense rainforest in search of a rare orchid species. Amara's goal is to find the rare orchid and study its unique characteristics. She spots an orchid with vibrant purple petals that she thinks might be the one she is searching for. As she continues to explore, a sudden downpour washes away the purple pigment from the orchid, revealing that it is actually a common white orchid. Amara does not witness the downpour and the color change in the orchid.\n",
      "Question: Does Amara believe the orchid with vibrant purple petals is the rare species or a common white orchid?\n",
      "Answer: with vibrant purple petals is the rare species\n",
      "\n",
      "CLEAN EXAMPLE\n",
      "=========================\n",
      "Instructions: 1. Track the belief of each character as described in the story. 2. A character's belief is formed only when they perform an action themselves or can observe the action taking place. 3. A character does not have any belief about the container or its content which they cannot observe directly. 4. To answer the question, predict only the final state of the queried container in fewest tokens possible, strictly based on the belief of the character, mentioned in the question. 5. Do not predict the entire sentence with character or container as the final output.\n",
      "\n",
      "Story: Noor is working as a barista at a busy coffee shop. Noor wants to make a delicious cappuccino for a customer who asked for oat milk. Noor grabs a milk pitcher and fills it with oat milk. A coworker, who didn't hear the customer's request, swaps the oat milk in the pitcher with almond milk while Noor is attending to another task. Noor sees her coworker swapping the milk.\n",
      "Question: Does Noor believe the milk pitcher contains oat milk or almond milk?\n",
      "Answer: almond milk\n",
      "\n",
      "Target: oat milk\n"
     ]
    }
   ],
   "source": [
    "idx = 0\n",
    "print(\"COUNTERFACTUAL EXAMPLE\")\n",
    "print(\"=\" * 25)\n",
    "print(dataset[idx][\"counterfactual_prompt\"], dataset[idx][\"counterfactual_ans\"])\n",
    "print()\n",
    "\n",
    "print(\"CLEAN EXAMPLE\")\n",
    "print(\"=\" * 25)\n",
    "print(dataset[idx][\"clean_prompt\"], dataset[idx][\"clean_ans\"])\n",
    "print(f\"\\nTarget: {dataset[idx]['target']}\")"
   ]
  },
  {
   "cell_type": "code",
   "execution_count": 7,
   "metadata": {},
   "outputs": [
    {
     "name": "stderr",
     "output_type": "stream",
     "text": [
      "  0%|          | 0/10 [00:00<?, ?it/s]The following generation flags are not valid and may be ignored: ['temperature', 'top_p']. Set `TRANSFORMERS_VERBOSITY=info` for more details.\n",
      "100%|██████████| 10/10 [00:06<00:00,  1.58it/s]\n"
     ]
    },
    {
     "name": "stdout",
     "output_type": "stream",
     "text": [
      "Layer: 20 | Accuracy: 0.0\n"
     ]
    },
    {
     "name": "stderr",
     "output_type": "stream",
     "text": [
      "100%|██████████| 10/10 [00:05<00:00,  1.73it/s]\n"
     ]
    },
    {
     "name": "stdout",
     "output_type": "stream",
     "text": [
      "Layer: 22 | Accuracy: 0.0\n"
     ]
    },
    {
     "name": "stderr",
     "output_type": "stream",
     "text": [
      "100%|██████████| 10/10 [00:05<00:00,  1.73it/s]\n"
     ]
    },
    {
     "name": "stdout",
     "output_type": "stream",
     "text": [
      "Layer: 24 | Accuracy: 0.0\n"
     ]
    },
    {
     "name": "stderr",
     "output_type": "stream",
     "text": [
      "100%|██████████| 10/10 [00:05<00:00,  1.73it/s]\n"
     ]
    },
    {
     "name": "stdout",
     "output_type": "stream",
     "text": [
      "Layer: 26 | Accuracy: 0.0\n"
     ]
    },
    {
     "name": "stderr",
     "output_type": "stream",
     "text": [
      "100%|██████████| 10/10 [00:05<00:00,  1.73it/s]\n"
     ]
    },
    {
     "name": "stdout",
     "output_type": "stream",
     "text": [
      "Layer: 28 | Accuracy: 0.0\n"
     ]
    },
    {
     "name": "stderr",
     "output_type": "stream",
     "text": [
      "100%|██████████| 10/10 [00:05<00:00,  1.73it/s]\n"
     ]
    },
    {
     "name": "stdout",
     "output_type": "stream",
     "text": [
      "Layer: 30 | Accuracy: 0.3\n"
     ]
    },
    {
     "name": "stderr",
     "output_type": "stream",
     "text": [
      "100%|██████████| 10/10 [00:05<00:00,  1.73it/s]\n"
     ]
    },
    {
     "name": "stdout",
     "output_type": "stream",
     "text": [
      "Layer: 32 | Accuracy: 0.8\n"
     ]
    },
    {
     "name": "stderr",
     "output_type": "stream",
     "text": [
      "100%|██████████| 10/10 [00:05<00:00,  1.73it/s]\n"
     ]
    },
    {
     "name": "stdout",
     "output_type": "stream",
     "text": [
      "Layer: 34 | Accuracy: 0.9\n"
     ]
    },
    {
     "name": "stderr",
     "output_type": "stream",
     "text": [
      "100%|██████████| 10/10 [00:05<00:00,  1.73it/s]\n"
     ]
    },
    {
     "name": "stdout",
     "output_type": "stream",
     "text": [
      "Layer: 36 | Accuracy: 0.9\n"
     ]
    },
    {
     "name": "stderr",
     "output_type": "stream",
     "text": [
      "100%|██████████| 10/10 [00:05<00:00,  1.73it/s]\n"
     ]
    },
    {
     "name": "stdout",
     "output_type": "stream",
     "text": [
      "Layer: 38 | Accuracy: 0.8\n"
     ]
    },
    {
     "name": "stderr",
     "output_type": "stream",
     "text": [
      "100%|██████████| 10/10 [00:05<00:00,  1.73it/s]\n"
     ]
    },
    {
     "name": "stdout",
     "output_type": "stream",
     "text": [
      "Layer: 40 | Accuracy: 0.7\n"
     ]
    },
    {
     "name": "stderr",
     "output_type": "stream",
     "text": [
      "100%|██████████| 10/10 [00:05<00:00,  1.73it/s]\n"
     ]
    },
    {
     "name": "stdout",
     "output_type": "stream",
     "text": [
      "Layer: 42 | Accuracy: 0.7\n"
     ]
    },
    {
     "name": "stderr",
     "output_type": "stream",
     "text": [
      "100%|██████████| 10/10 [00:05<00:00,  1.73it/s]\n"
     ]
    },
    {
     "name": "stdout",
     "output_type": "stream",
     "text": [
      "Layer: 44 | Accuracy: 0.7\n"
     ]
    },
    {
     "name": "stderr",
     "output_type": "stream",
     "text": [
      "100%|██████████| 10/10 [00:05<00:00,  1.73it/s]\n"
     ]
    },
    {
     "name": "stdout",
     "output_type": "stream",
     "text": [
      "Layer: 46 | Accuracy: 0.7\n"
     ]
    },
    {
     "name": "stderr",
     "output_type": "stream",
     "text": [
      "100%|██████████| 10/10 [00:05<00:00,  1.73it/s]\n"
     ]
    },
    {
     "name": "stdout",
     "output_type": "stream",
     "text": [
      "Layer: 48 | Accuracy: 0.7\n"
     ]
    },
    {
     "name": "stderr",
     "output_type": "stream",
     "text": [
      "100%|██████████| 10/10 [00:05<00:00,  1.73it/s]\n"
     ]
    },
    {
     "name": "stdout",
     "output_type": "stream",
     "text": [
      "Layer: 50 | Accuracy: 0.7\n"
     ]
    },
    {
     "name": "stderr",
     "output_type": "stream",
     "text": [
      "100%|██████████| 10/10 [00:05<00:00,  1.73it/s]\n"
     ]
    },
    {
     "name": "stdout",
     "output_type": "stream",
     "text": [
      "Layer: 52 | Accuracy: 0.6\n"
     ]
    },
    {
     "name": "stderr",
     "output_type": "stream",
     "text": [
      "100%|██████████| 10/10 [00:05<00:00,  1.73it/s]\n"
     ]
    },
    {
     "name": "stdout",
     "output_type": "stream",
     "text": [
      "Layer: 54 | Accuracy: 0.0\n"
     ]
    },
    {
     "name": "stderr",
     "output_type": "stream",
     "text": [
      "100%|██████████| 10/10 [00:05<00:00,  1.73it/s]\n"
     ]
    },
    {
     "name": "stdout",
     "output_type": "stream",
     "text": [
      "Layer: 56 | Accuracy: 0.0\n"
     ]
    },
    {
     "name": "stderr",
     "output_type": "stream",
     "text": [
      "100%|██████████| 10/10 [00:05<00:00,  1.73it/s]\n"
     ]
    },
    {
     "name": "stdout",
     "output_type": "stream",
     "text": [
      "Layer: 58 | Accuracy: 0.0\n"
     ]
    },
    {
     "name": "stderr",
     "output_type": "stream",
     "text": [
      "100%|██████████| 10/10 [00:05<00:00,  1.73it/s]\n"
     ]
    },
    {
     "name": "stdout",
     "output_type": "stream",
     "text": [
      "Layer: 60 | Accuracy: 0.0\n"
     ]
    },
    {
     "name": "stderr",
     "output_type": "stream",
     "text": [
      "100%|██████████| 10/10 [00:05<00:00,  1.73it/s]\n"
     ]
    },
    {
     "name": "stdout",
     "output_type": "stream",
     "text": [
      "Layer: 62 | Accuracy: 0.0\n"
     ]
    },
    {
     "name": "stderr",
     "output_type": "stream",
     "text": [
      "100%|██████████| 10/10 [00:05<00:00,  1.73it/s]\n"
     ]
    },
    {
     "name": "stdout",
     "output_type": "stream",
     "text": [
      "Layer: 64 | Accuracy: 0.0\n"
     ]
    },
    {
     "name": "stderr",
     "output_type": "stream",
     "text": [
      "100%|██████████| 10/10 [00:05<00:00,  1.73it/s]\n"
     ]
    },
    {
     "name": "stdout",
     "output_type": "stream",
     "text": [
      "Layer: 66 | Accuracy: 0.0\n"
     ]
    },
    {
     "name": "stderr",
     "output_type": "stream",
     "text": [
      "100%|██████████| 10/10 [00:05<00:00,  1.73it/s]\n"
     ]
    },
    {
     "name": "stdout",
     "output_type": "stream",
     "text": [
      "Layer: 68 | Accuracy: 0.0\n"
     ]
    },
    {
     "name": "stderr",
     "output_type": "stream",
     "text": [
      "100%|██████████| 10/10 [00:05<00:00,  1.73it/s]"
     ]
    },
    {
     "name": "stdout",
     "output_type": "stream",
     "text": [
      "Layer: 70 | Accuracy: 0.0\n"
     ]
    },
    {
     "name": "stderr",
     "output_type": "stream",
     "text": [
      "\n"
     ]
    }
   ],
   "source": [
    "accs_answer_lookback_pointer = {}\n",
    "patch_layers = [i for i in range(20, 70, 2)] + [\n",
    "    i for i in range(70, model.config.num_hidden_layers, 10)\n",
    "]\n",
    "\n",
    "for layer_idx in patch_layers:\n",
    "    correct, total = 0, 0\n",
    "\n",
    "    for bi, batch in tqdm(enumerate(dataloader), total=len(dataloader)):\n",
    "        clean_prompt = batch[\"clean_prompt\"][0]\n",
    "        clean_ans = batch[\"clean_ans\"][0]\n",
    "        counterfactual_prompt = batch[\"counterfactual_prompt\"][0]\n",
    "        counterfactual_ans = batch[\"counterfactual_ans\"][0]\n",
    "        target = batch[\"target\"][0]\n",
    "\n",
    "        clean_prompt_len = get_prompt_token_len(model.tokenizer, clean_prompt)\n",
    "        counterfactual_prompt_len = get_prompt_token_len(\n",
    "            model.tokenizer, counterfactual_prompt\n",
    "        )\n",
    "\n",
    "        with torch.no_grad():\n",
    "            with model.session() as session:\n",
    "                with model.trace(counterfactual_prompt, remote=is_remote):\n",
    "                    counterfactual_layer_out = (\n",
    "                        model.model.layers[layer_idx].output[0, -1].save()\n",
    "                    )\n",
    "\n",
    "                with model.generate(\n",
    "                    clean_prompt,\n",
    "                    max_new_tokens=2,\n",
    "                    do_sample=False,\n",
    "                    num_return_sequences=1,\n",
    "                    pad_token_id=model.tokenizer.pad_token_id,\n",
    "                    eos_token_id=model.tokenizer.eos_token_id,\n",
    "                    remote=is_remote,\n",
    "                ):\n",
    "                    model.model.layers[layer_idx].output[0, -1] = (\n",
    "                        counterfactual_layer_out\n",
    "                    )\n",
    "\n",
    "                    out = model.generator.output.save()\n",
    "\n",
    "                del counterfactual_layer_out\n",
    "                torch.cuda.empty_cache()\n",
    "\n",
    "            pred = model.tokenizer.decode(out[0][clean_prompt_len:-1]).strip()\n",
    "            # print(f\"Pred: {pred} | Target: {target}\")\n",
    "            if pred in target:\n",
    "                correct += 1\n",
    "            total += 1\n",
    "\n",
    "    acc = round(correct / total, 2)\n",
    "    print(f\"Layer: {layer_idx} | Accuracy: {acc}\")\n",
    "\n",
    "    accs_answer_lookback_pointer[layer_idx] = acc"
   ]
  },
  {
   "cell_type": "code",
   "execution_count": 8,
   "metadata": {},
   "outputs": [
    {
     "data": {
      "image/png": "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",
      "text/plain": [
       "<Figure size 700x300 with 1 Axes>"
      ]
     },
     "metadata": {},
     "output_type": "display_data"
    }
   ],
   "source": [
    "# Visualize accs_answer_lookback_pointer as a line plot\n",
    "plt.figure(figsize=(7, 3))\n",
    "layers = list(accs_answer_lookback_pointer.keys())\n",
    "accuracies = list(accs_answer_lookback_pointer.values())\n",
    "\n",
    "plt.plot(layers, accuracies, marker=\"o\", linestyle=\"-\", linewidth=2)\n",
    "plt.xlabel(\"Layer\")\n",
    "plt.ylabel(\"IIA\")\n",
    "plt.title(\"Answer Lookback Pointer IIA by Layer\")\n",
    "plt.grid(True, linestyle=\"--\", alpha=0.7)\n",
    "plt.xticks(layers)\n",
    "plt.ylim(0, 1.1)\n",
    "\n",
    "plt.tight_layout()\n",
    "plt.show()"
   ]
  },
  {
   "cell_type": "markdown",
   "metadata": {},
   "source": [
    "# Binding Lookback"
   ]
  },
  {
   "cell_type": "markdown",
   "metadata": {},
   "source": [
    "## Pointer (Query Character)"
   ]
  },
  {
   "cell_type": "code",
   "execution_count": 4,
   "metadata": {},
   "outputs": [],
   "source": [
    "n_samples = 10\n",
    "batch_size = 1\n",
    "\n",
    "dataset = get_binding_lookback_pointer_exps(df_false, df_true, n_samples)\n",
    "dataloader = DataLoader(dataset, batch_size=batch_size, shuffle=False)"
   ]
  },
  {
   "cell_type": "code",
   "execution_count": 7,
   "metadata": {},
   "outputs": [
    {
     "name": "stdout",
     "output_type": "stream",
     "text": [
      "COUNTERFACTUAL EXAMPLE\n",
      "=========================\n",
      "Instructions: 1. Track the belief of each character as described in the story. 2. A character's belief is formed only when they perform an action themselves or can observe the action taking place. 3. A character does not have any belief about the container or its content which they cannot observe directly. 4. To answer the question, predict only the final state of the queried container in fewest tokens possible, strictly based on the belief of the character, mentioned in the question. 5. Do not predict the entire sentence with character or container as the final output.\n",
      "\n",
      "Story: Noor is working as a barista at a busy coffee shop. Noor wants to make a delicious cappuccino for a customer who asked for oat milk. Noor grabs a milk pitcher and fills it with oat milk. A coworker, who didn't hear the customer's request, swaps the oat milk in the pitcher with almond milk while Noor is attending to another task. Noor sees her coworker swapping the milk.\n",
      "Question: Does Noor believe the milk pitcher contains oat milk or almond milk?\n",
      "Answer: almond milk\n",
      "\n",
      "CLEAN EXAMPLE\n",
      "=========================\n",
      "Instructions: 1. Track the belief of each character as described in the story. 2. A character's belief is formed only when they perform an action themselves or can observe the action taking place. 3. A character does not have any belief about the container or its content which they cannot observe directly. 4. To answer the question, predict only the final state of the queried container in fewest tokens possible, strictly based on the belief of the character, mentioned in the question. 5. Do not predict the entire sentence with character or container as the final output.\n",
      "\n",
      "Story: Amara is a botanist exploring a dense rainforest in search of a rare orchid species. Amara's goal is to find the rare orchid and study its unique characteristics. She spots an orchid with vibrant purple petals that she thinks might be the one she is searching for. As she continues to explore, a sudden downpour washes away the purple pigment from the orchid, revealing that it is actually a common white orchid. Amara witnesses the downpour and the color change in the orchid.\n",
      "Question: Does Noor believe the orchid with vibrant purple petals is the rare species or a common white orchid?\n",
      "Answer: unknown\n",
      "\n",
      "Target: is a common white orchid\n"
     ]
    }
   ],
   "source": [
    "idx = 0\n",
    "print(\"COUNTERFACTUAL EXAMPLE\")\n",
    "print(\"=\" * 25)\n",
    "print(dataset[idx][\"counterfactual_prompt\"], dataset[idx][\"counterfactual_ans\"])\n",
    "print()\n",
    "\n",
    "print(\"CLEAN EXAMPLE\")\n",
    "print(\"=\" * 25)\n",
    "print(dataset[idx][\"clean_prompt\"], dataset[idx][\"clean_ans\"])\n",
    "print(f\"\\nTarget: {dataset[idx]['target']}\")"
   ]
  },
  {
   "cell_type": "code",
   "execution_count": 8,
   "metadata": {},
   "outputs": [
    {
     "name": "stderr",
     "output_type": "stream",
     "text": [
      "  0%|          | 0/10 [00:00<?, ?it/s]The following generation flags are not valid and may be ignored: ['temperature', 'top_p']. Set `TRANSFORMERS_VERBOSITY=info` for more details.\n",
      "100%|██████████| 10/10 [00:06<00:00,  1.56it/s]\n"
     ]
    },
    {
     "name": "stdout",
     "output_type": "stream",
     "text": [
      "Layer: 0 | Accuracy: 0.1\n"
     ]
    },
    {
     "name": "stderr",
     "output_type": "stream",
     "text": [
      "100%|██████████| 10/10 [00:05<00:00,  1.73it/s]\n"
     ]
    },
    {
     "name": "stdout",
     "output_type": "stream",
     "text": [
      "Layer: 2 | Accuracy: 0.2\n"
     ]
    },
    {
     "name": "stderr",
     "output_type": "stream",
     "text": [
      "100%|██████████| 10/10 [00:05<00:00,  1.73it/s]\n"
     ]
    },
    {
     "name": "stdout",
     "output_type": "stream",
     "text": [
      "Layer: 4 | Accuracy: 0.3\n"
     ]
    },
    {
     "name": "stderr",
     "output_type": "stream",
     "text": [
      "100%|██████████| 10/10 [00:05<00:00,  1.73it/s]\n"
     ]
    },
    {
     "name": "stdout",
     "output_type": "stream",
     "text": [
      "Layer: 6 | Accuracy: 0.7\n"
     ]
    },
    {
     "name": "stderr",
     "output_type": "stream",
     "text": [
      "100%|██████████| 10/10 [00:05<00:00,  1.73it/s]\n"
     ]
    },
    {
     "name": "stdout",
     "output_type": "stream",
     "text": [
      "Layer: 8 | Accuracy: 0.9\n"
     ]
    },
    {
     "name": "stderr",
     "output_type": "stream",
     "text": [
      "100%|██████████| 10/10 [00:05<00:00,  1.73it/s]\n"
     ]
    },
    {
     "name": "stdout",
     "output_type": "stream",
     "text": [
      "Layer: 10 | Accuracy: 0.9\n"
     ]
    },
    {
     "name": "stderr",
     "output_type": "stream",
     "text": [
      "100%|██████████| 10/10 [00:05<00:00,  1.73it/s]\n"
     ]
    },
    {
     "name": "stdout",
     "output_type": "stream",
     "text": [
      "Layer: 12 | Accuracy: 0.9\n"
     ]
    },
    {
     "name": "stderr",
     "output_type": "stream",
     "text": [
      "100%|██████████| 10/10 [00:05<00:00,  1.72it/s]\n"
     ]
    },
    {
     "name": "stdout",
     "output_type": "stream",
     "text": [
      "Layer: 14 | Accuracy: 0.9\n"
     ]
    },
    {
     "name": "stderr",
     "output_type": "stream",
     "text": [
      "100%|██████████| 10/10 [00:05<00:00,  1.73it/s]\n"
     ]
    },
    {
     "name": "stdout",
     "output_type": "stream",
     "text": [
      "Layer: 16 | Accuracy: 0.9\n"
     ]
    },
    {
     "name": "stderr",
     "output_type": "stream",
     "text": [
      "100%|██████████| 10/10 [00:05<00:00,  1.73it/s]\n"
     ]
    },
    {
     "name": "stdout",
     "output_type": "stream",
     "text": [
      "Layer: 18 | Accuracy: 1.0\n"
     ]
    },
    {
     "name": "stderr",
     "output_type": "stream",
     "text": [
      "100%|██████████| 10/10 [00:05<00:00,  1.73it/s]\n"
     ]
    },
    {
     "name": "stdout",
     "output_type": "stream",
     "text": [
      "Layer: 20 | Accuracy: 1.0\n"
     ]
    },
    {
     "name": "stderr",
     "output_type": "stream",
     "text": [
      "100%|██████████| 10/10 [00:05<00:00,  1.73it/s]\n"
     ]
    },
    {
     "name": "stdout",
     "output_type": "stream",
     "text": [
      "Layer: 22 | Accuracy: 0.9\n"
     ]
    },
    {
     "name": "stderr",
     "output_type": "stream",
     "text": [
      "100%|██████████| 10/10 [00:05<00:00,  1.73it/s]\n"
     ]
    },
    {
     "name": "stdout",
     "output_type": "stream",
     "text": [
      "Layer: 24 | Accuracy: 0.8\n"
     ]
    },
    {
     "name": "stderr",
     "output_type": "stream",
     "text": [
      "100%|██████████| 10/10 [00:05<00:00,  1.73it/s]\n"
     ]
    },
    {
     "name": "stdout",
     "output_type": "stream",
     "text": [
      "Layer: 26 | Accuracy: 0.9\n"
     ]
    },
    {
     "name": "stderr",
     "output_type": "stream",
     "text": [
      "100%|██████████| 10/10 [00:05<00:00,  1.72it/s]\n"
     ]
    },
    {
     "name": "stdout",
     "output_type": "stream",
     "text": [
      "Layer: 28 | Accuracy: 0.9\n"
     ]
    },
    {
     "name": "stderr",
     "output_type": "stream",
     "text": [
      "100%|██████████| 10/10 [00:05<00:00,  1.73it/s]\n"
     ]
    },
    {
     "name": "stdout",
     "output_type": "stream",
     "text": [
      "Layer: 30 | Accuracy: 0.6\n"
     ]
    },
    {
     "name": "stderr",
     "output_type": "stream",
     "text": [
      "100%|██████████| 10/10 [00:05<00:00,  1.73it/s]\n"
     ]
    },
    {
     "name": "stdout",
     "output_type": "stream",
     "text": [
      "Layer: 32 | Accuracy: 0.3\n"
     ]
    },
    {
     "name": "stderr",
     "output_type": "stream",
     "text": [
      "100%|██████████| 10/10 [00:05<00:00,  1.73it/s]\n"
     ]
    },
    {
     "name": "stdout",
     "output_type": "stream",
     "text": [
      "Layer: 34 | Accuracy: 0.2\n"
     ]
    },
    {
     "name": "stderr",
     "output_type": "stream",
     "text": [
      "100%|██████████| 10/10 [00:05<00:00,  1.73it/s]\n"
     ]
    },
    {
     "name": "stdout",
     "output_type": "stream",
     "text": [
      "Layer: 36 | Accuracy: 0.1\n"
     ]
    },
    {
     "name": "stderr",
     "output_type": "stream",
     "text": [
      "100%|██████████| 10/10 [00:05<00:00,  1.73it/s]\n"
     ]
    },
    {
     "name": "stdout",
     "output_type": "stream",
     "text": [
      "Layer: 38 | Accuracy: 0.1\n"
     ]
    },
    {
     "name": "stderr",
     "output_type": "stream",
     "text": [
      "100%|██████████| 10/10 [00:05<00:00,  1.73it/s]\n"
     ]
    },
    {
     "name": "stdout",
     "output_type": "stream",
     "text": [
      "Layer: 40 | Accuracy: 0.1\n"
     ]
    },
    {
     "name": "stderr",
     "output_type": "stream",
     "text": [
      "100%|██████████| 10/10 [00:05<00:00,  1.73it/s]\n"
     ]
    },
    {
     "name": "stdout",
     "output_type": "stream",
     "text": [
      "Layer: 50 | Accuracy: 0.1\n"
     ]
    },
    {
     "name": "stderr",
     "output_type": "stream",
     "text": [
      "100%|██████████| 10/10 [00:05<00:00,  1.73it/s]\n"
     ]
    },
    {
     "name": "stdout",
     "output_type": "stream",
     "text": [
      "Layer: 60 | Accuracy: 0.1\n"
     ]
    },
    {
     "name": "stderr",
     "output_type": "stream",
     "text": [
      "100%|██████████| 10/10 [00:05<00:00,  1.73it/s]"
     ]
    },
    {
     "name": "stdout",
     "output_type": "stream",
     "text": [
      "Layer: 70 | Accuracy: 0.1\n"
     ]
    },
    {
     "name": "stderr",
     "output_type": "stream",
     "text": [
      "\n"
     ]
    }
   ],
   "source": [
    "accs_binding_lookback_pointer = {}\n",
    "patch_layers = [i for i in range(0, 40, 2)] + [\n",
    "    i for i in range(40, model.config.num_hidden_layers, 10)\n",
    "]\n",
    "\n",
    "for layer_idx in patch_layers:\n",
    "    correct, total = 0, 0\n",
    "\n",
    "    for bi, batch in tqdm(enumerate(dataloader), total=len(dataloader)):\n",
    "        clean_prompt = batch[\"clean_prompt\"][0]\n",
    "        clean_ans = batch[\"clean_ans\"][0]\n",
    "        counterfactual_prompt = batch[\"counterfactual_prompt\"][0]\n",
    "        counterfactual_ans = batch[\"counterfactual_ans\"][0]\n",
    "        target = batch[\"target\"][0]\n",
    "\n",
    "        clean_prompt_len = get_prompt_token_len(model.tokenizer, clean_prompt)\n",
    "        counterfactual_prompt_len = get_prompt_token_len(\n",
    "            model.tokenizer, counterfactual_prompt\n",
    "        )\n",
    "        org_ques_start_idx = get_ques_start_token_idx(model.tokenizer, clean_prompt)\n",
    "        alt_ques_start_idx = get_ques_start_token_idx(\n",
    "            model.tokenizer, counterfactual_prompt\n",
    "        )\n",
    "\n",
    "        with torch.no_grad():\n",
    "            with model.session() as session:\n",
    "                counterfactual_layer_out = defaultdict(dict)\n",
    "                with model.trace(counterfactual_prompt, remote=is_remote):\n",
    "                    for t_idx, t in enumerate(\n",
    "                        [\n",
    "                            i\n",
    "                            for i in range(\n",
    "                                alt_ques_start_idx + 3, alt_ques_start_idx + 5\n",
    "                            )\n",
    "                        ]\n",
    "                    ):\n",
    "                        counterfactual_layer_out[t_idx] = (\n",
    "                            model.model.layers[layer_idx].output[0, t].save()\n",
    "                        )\n",
    "\n",
    "                with model.generate(\n",
    "                    clean_prompt,\n",
    "                    max_new_tokens=2,\n",
    "                    do_sample=False,\n",
    "                    num_return_sequences=1,\n",
    "                    pad_token_id=model.tokenizer.pad_token_id,\n",
    "                    eos_token_id=model.tokenizer.eos_token_id,\n",
    "                    remote=is_remote,\n",
    "                ):\n",
    "                    for t_idx, t in enumerate(\n",
    "                        [\n",
    "                            i\n",
    "                            for i in range(\n",
    "                                org_ques_start_idx + 3, org_ques_start_idx + 5\n",
    "                            )\n",
    "                        ]\n",
    "                    ):\n",
    "                        model.model.layers[layer_idx].output[0, t] = (\n",
    "                            counterfactual_layer_out[t_idx]\n",
    "                        )\n",
    "\n",
    "                    out = model.generator.output.save()\n",
    "\n",
    "                del counterfactual_layer_out\n",
    "                torch.cuda.empty_cache()\n",
    "\n",
    "            pred = model.tokenizer.decode(out[0][clean_prompt_len:-1]).strip()\n",
    "            # print(f\"Pred: {pred} | Target: {target}\")\n",
    "            if pred in target:\n",
    "                correct += 1\n",
    "            total += 1\n",
    "\n",
    "    acc = round(correct / total, 2)\n",
    "    print(f\"Layer: {layer_idx} | Accuracy: {acc}\")\n",
    "\n",
    "    accs_binding_lookback_pointer[layer_idx] = acc"
   ]
  },
  {
   "cell_type": "code",
   "execution_count": 9,
   "metadata": {},
   "outputs": [
    {
     "data": {
      "image/png": "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",
      "text/plain": [
       "<Figure size 700x300 with 1 Axes>"
      ]
     },
     "metadata": {},
     "output_type": "display_data"
    }
   ],
   "source": [
    "# Visualize accs_binding_lookback_pointer as a line plot\n",
    "plt.figure(figsize=(7, 3))\n",
    "layers = list(accs_binding_lookback_pointer.keys())\n",
    "accuracies = list(accs_binding_lookback_pointer.values())\n",
    "\n",
    "plt.plot(layers, accuracies, marker=\"o\", linestyle=\"-\", linewidth=2)\n",
    "plt.xlabel(\"Layer\")\n",
    "plt.ylabel(\"IIA\")\n",
    "plt.title(\"Binding Lookback Pointer IIA by Layer\")\n",
    "plt.grid(True, linestyle=\"--\", alpha=0.7)\n",
    "plt.xticks(layers)\n",
    "plt.ylim(0, 1.1)\n",
    "\n",
    "plt.tight_layout()\n",
    "plt.show()"
   ]
  },
  {
   "cell_type": "markdown",
   "metadata": {},
   "source": [
    "# Visibility Lookback"
   ]
  },
  {
   "cell_type": "code",
   "execution_count": 4,
   "metadata": {},
   "outputs": [],
   "source": [
    "n_samples = 10\n",
    "batch_size = 1\n",
    "\n",
    "dataset = get_visibility_lookback_exps(df_false, df_true, n_samples)\n",
    "dataloader = DataLoader(dataset, batch_size=batch_size, shuffle=False)"
   ]
  },
  {
   "cell_type": "code",
   "execution_count": 5,
   "metadata": {},
   "outputs": [
    {
     "name": "stdout",
     "output_type": "stream",
     "text": [
      "COUNTERFACTUAL EXAMPLE\n",
      "=========================\n",
      "Instructions: 1. Track the belief of each character as described in the story. 2. A character's belief is formed only when they perform an action themselves or can observe the action taking place. 3. A character does not have any belief about the container or its content which they cannot observe directly. 4. To answer the question, predict only the final state of the queried container in fewest tokens possible, strictly based on the belief of the character, mentioned in the question. 5. Do not predict the entire sentence with character or container as the final output.\n",
      "\n",
      "Story: Noor is working as a barista at a busy coffee shop. Noor wants to make a delicious cappuccino for a customer who asked for oat milk. Noor grabs a milk pitcher and fills it with oat milk. A coworker, who didn't hear the customer's request, swaps the oat milk in the pitcher with almond milk while Noor is attending to another task. Noor sees her coworker swapping the milk.\n",
      "Question: Does Noor believe the milk pitcher contains oat milk or almond milk?\n",
      "Answer: almond milk\n",
      "\n",
      "CLEAN EXAMPLE\n",
      "=========================\n",
      "Instructions: 1. Track the belief of each character as described in the story. 2. A character's belief is formed only when they perform an action themselves or can observe the action taking place. 3. A character does not have any belief about the container or its content which they cannot observe directly. 4. To answer the question, predict only the final state of the queried container in fewest tokens possible, strictly based on the belief of the character, mentioned in the question. 5. Do not predict the entire sentence with character or container as the final output.\n",
      "\n",
      "Story: Noor is working as a barista at a busy coffee shop. Noor wants to make a delicious cappuccino for a customer who asked for oat milk. Noor grabs a milk pitcher and fills it with oat milk. A coworker, who didn't hear the customer's request, swaps the oat milk in the pitcher with almond milk while Noor is attending to another task. Noor does not see her coworker swapping the milk.\n",
      "Question: Does Noor believe the milk pitcher contains oat milk or almond milk?\n",
      "Answer: oat milk\n",
      "\n",
      "Target: almond milk\n"
     ]
    }
   ],
   "source": [
    "idx = 0\n",
    "print(\"COUNTERFACTUAL EXAMPLE\")\n",
    "print(\"=\" * 25)\n",
    "print(dataset[idx][\"counterfactual_prompt\"], dataset[idx][\"counterfactual_ans\"])\n",
    "print()\n",
    "\n",
    "print(\"CLEAN EXAMPLE\")\n",
    "print(\"=\" * 25)\n",
    "print(dataset[idx][\"clean_prompt\"], dataset[idx][\"clean_ans\"])\n",
    "print(f\"\\nTarget: {dataset[idx]['target']}\")"
   ]
  },
  {
   "cell_type": "markdown",
   "metadata": {},
   "source": [
    "## Source"
   ]
  },
  {
   "cell_type": "code",
   "execution_count": 6,
   "metadata": {},
   "outputs": [
    {
     "name": "stderr",
     "output_type": "stream",
     "text": [
      "  0%|          | 0/10 [00:00<?, ?it/s]The following generation flags are not valid and may be ignored: ['temperature', 'top_p']. Set `TRANSFORMERS_VERBOSITY=info` for more details.\n",
      "100%|██████████| 10/10 [00:06<00:00,  1.55it/s]\n"
     ]
    },
    {
     "name": "stdout",
     "output_type": "stream",
     "text": [
      "Layer: 0 | Accuracy: 0.9\n"
     ]
    },
    {
     "name": "stderr",
     "output_type": "stream",
     "text": [
      "100%|██████████| 10/10 [00:05<00:00,  1.71it/s]\n"
     ]
    },
    {
     "name": "stdout",
     "output_type": "stream",
     "text": [
      "Layer: 2 | Accuracy: 1.0\n"
     ]
    },
    {
     "name": "stderr",
     "output_type": "stream",
     "text": [
      "100%|██████████| 10/10 [00:05<00:00,  1.72it/s]\n"
     ]
    },
    {
     "name": "stdout",
     "output_type": "stream",
     "text": [
      "Layer: 4 | Accuracy: 0.9\n"
     ]
    },
    {
     "name": "stderr",
     "output_type": "stream",
     "text": [
      "100%|██████████| 10/10 [00:05<00:00,  1.72it/s]\n"
     ]
    },
    {
     "name": "stdout",
     "output_type": "stream",
     "text": [
      "Layer: 6 | Accuracy: 0.9\n"
     ]
    },
    {
     "name": "stderr",
     "output_type": "stream",
     "text": [
      "100%|██████████| 10/10 [00:05<00:00,  1.72it/s]\n"
     ]
    },
    {
     "name": "stdout",
     "output_type": "stream",
     "text": [
      "Layer: 8 | Accuracy: 0.9\n"
     ]
    },
    {
     "name": "stderr",
     "output_type": "stream",
     "text": [
      "100%|██████████| 10/10 [00:05<00:00,  1.72it/s]\n"
     ]
    },
    {
     "name": "stdout",
     "output_type": "stream",
     "text": [
      "Layer: 10 | Accuracy: 1.0\n"
     ]
    },
    {
     "name": "stderr",
     "output_type": "stream",
     "text": [
      "100%|██████████| 10/10 [00:05<00:00,  1.72it/s]\n"
     ]
    },
    {
     "name": "stdout",
     "output_type": "stream",
     "text": [
      "Layer: 12 | Accuracy: 1.0\n"
     ]
    },
    {
     "name": "stderr",
     "output_type": "stream",
     "text": [
      "100%|██████████| 10/10 [00:05<00:00,  1.72it/s]\n"
     ]
    },
    {
     "name": "stdout",
     "output_type": "stream",
     "text": [
      "Layer: 14 | Accuracy: 0.9\n"
     ]
    },
    {
     "name": "stderr",
     "output_type": "stream",
     "text": [
      "100%|██████████| 10/10 [00:05<00:00,  1.72it/s]\n"
     ]
    },
    {
     "name": "stdout",
     "output_type": "stream",
     "text": [
      "Layer: 16 | Accuracy: 0.9\n"
     ]
    },
    {
     "name": "stderr",
     "output_type": "stream",
     "text": [
      "100%|██████████| 10/10 [00:05<00:00,  1.72it/s]\n"
     ]
    },
    {
     "name": "stdout",
     "output_type": "stream",
     "text": [
      "Layer: 18 | Accuracy: 0.3\n"
     ]
    },
    {
     "name": "stderr",
     "output_type": "stream",
     "text": [
      "100%|██████████| 10/10 [00:05<00:00,  1.71it/s]\n"
     ]
    },
    {
     "name": "stdout",
     "output_type": "stream",
     "text": [
      "Layer: 20 | Accuracy: 0.3\n"
     ]
    },
    {
     "name": "stderr",
     "output_type": "stream",
     "text": [
      "100%|██████████| 10/10 [00:05<00:00,  1.72it/s]\n"
     ]
    },
    {
     "name": "stdout",
     "output_type": "stream",
     "text": [
      "Layer: 22 | Accuracy: 0.3\n"
     ]
    },
    {
     "name": "stderr",
     "output_type": "stream",
     "text": [
      "100%|██████████| 10/10 [00:05<00:00,  1.72it/s]\n"
     ]
    },
    {
     "name": "stdout",
     "output_type": "stream",
     "text": [
      "Layer: 24 | Accuracy: 0.2\n"
     ]
    },
    {
     "name": "stderr",
     "output_type": "stream",
     "text": [
      "100%|██████████| 10/10 [00:05<00:00,  1.72it/s]\n"
     ]
    },
    {
     "name": "stdout",
     "output_type": "stream",
     "text": [
      "Layer: 26 | Accuracy: 0.1\n"
     ]
    },
    {
     "name": "stderr",
     "output_type": "stream",
     "text": [
      "100%|██████████| 10/10 [00:05<00:00,  1.72it/s]\n"
     ]
    },
    {
     "name": "stdout",
     "output_type": "stream",
     "text": [
      "Layer: 28 | Accuracy: 0.1\n"
     ]
    },
    {
     "name": "stderr",
     "output_type": "stream",
     "text": [
      "100%|██████████| 10/10 [00:05<00:00,  1.72it/s]\n"
     ]
    },
    {
     "name": "stdout",
     "output_type": "stream",
     "text": [
      "Layer: 30 | Accuracy: 0.1\n"
     ]
    },
    {
     "name": "stderr",
     "output_type": "stream",
     "text": [
      "100%|██████████| 10/10 [00:05<00:00,  1.72it/s]\n"
     ]
    },
    {
     "name": "stdout",
     "output_type": "stream",
     "text": [
      "Layer: 32 | Accuracy: 0.1\n"
     ]
    },
    {
     "name": "stderr",
     "output_type": "stream",
     "text": [
      "100%|██████████| 10/10 [00:05<00:00,  1.72it/s]\n"
     ]
    },
    {
     "name": "stdout",
     "output_type": "stream",
     "text": [
      "Layer: 34 | Accuracy: 0.1\n"
     ]
    },
    {
     "name": "stderr",
     "output_type": "stream",
     "text": [
      "100%|██████████| 10/10 [00:05<00:00,  1.72it/s]\n"
     ]
    },
    {
     "name": "stdout",
     "output_type": "stream",
     "text": [
      "Layer: 36 | Accuracy: 0.1\n"
     ]
    },
    {
     "name": "stderr",
     "output_type": "stream",
     "text": [
      "100%|██████████| 10/10 [00:05<00:00,  1.71it/s]\n"
     ]
    },
    {
     "name": "stdout",
     "output_type": "stream",
     "text": [
      "Layer: 38 | Accuracy: 0.1\n"
     ]
    },
    {
     "name": "stderr",
     "output_type": "stream",
     "text": [
      "100%|██████████| 10/10 [00:05<00:00,  1.71it/s]\n"
     ]
    },
    {
     "name": "stdout",
     "output_type": "stream",
     "text": [
      "Layer: 40 | Accuracy: 0.1\n"
     ]
    },
    {
     "name": "stderr",
     "output_type": "stream",
     "text": [
      "100%|██████████| 10/10 [00:05<00:00,  1.71it/s]\n"
     ]
    },
    {
     "name": "stdout",
     "output_type": "stream",
     "text": [
      "Layer: 50 | Accuracy: 0.1\n"
     ]
    },
    {
     "name": "stderr",
     "output_type": "stream",
     "text": [
      "100%|██████████| 10/10 [00:05<00:00,  1.71it/s]\n"
     ]
    },
    {
     "name": "stdout",
     "output_type": "stream",
     "text": [
      "Layer: 60 | Accuracy: 0.1\n"
     ]
    },
    {
     "name": "stderr",
     "output_type": "stream",
     "text": [
      "100%|██████████| 10/10 [00:05<00:00,  1.72it/s]"
     ]
    },
    {
     "name": "stdout",
     "output_type": "stream",
     "text": [
      "Layer: 70 | Accuracy: 0.1\n"
     ]
    },
    {
     "name": "stderr",
     "output_type": "stream",
     "text": [
      "\n"
     ]
    }
   ],
   "source": [
    "accs_visibility_lookback_source = {}\n",
    "patch_layers = [i for i in range(0, 41, 2)] + [\n",
    "    i for i in range(50, model.config.num_hidden_layers, 10)\n",
    "]\n",
    "\n",
    "for layer_idx in patch_layers:\n",
    "    correct, total = 0, 0\n",
    "\n",
    "    for bi, batch in tqdm(enumerate(dataloader), total=len(dataloader)):\n",
    "        clean_prompt = batch[\"clean_prompt\"][0]\n",
    "        clean_ans = batch[\"clean_ans\"][0]\n",
    "        counterfactual_prompt = batch[\"counterfactual_prompt\"][0]\n",
    "        counterfactual_ans = batch[\"counterfactual_ans\"][0]\n",
    "        target = batch[\"target\"][0]\n",
    "\n",
    "        clean_prompt_len = get_prompt_token_len(model.tokenizer, clean_prompt)\n",
    "        counterfactual_prompt_len = get_prompt_token_len(\n",
    "            model.tokenizer, counterfactual_prompt\n",
    "        )\n",
    "        org_ques_start_idx = get_ques_start_token_idx(model.tokenizer, clean_prompt)\n",
    "        alt_ques_start_idx = get_ques_start_token_idx(\n",
    "            model.tokenizer, counterfactual_prompt\n",
    "        )\n",
    "        org_vis_sent_start_idx = get_visitibility_sent_start_idx(\n",
    "            model.tokenizer, clean_prompt\n",
    "        )\n",
    "        alt_vis_sent_start_idx = get_visitibility_sent_start_idx(\n",
    "            model.tokenizer, counterfactual_prompt\n",
    "        )\n",
    "\n",
    "        with torch.no_grad():\n",
    "            with model.session() as session:\n",
    "                counterfactual_layer_out = defaultdict(dict)\n",
    "                with model.trace(counterfactual_prompt, remote=is_remote):\n",
    "                    for t_idx, t in enumerate(\n",
    "                        [i for i in range(alt_vis_sent_start_idx, alt_ques_start_idx)]\n",
    "                    ):\n",
    "                        counterfactual_layer_out[t_idx] = (\n",
    "                            model.model.layers[layer_idx].output[0, t].save()\n",
    "                        )\n",
    "\n",
    "                with model.generate(\n",
    "                    clean_prompt,\n",
    "                    max_new_tokens=2,\n",
    "                    do_sample=False,\n",
    "                    num_return_sequences=1,\n",
    "                    pad_token_id=model.tokenizer.pad_token_id,\n",
    "                    eos_token_id=model.tokenizer.eos_token_id,\n",
    "                    remote=is_remote,\n",
    "                ):\n",
    "                    for t_idx, t in enumerate(\n",
    "                        [\n",
    "                            i\n",
    "                            for i in range(\n",
    "                                org_vis_sent_start_idx,\n",
    "                                org_vis_sent_start_idx + len(counterfactual_layer_out),\n",
    "                            )\n",
    "                        ]\n",
    "                    ):\n",
    "                        model.model.layers[layer_idx].output[0, t] = (\n",
    "                            counterfactual_layer_out[t_idx]\n",
    "                        )\n",
    "\n",
    "                    out = model.generator.output.save()\n",
    "\n",
    "                del counterfactual_layer_out\n",
    "                torch.cuda.empty_cache()\n",
    "\n",
    "            pred = model.tokenizer.decode(out[0][clean_prompt_len:-1]).strip()\n",
    "            # print(f\"Pred: {pred} | Target: {target}\")\n",
    "            if pred in target:\n",
    "                correct += 1\n",
    "            total += 1\n",
    "\n",
    "    acc = round(correct / total, 2)\n",
    "    print(f\"Layer: {layer_idx} | Accuracy: {acc}\")\n",
    "\n",
    "    accs_visibility_lookback_source[layer_idx] = acc"
   ]
  },
  {
   "cell_type": "code",
   "execution_count": 7,
   "metadata": {},
   "outputs": [
    {
     "data": {
      "image/png": "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",
      "text/plain": [
       "<Figure size 700x300 with 1 Axes>"
      ]
     },
     "metadata": {},
     "output_type": "display_data"
    }
   ],
   "source": [
    "# Visualize accs_visibility_lookback_source as a line plot\n",
    "plt.figure(figsize=(7, 3))\n",
    "layers = list(accs_visibility_lookback_source.keys())\n",
    "accuracies = list(accs_visibility_lookback_source.values())\n",
    "\n",
    "plt.plot(layers, accuracies, marker=\"o\", linestyle=\"-\", linewidth=2)\n",
    "plt.xlabel(\"Layer\")\n",
    "plt.ylabel(\"IIA\")\n",
    "plt.title(\"Visibility Lookback Source IIA by Layer\")\n",
    "plt.grid(True, linestyle=\"--\", alpha=0.7)\n",
    "plt.xticks(layers)\n",
    "plt.ylim(0, 1.1)\n",
    "\n",
    "plt.tight_layout()\n",
    "plt.show()"
   ]
  },
  {
   "cell_type": "markdown",
   "metadata": {},
   "source": [
    "## Payload"
   ]
  },
  {
   "cell_type": "code",
   "execution_count": 8,
   "metadata": {},
   "outputs": [
    {
     "name": "stderr",
     "output_type": "stream",
     "text": [
      "100%|██████████| 10/10 [00:05<00:00,  1.67it/s]\n"
     ]
    },
    {
     "name": "stdout",
     "output_type": "stream",
     "text": [
      "Layer: 20 | Accuracy: 0.1\n"
     ]
    },
    {
     "name": "stderr",
     "output_type": "stream",
     "text": [
      "100%|██████████| 10/10 [00:05<00:00,  1.71it/s]\n"
     ]
    },
    {
     "name": "stdout",
     "output_type": "stream",
     "text": [
      "Layer: 22 | Accuracy: 0.1\n"
     ]
    },
    {
     "name": "stderr",
     "output_type": "stream",
     "text": [
      "100%|██████████| 10/10 [00:05<00:00,  1.71it/s]\n"
     ]
    },
    {
     "name": "stdout",
     "output_type": "stream",
     "text": [
      "Layer: 24 | Accuracy: 0.1\n"
     ]
    },
    {
     "name": "stderr",
     "output_type": "stream",
     "text": [
      "100%|██████████| 10/10 [00:05<00:00,  1.71it/s]\n"
     ]
    },
    {
     "name": "stdout",
     "output_type": "stream",
     "text": [
      "Layer: 26 | Accuracy: 0.5\n"
     ]
    },
    {
     "name": "stderr",
     "output_type": "stream",
     "text": [
      "100%|██████████| 10/10 [00:05<00:00,  1.71it/s]\n"
     ]
    },
    {
     "name": "stdout",
     "output_type": "stream",
     "text": [
      "Layer: 28 | Accuracy: 0.9\n"
     ]
    },
    {
     "name": "stderr",
     "output_type": "stream",
     "text": [
      "100%|██████████| 10/10 [00:05<00:00,  1.71it/s]\n"
     ]
    },
    {
     "name": "stdout",
     "output_type": "stream",
     "text": [
      "Layer: 30 | Accuracy: 0.9\n"
     ]
    },
    {
     "name": "stderr",
     "output_type": "stream",
     "text": [
      "100%|██████████| 10/10 [00:05<00:00,  1.71it/s]\n"
     ]
    },
    {
     "name": "stdout",
     "output_type": "stream",
     "text": [
      "Layer: 32 | Accuracy: 0.9\n"
     ]
    },
    {
     "name": "stderr",
     "output_type": "stream",
     "text": [
      "100%|██████████| 10/10 [00:05<00:00,  1.71it/s]\n"
     ]
    },
    {
     "name": "stdout",
     "output_type": "stream",
     "text": [
      "Layer: 34 | Accuracy: 0.9\n"
     ]
    },
    {
     "name": "stderr",
     "output_type": "stream",
     "text": [
      "100%|██████████| 10/10 [00:05<00:00,  1.71it/s]\n"
     ]
    },
    {
     "name": "stdout",
     "output_type": "stream",
     "text": [
      "Layer: 36 | Accuracy: 0.9\n"
     ]
    },
    {
     "name": "stderr",
     "output_type": "stream",
     "text": [
      "100%|██████████| 10/10 [00:05<00:00,  1.71it/s]\n"
     ]
    },
    {
     "name": "stdout",
     "output_type": "stream",
     "text": [
      "Layer: 38 | Accuracy: 0.9\n"
     ]
    },
    {
     "name": "stderr",
     "output_type": "stream",
     "text": [
      "100%|██████████| 10/10 [00:05<00:00,  1.71it/s]\n"
     ]
    },
    {
     "name": "stdout",
     "output_type": "stream",
     "text": [
      "Layer: 40 | Accuracy: 0.9\n"
     ]
    },
    {
     "name": "stderr",
     "output_type": "stream",
     "text": [
      "100%|██████████| 10/10 [00:05<00:00,  1.71it/s]\n"
     ]
    },
    {
     "name": "stdout",
     "output_type": "stream",
     "text": [
      "Layer: 42 | Accuracy: 0.9\n"
     ]
    },
    {
     "name": "stderr",
     "output_type": "stream",
     "text": [
      "100%|██████████| 10/10 [00:05<00:00,  1.71it/s]\n"
     ]
    },
    {
     "name": "stdout",
     "output_type": "stream",
     "text": [
      "Layer: 44 | Accuracy: 0.9\n"
     ]
    },
    {
     "name": "stderr",
     "output_type": "stream",
     "text": [
      "100%|██████████| 10/10 [00:05<00:00,  1.71it/s]\n"
     ]
    },
    {
     "name": "stdout",
     "output_type": "stream",
     "text": [
      "Layer: 46 | Accuracy: 0.9\n"
     ]
    },
    {
     "name": "stderr",
     "output_type": "stream",
     "text": [
      "100%|██████████| 10/10 [00:05<00:00,  1.71it/s]\n"
     ]
    },
    {
     "name": "stdout",
     "output_type": "stream",
     "text": [
      "Layer: 48 | Accuracy: 0.9\n"
     ]
    },
    {
     "name": "stderr",
     "output_type": "stream",
     "text": [
      "100%|██████████| 10/10 [00:05<00:00,  1.71it/s]\n"
     ]
    },
    {
     "name": "stdout",
     "output_type": "stream",
     "text": [
      "Layer: 50 | Accuracy: 0.9\n"
     ]
    },
    {
     "name": "stderr",
     "output_type": "stream",
     "text": [
      "100%|██████████| 10/10 [00:05<00:00,  1.71it/s]\n"
     ]
    },
    {
     "name": "stdout",
     "output_type": "stream",
     "text": [
      "Layer: 52 | Accuracy: 0.9\n"
     ]
    },
    {
     "name": "stderr",
     "output_type": "stream",
     "text": [
      "100%|██████████| 10/10 [00:05<00:00,  1.71it/s]\n"
     ]
    },
    {
     "name": "stdout",
     "output_type": "stream",
     "text": [
      "Layer: 54 | Accuracy: 0.9\n"
     ]
    },
    {
     "name": "stderr",
     "output_type": "stream",
     "text": [
      "100%|██████████| 10/10 [00:05<00:00,  1.71it/s]\n"
     ]
    },
    {
     "name": "stdout",
     "output_type": "stream",
     "text": [
      "Layer: 56 | Accuracy: 1.0\n"
     ]
    },
    {
     "name": "stderr",
     "output_type": "stream",
     "text": [
      "100%|██████████| 10/10 [00:05<00:00,  1.71it/s]\n"
     ]
    },
    {
     "name": "stdout",
     "output_type": "stream",
     "text": [
      "Layer: 58 | Accuracy: 1.0\n"
     ]
    },
    {
     "name": "stderr",
     "output_type": "stream",
     "text": [
      "100%|██████████| 10/10 [00:05<00:00,  1.71it/s]\n"
     ]
    },
    {
     "name": "stdout",
     "output_type": "stream",
     "text": [
      "Layer: 60 | Accuracy: 0.9\n"
     ]
    },
    {
     "name": "stderr",
     "output_type": "stream",
     "text": [
      "100%|██████████| 10/10 [00:05<00:00,  1.71it/s]\n"
     ]
    },
    {
     "name": "stdout",
     "output_type": "stream",
     "text": [
      "Layer: 62 | Accuracy: 1.0\n"
     ]
    },
    {
     "name": "stderr",
     "output_type": "stream",
     "text": [
      "100%|██████████| 10/10 [00:05<00:00,  1.71it/s]\n"
     ]
    },
    {
     "name": "stdout",
     "output_type": "stream",
     "text": [
      "Layer: 64 | Accuracy: 1.0\n"
     ]
    },
    {
     "name": "stderr",
     "output_type": "stream",
     "text": [
      "100%|██████████| 10/10 [00:05<00:00,  1.71it/s]\n"
     ]
    },
    {
     "name": "stdout",
     "output_type": "stream",
     "text": [
      "Layer: 66 | Accuracy: 1.0\n"
     ]
    },
    {
     "name": "stderr",
     "output_type": "stream",
     "text": [
      "100%|██████████| 10/10 [00:05<00:00,  1.71it/s]\n"
     ]
    },
    {
     "name": "stdout",
     "output_type": "stream",
     "text": [
      "Layer: 68 | Accuracy: 1.0\n"
     ]
    },
    {
     "name": "stderr",
     "output_type": "stream",
     "text": [
      "100%|██████████| 10/10 [00:05<00:00,  1.71it/s]"
     ]
    },
    {
     "name": "stdout",
     "output_type": "stream",
     "text": [
      "Layer: 70 | Accuracy: 1.0\n"
     ]
    },
    {
     "name": "stderr",
     "output_type": "stream",
     "text": [
      "\n"
     ]
    }
   ],
   "source": [
    "accs_visibility_lookback_payload = {}\n",
    "patch_layers = [i for i in range(20, 70, 2)] + [\n",
    "    i for i in range(70, model.config.num_hidden_layers, 10)\n",
    "]\n",
    "\n",
    "for layer_idx in patch_layers:\n",
    "    correct, total = 0, 0\n",
    "\n",
    "    for bi, batch in tqdm(enumerate(dataloader), total=len(dataloader)):\n",
    "        clean_prompt = batch[\"clean_prompt\"][0]\n",
    "        clean_ans = batch[\"clean_ans\"][0]\n",
    "        counterfactual_prompt = batch[\"counterfactual_prompt\"][0]\n",
    "        counterfactual_ans = batch[\"counterfactual_ans\"][0]\n",
    "        target = batch[\"target\"][0]\n",
    "\n",
    "        clean_prompt_len = get_prompt_token_len(model.tokenizer, clean_prompt)\n",
    "        counterfactual_prompt_len = get_prompt_token_len(\n",
    "            model.tokenizer, counterfactual_prompt\n",
    "        )\n",
    "        org_ques_start_idx = get_ques_start_token_idx(model.tokenizer, clean_prompt)\n",
    "        alt_ques_start_idx = get_ques_start_token_idx(\n",
    "            model.tokenizer, counterfactual_prompt\n",
    "        )\n",
    "        org_vis_sent_start_idx = get_visitibility_sent_start_idx(\n",
    "            model.tokenizer, clean_prompt\n",
    "        )\n",
    "        alt_vis_sent_start_idx = get_visitibility_sent_start_idx(\n",
    "            model.tokenizer, counterfactual_prompt\n",
    "        )\n",
    "\n",
    "        with torch.no_grad():\n",
    "            with model.session() as session:\n",
    "                counterfactual_layer_out = defaultdict(dict)\n",
    "                with model.trace(counterfactual_prompt, remote=is_remote):\n",
    "                    for t_idx, t in enumerate(\n",
    "                        [\n",
    "                            i\n",
    "                            for i in range(\n",
    "                                alt_ques_start_idx, counterfactual_prompt_len\n",
    "                            )\n",
    "                        ]\n",
    "                    ):\n",
    "                        counterfactual_layer_out[t_idx] = (\n",
    "                            model.model.layers[layer_idx].output[0, t].save()\n",
    "                        )\n",
    "\n",
    "                with model.generate(\n",
    "                    clean_prompt,\n",
    "                    max_new_tokens=2,\n",
    "                    do_sample=False,\n",
    "                    num_return_sequences=1,\n",
    "                    pad_token_id=model.tokenizer.pad_token_id,\n",
    "                    eos_token_id=model.tokenizer.eos_token_id,\n",
    "                    remote=is_remote,\n",
    "                ):\n",
    "                    for t_idx, t in enumerate(\n",
    "                        [i for i in range(org_ques_start_idx, clean_prompt_len)]\n",
    "                    ):\n",
    "                        model.model.layers[layer_idx].output[0, t] = (\n",
    "                            counterfactual_layer_out[t_idx]\n",
    "                        )\n",
    "\n",
    "                    out = model.generator.output.save()\n",
    "\n",
    "                del counterfactual_layer_out\n",
    "                torch.cuda.empty_cache()\n",
    "\n",
    "            pred = model.tokenizer.decode(out[0][clean_prompt_len:-1]).strip()\n",
    "            # print(f\"Pred: {pred} | Target: {target}\")\n",
    "            if pred in target:\n",
    "                correct += 1\n",
    "            total += 1\n",
    "\n",
    "    acc = round(correct / total, 2)\n",
    "    print(f\"Layer: {layer_idx} | Accuracy: {acc}\")\n",
    "\n",
    "    accs_visibility_lookback_payload[layer_idx] = acc"
   ]
  },
  {
   "cell_type": "code",
   "execution_count": 9,
   "metadata": {},
   "outputs": [
    {
     "data": {
      "image/png": "iVBORw0KGgoAAAANSUhEUgAAArIAAAEiCAYAAAAF9zFeAAAAOnRFWHRTb2Z0d2FyZQBNYXRwbG90bGliIHZlcnNpb24zLjEwLjYsIGh0dHBzOi8vbWF0cGxvdGxpYi5vcmcvq6yFwwAAAAlwSFlzAAAPYQAAD2EBqD+naQAAdABJREFUeJztnXl4FEX6x79z5D45cgcIlxBAkCQEAioqCLgIIir37XoAUZTfLqKrIK4uXiDribByrJwKy+EFQgQUiUBIICLhTMKVQBIgB7kmma7fH9npnUnm7u6aGXg/z8Ojqan+zrfqrel+p6a6WsUYYyAIgiAIgiAID0PtagMEQRAEQRAE4QyUyBIEQRAEQRAeCSWyBEEQBEEQhEdCiSxBEARBEAThkVAiSxAEQRAEQXgklMgSBEEQBEEQHgklsgRBEARBEIRHQoksQRAEQRAE4ZFQIksQBEEQBEF4JJTIEgQnVq1aBZVKhfz8fIeOU6lUeP3118W/X3/9dahUKpSUlNg8Ni4uDlOmTBH/3rt3L1QqFfbu3SuWTZkyBXFxcQ558hQM7d20aZPVeo70qZzcd9996NatG9f3lIK58cMLQ4zcBcPnOSMjw9VWCOK2hhJZgnCS4cOHw9/fHxUVFRbrjB8/Ht7e3rh27RpHZ9KoqqrC66+/LnuyQhd+eZkyZQpUKpX4Lzg4GD169MCiRYtQW1vransuY8qUKQgMDDQps/aFQa/XIzo6GiqVCj/88AMPiw5hrj0EQfwPrasNEISnMn78eHzzzTfYsmULJk2a1OT1qqoqbNu2DUOGDEGLFi0wceJEjBkzBj4+Pg69T3V1NbRa5z6qp06dglpt/fvq8uXLIQiCie8FCxYAaEgACPfFx8cH//rXvwAApaWl2Lx5M/7yl7/g8OHD2LBhg4vdeQY//fQTCgsLERcXh7Vr1+Khhx5ytSWCIByAZmQJwkmGDx+OoKAgrFu3zuzr27ZtQ2VlJcaPHw8A0Gg08PX1dfjnUV9fX6cTWR8fH3h5eVmt4+Xl5XByTbgHWq0WEyZMwIQJE5Camoq0tDQkJSVh48aNKCgocLU9j2DNmjVISEjAiy++iK1bt6KystLVljyampoaky/GBKE0lMgShJP4+flh5MiRSEtLQ1FRUZPX161bh6CgIAwfPhyA+TWyGRkZGDx4MFq2bAk/Pz+0bdsW06ZNM9FpvEbWQElJCUaNGoXg4GC0aNECs2bNQk1NjUmdxmtkzWG8RjY/Px9hYWEAgAULFog/W7/++utYuXIlVCoVsrKymmj84x//gEajweXLl62+lz1kZWXhoYceQnBwMAIDAzFgwAD89ttvTerl5ubiiSeeQPPmzeHv748+ffrgu+++s6lfW1uLhx9+GCEhIThw4IDJa/b06cqVK/HAAw8gPDwcPj4+6NKlCz777DOz7/XDDz+gf//+CAoKQnBwMHr16mXxi4+BH3/8Ef7+/hg7dizq6+tttscYtVotzqLn5+fj+vXr+Mtf/oI777wTgYGBCA4OxkMPPYRjx46Jx9y8eRMBAQGYNWtWE71Lly5Bo9Fg4cKFVt/366+/RmJiIvz8/NCyZUtMmDChyVjIzs7GlClT0K5dO/j6+iIyMhLTpk0zu+xm//796NWrF3x9fdG+fXt8/vnnDvWDvVRXV2PLli0YM2YMRo0aherqamzbts0hjaqqKjzzzDNo0aIFgoODMWnSJNy4cUN8ffLkyWjZsiXq6uqaHDto0CB06tRJcjvOnz+PGTNmoFOnTvDz80OLFi3wxBNPmJxrcnNzoVKp8MEHHzQ5/sCBA1CpVFi/fr1YdvnyZUybNg0RERHw8fFB165dsWLFCpPjDGumN2zYgFdffRUxMTHw9/dHeXm55DYRhL3Q0gKCkMD48eOxevVqfPXVV0hNTRXLr1+/jp07d2Ls2LHw8/Mze2xRUREGDRqEsLAwzJ07F6GhocjPz8d//vMfu9571KhRiIuLw8KFC/Hbb7/hww8/xI0bN/Dvf//b6faEhYXhs88+w/Tp0/Hoo49i5MiRAIDu3bujbdu2mDlzJtauXYuePXuaHLd27Vrcd999iImJcfq9AeCPP/7APffcg+DgYMyZMwdeXl74/PPPcd9992Hfvn3o3bs3AODq1avo27cvqqqq8Pzzz6NFixZYvXo1hg8fjk2bNuHRRx81q19dXY1HHnkEGRkZ2L17N3r16mXyuj19+tlnn6Fr164YPnw4tFotvvnmG8yYMQOCIGDmzJlivVWrVmHatGno2rUrXn75ZYSGhiIrKws7duzAuHHjzPr79ttv8fjjj2P06NFYsWIFNBqNw3147tw5AECLFi2Qm5uLrVu34oknnkDbtm1x9epVfP755+jfvz9OnDiB6OhoBAYG4tFHH8XGjRuxePFik/dcv349GGPirwrmWLVqFaZOnYpevXph4cKFuHr1Kv75z3/i119/RVZWFkJDQwEAu3btQm5uLqZOnYrIyEj88ccfWLZsGf744w/89ttv4i8Vv//+u/i5eP3111FfX4/58+cjIiLC4b6wxfbt23Hz5k2MGTMGkZGRuO+++7B27VqL8TFHamoqQkND8frrr+PUqVP47LPPcP78eTHJmzhxIv79739j586dePjhh8Xjrly5gp9++gnz58+X3I7Dhw/jwIEDGDNmDGJjY5Gfn4/PPvsM9913H06cOAF/f3+0a9cO/fr1w9q1a/Hiiy+aHL927VoEBQXhkUceAdDw+erTpw9UKhVSU1MRFhaGH374AU8++STKy8vxwgsvmBz/97//Hd7e3vjLX/6C2tpaeHt7S24TQdgNIwjCaerr61lUVBRLSUkxKV+6dCkDwHbu3CmWrVy5kgFgeXl5jDHGtmzZwgCww4cPW30PAGz+/Pni3/Pnz2cA2PDhw03qzZgxgwFgx44dE8vatGnDJk+eLP69Z88eBoDt2bNHLJs8eTJr06aN+HdxcXGT9zQwduxYFh0dzfR6vViWmZnJALCVK1dabYeh/dbaO2LECObt7c3OnTsnlhUUFLCgoCB27733imUvvPACA8B++eUXsayiooK1bduWxcXFif4M7f36669ZRUUF69+/P2vZsiXLysoyeV9H+rSqqqqJ78GDB7N27dqJf5eWlrKgoCDWu3dvVl1dbVJXEATx//v378+6du3KGGNs8+bNzMvLiz311FMm/WuJyZMns4CAAFZcXMyKi4vZ2bNn2T/+8Q+mUqlY9+7dGWOM1dTUNNHKy8tjPj4+7I033hDLdu7cyQCwH374waRu9+7dWf/+/cW/G48fnU7HwsPDWbdu3Uza+e233zIAbN68eWKZuX5bv349A8B+/vlnsWzEiBHM19eXnT9/Xiw7ceIE02g0zJ5LlqFfjDHuZ2Mefvhh1q9fP/HvZcuWMa1Wy4qKimy+j2E8JyYmMp1OJ5a/++67DADbtm0bY4wxvV7PYmNj2ejRo02OX7x4MVOpVCw3N9fh9jTGXN+mp6czAOzf//63WPb5558zACwnJ0cs0+l0rGXLlibniSeffJJFRUWxkpISE80xY8awkJAQ8f0M46Fdu3ZmPRAED2hpAUFIQKPRYMyYMUhPTzf5GW/dunWIiIjAgAEDLB5rmKn69ttvzf7saAvj2T8AeO655wAA33//vcNa9jJp0iQUFBRgz549YtnatWvh5+eHxx57TJK2Xq/Hjz/+iBEjRqBdu3ZieVRUFMaNG4f9+/eLP1l+//33SE5Oxt133y3WCwwMxNNPP438/HycOHHCRLusrAyDBg3CyZMnsXfvXtx1111mPdjTp8Yz7GVlZSgpKUH//v2Rm5uLsrIyAA2zjxUVFZg7dy58fX1NNM2tkV6/fj1Gjx6NZ555Bp9//rnNG/QMVFZWIiwsDGFhYejQoQNeeeUVpKSkYMuWLQAa1kgbtPR6Pa5du4bAwEB06tQJmZmZos7AgQMRHR2NtWvXimXHjx9HdnY2JkyYYPH9MzIyUFRUhBkzZpi0c+jQoejcubPJUg/jfqupqUFJSQn69OkDAKIXvV6PnTt3YsSIEWjdurVYPz4+HoMHD7arT+zl2rVr4q8mBh577DGoVCp89dVXdus8/fTTJuvQp0+fDq1WK44ZtVqN8ePHY/v27SY7nKxduxZ9+/ZF27ZtJbfFuG/r6upw7do1dOjQAaGhoSZxHjVqFHx9fU3ivHPnTpSUlIhxZoxh8+bNGDZsGBhjKCkpEf8NHjwYZWVlJppAw/IJS788EYTSUCJLEBIx/OxqWPt46dIl/PLLLxgzZozVn4b79++Pxx57DAsWLEDLli3xyCOPYOXKlXZvndSxY0eTv9u3bw+1Wu3wPrWO8OCDDyIqKkq8EAqCgPXr1+ORRx5BUFCQJO3i4mJUVVWZXTMYHx8PQRBw8eJFAA1rAi3VM7xuzAsvvIDDhw9j9+7d6Nq1q0UP9vTpr7/+ioEDByIgIAChoaEICwvDK6+8AgBiImv4ed+ePWLz8vIwYcIEPPbYY/joo48cuhnQ19cXu3btwq5du/Dzzz/j4sWL+PXXX8UvAoIg4IMPPkDHjh3h4+ODli1bIiwsDNnZ2aJX4H/J1tatW1FVVQWgIdHy9fXFE088YfH9Df1sLhadO3c2icP169cxa9YsREREwM/PD2FhYWISZ/BSXFyM6urqJnGw9B5S2LhxI+rq6tCzZ0+cPXsWZ8+exfXr19G7d2+TRM8Wjb0GBgYiKirKZMxMmjRJXI8LNOwmcuTIEUycOFGWtlRXV2PevHlo1aqVSZxLS0tN4hwaGophw4aZrNNeu3YtYmJi8MADDwBoiEFpaSmWLVsmfkky/Js6dSoANLknQI5knCCchRJZgpBIYmIiOnfuLN4oYc+6QgDiRv3p6elITU0Vb65ITEzEzZs3HfbBY7N4jUaDcePGYfPmzaipqcGePXtQUFBgddbOHXjkkUfAGMPbb7/t0B3Vjfv03LlzGDBgAEpKSrB48WJ899132LVrl7jm0Jm7taOiotC3b198//33Du+xq9FoMHDgQAwcOBD33HMPYmNjTV7/xz/+gdmzZ+Pee+/FmjVrsHPnTuzatQtdu3Zt4nXSpEm4efMmtm7dCsYY1q1bJ94UJwejRo3C8uXL8eyzz+I///kPfvzxR+zYsQOAc/0mFUOy2q9fP3Ts2FH8t3//fqSnpyM3N1e29+rSpQsSExOxZs0aAA07JXh7e2PUqFGy6D/33HN46623MGrUKHz11Vf48ccfsWvXLrRo0cJsnHNzc3HgwAFUVFRg+/btGDt2rDhzb6g/YcIE8UtS43/9+vUz0aTZWMKV0M1eBCED48ePx2uvvYbs7GysW7cOHTt2bHIjkSX69OmDPn364K233sK6deswfvx4bNiwAX/+85+tHnfmzBmTmZCzZ89CEATJT+mylRBPmjQJixYtwjfffIMffvgBYWFhsvzsGxYWBn9/f5w6darJaydPnoRarUarVq0AAG3atLFYz/C6MSNGjMCgQYMwZcoUBAUFWdxlwFaffvPNN6itrcX27dtNfvo2XmoBNMzkAg0/z3fo0MFqu319ffHtt9/igQcewJAhQ7Bv3z6rs8aOsGnTJtx///344osvTMpLS0vRsmVLk7Ju3bqhZ8+eWLt2LWJjY3HhwgV89NFHVvUN/Xzq1ClxRs/AqVOnxNdv3LiBtLQ0LFiwAPPmzRPrnDlzxuSYsLAw+Pn5NSk36MlFXl4eDhw4gNTUVPTv39/kNUEQMHHiRKxbtw6vvvqqTa0zZ87g/vvvF/++efMmCgsL8ac//cmk3qRJkzB79mwUFhZi3bp1GDp0KJo1ayZLezZt2oTJkydj0aJFYllNTQ1KS0ub1B0yZAjCwsKwdu1a9O7dG1VVVSYzw2FhYQgKCoJer8fAgQNl8UcQSkIzsgQhA4bZ13nz5uHo0aM2Z2OBhos7Y8ykzLB2057lBZ988onJ34akQ+qG7v7+/gBg9iIINOxg0L17d/zrX//C5s2bMWbMGKf3uTVGo9Fg0KBB2LZtm8nPslevXsW6detw9913Izg4GADwpz/9CYcOHUJ6erpYr7KyEsuWLUNcXBy6dOnSRH/SpEn48MMPsXTpUrz00ktmPdjqU8NSEeO4lZWVYeXKlSbHDRo0CEFBQVi4cGGT7bsaxxwAQkJCsHPnToSHh+PBBx8UlyZIRaPRNHm/r7/+2uI2aRMnTsSPP/6IJUuWoEWLFjbHUlJSEsLDw7F06VKTMfvDDz8gJycHQ4cOFX0ATdu+ZMmSJn4HDx6MrVu34sKFC2J5Tk4Odu7cab2xDmCYjZ0zZw4ef/xxk3+jRo1C//797V5esGzZMpM17p999hnq6+ub9N3YsWOhUqkwa9Ys5Obmyvorhrk4f/TRR9Dr9U3qarVajB07Fl999RVWrVqFO++8E927dzfReuyxx7B582YcP368yfHFxcWy+SYIOaAZWYKQgbZt26Jv377iHpT2JLKrV6/Gp59+ikcffRTt27dHRUUFli9fjuDg4CazOebIy8vD8OHDMWTIEKSnp2PNmjUYN24cevToIaktfn5+6NKlCzZu3Ig77rgDzZs3R7du3UzWe06aNAl/+ctfAMDhC/KKFSvEn5SNmTVrFt58803s2rULd999N2bMmAGtVovPP/8ctbW1ePfdd8W6c+fOxfr16/HQQw/h+eefR/PmzbF69Wrk5eVh8+bNFm+WSk1NRXl5Of72t78hJCREXNtqwFafDho0CN7e3hg2bBieeeYZ3Lx5E8uXL0d4eDgKCwtFneDgYHzwwQf485//jF69emHcuHFo1qwZjh07hqqqKqxevbqJt5YtW4ptHzhwIPbv3y95O7OHH34Yb7zxBqZOnYq+ffvi999/x9q1a01upjNm3LhxmDNnDrZs2YLp06fb9TCNd955B1OnTkX//v0xduxYcfutuLg4cclFcHAw7r33Xrz77ruoq6tDTEwMfvzxR+Tl5TXRXLBgAXbs2IF77rkHM2bMQH19PT766CN07doV2dnZkvrDwNq1a3HXXXeJM/yNGT58OJ577jlkZmYiISHBqpZOp8OAAQMwatQonDp1Cp9++inuvvtucf9oA2FhYRgyZAi+/vprhIaGikm+PdTV1eHNN99sUt68eXPMmDEDDz/8ML788kuEhISgS5cuSE9Px+7du9GiRQuzeoYvdXv27ME777zT5PW3334be/bsQe/evfHUU0+hS5cuuH79OjIzM7F7925cv37dbu8EoTgu2i2BIG45PvnkEwaAJScnm3298fZbmZmZbOzYsax169bMx8eHhYeHs4cffphlZGSYHAcL22+dOHGCPf744ywoKIg1a9aMpaamNtnqyZnttxhj7MCBAywxMZF5e3ub3YqrsLCQaTQadscdd9jVN8btt/Tv4sWLYr8MHjyYBQYGMn9/f3b//fezAwcONNE7d+4ce/zxx1loaCjz9fVlycnJ7NtvvzWpY7z9ljFz5sxhANjHH3/MGHOsT7dv3866d+/OfH19WVxcHHvnnXfYihUrTGJrXLdv377Mz8+PBQcHs+TkZLZ+/XrxdXPbQp09e5ZFRUWx+Ph4VlxcbLE/7dmWqaamhv3f//0fi4qKYn5+fqxfv34sPT2d9e/f32RbLWP+9Kc/MQBm+9zc+GGMsY0bN7KePXsyHx8f1rx5czZ+/Hh26dIlkzqXLl1ijz76KAsNDWUhISHsiSeeYAUFBWbH1759+8Tx165dO7Z06VIxRrawtf3WkSNHGAD22muvWdTIz89nANiLL75osY5hPO/bt489/fTTrFmzZiwwMJCNHz+eXbt2zewxX331FQPAnn76aZvtMG6Ppc9M+/btGWOM3bhxg02dOpW1bNmSBQYGssGDB7OTJ082+fwb07VrV6ZWq5vEycDVq1fZzJkzWatWrZiXlxeLjIxkAwYMYMuWLRPrWPp8EQRPVIyZ+Z2LIAjCCiUlJYiKisK8efPw2muvudoOISOPPvoofv/9d5w9e9bVVm45tm3bhhEjRuDnn3/GPffc41IvPXv2RPPmzZGWluZSHwQhFVojSxCEw6xatQp6vV627YMI96CwsBDfffcdxVUhli9fjnbt2pnsf+wKMjIycPToUUyaNMmlPghCDmiNLEEQdvPTTz/hxIkTeOuttzBixAjJOyQQ7kFeXh5+/fVX/Otf/4KXlxeeeeYZV1u6pdiwYQOys7Px3Xff4Z///CeXrfLMcfz4cRw5cgSLFi1CVFQURo8e7RIfBCEnlMgSBGE3b7zxBg4cOIB+/frZ3JqJ8Bz27duHqVOnonXr1li9ejUiIyNdbemWYuzYsQgMDMSTTz6JGTNmuMzHpk2b8MYbb6BTp05Yv359k6fOEYQnQmtkCYIgCIIgCI+E1sgSBEEQBEEQHgklsgRBEARBEIRHctutkRUEAQUFBQgKCnLZgnuCIAiCIAjCPIwxVFRUIDo62uIDbgzcdolsQUGBxae5EARBEARBEO7BxYsXERsba7XObZfIBgUFAWjoHMNz25VEr9fjxIkT6NKli/i8cXfXJs98tMkzH23yzEebPPPRJs98tMkzP21zlJeXo1WrVmLOZo3bLpE1LCcIDg7mksjW19dDo9EgKCgIWq283a2UNnnmo02e+WiTZz7a5JmPNnnmo02e+Wlbw54loHSzF0EQBEEQBOGRUCJLEARBEARBeCS33QMRysvLERISgrKyMi5LCxhjKCsrQ0hIiOy7JCilTZ75aJNnPtrkmY82eeajTZ75aJNnftrmcCRXo0SWIAiCIAiCcBscydVoaYHC1NfX4/Dhw6ivr/cYbfLMR5s889Emz3y0yTMfbfLMR5s889OWCiWyHNDr9R6nTZ75aJNnPtrkmY82eeajTZ75aJNnftpSoESWIAiCIAiC8EgokSUIgiAIgiA8ErrZS2EYY6iuroafn58idxEqoU2e+WiTZz7a5JmPNnnmo02e+WiTZ37a5qCbvdwMb29vj9Mmz3y0yTMfbfLMR5s889Emz3y0yTM/bSlQIqswer0eGRkZiiySVkqbPPPRJs98tMkzH23yzEebPPPRJs/8tKXi0kT2559/xrBhwxAdHQ2VSoWtW7faPGbv3r1ISEiAj48POnTogFWrVinukyAIgiBcjV5g+C33On69VIvfcq9DL8i3MlBJbaVQyrMn9rMnepYLrSvfvLKyEj169MC0adMwcuRIm/Xz8vIwdOhQPPvss1i7di3S0tLw5z//GVFRURg8eDAHxwRBEATBnx3HC7HgmxMoLKsBAHyUcRhRIb6YP6wLhnSLclttpVDKsyf2syd6lhOXzsg+9NBDePPNN/Hoo4/aVX/p0qVo27YtFi1ahPj4eKSmpuLxxx/HBx98oLBTgiAIgnANO44XYvqaTDGZMHClrAbT12Rix/FCt9RWCqU8e2I/e6JnuXGbXQtUKhW2bNmCESNGWKxz7733IiEhAUuWLBHLVq5ciRdeeAFlZWV2vY8rdi3Q6/XQaDSK3EWohDZ55qNNnvlok2c+2uRZGW29wHD3Oz81SSaMCfLV4ul720Ht4PsIjOHzfbm4WWv+aU0qAJEhvtj/0gPQqJ1vg5z9rFR/2OoLZ3WV1HalZ7nGhiUcydVcurTAUa5cuYKIiAiTsoiICJSXl4vbQjSmtrYWtbW14t/l5eUAGh63ZnjUmlqthlqthiAIEARBrGso1+v1MM73LZUbPqTGj3BjjEGn08HPz6/JImmNRgOg6dMytFqt+ME3oFKpoNFoTDwyxlBTU4PAwECL3p1pkyAIqKmpga+vL7RabZM2WfNuq0319fWitlqtbtImS2211SaVSoXq6mr4+vqKJ0pH4mTNu1qtRm1tLby9vU1OwvbGyVI5Ywy1tbUICAiQfewZxkZAQIDZNjk79vR6vc34SRl7xjF0NE7WyhvHz5E4WWuTSqWCTqdrcjev1LFnK35Sxp5B29/f32pbnRl7hrFheE9L8XCmTcZjw5lzhDnvluInx9hjjKGurg6+vr5OnyMA4FD+DatJGwBU1NRj0Y+nrdZxBgagsKwG6WeL0addcwDOjz3j+Ek5R6Sfu+ay/lBKV0ltnmNDrmuuRqMxOd4WHpXIOsPChQuxYMGCJuVZWVniRSIsLAzt27dHXl4eiouLxTqxsbGIjY3F6dOnTWZ827Vrh/DwcBw/fhzV1dVieefOnREaGoqsrCyTC5IgCEhKSkJWVpaJh6SkJOh0OmRnZ4tlGo0GvXr1QllZGU6ePCmW+/n5oUePHigpKUFubq6oXVlZifvuuw9XrlzBpUuXxPpS2lRVVYXS0lKEhoYiPj6+SZsAoHv37vD29kZGRoZDbcrJyRG1/f39m7QJAEJCQhAfH4+CggK72xQZGYmDBw8iICBATFYciZO1NvXs2RNHjx4VE2ZH42SpTYZ9+e69916cP39e1rHHGENpaSnuvvtu+Pn5ORwnS206d+6cGD/D+HAkTtba9Pvvv+PKlSsIDQ2FSqVyOE6W2tSzZ09kZmaKX8ocjZO1NkVFRaGwsBBBQUGoqKhwOE6W2mSI3wMPPAC9Xu/0OcJcmwzaHTp0QMeOHWU97127dk2Mn7PnCHNtKioqwtGjR0VtZ84R5trUpk0bnD9/Hj4+PiYTHnKMPUOi1rFjR5w5c8bhOBn4o8wHruZgdg60132cHnuXLl3CiRMnxPhJuT4dPFPKpc2EfRjGBiDfNTcpKcnkeFvc8ksLzM3ItmrVCteuXROnq5WckdXr9cjMzERSUlKTn1SkzsgatHv16iX6b+zRmTbV19cjMzMTCQkJ4iyWXDOyOp1O1NZqtbLNyAqCgMOHDyMhIUH0INe3Q8YYMjIyTLSN2+TsbIs98XN27BmPO61WK9usWF1dnc34OTv2amtrRW2NRiPbjCyAJmNDrhlZQRCQmZmJnj17mowNqWPPVvykjD2DdmJiIry9vWU775mLn7l4ODP2dDodjhw5ImrLNSNrKX5yjD29Xo+srCwkJiaanPsdHXs/nynBtNVHYIsXB3ZAp4ggqNUqqFRqcfbduA9UKpWJx1NXK/DB7rM2tddM6yVpRrZx/KRcn5buO4f3fvzfFwNL/N+Dd6BjeIBJmVrdcFuQ8XsCDfE7WViORbtsz1zOHtgR8dEhYEyAIBh7bOh3c+Wnr97E+3bMir44sAPio0KaxMmSd3vjZxgbhtnwxh7NlTszNuSckS0vL0doaOitt7QgJSUF33//vUnZrl27kJKSYvEYHx8f+Pg0/Uar1Wqh1Zo23xCExhif4Owpb6xr+Cmscbml+oZjzJU39tj4Z3Rb9W15N0zpG/+0a8mjo+XGmsYXOke9mysXBEHUbfze9sbJUnl9fb1FbXvjZKncVvykjD3DuJNz7MkRP2ttMtfPUseetfhJHXuGE7M5bUO5s95txU/K2DNcuKzVd3TsyRE/a20ypy117NmKn1znPWfjdOlGFd7Zccrse4n6aFirmPrAHQ6vVXywK8OGw5dwpawGlma0VAAEpmoyNh1tkyPxMzfGGGNY8et5vG8jiTX0x4z7OzjUHw90Dse6Qxcs9oVBd+YDHR3u5wHxDGsP2tZ2NIa24qfk2DBop3QIa6It9ZoL/O/aaA8u3bXg5s2bOHr0KI4ePQqgYXuto0eP4sKFCwCAl19+GZMmTRLrP/vss8jNzcWcOXNw8uRJfPrpp/jqq6/w4osvusK+3VgKqjtrk2c+2uSZjzZ55qNNnuXTzsi/jkc+/hWnrt60WMdwqZ8/rItTN9xo1CrMH9bFRKsxDMDU1Yex+kC+Q+sWm7yXhL6ordfjr5uy8db3OSZJVWPPUvrDWl8o2c+3m2clcOnSgr179+L+++9vUj558mSsWrUKU6ZMQX5+Pvbu3WtyzIsvvogTJ04gNjYWr732GqZMmWL3e/LetYAgCIIgHOGrwxfxt62/o07fcHmOa+GPyX3jsOznXJMbnZTaKxQAIoN9EBbkg98vl4tlY5NbY8HwrvDW8psDK66oxbNrjuDI+Rti2fMDOqJzRBD+/t0J2fvDXF8o2c+3q2dbOJKruc0aWV64YvutsrIyhISEKLK9ixLa5JmPNnnmo02e+WiTZ+na9XoBC384iS/254ll/Tq0wCfjEhDq7w29wHAo7xryr95AXEQzJLdtIduMmDltAHhv5yks3XdOrNe7bXN8NiERzQO8LUk1wdl+Pn65DE//OwMF/02ifL3UeP+JHni4e7RFz3L0B+9+vl09W8ORXM2lSwtuB/R6PU6ePKnYs4+V0CbPfLTJMx9t8sxHmzxL0y6rrsO01RkmSezklDZYNTUZof4NSaNGrUKvNqFoq76GXm1CZU0mzGlr1CrMfagzPhjdQ5yFPZh3HY98sh+nrlTYUPwfzvTzD78X4oml6WISGxnsi6+f6SsmsZY8ywHvfnZnXaW15YASWYIgCIJwIXkllXj001/x8+mGrai0ahXeerQbFjzSDV4a11+mH+0Zi41P90FYUMON0xevV2Pkp79i14mrsr8XYwwfpp3B9LWZqK5rSHzvahWK7an9cGdsiOzvR3g+rv+EEARBEMRtyi9nivHIx/uRW1wJAGjm74Uvn+yN8b3buNiZKT1bN8P21H7oFtPwM2+lTo+nv8zAp3vPSroJzJhqnR6p67Ow2GgbrJE9Y7Dh6T4ID/aV5T2IWw9KZBVGpVLBz89P9vVXSmqTZz7a5JmPNnnmo02eHdNmjGHVr3mYsvIwymsatgG7IyIQ22bejZT2LdzSc1SIH75+pi+Gdo/6bxuAd3ecwosbj6KmzvKyAXs8F5ZV44nPD+C77ML/HgPMfagzFo3qAV8vyzse3Ipjw910ldaWCt3sRRAEQRAc0dULmL/9ONYfuiiWDYwPxwej70KQr5cLndkHYwwf/3TW5AECPVqFYvnERKdmTjMv3MAzXx5BcUXDw4sCvDX4cGxPDIiPsHEkcatCN3u5EYIgoKioqMmTRNxZmzzz0SbPfLTJMx9t8myf9vVKHSZ8cdAkiZ1+X3t8PjHJriTWHfpZpVLhuQEdsXRCAvz+O1t67GIphn/8K7IvlTqk+5/MSxiz7DcxiW3d3B9bZvazO4m9lcaGu+oqrS0VSmQVRhAE5ObmKjawlNAmz3y0yTMfbfLMR5s829Y+eaUcwz/ej0N51wEA3lo1PhjdAy8N6Wz3neDu1M9DukVh0/QUxIT6AQCulNfgiaXp+OZYgU1dvcCw8IcczP7qGHT1DeV92jXH1pn9cEdEkGKeXa2rpLYnepYDSmQJj0cvMPyWex2/XqrFb7nXoRfkWy2jlDZ55qNNnvlok2fb2rtOXMVjnx7ApRvVAICwIB9sfLoPHu0ZK9v7uoKu0SHYltoPSW2aAQBq6wU8tz4Li348BUFgZvuioqYOT/07A5/vyxV1xvdujS+f7O3Q/rQEAQDmH3xLEB5C46eOfJRxWLEnmsilTZ7JM3m+vTwH+mhxs7ZerHNnTAiWTUpEVIifpPdyF1oG+mDtU73x6pbj+PrIJQDARz+dxS9nilFYVoOr5Q3LBj7KOIywQB9o1SoUljf0j0atwuvDumBiSpyr7BMeDs3IKoxKpVLkqTFKanuK5x3HCzF9TabJo/MA4EpZDaavycSO44Vup02eyTN5vv08GyexD3ePwlfPpDidxLrr+dlHq8G7j3fHq0PjYVglcfRimZjEGii+WSsmsSF+Xvj3tGRJSeztfh3koau0tlRo1wLCI9ELDHe/81OTC4YBFYDIEF/sf+kBh59CopQ2eSbP5Pn29QwAQT5aZM17EFo3eMiBkvyUcxVPrs6AteRCo1bhxxfuRfvwQG6+CM/BkVyNElmFEQQBBQUFiI6Ohlot78lLKW1P8Jx+7hrGLv/NZr1m/l7ioxXtRVcv4EZVnezaSukqqU2e+WiTZz7a7uB5/VN9rO4Ta4tb6fwstS+A2/s6yEtXaW1zOJKr0RpZhREEAZcuXUJkZKQiA0sJbU/wXFRhedbDGHsuLM6ilDZ55qNNnvlok2dT7D13WeJWOj9L7Qvg9r4O8tJVWlsqlMgSHkl4kH2bbrcI8IKP1vJTYcxRW6/HtUrbFzJHtZXSVVKbPPPRJs98tN3Bs73nLk/G3jbeDn1BKA8lsoRHkty2OaJCfHGlrMbsOiw51rrJra2ULnkmz+TZczwnt23ukK4nYu/5+XboC0J53Gt++BZErVYjLCxMkal4pbQ9wbNGrcL8YV3Mvma4/Mwf1sXhi1Fj7cZHS9FWSldJbfLMR5s889H2RM+N8bTzs5J9Adze10FeukprS4Vu9iI8msW7TuHDtLMmZUrtBymXtlK65Jk8k+db17MnQn1BOAvtWmAFV+xakJeXh7Zt2yqy+FoJbU/yPH/bcaxOPw8AGNk1FI+n3IHe7VrK8k0faPi58GBuCf44dwld28fKpq2UrpLa5JmPNnnmo+2JngHPOj8DyvYFQNdBHrpKa5vDkVzN/eaIbzEEQUBxcbFizz5WQttTPDPGsDunCADgpVHh4TgVkuOayXqS1KgbNO8MqZVVWyldJbXJMx9t8sxH2xM9A55zfjagZF8AdB3koau0tlToZi/CYzl5pQKXSxueW54c1xz+Xi42RBAEQRAEV2hGlvBY0nKuiv8/oHOYC50QBEEQBOEKaEZWYdRqNWJjYxW7i1AJbU/xvOu/ywoAYGCXCKirfdzeMw9dJbXJMx9t8sxHmzzz0SbPfLQ90bMc0M1ehEdSVFGD5LfSAACdI4Ow44V7XeyIIAiCIAg5oJu93Ai9Xo+cnBzo9XqP0fYEzz8Zz8bGR3iEZ166SmqTZz7a5JmPNnnmo02e+Wh7omc5oERWYRhjKCsrgxIT30ppe4Ln3UaJ7ID4cI/wzEtXSW3yzEebPPPRJs98tMkzH21P9CwHlMgSHkdNnR77zxYDAFoG+qBHbKhrDREEQRAE4RIokSU8jl/PlqCmrmEvuwGdw6GWeV9CgiAIgiA8A5cnsp988gni4uLg6+uL3r1749ChQ1brL1myBJ06dYKfnx9atWqFF198ETU1NVaPcSVqtRrt2rVT7C5CJbTd3fNuo223BnaJkE3XErdrP/PUVVKbPPPRJs98tMkzH23yzE9bKi7dtWDjxo2YNGkSli5dit69e2PJkiX4+uuvcerUKYSHhzepv27dOkybNg0rVqxA3759cfr0aUyZMgVjxozB4sWL7XpP2rXAsxEEhj4L01BUUQsfrRpH5w2Cn7fG1bYIgiAIgpAJj9m1YPHixXjqqacwdepUdOnSBUuXLoW/vz9WrFhhtv6BAwfQr18/jBs3DnFxcRg0aBDGjh1rcxbXlej1ehw7dkyxuwiV0HZnz79fLkNRRS0A4O4OLcUk1p0989ZVUps889Emz3y0yTMfbfLMR9sTPcuByx6IoNPpcOTIEbz88stimVqtxsCBA5Genm72mL59+2LNmjU4dOgQkpOTkZubi++//x4TJ060+D61tbWora0V/y4vLwcA1NfXo76+XnxftVoNQRBMniNsKNfr9SZ36lkq12g0UKlUoi7QEPyqqioIgtDkbj+N5n9JmDFarRaMMZNylUoFjUZj4tGgzRiz6N2ZNtXX16Oqqgr19fVQq9VN2mTNu602GWsb6jf2aK6tBo/GT/O6v1NL0SNjTNQ1tMuROFnzbk7buE224mSp3J74OTv2jMedob49bbXVJnvi5+zYM9ZmjDkcJ0vlAJrEz5E4WWuTIAiorq5uMjakjj1b8ZMy9gzaer3ealudGXuN42cuHs6MPYNng7ajcbLk3VL85Bh7er0e1dXVTc79Usde4/hJuT419m7cz4afkOUYe43jJ+c119z5WY6xZ4hf4/eUY+wZn/ulXp8sxc/QN85enxq3yfjzrVKpJOdGttrkyGIBlyWyJSUl0Ov1iIiIMCmPiIjAyZMnzR4zbtw4lJSU4O677xaTomeffRavvPKKxfdZuHAhFixY0KQ8KysLAQEBAICwsDC0b98eeXl5KC4uFuvExsYiNjYWp0+fRllZmVjerl07hIeH4/jx46iurhbLO3fujNDQUGRlZYmBMU5SsrKyTDwkJSVBp9MhOztbLNNoNOjVqxfKyspM+sHPzw89evRASUkJcnNzRe3KykoAQEFBAS5duiTWl9KmqqoqlJaWIjMzE/Hx8U3aBADdu3eHt7c3MjIyHGpTTk6OqO3v79+kTQAQEhKC+Ph4s20yfppX85pCZGRcRWxsLCIjI1FZWYnMzEyoVCqH42StTT179oQgCCbajsTJUpsYY6IvucceYwylpaWoqamBn5+fw3Gy1KZz586J8QsNDbUYJ2fG3okTJ0RtlUrlcJwstalnz56or683iZ8jcbLWpqioKADA2bNnUVFR4XCcLLXJED9DouXsOcJcmwza58+fR8eOHWUbe8eOHTOJn7PnCHNtunbtmom2o3Gy1KY2bdoAAE6cOGEy4SHH2DMkguXl5Thz5ozDcbLUJkP8CgsL0aZNG0nXp8ZtMmhnZmaiV69ekq5Pxm0qLCw0iZ+c19zAwECUlZWZfL7lGHs+Pj4AgGvXruH8+fMOx8lamxhj0Ol0ACD5+mTcJkP8jh07huTkZEnXp8ZtKioqEmPYqlUrybmRrTYZH28Ll62RLSgoQExMDA4cOICUlBSxfM6cOdi3bx8OHjzY5Ji9e/dizJgxePPNN9G7d2+cPXsWs2bNwlNPPYXXXnvN7PuYm5Ft1aoVrl27Jq67UHpGNjMzE0lJSeKHzLi+oY4xjszIGk44Bv+NPTo7I5uZmYmEhAR4e3vLOiOr0+lEba1W69C3w8LyWtzz7l4AwJ0xwdgyPUX0LggCDh8+jISEBNGDnDOyGRkZJtrGbZIyI2srflJmZA3jTqvVyjYjW1dXZzN+zo692tpaUVuj0cg6I9t4bMg5I5uZmYmePXuajA05ZmStxU/qjGxmZiYSExPh7e0t23nPXPzMxcOZsWf4Bc+gLeeMrLn4yTUjm5WVhcTERJNzvxwzssbxk3tG1vjcb66tzoy9xvGT85qr1+ubfL7lmpHNyspCQkKCyQ1Ocs3IGs79KpVK1hlZQ/x8fHxknZE1Pvd7eXkpPiNbXl6O0NBQu9bIuiyR1el08Pf3x6ZNmzBixAixfPLkySgtLcW2bduaHHPPPfegT58+eO+998SyNWvW4Omnn8bNmzftupuO981ehk2EQ0JCmiSy7qrtrp7/nZ6Pedv+AADMfvAOPD+go9t7doWuktrkmY82eeajTZ75aJNnPtqe6NkSHnGzl7e3NxITE5GWliaWCYKAtLQ0kxlaY6qqqpokq4aM3h2fNgE0fNMJDQ1VJPBKabur58ZP85JL1xa3Wz+7QldJbfLMR5s889Emz3y0yTM/bam4dNeC2bNnY/ny5Vi9ejVycnIwffp0VFZWYurUqQCASZMmmdwMNmzYMHz22WfYsGED8vLysGvXLrz22msYNmyYyc9C7kR9fT0OHz7cZErdnbXd0fPN2nr8du4aACA6xBddoky/obmjZ1fpKqlNnvlok2c+2uSZjzZ55qPtiZ7lwGU3ewHA6NGjUVxcjHnz5uHKlSu46667sGPHDvEGsAsXLpjMwL766qtQqVR49dVXcfnyZYSFhWHYsGF46623XNUEuzC3Zs/dtd3N8y+ni6HT//dpXvERZr8VuptnV+oqqU2e+WiTZz7a5JmPNnnmo+2JnqXi0kQWAFJTU5Gammr2tb1795r8rdVqMX/+fMyfP5+DM8KdMF5WYHiaF0EQBEEQtzfu96wxgmiEXmDYc6ohkQ3w1qBPu+YudkQQBEEQhDvg0kfUugJX7FpQXV0NPz8/Re4iVELb3Txn5F/H40sbHpLxULdIfDYh0e09u1JXSW3yzEebPPPRJs98tMkzH21P9GwJj9i14HbCsB+fJ2m7k+ddRk/zGhBveVmBO3l2ta6S2uSZjzZ55qNNnvlok2c+2p7oWSqUyCqMXq9HRkaGIoukldJ2N89p/10fq1YB93cKk03XXm6XfnalrpLa5JmPNnnmo02e+WiTZ37aUqFElnBr8ksqcbboJgAgoXUztAj0cbEjgiAIgiDcBUpkCbdmt9GyAtqtgCAIgiAIYyiRJdwak0S20dO8CIIgCIK4vaFdCxSGMQa9Xg+NRqPIXYRKaLuL57KqOiS8uQt6gSGuhT/2/OU+i8e4i2d30FVSmzzz0SbPfLTJMx9t8sxH2xM9W4J2LXAzdDqdx2m7g+e9p4ugFxq+Z1l6mpczus5wK/ezu+gqqU2e+WiTZz7a5JmPNnnmpy0FSmQVRq/XIzs7W7G7CJXQdhfPJk/zsrLtlqO6jnKr97M76CqpTZ75aJNnPtrkmY82eeanLRVKZAm3pE4vYO9/n+YV7KtFUlwzFzsiCIIgCMLdoESWcEsO511HRU09AOD+zuHw0tBQJQiCIAjCFMoOOKDRaDxO29We7X2al6O6znKr9rM76SqpTZ75aJNnPtrkmY82eeanLQXatYBwOxhjuPe9Pbh4vRpatQpHXnsQIX5errZFEARBEAQHaNcCN4IxhtLSUijxfUEpbVd7PlN0ExevVwMAkts2tyuJdbVnd9JVUps889Emz3y0yTMfbfLMR9sTPcsBJbIKo9frcfLkScXuIlRC29WeTR+CYN+yAld7diddJbXJMx9t8sxHmzzz0SbPfLQ90bMcUCJLuB27TzieyBIEQRAEcftBiSzhVpTcrEXWxVIAwB0RgWjdwt+1hgiCIAiCcFsokVUYlUoFPz8/RR7pppS2Kz3/dLIIhiU49u5WYI+uFG7FfnY3XSW1yTMfbfLMR5s889Emz/y0pUK7FhBuxTNfZmDnHw1LCzZP74vENvQgBIIgCIK4naBdC9wIQRBQVFQEQRA8RttVnmvq9Pj5dAkAoEWAN+5qFSqLrlRutX52R10ltckzH23yzEebPPPRJs/8tKVCiazCCIKA3NxcxQaWEtqu8pyeew3VdQ13RD7QORwatf0/YVA/89Emz3y0yTMfbfLMR5s889H2RM9yQIks4TYY71bgyPpYgiAIgiBuTyiRJdwCxhjScooAAN5aNe7p2NLFjgiCIAiCcHcokVUYlUqFkJAQxe4iVELbFZ7/KCjHlfIaAEDf9i0Q4KOVRVcObqV+dlddJbXJMx9t8sxHmzzz0SbP/LSlQrsWEG7Bkt2nsWT3GQDAmyO6YUKfNi52RBAEQRCEK/CoXQs++eQTxMXFwdfXF71798ahQ4es1i8tLcXMmTMRFRUFHx8f3HHHHfj+++85uXUcQRBw6dIlxRZfK6HtCs/Gj6UdEB8um64c3Er97K66SmqTZz7a5JmPNnnmo02e+WlLxaWJ7MaNGzF79mzMnz8fmZmZ6NGjBwYPHoyioiKz9XU6HR588EHk5+dj06ZNOHXqFJYvX46YmBjOzu3HEwcWb8+FZdU4frkcANAtJhhRIX6y6MrFrdLP7qyrpDZ55qNNnvlok2c+2uSZn7ZUHFuIKDOLFy/GU089halTpwIAli5diu+++w4rVqzA3Llzm9RfsWIFrl+/jgMHDsDLywsAEBcXx9MyoQCGm7wAYEBn2q2AIAiCIAj7cFkiq9PpcOTIEbz88stimVqtxsCBA5Genm72mO3btyMlJQUzZ87Etm3bEBYWhnHjxuGll16CRqMxe0xtbS1qa2vFv8vLG2b+6uvrUV9fL76vWq2GIAgm3zYM5Xq9HsZLiS2VazQaqFQqUReAWIcxZlJuqG+oY4xWqwVjzKRcpVJBo9GYeDR+f0venWmT4TW9Xm+2Tda829Mmw38NbTJeVnB/p5bi+zrSJgBN+syROFnzboifs3GyVG5P/Jwde8bjzpx3Z8eeufjJOfaM31uusQc0HRuOxMlam4xjaYzUsWcrflLGnkHbUEeusWcufub6xtmxZ/yaXGPPUvzkGHuG/2987pc69hrHT8r1qbH3xud+c211duwZHyPnNdfQx8Z+5Bh7hv8XBMGu+DnSJkv/b/Do7Ngzjp/U61PjNhlry5Eb2WqTI7dvuSyRLSkpgV6vR0SE6QxcREQETp48afaY3Nxc/PTTTxg/fjy+//57nD17FjNmzEBdXR3mz59v9piFCxdiwYIFTcqzsrIQEBAAAAgLC0P79u2Rl5eH4uJisU5sbCxiY2Nx+vRplJWVieXt2rVDeHg4jh8/jurqarG8c+fOCA0NRVZWlklgQkNDwRjDkSNHTDwkJSVBp9MhOztbLNNoNOjVqxfKyspM+sHPzw89evRASUkJcnNzxXLGGNRqNQoKCnDp0iWxXGqbqqurkZWVZbFN3bt3h7e3NzIyMhxuk0Hbz88PHeO74sDZhqd5NfdVo/ryKZyuDEV8fLxDbYqOjgZjDFlZWU7HyVKbEhISxPrOxikkJMRsmzQaDdRqtSJjr7q6GrW1tVCpVE7FyVKbDPGz1CZnx15OTo6o7UycLLUpMTERQUFBJvFzNE6W2hQdHY2wsDCcO3dO/JLsaJwstam6uhqMMVRXV0s6R5hrU3V1NS5cuIAOHTrINvaOHTtmEj8p54jGbbp+/bqJtlxjLy4uDmFhYcjJyUFNTY1TcbLUJrVajbCwMFRUVOD06dNOxclSm6qrq3HlyhW0bt1a8vWpcZsM/SzH9cnQpitXrpjET85rbnBwMGpqakw+33KMPV9fX4SFheH69evIz893Kk7W2uTn5we1Wo3ff/9d0vWpcZuqq6tx7NgxJCcnS74+NW6TIYZy5UbW2mR8vC1ctmtBQUEBYmJicODAAaSkpIjlc+bMwb59+3Dw4MEmx9xxxx2oqalBXl6emMkvXrwY7733HgoLC82+j7kZ2VatWuHatWvinXBKzsgaygH5ZiakzCC5W5t2nyzGM182JPjjklvhjeFdPL5Nt2KcqE3UJmoTtYnaRG3i1aby8nKEhobatWuBy2ZkW7ZsCY1Gg6tXr5qUX716FZGRkWaPiYqKgpeXl8kyAsO3PZ1OB29v7ybH+Pj4wMfHp0m5VquFVmvafEMQGmNp2YKlcmNdQWh4rFvbtm2bvJ+5+gZUKpXZcmOPgiAgLy8Pbdu2tejdmTYZ6xr2jHPEu7U2GWYfDZ6Nn+b1YJdIk+McaZMgCMjPzxd17Wmrvd4b93PjNtmKk6Vye+Ln7NhrrC3X2APQpC/kGnsqlcpsDKWOPWvxc9R743JBEHDu3Dm0bdvWbLucHXv2xM/ZsWesba2+o2Ov8We7cZsa40ibAOD8+fNNtKWOPVvxkzL2jLWdPUeYK28cPynXp8bl9p77HR17gGPxc6RNgiCY1bbk3VJ54zbJHT9j78b9LPX6ZFzeeGxIuT41LgeanvvlHHuNcWS/Wtl3LTh+/Lhd9by9vZGYmIi0tDSxTBAEpKWlmczQGtOvXz+cPXvW5JvB6dOnERUVZTaJdQcEQUBxcbGJZ3fX5uVZLzD8dLLhRi8/Lw1S2reQRVduPL2fPUFXSW3yzEebPPPRJs98tMkzP22pyJLIVlRUYNmyZUhOTkaPHj3sPm727NlYvnw5Vq9ejZycHEyfPh2VlZXiLgaTJk0yuRls+vTpuH79OmbNmoXTp0/ju+++wz/+8Q/MnDlTjmYQnDl6sRTXKnUAgHs6toSvl/lvcQRBEARBEOaQtLTg559/xhdffIHNmzcjOjoaI0eOxCeffGL38aNHj0ZxcTHmzZuHK1eu4K677sKOHTvEG8AuXLhgMs3dqlUr7Ny5Ey+++CK6d++OmJgYzJo1Cy+99JKUZhAuIs1ot4KBXWjbLYIgCIIgHMPhRPbKlStYtWoVvvjiC5SXl2PUqFGora3F1q1b0aVLF4cNpKamIjU11exre/fubVKWkpKC3377zeH3cRVqtRqxsbEW1w25ozYvz4Ztt1Qq4IHOjj/Ny5Ku3Hh6P3uCrpLa5JmPNnnmo02e+WiTZ37aUnFo14Jhw4bh559/xtChQzF+/HgMGTIEGo0GXl5eOHbsmFOJLG8ceX4voRwXrlXh3vf2AAASWofiPzP6udgRQRAEQRDugCO5mkOp9Q8//IAnn3wSCxYswNChQy3emUb8D71ej5ycHLObtLurNg/PP57433ZpA+KlLyugfuajTZ75aJNnPtrkmY82eeaj7Yme5cChRHb//v2oqKhAYmIievfujY8//hglJSVKebslYIyhrKzMoadUuFqbh+efjB5L+6AM62Opn/lok2c+2uSZjzZ55qNNnvloe6JnOXAoke3Tpw+WL1+OwsJCPPPMM9iwYQOio6MhCAJ27dqFiooKpXwStxBVdQIO5d8AALRq7oeO4YEudkQQBEEQhCfi1KrdgIAATJs2Dfv378fvv/+O//u//8Pbb7+N8PBwDB8+XG6PxC3G0at1qBcavtUNjI9waONjgiAIgiAIA5JvP+vUqRPeffddXLp0CevXr5fD0y2FWq1Gu3btFLuLUAltpT2fvvm/h1c8KMP6WIMu9bPy2uSZjzZ55qNNnvlok2c+2p7oWQ4c2rXgVoB2LXAt9XoBiW/uRll1HYJ8tch87UF4adzvg0EQBEEQhGtQbNeCkSNH2vz32GOPSTJ/q6HX63Hs2DHF7iJUQlsxXYFh1a95KKuuAwD0vyNMtiSW+pmPNnnmo02e+WiTZz7a5JmPtid6lgOHHogQHBxM6xkdhDGG6upqxe4iVEJbCd0dxwux4JsTKCyrEcv2nynBjuOFGNItSrI+9TMfbfLMR5s889Emz3y0yTMfbU/0LAcOJbKrVq1SyAZxK7PjeCGmr8lE4+FfVl2H6Wsy8dmEBFmSWYIgCIIgbi8cSmRHjhxps45KpcLmzZudNkTcWugFhgXfnGiSxAIAA6ACsOCbE3iwSyQ0aprtJwiCIAjCfhxKZENCQpTyccui0WjQuXNnRZ6CppS2nLqH8q6bLCdoDANQWFaDQ3nXkdK+hdPvc7v3My9t8sxHmzzz0SbPfLTJMx9tT/QsB7RrAaEo245exqwNR23W++eYu/DIXTHKGyIIgiAIwq1RbNcCwnHq6+tx+PBh1NfXe4y2nLrhQb6y1rPE7d7PvLTJMx9t8sxHmzzz0SbPfLQ90bMcUCLLASW3q1BKWy7d5LbNERViOUlVAYgK8UVy2+aS3+t27mee2uSZjzZ55qNNnvlok2c+2p7oWSqUyBKKolGrMH9YF7OvGW7tmj+sC93oRRAEQRCEw1AiSyjO/Z3D4aNtOtQiQ3xp6y2CIAiCIJyGbvZSGMMmwn5+frI/TEIpbbl1fz5djEkrDgEA7unQEsO7hyO2RRCS27aQbSaW+pmPNnnmo02e+WiTZz7a5JmPtid6toQjuZpD228RzuHt7e1x2nLq7s65Kv7/2N6tMCg+HBqNRvYPw+3ez7y0yTMfbfLMR5s889Emz3y0PdGzVGhpgcLo9XpkZGQo9uxjJbTl1GWMIS2nCADgrVGjb7vmbu+ZlzZ55qNNnvlok2c+2uSZjzZ55qctFUpkCUXJKazA5dJqAECf9i0Q6EM/AhAEQRAEIQ+UyBKKkma0rGBgfLgLnRAEQRAEcatBiSyhKMbrYwfER7jQCUEQBEEQtxq0a4HCMMag1+sVublJKW25dIvKa5D8jzQAQHxUMH6YdY/be+apTZ75aJNnPtrkmY82eeajTZ75aZuDHlHrZuh0Oo/TlkM37WSR+P8PGi0rcGfPvLXJMx9t8sxHmzzz0SbPfLTJMz9tKVAiqzB6vR7Z2dmK3UWohLZcumlmlhW4u2ee2uSZjzZ55qNNnvlok2c+2uSZn7ZU3CKR/eSTTxAXFwdfX1/07t0bhw4dsuu4DRs2QKVSYcSIEcoaJBymWqfHL2dKAADhQT64MybExY4IgiAIgrjVcHkiu3HjRsyePRvz589HZmYmevTogcGDB6OoqMjqcfn5+fjLX/6Ce+65h5NTwhF+PVuC2noBADAgPhxqmZ7gRRAEQRAEYcDliezixYvx1FNPYerUqejSpQuWLl0Kf39/rFixwuIxer0e48ePx4IFC9CuXTuObp1Do9F4nLZU3d0m226Z7lbgrp5doU2e+WiTZz7a5JmPNnnmo02e+WlLwaW7Fuh0Ovj7+2PTpk0mywMmT56M0tJSbNu2zexx8+fPR3Z2NrZs2YIpU6agtLQUW7duNVu3trYWtbW14t/l5eVo1aoVrl27Jt4Jp1aroVarIQgCBEEQ6xrK9Xo9jLvJUrnhbr76+noTD4bgN15bYqlcq9WKdwgaUKlU0Gg0TTxaKndlmwSBoc/CNBTf1MHXS42MVx5AoJ+PR7fJXLmnx4naRG2iNlGbqE3UJndsU3l5OUJDQ+3atcClj1kqKSmBXq9HRITpjF1ERAROnjxp9pj9+/fjiy++wNGjR+16j4ULF2LBggVNyrOyshAQEAAACAsLQ/v27ZGXl4fi4mKxTmxsLGJjY3H69GmUlZWJ5e3atUN4eDiOHz+O6upqsbxz584IDQ1FVlaWSWDi4uLQokULHDlyxMRDUlISdDodsrOzxTKNRoNevXqhrKzMpA/8/PzQo0cPlJSUIDc3Vyz38fHBXXfdhYKCAly6dEksl9qmuro6eHl5WWxT9+7d4e3tjYyMjCZtysgrQfHNhrsbu7bQIOd4tkmbDNqW2hQSEoL4+HiH2hQTE4Ps7GyTLy2OxslSmxITE3Ht2jXk5+c7HSdLbQoMDETXrl0VGXt1dXVISEiAj4+P2Tg5O/YM8XMmTrbaVF5eDi8vL6fiZKlNSUlJuHTpEi5fvux0nCy1KSYmBkFBQSgsLJR0jjDXprq6OvTp0wd1dXWSzhHm2lRXV4fo6GjZz3s1NTVi/ByNk7U2FRcX4/Tp06K2XGOvbdu28PHxwfnz5yWdIyy1qWPHjmCM4dSpU07FyVKb6urqEBcXh1atWkm+PjVuk+HzLcf1ydCmy5cvIz8/X4yfnNfckJAQHDp0CGr1/35glmvstWnTBrW1tcjLy3MqTtbaFB4ejrZt20q+PjVuU11dHXx9fWW5PjVuk2FsyJUbWWuT8fG2cOmMbEFBAWJiYnDgwAGkpKSI5XPmzMG+fftw8OBBk/oVFRXo3r07Pv30Uzz00EMA4PYzsnq9HpmZmUhKSmqy95rUb1IG7V69eon+G3t0pk319fXIzMxEQkICvL29Hf4mtejH0/h4z1kAwFsjumJ0UqzYJp1OJ2prtVrZvh0KgoDDhw8jISFB9CbXt0PGGDIyMky0HYmTpXJ74ufs2DMed1qtVrZv8XV1dTbj5+zYq62tFbU1Go1sMxMAmowNuWYmBEFAZmYmevbsaTI2pI49W/GTMvYM2omJifD29pbtvGcufubi4czY0+l0OHLkiKgt1wySpfjJMfb0ej2ysrKQmJhocu6XOvYax0/OWTGDtuHcb66tzoy9xvGT85qr1+ubfL7lGHuG+CUkJJgkyXKMPeNzv0qlkm1G1jh+Pj7y/gpqfO738vKiGVkDLVu2hEajwdWrV03Kr169isjIyCb1z507h/z8fAwbNkwsM3S6VqvFqVOn0L59e5NjfHx84OPj00RLq9VCqzVtviEIjTE+wdlT3lhXpVJBpVI1KbdU33CMufLGHg0nSEvenWkTY0wc2AZ9R7wbr499sGukWMdY0/hC56h3c+WCIIi6jT3ZGydL5fX19Ra17Y2TpXJb8ZMy9gzjTs6xJ0f8rLXJXD874t1cubX4SR17hhOzOW1DubPebcVPythTqVTi/8s19uSIn7U2mdOWOvZsxU/q2AOknyPMlRvHT+r1qXG5Ped+Z9rkSPwcbZOlz7dccZIjfo29G/pX6vWpcbmhLwz/L9fYM/58KzX2jHHkoQsuvdnL29sbiYmJSEtLE8sEQUBaWprJDK2Bzp074/fff8fRo0fFf8OHD8f999+Po0ePolWrVjztE2a4dKMKJ69UAAB6tApFeJCvix0RBEEQBHGr4tIZWQCYPXs2Jk+ejKSkJCQnJ2PJkiWorKzE1KlTAQCTJk1CTEwMFi5cCF9fX3Tr1s3k+NDQUABoUu4uqFQq+Pn5KfJIN6W0peim5Zh/mpcc2ta43frZVdrkmY82eeajTZ75aJNnPtqe6FkOXLpG1sDHH3+M9957D1euXMFdd92FDz/8EL179wYA3HfffYiLi8OqVavMHmtrjWxjHHl+L+E4E784KD4I4YdZ9yA+ivqYIAiCIAj7cSRXc/k+sgCQmpqK8+fPo7a2FgcPHhSTWADYu3evxSQWAFatWmV3EusKBEFAUVGRyQJqd9d2Vreipg6/5V4DAMSE+qFzZJBs2ra4nfrZldrkmY82eeajTZ75aJNnPtqe6FkO3CKRvZURBAG5ubmKDSwltJ3V/eVMCer0DRP8A+PDzf4E4W6eXalNnvlok2c+2uSZjzZ55qNNnvlpS4USWUI2dp8weppXlwgrNQmCIAiCIKRDiSwhC/V6AXtONdzoFeijRe+2LVzsiCAIgiCIWx1KZBVGpVIhJCREsbsIldB2RjfzQiluVNUBAPrfEQZvrfmh5U6eXa1Nnvlok2c+2uSZjzZ55qNNnvlpS8Utdi3gCe1aoAwLv8/B5z83PPJu8ageGJkQ62JHBEEQBEF4Ih63a8GtjCAIuHTpkmKLr5XQdkZ313+f5qVWAfd3arp/rBRte7hd+tnV2uSZjzZ55qNNnvlok2c+2p7oWQ4okVUYTxxYjurmFt9EbnElACCpTXM0C/CWTdtebod+dgdt8sxHmzzz0SbPfLTJMx9tT/QsB5TIEpIxfprXwC6WZ2MJgiAIgiDkhBJZQjK7c/637daAeNp2iyAIgiAIPlAiqzBqtRphYWFQq+XvaqW0HdEtrdIh4/wNAEC7lgFoHxYom7Yj3Or97C7a5JmPNnnmo02e+WiTZz7anuhZDmjXAkISW7Mu44WNRwEAT93TFn8b2sW1hgiCIAiC8Gho1wI3QhAEnDt3TrHF10poO6K7y8FlBe7g2V20yTMfbfLMR5s889Emz3y0yTM/balQIqswgiCguLhYsYGlhLa9urp6AT+fKgYAhPh5IalNM9m0HeVW7md30ibPfLTJMx9t8sxHmzzz0fZEz3JAiSzhNIfyrqOith4AcH+nMGg1NJwIgiAIguAHZR6E0xjvVjCwC+1WQBAEQRAEXyiRVRi1Wo3Y2FjF7iJUQtseXcaYmMhq1Srce0eYbNrOcKv2s7tpk2c+2uSZjzZ55qNNnvloe6JnOaBdCwinOHmlHEOW/AIAuLtDS6z5c28XOyIIgiAI4laAdi1wI/R6PXJycqDX6z1G2x5d46d5DYi3/2lervTsbtrkmY82eeajTZ75aJNnPtrkmZ+2VCiRVRjGGMrKyqDExLdS2vbo7jphtD7Wgad5udKzu2mTZz7a5JmPNnnmo02e+WiTZ37aUqFElnCYoooaHLtUCgDoFBGEVs39XWuIIAiCIIjbEkpkCYfZc7IIhi9lA7vYv6yAIAiCIAhCTiiRVRi1Wo127dopdhehEtq2dHebrI91bNstV3l2R23yzEebPPPRJs98tMkzH23yzE9bKrRrAeEQNXV63PXGj6ipE9Ay0BuHXhkItVrlalsEQRAEQdwi0K4FboRer8exY8cUu4tQCW1rugfOlaCmruERdQ90Dnc4iXWFZ3fVJs98tMkzH23yzEebPPPRJs/8tKVCiazCMMZQXV2t2F2ESmhb09114n/LChzZrcAebSncav3srtrkmY82eeajTZ75aJNnPtqe6FkOKJEl7EYQGH462bDtlrdWjbs7tnSxI4IgCIIgbmfcIpH95JNPEBcXB19fX/Tu3RuHDh2yWHf58uW455570KxZMzRr1gwDBw60Wp+Qj+MFZbhaXgug4Wle/t5aFzsiCIIgCOJ2xuWJ7MaNGzF79mzMnz8fmZmZ6NGjBwYPHoyioiKz9ffu3YuxY8diz549SE9PR6tWrTBo0CBcvnyZs3P70Gg06Ny5MzQajcdoW9Ld7eTTvOzRlsqt1M/urE2e+WiTZz7a5JmPNnnmo+2JnuXA5bsW9O7dG7169cLHH38MABAEAa1atcJzzz2HuXPn2jxer9ejWbNm+PjjjzFp0iSb9WnXAuf50z9/wYnCcgDAby8PQGSIr4sdEQRBEARxq+ExuxbodDocOXIEAwcOFMvUajUGDhyI9PR0uzSqqqpQV1eH5s2bK2VTEvX19Th8+DDq6+s9RtucbkFptZjE3hkT4nQSy9Ozu2uTZz7a5JmPNnnmo02e+WiTZ37aUnHpIseSkhLo9XpERJje/R4REYGTJ0/apfHSSy8hOjraJBk2pra2FrW1teLf5eUNyVh9fb0YELVaDbVaDUEQIAiCWNdQrtfrTe7Us1Su0WigUqlMAq3X61FfXw/GWJMBYJiib7ydhVarBWPMpFylUkGj0Zh4NGgDsOjdmTYZdPV6vdimH/8oFOs+0KmleGxj7/a0yaBtrk2W2mqrTQBEXVttNRcna94NsXM2TpbK7Ymfs2PPeNw19mitrbbaZE/8pIw94352NE6WyoGmY0OusWfok8bvKXXs2YqflLFn0DbUkWvsmYufcZsstdXeNhlryzX2LMVPjrFn0G187pc69hrHT8r1qbH3xud+c211duwZx0/Oay7Q9PMtx9gz9IfBu622OtIm43O/1OuTpfhJvT41bpOxthy5ka02ObJYwKPv1nn77bexYcMG7N27F76+5mcIFy5ciAULFjQpz8rKQkBAAAAgLCwM7du3R15eHoqLi8U6sbGxiI2NxenTp1FWViaWt2vXDuHh4Th+/Diqq6vF8s6dOyM0NBRZWVliYBhj4uDIysoy8ZCUlASdTofs7GyxTKPRoFevXigrKzNJ5v38/NCjRw+UlJQgNzdX1K6srAQAFBQU4NKlS2J9KW2qqqpCaWkpMjMzER8fj9DQUGw9dE6sGymUoLq6Nby9vZGRkeFQm3JyckRtf3//Jm0CgJCQEMTHxzvUpsjISFRWViIzMxMqlcrhOAFA9+7dzbapZ8+eEATBRNuROFlqk2E7EwCyjz3GGEpLS1FTUwM/Pz+H42SpTefOnRPjFxoa6nCcrLXpxIkTorZKpXI4Tpba1LNnT9TX15vEz5E4WWtTVFQUAODs2bOoqKhwOE6W2mSInyAIqK6udvocYa5NBu3z58+jY8eOso29Y8eOmcTP0ThZa9O1a9dMtJ05R5hrU5s2bQAAJ06cMJnwkGPsGb5gl5eX48yZMw7HyVKbDPErLCxEmzZtJF2fGrfJoJ2ZmYlevXpJuj4Zt6mwsNAkfnJecwMDA1FWVmby+ZZj7Pn4+AAArl27hvPnzzscJ2ttYoxBp9MBgOTrk3GbDPE7duwYkpOTJV2fGrepqKhIjGGrVq0k50a22mR8vC1cukZWp9PB398fmzZtwogRI8TyyZMno7S0FNu2bbN47Pvvv48333wTu3fvRlJSksV65mZkW7VqhWvXronrLpSekc3MzERSUpL4ITOub6hjjCMzsoYTjsF/Y4/OzoplZmYiISEB3t7eqNTp0fONH1GnZ4gM9sUvf70XWq3WrHdbbdLpdKK2VquVbUZWEAQcPnwYCQkJogc5Z2QzMjJMtB2Jk6Vye+InZUbWMO60Wq1ss2J1dXU24+fs2KutrRW1NRqNrDOyjceGnDOymZmZ6Nmzp8nYkGNG1lr8pM7IZmZmIjExEd7e3rKd98zFz1w8nBl7hmVoBm05Z2TNxU+uGdmsrCwkJiaanPvlmJE1jp/cM7LG535zbXVm7DWOn5zXXL1e3+TzLdeMbFZWFhISEkweyyrXjKzh3K9SqWSdkTXEz8fHR9YZWeNzv5eXl+IzsuXl5QgNDbVrjaxb3OyVnJyMjz76CEDDiaV169ZITU21eLPXu+++i7feegs7d+5Enz59HHo/3jd7GWbd/Pz8miSy7qrdWHfH8UI8uyYTADChT2u8OeJO2bTl4lboZzkhz8rrKqlNnvlok2c+2uSZj7YneraEI7may5cWzJ49G5MnT0ZSUhKSk5OxZMkSVFZWYurUqQCASZMmISYmBgsXLgQAvPPOO5g3bx7WrVuHuLg4XLlyBQAQGBiIwMBAl7XDGoZvtp6kbawr9Wle1rTlxNP72VO0yTMfbfLMR5s889Emz3y0PdGzVFy+j+zo0aPx/vvvY968ebjrrrtw9OhR7NixQ7wB7MKFCygs/N+NRp999hl0Oh0ef/xxREVFif/ef/99VzXBKnq9HhkZGWZ/7nRXbWNdvcCw51RDIuvvrUGfdi1k05YTT+9nuSHPyusqqU2e+WiTZz7a5JmPtid6lgOXz8gCQGpqKlJTU82+tnfvXpO/8/PzlTdEiGRduIHrlQ2L0u/tGAZfL/fbDJkgCIIgiNsTl8/IEu6NHE/zIgiCIAiCUAJKZAmr7M65CgBQqYAHOlMiSxAEQRCE++DyXQt444pdC/T6/z1YwBO0DboXb9Tg/kX7AACJbZph8/S+smkr5dkT+5k8K6tNnvlok2c+2uSZjzZ55qdtDo95RO3tgmHjY0/S1ul0SDsp724FxtpK4Kn9rBTkWXldJbXJMx9t8sxHmzzz0fZEz1KhRFZh9Ho9srOzFbuLUAltg+7uE1fFsoEyrY9V2rMn9jN5VlabPPPRJs98tMkzH23yzE9bKm6xawHhftzUCTh8vhQA0KaFPzqEu+cevQRBEARB3L7QjCxhlmNFddALDcunB3SO4LImhiAIgiAIwhEokVUQvcDwW+51pBfU4bfc62Ji6M7aBt2duTVimVzLCgwYP9PcE3SV1CbPfLTJMx9t8sxHmzzz0SbP/LSlQLsWKMSO44VY8M0JFJb9LyGMCvHF/GFdMKRblFtqm9NVAfhoXE883D1aimWCIAiCIAi7oF0LXMyO44WYvibTJCEEgCtlNZi+JhM7jhdaONJ12pZ0GYDn1mVJ8myixxhKS0sh9/cnpXSV1CbPfLTJMx9t8sxHmzzz0SbP/LSlQomszOgFhgXfnIC5ULP//vvbluM4cLYEv+Vec+jfgbMleGXLcdm1rekaWPDNCVmWL+j1epw8eVKRuzWV0FVSmzzz0SbPfLTJMx9t8sxHmzzz05YK7VogM4fyrjeZ1WzMtUodxv3roCLvr4Q2A1BYVoNDedeR0r6FrNoEQRAEQRDOQjOyMlNUYT2J9WRu5bYRBEEQBOF50IyszIQH+dpVb1iPaMSE+jmkfbm0Gt8cK5Bd215de9tmDZVKBT8/P9m381JKV0lt8sxHmzzz0SbPfLTJMx9t8sxPWyq0a4HM6AWGu9/5CVfKasyuOVUBiAzxxf6XHoBG7diAUEpbSc8EQRAEQRCOQLsWuBCNWoX5w7oAaEgAjTH8PX9YF6cSQqW0lfTcGEEQUFRUBEEQJGvx0FVSmzzz0SbPfLTJMx9t8sxHmzzz05YKJbIKMKRbFD6bkIDIENOf4iNDfPHZhARJe70qpa2kZ2MEQUBubq4iH2AldJXUJs98tMkzH23yzEebPPPRJs/8tKVCa2QVYki3KDzYJRLpZ4txMDsHvbvHI6VDmCyzmkppK+mZIAiCIAhCbiiRVRCNWoU+7ZpDe90HSe2ay5oQKqWtpGeCIAiCIAg5oaUFCqNSqRASEqLYXYRKaJNnPtrkmY82eeajTZ75aJNnPtrkmZ+2VGjXAoIgCIIgCMJtoF0L3AhBEHDp0iXFFl8roU2e+WiTZz7a5JmPNnnmo02e+WiTZ37aUqFEVmE8cWCRZz7a5JmPNnnmo02e+WiTZz7a5JmftlQokSUIgiAIgiA8EkpkCYIgCIIgCI+EElmFUavVCAsLg1otf1crpU2e+WiTZz7a5JmPNnnmo02e+WiTZ37aUnGLXQs++eQTvPfee7hy5Qp69OiBjz76CMnJyRbrf/3113jttdeQn5+Pjh074p133sGf/vQnu96Ldi0gCIIgCIJwXzxq14KNGzdi9uzZmD9/PjIzM9GjRw8MHjwYRUVFZusfOHAAY8eOxZNPPomsrCyMGDECI0aMwPHjxzk7tw9BEHDu3DnFFl8roU2e+WiTZz7a5JmPNnnmo02e+WiTZ37aUnF5Irt48WI89dRTmDp1Krp06YKlS5fC398fK1asMFv/n//8J4YMGYK//vWviI+Px9///nckJCTg448/5uzcPgRBQHFxsWIDSwlt8sxHmzzz0SbPfLTJMx9t8sxHmzzz05aKSxNZnU6HI0eOYODAgWKZWq3GwIEDkZ6ebvaY9PR0k/oAMHjwYIv1CYIgCIIgiFsTrSvfvKSkBHq9HhERESblEREROHnypNljrly5Yrb+lStXzNavra1FbW2t+HdZWRkA4Pr166ivrwfQkDyr1WoIgmDybcNQrtfrYbyU2FK5RqOBSqUSdQFAr9fj5s2bKCsra/JoN41GI9YxRqvVgjFmUq5SqaDRaEw8GrTLy8tF/409OtOm+vp63Lx5Ezdu3IC3t3eTNlnzbqtNOp1O1NZqtU3aZKmtttokCIKoa/DgSJyseWeMNdE2bpOtOFkqtyd+zo4943Gn1WodjpOlNtXV1dmMn7Njr7a21qSfHY2TpXIATeLnSJystUkQBFRWVjYZG1LHnq34SRl7Bu3S0lJ4e3vLdt4zFz9z8XBm7BmfNwzvJ8fYsxQ/OcaeXq9HZWVlk3O/1LHXOH5Srk+NvRu0Ded+c211Zuw1jp+c11xjz4a2yDH2DPErLS01ucFJjrFnfO5XqVSSrk+W4ufj4yPp+tS4Tcbnfi8vL8m5ka02lZeXAwDsuY3LpYksDxYuXIgFCxY0KW/btq0L3BAEQRAEQRD2UFFRgZCQEKt1XJrItmzZEhqNBlevXjUpv3r1KiIjI80eExkZ6VD9l19+GbNnzxb/FgQB169fR4sWLZrMkCpBeXk5WrVqhYsXL8q+S4JS2uSZjzZ55qNNnvlok2c+2uSZjzZ55qdtDsYYKioqEB0dbbOuSxNZb29vJCYmIi0tDSNGjADQkGimpaUhNTXV7DEpKSlIS0vDCy+8IJbt2rULKSkpZuv7+PjAx8fHpCw0NFQO+w4RHBysWPCV0ibPfLTJMx9t8sxHmzzz0SbPfLTJMz/txtiaiTXg8qUFs2fPxuTJk5GUlITk5GQsWbIElZWVmDp1KgBg0qRJiImJwcKFCwEAs2bNQv/+/bFo0SIMHToUGzZsQEZGBpYtW+bKZhAEQRAEQRCccXkiO3r0aBQXF2PevHm4cuUK7rrrLuzYsUO8oevChQsmC6379u2LdevW4dVXX8Urr7yCjh07YuvWrejWrZurmkAQBEEQBEG4AJcnsgCQmppqcSnB3r17m5Q98cQTeOKJJxR2JQ8+Pj6YP39+k+UN7qxNnvlok2c+2uSZjzZ55qNNnvlok2d+2lJxi0fUEgRBEARBEISjuPzJXgRBEARBEAThDJTIEgRBEARBEB4JJbIEQRAEQRCER0KJrEwsXLgQvXr1QlBQEMLDwzFixAicOnXKpE5NTQ1mzpyJFi1aIDAwEI899liThzs4qnv9+nU899xz6NSpE/z8/NC6dWs8//zz4qN4pXo2wBjDQw89BJVKha1bt8qim56ejgceeAABAQEIDg7Gvffei+rqasnaV65cwcSJExEZGYmAgAAkJCRg8+bNVnU/++wzdO/eXdwjLyUlBT/88IP4ujOxs0dbSvxseTbgSOwc0XYmfrZ0nYmdOd5++22oVCqT/aalxNCatpQY2vJswJkY2qPtTAxt6Tobw9dffx0qlcrkX+fOncXXpcTPmraU+NnybMCZ+Nmj7Uz8bOlK/QxevnwZEyZMQIsWLeDn54c777wTGRkZJn0xb948REVFwc/PDwMHDsSZM2ck6dbV1eGll17CnXfeiYCAAERHR2PSpEkoKCiQxbMxzz77LFQqFZYsWSKLbk5ODoYPH46QkBAEBASgV69euHDhgmTtmzdvIjU1FbGxsfDz80OXLl2wdOlSq5pxcXFNxoZKpcLMmTMByHcOlRtKZGVi3759mDlzJn777Tfs2rULdXV1GDRoECorK8U6L774Ir755ht8/fXX2LdvHwoKCjBy5EhJugUFBSgoKMD777+P48ePY9WqVdixYweefPJJWTwbWLJkid1PQrNHNz09HUOGDMGgQYNw6NAhHD58GKmpqSZbrTmrPWnSJJw6dQrbt2/H77//jpEjR2LUqFHIysqyqBsbG4u3334bR44cQUZGBh544AE88sgj+OOPPwA4Fzt7tKXEz5ZnA47Ezl5tZ+NnS9eZ2DXm8OHD+Pzzz9G9e3eTcikxtKYtJYa2PBtwJoa2tJ2NoS1dKTHs2rUrCgsLxX/79+8XX5MaP0vaUuNnzbMBZ+NnTVtK/KzpSonfjRs30K9fP3h5eeGHH37AiRMnsGjRIjRr1kys8+677+LDDz/E0qVLcfDgQQQEBGDw4MGoqalxWreqqgqZmZl47bXXkJmZif/85z84deoUhg8fLotnA1u2bMFvv/1m19Om7NE9d+4c7r77bnTu3Bl79+5FdnY2XnvtNfj6+krWnj17Nnbs2IE1a9YgJycHL7zwAlJTU7F9+3aLuocPHzYZF7t27QIAcZcoOc6hisAIRSgqKmIA2L59+xhjjJWWljIvLy/29ddfi3VycnIYAJaenu60rjm++uor5u3tzerq6iR5NpCVlcViYmJYYWEhA8C2bNkiWbd3797s1VdfdUjHXu2AgAD273//26Re8+bN2fLlyx3SbtasGfvXv/4lW+zMaZvD2fiZ05UaO0vacsWvsa7U2FVUVLCOHTuyXbt2sf79+7NZs2YxxuT5/FnSNocjMbSlKyWG1rSlxNCarrMxnD9/PuvRo4fZ16TGz5q2OeyNnz26zsbPlraz8bOlK+Uz+NJLL7G7777b4uuCILDIyEj23nvviWWlpaXMx8eHrV+/3mldcxw6dIgBYOfPn5fk2cClS5dYTEwMO378OGvTpg374IMPJOuOHj2aTZgwweZ7O6PdtWtX9sYbb5iUJSQksL/97W92v8+sWbNY+/btmSAIilwH5YJmZBXC8LNU8+bNAQBHjhxBXV0dBg4cKNbp3LkzWrdujfT0dKd1LdUJDg6GVuvYNsHmtKuqqjBu3Dh88skniIyMdEjPkm5RUREOHjyI8PBw9O3bFxEREejfv7/ZmQxnPPft2xcbN27E9evXIQgCNmzYgJqaGtx33312aer1emzYsAGVlZVISUmRLXbmtC21ydH4mdOVI3bmtOWKnznPUmM3c+ZMDB061CRWgDyfP0va5nAkhtZ0pcbQkrbUGFrzLCWGZ86cQXR0NNq1a4fx48eLP7HKET9L2uZwJH7WdKXGz5K21PhZ8ywlftu3b0dSUhKeeOIJhIeHo2fPnli+fLn4el5eHq5cuWISx5CQEPTu3dtqHG3pmqOsrAwqlcrmI+nt0RYEARMnTsRf//pXdO3a1aqevbqCIOC7777DHXfcgcGDByM8PBy9e/e2a+mJPZ779u2L7du34/Lly2CMYc+ePTh9+jQGDRpkl3+dToc1a9Zg2rRpUKlUsl4HZcelafQtil6vZ0OHDmX9+vUTy9auXcu8vb2b1O3VqxebM2eO07qNKS4uZq1bt2avvPKKZM+MMfb000+zJ598UvwbDs4ImdNNT09nAFjz5s3ZihUrWGZmJnvhhReYt7c3O336tGTPN27cYIMGDWIAmFarZcHBwWznzp029bKzs1lAQADTaDQsJCSEfffdd4wxeWJnSbsxjsbPmq7U2FnSlho/a56djR1jjK1fv55169aNVVdXM8aYyUyh1Bha026MIzG0pSslhta0pcTQlmdnY/j999+zr776ih07dozt2LGDpaSksNatW7Py8nLJ8bOm3RhH4mdLV0r8rGlLiZ8tz1I+gz4+PszHx4e9/PLLLDMzk33++efM19eXrVq1ijHG2K+//soAsIKCApPjnnjiCTZq1CindRtTXV3NEhIS2Lhx4yR7Zoyxf/zjH+zBBx9kgiAwxphdM7K2dA0z9P7+/mzx4sUsKyuLLVy4kKlUKrZ3717JnmtqatikSZPEOHp7e7PVq1fb7A8DGzduZBqNhl2+fJkxJs91UCkokVWAZ599lrVp04ZdvHhRLJNjEJjTNaasrIwlJyezIUOGMJ1OJ9nztm3bWIcOHVhFRYVY5mgyZE7XcDJ7+eWXTereeeedbO7cuZK0GWMsNTWVJScns927d7OjR4+y119/nYWEhLDs7GyrerW1tezMmTMsIyODzZ07l7Vs2ZL98ccfssTOkrYxzsTPkq4csbOkLTV+1vrC2dhduHCBhYeHs2PHjollciWytrSNcSSGtnSlxNCWtrMxtKcvnI1hY27cuMGCg4PZv/71L9kvosbaxkg5hzbWleMzaElbrnNoY13GpMXPy8uLpaSkmJQ999xzrE+fPowx5xNZW7rG6HQ6NmzYMNazZ09WVlYm2XNGRgaLiIgQEzrG7EtkbelevnyZAWBjx441qTNs2DA2ZswYSdqMMfbee++xO+64g23fvp0dO3aMffTRRywwMJDt2rXLqraBQYMGsYcfflj8mxLZ24iZM2ey2NhYlpuba1KelpbGALAbN26YlLdu3ZotXrzYaV0D5eXlLCUlhQ0YMECcKZHqedasWUylUjGNRiP+A8DUajXr37+/07q5ubkMAPvyyy9NykeNGmXXN2hr2mfPnmUA2PHjx03KBwwYwJ555hm7tI2PefrppyXHzpq2ASnxM6crNXbWtOWInzldKbHbsmULA9CkvYY+2L17t9MxtKVdX1/PGHM8hrZ0U1NTnY6hLW1DXzsaQ3t15fj8McZYUlISmzt3riKfQYO2Abk+gwZdJT6DBm25P4MGXanxa926tckMNGOMffrppyw6Opoxxti5c+cYAJaVlWVS595772XPP/+807oGdDodGzFiBOvevTsrKSmx6dce7Q8++MBiHNu0aeO0bm1tLdNqtezvf/+7SZ05c+awvn37SvJcVVXFvLy82LfffmtS58knn2SDBw+2qs0YY/n5+UytVrOtW7eKZUp8BuWC1sjKBGMMqamp2LJlC3766Se0bdvW5PXExER4eXkhLS1NLDt16hQuXLhgca2kPboAUF5ejkGDBsHb2xvbt2+3ecejvdpz585FdnY2jh49Kv4DgA8++AArV650WjcuLg7R0dFNts06ffo02rRpI8lzVVUVADS5c1ej0UAQBKvajREEAbW1tU7Hzh5twPn4WdN1Nnb2aEuJnzVdKbEbMGAAfv/9d5P2JiUlYfz48eL/OxtDW9oajcapGNrS/dvf/uZ0DG1pt2vXzqkY2tKV8/N38+ZNnDt3DlFRUbJ/Bo21Afk+g8a6cn8GjbXl/Awa60qNX79+/ax6atu2LSIjI03iWF5ejoMHD1qNoy1doGELrlGjRuHMmTPYvXs3WrRoYdOvPdoTJ05sEsfo6Gj89a9/xc6dO53W9fb2Rq9evZyKoS3turo61NXVOR3HlStXIjw8HEOHDhXLlLgOyoZL0+hbiOnTp7OQkBC2d+9eVlhYKP6rqqoS6zz77LOsdevW7KeffmIZGRksJSWlyc8DjuqWlZWx3r17szvvvJOdPXvWpI5hpkiK58bAjp/G7NH94IMPWHBwMPv666/ZmTNn2Kuvvsp8fX3Z2bNnJWnrdDrWoUMHds8997CDBw+ys2fPsvfff5+pVCqL61IZY2zu3Lls3759LC8vj2VnZ7O5c+cylUrFfvzxR8aYc7GzR1tK/Gx5bow9sbNX29n4WdN1NnaWaPyTt5QYWtOWEkNbnhvjSAxtaTsbQ2u6UmL4f//3f2zv3r0sLy+P/frrr2zgwIGsZcuWrKioiDEmLX7WtKXEz5bnxjgSP1vazsbPmq7Uz+ChQ4eYVqtlb731Fjtz5gxbu3Yt8/f3Z2vWrBHrvP322yw0NJRt27aNZWdns0ceeYS1bdvW6iy4LV2dTseGDx/OYmNj2dGjR01iWFtbK9lzY+xZWmCP7n/+8x/m5eXFli1bxs6cOcM++ugjptFo2C+//CJZu3///qxr165sz549LDc3l61cuZL5+vqyTz/91Kq2Xq9nrVu3Zi+99FKT1+Q8h8oJJbIyAcDsv5UrV4p1qqur2YwZM1izZs2Yv78/e/TRR1lhYaEk3T179lisk5eXJ9mzuWNsnYjt1V24cCGLjY1l/v7+LCUlxeaH117t06dPs5EjR7Lw8HDm7+/Punfv3mQ7mcZMmzaNtWnThnl7e7OwsDA2YMAAk4TQmdjZoy0lfrY8N8aRi6g92s7Ez5auM7GzROPETUoMrWlLiaEtz42RM5FlzLkY2tJ1NoajR49mUVFRzNvbm8XExLDRo0ebJGVS4mdNW0r8bHlujCPxs0fbmfjZ0pX6Gfzmm29Yt27dmI+PD+vcuTNbtmyZyeuCILDXXnuNRUREMB8fHzZgwAB26tQpSbp5eXkWY7hnzx7JnhtjTyJrr+4XX3zBOnTowHx9fVmPHj1Mfs6Xol1YWMimTJnCoqOjma+vL+vUqRNbtGiReMOaJXbu3MkAmI2JnOdQOVExxpikKV2CIAiCIAiCcAG0RpYgCIIgCILwSCiRJQiCIAiCIDwSSmQJgiAIgiAIj4QSWYIgCIIgCMIjoUSWIAiCIAiC8EgokSUIgiAIgiA8EkpkCYIgCIIgCI+EElmCIAiCIAjCI6FEliAIgiAIgvBIKJElCIJwIVOmTMGIESNcbYMgCMIjoUSWIAiCENHpdK62QBAEYTeUyBIEQbgpixcvxp133omAgAC0atUKM2bMwM2bNwEAlZWVCA4OxqZNm0yO2bp1KwICAlBRUQEAuHjxIkaNGoXQ0FA0b94cjzzyCPLz88X6hhnht956C9HR0ejUqRO39hEEQUiFElmCIAg3Ra1W48MPP8Qff/yB1atX46effsKcOXMAAAEBARgzZgxWrlxpcszKlSvx+OOPIygoCHV1dRg8eDCCgoLwyy+/4Ndff0VgYCCGDBliMvOalpaGU6dOYdeuXfj222+5tpEgCEIKKsYYc7UJgiCI25UpU6agtLQUW7dutVl306ZNePbZZ1FSUgIAOHToEPr27YuLFy8iKioKRUVFiImJwe7du9G/f3+sWbMGb775JnJycqBSqQA0LB0IDQ3F1q1bMWjQIEyZMgU7duzAhQsX4O3trWRTCYIgZIdmZAmCINyU3bt3Y8CAAYiJiUFQUBAmTpyIa9euoaqqCgCQnJyMrl27YvXq1QCANWvWoE2bNrj33nsBAMeOHcPZs2cRFBSEwMBABAYGonnz5qipqcG5c+fE97nzzjspiSUIwiOhRJYgCMINyc/Px8MPP4zu3btj8+bNOHLkCD755BMApjdk/fnPf8aqVasANCwrmDp1qjj7evPmTSQmJuLo0aMm/06fPo1x48aJGgEBAfwaRhAEISNaVxsgCIIgmnLkyBEIgoBFixZBrW6Yc/jqq6+a1JswYQLmzJmDDz/8ECdOnMDkyZPF1xISErBx40aEh4cjODiYm3eCIAhe0IwsQRCEiykrK2sya9qyZUvU1dXho48+Qm5uLr788kssXbq0ybHNmjXDyJEj8de//hWDBg1CbGys+Nr48ePRsmVLPPLII/jll1+Ql5eHvXv34vnnn8elS5d4NpEgCEIRKJElCIJwMXv37kXPnj1N/n355ZdYvHgx3nnnHXTr1g1r167FwoULzR7/5JNPQqfTYdq0aSbl/v7++Pnnn9G6dWuMHDkS8fHxePLJJ1FTU0MztARB3BLQrgUEQRAezpdffokXX3wRBQUFdNMWQRC3FbRGliAIwkOpqqpCYWEh3n77bTzzzDOUxBIEcdtBSwsIgiA8lHfffRedO3dGZGQkXn75ZVfbIQiC4A4tLSAIgiAIgiA8EpqRJQiCIAiCIDwSSmQJgiAIgiAIj4QSWYIgCIIgCMIjoUSWIAiCIAiC8EgokSUIgiAIgiA8EkpkCYIgCIIgCI+EElmCIAiCIAjCI6FEliAIgiAIgvBIKJElCIIgCIIgPJL/B8LNNY0w8o4wAAAAAElFTkSuQmCC",
      "text/plain": [
       "<Figure size 700x300 with 1 Axes>"
      ]
     },
     "metadata": {},
     "output_type": "display_data"
    }
   ],
   "source": [
    "# Visualize accs_visibility_lookback_payload as a line plot\n",
    "plt.figure(figsize=(7, 3))\n",
    "layers = list(accs_visibility_lookback_payload.keys())\n",
    "accuracies = list(accs_visibility_lookback_payload.values())\n",
    "\n",
    "plt.plot(layers, accuracies, marker=\"o\", linestyle=\"-\", linewidth=2)\n",
    "plt.xlabel(\"Layer\")\n",
    "plt.ylabel(\"IIA\")\n",
    "plt.title(\"Visibility Lookback Payload IIA by Layer\")\n",
    "plt.grid(True, linestyle=\"--\", alpha=0.7)\n",
    "plt.xticks(layers)\n",
    "plt.ylim(0, 1.1)\n",
    "\n",
    "plt.tight_layout()\n",
    "plt.show()"
   ]
  },
  {
   "cell_type": "markdown",
   "metadata": {},
   "source": [
    "## Address and Pointer"
   ]
  },
  {
   "cell_type": "code",
   "execution_count": 10,
   "metadata": {},
   "outputs": [
    {
     "name": "stderr",
     "output_type": "stream",
     "text": [
      "100%|██████████| 10/10 [00:05<00:00,  1.70it/s]\n"
     ]
    },
    {
     "name": "stdout",
     "output_type": "stream",
     "text": [
      "Layer: 0 | Accuracy: 0.9\n"
     ]
    },
    {
     "name": "stderr",
     "output_type": "stream",
     "text": [
      "100%|██████████| 10/10 [00:05<00:00,  1.70it/s]\n"
     ]
    },
    {
     "name": "stdout",
     "output_type": "stream",
     "text": [
      "Layer: 4 | Accuracy: 0.9\n"
     ]
    },
    {
     "name": "stderr",
     "output_type": "stream",
     "text": [
      "100%|██████████| 10/10 [00:05<00:00,  1.70it/s]\n"
     ]
    },
    {
     "name": "stdout",
     "output_type": "stream",
     "text": [
      "Layer: 8 | Accuracy: 0.9\n"
     ]
    },
    {
     "name": "stderr",
     "output_type": "stream",
     "text": [
      "100%|██████████| 10/10 [00:05<00:00,  1.70it/s]\n"
     ]
    },
    {
     "name": "stdout",
     "output_type": "stream",
     "text": [
      "Layer: 12 | Accuracy: 1.0\n"
     ]
    },
    {
     "name": "stderr",
     "output_type": "stream",
     "text": [
      "100%|██████████| 10/10 [00:05<00:00,  1.70it/s]\n"
     ]
    },
    {
     "name": "stdout",
     "output_type": "stream",
     "text": [
      "Layer: 16 | Accuracy: 0.9\n"
     ]
    },
    {
     "name": "stderr",
     "output_type": "stream",
     "text": [
      "100%|██████████| 10/10 [00:05<00:00,  1.70it/s]\n"
     ]
    },
    {
     "name": "stdout",
     "output_type": "stream",
     "text": [
      "Layer: 20 | Accuracy: 0.7\n"
     ]
    },
    {
     "name": "stderr",
     "output_type": "stream",
     "text": [
      "100%|██████████| 10/10 [00:05<00:00,  1.70it/s]\n"
     ]
    },
    {
     "name": "stdout",
     "output_type": "stream",
     "text": [
      "Layer: 24 | Accuracy: 0.8\n"
     ]
    },
    {
     "name": "stderr",
     "output_type": "stream",
     "text": [
      "100%|██████████| 10/10 [00:05<00:00,  1.70it/s]\n"
     ]
    },
    {
     "name": "stdout",
     "output_type": "stream",
     "text": [
      "Layer: 28 | Accuracy: 1.0\n"
     ]
    },
    {
     "name": "stderr",
     "output_type": "stream",
     "text": [
      "100%|██████████| 10/10 [00:06<00:00,  1.66it/s]\n"
     ]
    },
    {
     "name": "stdout",
     "output_type": "stream",
     "text": [
      "Layer: 32 | Accuracy: 1.0\n"
     ]
    },
    {
     "name": "stderr",
     "output_type": "stream",
     "text": [
      "100%|██████████| 10/10 [00:05<00:00,  1.70it/s]\n"
     ]
    },
    {
     "name": "stdout",
     "output_type": "stream",
     "text": [
      "Layer: 36 | Accuracy: 1.0\n"
     ]
    },
    {
     "name": "stderr",
     "output_type": "stream",
     "text": [
      "100%|██████████| 10/10 [00:05<00:00,  1.70it/s]\n"
     ]
    },
    {
     "name": "stdout",
     "output_type": "stream",
     "text": [
      "Layer: 40 | Accuracy: 1.0\n"
     ]
    },
    {
     "name": "stderr",
     "output_type": "stream",
     "text": [
      "100%|██████████| 10/10 [00:05<00:00,  1.70it/s]\n"
     ]
    },
    {
     "name": "stdout",
     "output_type": "stream",
     "text": [
      "Layer: 44 | Accuracy: 1.0\n"
     ]
    },
    {
     "name": "stderr",
     "output_type": "stream",
     "text": [
      "100%|██████████| 10/10 [00:05<00:00,  1.70it/s]\n"
     ]
    },
    {
     "name": "stdout",
     "output_type": "stream",
     "text": [
      "Layer: 48 | Accuracy: 1.0\n"
     ]
    },
    {
     "name": "stderr",
     "output_type": "stream",
     "text": [
      "100%|██████████| 10/10 [00:05<00:00,  1.70it/s]\n"
     ]
    },
    {
     "name": "stdout",
     "output_type": "stream",
     "text": [
      "Layer: 52 | Accuracy: 1.0\n"
     ]
    },
    {
     "name": "stderr",
     "output_type": "stream",
     "text": [
      "100%|██████████| 10/10 [00:05<00:00,  1.70it/s]\n"
     ]
    },
    {
     "name": "stdout",
     "output_type": "stream",
     "text": [
      "Layer: 56 | Accuracy: 1.0\n"
     ]
    },
    {
     "name": "stderr",
     "output_type": "stream",
     "text": [
      "100%|██████████| 10/10 [00:05<00:00,  1.70it/s]\n"
     ]
    },
    {
     "name": "stdout",
     "output_type": "stream",
     "text": [
      "Layer: 60 | Accuracy: 1.0\n"
     ]
    },
    {
     "name": "stderr",
     "output_type": "stream",
     "text": [
      "100%|██████████| 10/10 [00:05<00:00,  1.70it/s]\n"
     ]
    },
    {
     "name": "stdout",
     "output_type": "stream",
     "text": [
      "Layer: 64 | Accuracy: 1.0\n"
     ]
    },
    {
     "name": "stderr",
     "output_type": "stream",
     "text": [
      "100%|██████████| 10/10 [00:05<00:00,  1.70it/s]\n"
     ]
    },
    {
     "name": "stdout",
     "output_type": "stream",
     "text": [
      "Layer: 68 | Accuracy: 1.0\n"
     ]
    },
    {
     "name": "stderr",
     "output_type": "stream",
     "text": [
      "100%|██████████| 10/10 [00:05<00:00,  1.70it/s]\n"
     ]
    },
    {
     "name": "stdout",
     "output_type": "stream",
     "text": [
      "Layer: 72 | Accuracy: 1.0\n"
     ]
    },
    {
     "name": "stderr",
     "output_type": "stream",
     "text": [
      "100%|██████████| 10/10 [00:05<00:00,  1.70it/s]"
     ]
    },
    {
     "name": "stdout",
     "output_type": "stream",
     "text": [
      "Layer: 76 | Accuracy: 1.0\n"
     ]
    },
    {
     "name": "stderr",
     "output_type": "stream",
     "text": [
      "\n"
     ]
    }
   ],
   "source": [
    "accs_visibility_address_pointer = {}\n",
    "patch_layers = [i for i in range(0, model.config.num_hidden_layers, 4)]\n",
    "\n",
    "for layer_idx in patch_layers:\n",
    "    correct, total = 0, 0\n",
    "\n",
    "    for bi, batch in tqdm(enumerate(dataloader), total=len(dataloader)):\n",
    "        clean_prompt = batch[\"clean_prompt\"][0]\n",
    "        clean_ans = batch[\"clean_ans\"][0]\n",
    "        counterfactual_prompt = batch[\"counterfactual_prompt\"][0]\n",
    "        counterfactual_ans = batch[\"counterfactual_ans\"][0]\n",
    "        target = batch[\"target\"][0]\n",
    "\n",
    "        clean_prompt_len = get_prompt_token_len(model.tokenizer, clean_prompt)\n",
    "        counterfactual_prompt_len = get_prompt_token_len(\n",
    "            model.tokenizer, counterfactual_prompt\n",
    "        )\n",
    "        org_ques_start_idx = get_ques_start_token_idx(model.tokenizer, clean_prompt)\n",
    "        alt_ques_start_idx = get_ques_start_token_idx(\n",
    "            model.tokenizer, counterfactual_prompt\n",
    "        )\n",
    "        org_vis_sent_start_idx = get_visitibility_sent_start_idx(\n",
    "            model.tokenizer, clean_prompt\n",
    "        )\n",
    "        alt_vis_sent_start_idx = get_visitibility_sent_start_idx(\n",
    "            model.tokenizer, counterfactual_prompt\n",
    "        )\n",
    "\n",
    "        with torch.no_grad():\n",
    "            with model.session() as session:\n",
    "                alt_vis_layer_out, alt_quert_layer_out = (\n",
    "                    defaultdict(dict),\n",
    "                    defaultdict(dict),\n",
    "                )\n",
    "                with model.trace(counterfactual_prompt, remote=is_remote):\n",
    "                    for t_idx, t in enumerate(\n",
    "                        [i for i in range(alt_vis_sent_start_idx, alt_ques_start_idx)]\n",
    "                    ):\n",
    "                        alt_vis_layer_out[t_idx] = (\n",
    "                            model.model.layers[layer_idx].output[0, t].save()\n",
    "                        )\n",
    "\n",
    "                    for t_idx, t in enumerate(\n",
    "                        [\n",
    "                            i\n",
    "                            for i in range(\n",
    "                                alt_ques_start_idx, counterfactual_prompt_len\n",
    "                            )\n",
    "                        ]\n",
    "                    ):\n",
    "                        alt_quert_layer_out[t_idx] = (\n",
    "                            model.model.layers[layer_idx].output[0, t].save()\n",
    "                        )\n",
    "\n",
    "                with model.generate(\n",
    "                    clean_prompt,\n",
    "                    max_new_tokens=2,\n",
    "                    do_sample=False,\n",
    "                    num_return_sequences=1,\n",
    "                    pad_token_id=model.tokenizer.pad_token_id,\n",
    "                    eos_token_id=model.tokenizer.eos_token_id,\n",
    "                    remote=is_remote,\n",
    "                ):\n",
    "                    for t_idx, t in enumerate(\n",
    "                        [\n",
    "                            i\n",
    "                            for i in range(\n",
    "                                org_vis_sent_start_idx,\n",
    "                                org_vis_sent_start_idx + len(alt_vis_layer_out),\n",
    "                            )\n",
    "                        ]\n",
    "                    ):\n",
    "                        model.model.layers[layer_idx].output[0, t] = (\n",
    "                            alt_vis_layer_out[t_idx]\n",
    "                        )\n",
    "\n",
    "                    for t_idx, t in enumerate(\n",
    "                        [i for i in range(org_ques_start_idx, clean_prompt_len)]\n",
    "                    ):\n",
    "                        model.model.layers[layer_idx].output[0, t] = (\n",
    "                            alt_quert_layer_out[t_idx]\n",
    "                        )\n",
    "\n",
    "                    out = model.generator.output.save()\n",
    "\n",
    "                del alt_vis_layer_out\n",
    "                torch.cuda.empty_cache()\n",
    "\n",
    "            pred = model.tokenizer.decode(out[0][clean_prompt_len:-1]).strip()\n",
    "            # print(f\"Pred: {pred} | Target: {target}\")\n",
    "            if pred in target:\n",
    "                correct += 1\n",
    "            total += 1\n",
    "\n",
    "    acc = round(correct / total, 2)\n",
    "    print(f\"Layer: {layer_idx} | Accuracy: {acc}\")\n",
    "\n",
    "    accs_visibility_address_pointer[layer_idx] = acc"
   ]
  },
  {
   "cell_type": "code",
   "execution_count": 12,
   "metadata": {},
   "outputs": [
    {
     "data": {
      "image/png": "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