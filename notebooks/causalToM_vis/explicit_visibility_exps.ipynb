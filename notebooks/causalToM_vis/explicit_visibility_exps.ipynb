{
 "cells": [
  {
   "cell_type": "code",
   "execution_count": 2,
   "metadata": {},
   "outputs": [],
   "source": [
    "import json\n",
    "import os\n",
    "import random\n",
    "import sys\n",
    "from collections import defaultdict\n",
    "\n",
    "import matplotlib.pyplot as plt\n",
    "import torch\n",
    "from nnsight import CONFIG, LanguageModel\n",
    "from torch.utils.data import DataLoader\n",
    "from tqdm import tqdm\n",
    "\n",
    "current_dir = os.getcwd()\n",
    "sys.path.append(os.path.dirname(os.path.dirname(current_dir)))\n",
    "from src.dataset import STORY_TEMPLATES, Dataset, Sample\n",
    "from src import env_utils\n",
    "\n",
    "device = torch.device(\"cuda\" if torch.cuda.is_available() else \"cpu\")\n",
    "random.seed(10)\n",
    "\n",
    "CONFIG.APP.REMOTE_LOGGING = True\n",
    "\n",
    "os.environ[\"NDIF_KEY\"] = env_utils.load_env_var(\"NDIF_KEY\")\n",
    "os.environ[\"HF_TOKEN\"] = env_utils.load_env_var(\"HF_WRITE\")"
   ]
  },
  {
   "cell_type": "markdown",
   "metadata": {},
   "source": [
    "# Loading Synthetic Data"
   ]
  },
  {
   "cell_type": "code",
   "execution_count": 2,
   "metadata": {},
   "outputs": [
    {
     "name": "stdout",
     "output_type": "stream",
     "text": [
      "#characters: 103\n",
      "#objects: 21\n",
      "#states: 23\n"
     ]
    }
   ],
   "source": [
    "all_characters = json.load(\n",
    "    open(\n",
    "        os.path.join(\n",
    "            env_utils.DEFAULT_DATA_DIR, \"synthetic_entities\", \"characters.json\"\n",
    "        ),\n",
    "        \"r\",\n",
    "    )\n",
    ")\n",
    "all_objects = json.load(\n",
    "    open(\n",
    "        os.path.join(env_utils.DEFAULT_DATA_DIR, \"synthetic_entities\", \"bottles.json\"),\n",
    "        \"r\",\n",
    "    )\n",
    ")\n",
    "all_states = json.load(\n",
    "    open(\n",
    "        os.path.join(env_utils.DEFAULT_DATA_DIR, \"synthetic_entities\", \"drinks.json\"),\n",
    "        \"r\",\n",
    "    )\n",
    ")\n",
    "\n",
    "print(f\"#characters: {len(all_characters)}\")\n",
    "print(f\"#objects: {len(all_objects)}\")\n",
    "print(f\"#states: {len(all_states)}\")"
   ]
  },
  {
   "cell_type": "markdown",
   "metadata": {},
   "source": [
    "# Loading model"
   ]
  },
  {
   "cell_type": "code",
   "execution_count": 3,
   "metadata": {},
   "outputs": [
    {
     "name": "stderr",
     "output_type": "stream",
     "text": [
      "Loading checkpoint shards: 100%|██████████| 30/30 [00:35<00:00,  1.20s/it]\n"
     ]
    }
   ],
   "source": [
    "is_remote = False\n",
    "\n",
    "if is_remote:\n",
    "    model = LanguageModel(\"meta-llama/Meta-Llama-3.1-405B-Instruct\")\n",
    "else:\n",
    "    model = LanguageModel(\n",
    "        \"meta-llama/Meta-Llama-3-70B-Instruct\",\n",
    "        device_map=\"auto\",\n",
    "        torch_dtype=torch.float16,\n",
    "        dispatch=True,\n",
    "    )"
   ]
  },
  {
   "cell_type": "markdown",
   "metadata": {},
   "source": [
    "# Evaluating model"
   ]
  },
  {
   "cell_type": "code",
   "execution_count": 4,
   "metadata": {},
   "outputs": [],
   "source": [
    "n_samples = 100\n",
    "batch_size = 1\n",
    "\n",
    "configs, samples = [], []\n",
    "template_idx = random.choice([0, 1])\n",
    "for _ in range(n_samples):\n",
    "    template = STORY_TEMPLATES[\"templates\"][template_idx]\n",
    "    characters = random.sample(all_characters, 2)\n",
    "    containers = random.sample(all_objects, 2)\n",
    "    states = random.sample(all_states, 2)\n",
    "\n",
    "    sample = Sample(\n",
    "        template_idx=template_idx,\n",
    "        characters=characters,\n",
    "        containers=containers,\n",
    "        states=states,\n",
    "    )\n",
    "    configs.append(sample)\n",
    "\n",
    "dataset = Dataset(configs)\n",
    "\n",
    "for i in range(n_samples):\n",
    "    sample = dataset.__getitem__(i)\n",
    "    samples.append(sample)\n",
    "\n",
    "dataloader = DataLoader(samples, batch_size=1, shuffle=False)\n"
   ]
  },
  {
   "cell_type": "code",
   "execution_count": 5,
   "metadata": {},
   "outputs": [
    {
     "name": "stderr",
     "output_type": "stream",
     "text": [
      "100%|██████████| 100/100 [00:24<00:00,  4.02it/s]"
     ]
    },
    {
     "name": "stdout",
     "output_type": "stream",
     "text": [
      "Accuracy: 0.96\n"
     ]
    },
    {
     "name": "stderr",
     "output_type": "stream",
     "text": [
      "\n"
     ]
    }
   ],
   "source": [
    "correct, total = 0, 0\n",
    "\n",
    "with torch.no_grad():\n",
    "    for bi, batch in tqdm(enumerate(dataloader), total=len(dataloader)):\n",
    "        prompt = batch[\"prompt\"][0]\n",
    "        target = batch[\"target\"][0]\n",
    "\n",
    "        with model.trace(prompt, remote=is_remote):\n",
    "            pred = model.lm_head.output[0, -1].argmax(dim=-1).item().save()\n",
    "\n",
    "        # print(\n",
    "        #     f\"Pred: {model.tokenizer.decode([pred]).lower().strip()} | Target: {target}\"\n",
    "        # )\n",
    "        if model.tokenizer.decode([pred]).lower().strip() == target:\n",
    "            correct += 1\n",
    "        total += 1\n",
    "\n",
    "        del pred\n",
    "        torch.cuda.empty_cache()\n",
    "\n",
    "print(f\"Accuracy: {round(correct / total, 2)}\")"
   ]
  },
  {
   "cell_type": "markdown",
   "metadata": {},
   "source": [
    "# Visibility Lookback"
   ]
  },
  {
   "cell_type": "code",
   "execution_count": 11,
   "metadata": {},
   "outputs": [],
   "source": [
    "first_visibility_sent = [i for i in range(169, 176)]\n",
    "second_visibility_sent = [i for i in range(176, 183)]\n",
    "second_sent = [i for i in range(158, 169)]\n",
    "query_sent = [i for i in range(183, 195)]\n"
   ]
  },
  {
   "cell_type": "markdown",
   "metadata": {},
   "source": [
    "## Source Information"
   ]
  },
  {
   "cell_type": "code",
   "execution_count": 6,
   "metadata": {},
   "outputs": [],
   "source": [
    "n_samples = 20\n",
    "batch_size = 1\n",
    "\n",
    "dataset = get_visibility_lookback_data(\n",
    "    all_characters,\n",
    "    all_objects,\n",
    "    all_states,\n",
    "    n_samples,\n",
    ")\n",
    "dataloader = DataLoader(dataset, batch_size=batch_size, shuffle=False)"
   ]
  },
  {
   "cell_type": "code",
   "execution_count": 7,
   "metadata": {},
   "outputs": [
    {
     "name": "stdout",
     "output_type": "stream",
     "text": [
      "Instruction: 1. Track the belief of each character as described in the story. 2. A character's belief is formed only when they perform an action themselves or can observe the action taking place. 3. A character does not have any beliefs about the container and its contents which they cannot observe. 4. To answer the question, predict only what is inside the queried container, strictly based on the belief of the character, mentioned in the question. 5. If the queried character has no belief about the container in question, then predict 'unknown'. 6. Do not predict container or character as the final output.\n",
      "\n",
      "Story: Sean and Greg are working in a busy restaurant. To complete an order, Sean grabs an opaque quart and fills it with espresso. Then Greg grabs another opaque dispenser and fills it with coffee. Greg cannot observe Sean's actions. Sean can observe Greg's actions.\n",
      "Question: What does Sean believe the dispenser contains?\n",
      "Answer: coffee\n",
      "Instruction: 1. Track the belief of each character as described in the story. 2. A character's belief is formed only when they perform an action themselves or can observe the action taking place. 3. A character does not have any beliefs about the container and its contents which they cannot observe. 4. To answer the question, predict only what is inside the queried container, strictly based on the belief of the character, mentioned in the question. 5. If the queried character has no belief about the container in question, then predict 'unknown'. 6. Do not predict container or character as the final output.\n",
      "\n",
      "Story: Alex and Uma are working in a busy restaurant. To complete an order, Alex grabs an opaque jug and fills it with porter. Then Uma grabs another opaque tun and fills it with wine. Uma cannot observe Alex's actions. Alex cannot observe Uma's actions.\n",
      "Question: What does Alex believe the tun contains?\n",
      "Answer: unknown\n",
      "\n",
      "Target:  wine\n"
     ]
    }
   ],
   "source": [
    "idx = 0\n",
    "print(dataset[idx][\"corrupt_prompt\"], dataset[idx][\"corrupt_ans\"])\n",
    "print(dataset[idx][\"clean_prompt\"], dataset[idx][\"clean_ans\"])\n",
    "print(f\"\\nTarget: {dataset[idx]['target']}\")"
   ]
  },
  {
   "cell_type": "code",
   "execution_count": 10,
   "metadata": {},
   "outputs": [
    {
     "name": "stderr",
     "output_type": "stream",
     "text": [
      "  0%|          | 0/20 [00:00<?, ?it/s]You're using a PreTrainedTokenizerFast tokenizer. Please note that with a fast tokenizer, using the `__call__` method is faster than using a method to encode the text followed by a call to the `pad` method to get a padded encoding.\n",
      "100%|██████████| 20/20 [00:08<00:00,  2.32it/s]\n"
     ]
    }
   ],
   "source": [
    "_, errors = error_detection(model, dataloader, is_remote)"
   ]
  },
  {
   "cell_type": "code",
   "execution_count": 13,
   "metadata": {},
   "outputs": [
    {
     "name": "stderr",
     "output_type": "stream",
     "text": [
      "100%|██████████| 20/20 [00:12<00:00,  1.65it/s]\n"
     ]
    },
    {
     "name": "stdout",
     "output_type": "stream",
     "text": [
      "Layer: 0 | Accuracy: 0.0\n"
     ]
    },
    {
     "name": "stderr",
     "output_type": "stream",
     "text": [
      "100%|██████████| 20/20 [00:12<00:00,  1.66it/s]\n"
     ]
    },
    {
     "name": "stdout",
     "output_type": "stream",
     "text": [
      "Layer: 2 | Accuracy: 0.0\n"
     ]
    },
    {
     "name": "stderr",
     "output_type": "stream",
     "text": [
      "100%|██████████| 20/20 [00:12<00:00,  1.66it/s]\n"
     ]
    },
    {
     "name": "stdout",
     "output_type": "stream",
     "text": [
      "Layer: 4 | Accuracy: 0.0\n"
     ]
    },
    {
     "name": "stderr",
     "output_type": "stream",
     "text": [
      "100%|██████████| 20/20 [00:12<00:00,  1.64it/s]\n"
     ]
    },
    {
     "name": "stdout",
     "output_type": "stream",
     "text": [
      "Layer: 6 | Accuracy: 0.0\n"
     ]
    },
    {
     "name": "stderr",
     "output_type": "stream",
     "text": [
      "100%|██████████| 20/20 [00:12<00:00,  1.65it/s]\n"
     ]
    },
    {
     "name": "stdout",
     "output_type": "stream",
     "text": [
      "Layer: 8 | Accuracy: 0.1\n"
     ]
    },
    {
     "name": "stderr",
     "output_type": "stream",
     "text": [
      "100%|██████████| 20/20 [00:12<00:00,  1.65it/s]\n"
     ]
    },
    {
     "name": "stdout",
     "output_type": "stream",
     "text": [
      "Layer: 10 | Accuracy: 0.75\n"
     ]
    },
    {
     "name": "stderr",
     "output_type": "stream",
     "text": [
      "100%|██████████| 20/20 [00:12<00:00,  1.62it/s]\n"
     ]
    },
    {
     "name": "stdout",
     "output_type": "stream",
     "text": [
      "Layer: 12 | Accuracy: 0.9\n"
     ]
    },
    {
     "name": "stderr",
     "output_type": "stream",
     "text": [
      "100%|██████████| 20/20 [00:12<00:00,  1.64it/s]\n"
     ]
    },
    {
     "name": "stdout",
     "output_type": "stream",
     "text": [
      "Layer: 14 | Accuracy: 1.0\n"
     ]
    },
    {
     "name": "stderr",
     "output_type": "stream",
     "text": [
      "100%|██████████| 20/20 [00:12<00:00,  1.63it/s]\n"
     ]
    },
    {
     "name": "stdout",
     "output_type": "stream",
     "text": [
      "Layer: 16 | Accuracy: 1.0\n"
     ]
    },
    {
     "name": "stderr",
     "output_type": "stream",
     "text": [
      "100%|██████████| 20/20 [00:12<00:00,  1.63it/s]\n"
     ]
    },
    {
     "name": "stdout",
     "output_type": "stream",
     "text": [
      "Layer: 18 | Accuracy: 1.0\n"
     ]
    },
    {
     "name": "stderr",
     "output_type": "stream",
     "text": [
      "100%|██████████| 20/20 [00:12<00:00,  1.61it/s]\n"
     ]
    },
    {
     "name": "stdout",
     "output_type": "stream",
     "text": [
      "Layer: 20 | Accuracy: 0.85\n"
     ]
    },
    {
     "name": "stderr",
     "output_type": "stream",
     "text": [
      "100%|██████████| 20/20 [00:12<00:00,  1.61it/s]\n"
     ]
    },
    {
     "name": "stdout",
     "output_type": "stream",
     "text": [
      "Layer: 22 | Accuracy: 0.8\n"
     ]
    },
    {
     "name": "stderr",
     "output_type": "stream",
     "text": [
      "100%|██████████| 20/20 [00:12<00:00,  1.61it/s]\n"
     ]
    },
    {
     "name": "stdout",
     "output_type": "stream",
     "text": [
      "Layer: 24 | Accuracy: 0.5\n"
     ]
    },
    {
     "name": "stderr",
     "output_type": "stream",
     "text": [
      "100%|██████████| 20/20 [00:12<00:00,  1.58it/s]\n"
     ]
    },
    {
     "name": "stdout",
     "output_type": "stream",
     "text": [
      "Layer: 26 | Accuracy: 0.0\n"
     ]
    },
    {
     "name": "stderr",
     "output_type": "stream",
     "text": [
      "100%|██████████| 20/20 [00:12<00:00,  1.59it/s]\n"
     ]
    },
    {
     "name": "stdout",
     "output_type": "stream",
     "text": [
      "Layer: 28 | Accuracy: 0.0\n"
     ]
    },
    {
     "name": "stderr",
     "output_type": "stream",
     "text": [
      "100%|██████████| 20/20 [00:12<00:00,  1.58it/s]\n"
     ]
    },
    {
     "name": "stdout",
     "output_type": "stream",
     "text": [
      "Layer: 30 | Accuracy: 0.0\n"
     ]
    },
    {
     "name": "stderr",
     "output_type": "stream",
     "text": [
      "100%|██████████| 20/20 [00:13<00:00,  1.52it/s]\n"
     ]
    },
    {
     "name": "stdout",
     "output_type": "stream",
     "text": [
      "Layer: 40 | Accuracy: 0.0\n"
     ]
    },
    {
     "name": "stderr",
     "output_type": "stream",
     "text": [
      "100%|██████████| 20/20 [00:13<00:00,  1.50it/s]\n"
     ]
    },
    {
     "name": "stdout",
     "output_type": "stream",
     "text": [
      "Layer: 50 | Accuracy: 0.0\n"
     ]
    },
    {
     "name": "stderr",
     "output_type": "stream",
     "text": [
      "100%|██████████| 20/20 [00:13<00:00,  1.46it/s]\n"
     ]
    },
    {
     "name": "stdout",
     "output_type": "stream",
     "text": [
      "Layer: 60 | Accuracy: 0.0\n"
     ]
    },
    {
     "name": "stderr",
     "output_type": "stream",
     "text": [
      "100%|██████████| 20/20 [00:14<00:00,  1.41it/s]"
     ]
    },
    {
     "name": "stdout",
     "output_type": "stream",
     "text": [
      "Layer: 70 | Accuracy: 0.0\n"
     ]
    },
    {
     "name": "stderr",
     "output_type": "stream",
     "text": [
      "\n"
     ]
    }
   ],
   "source": [
    "accs_vis_source = {}\n",
    "patch_layers = [i for i in range(0, 32, 2)] + [\n",
    "    i for i in range(40, model.config.num_hidden_layers, 10)\n",
    "]\n",
    "\n",
    "for layer_idx in patch_layers:\n",
    "    correct, total = 0, 0\n",
    "\n",
    "    for bi, batch in tqdm(enumerate(dataloader), total=len(dataloader)):\n",
    "        if bi in errors:\n",
    "            continue\n",
    "        corrupt_prompt = batch[\"corrupt_prompt\"][0]\n",
    "        clean_prompt = batch[\"clean_prompt\"][0]\n",
    "        target = batch[\"target\"][0]\n",
    "\n",
    "        corrupt_out = defaultdict(dict)\n",
    "        with model.session():\n",
    "            with model.trace(corrupt_prompt):\n",
    "                for t_idx, t in enumerate(second_visibility_sent):\n",
    "                    corrupt_out[t_idx] = (\n",
    "                        model.model.layers[layer_idx].output[0][0, t].clone()\n",
    "                    )\n",
    "\n",
    "            with model.trace(clean_prompt):\n",
    "                for t_idx, t in enumerate(second_visibility_sent):\n",
    "                    model.model.layers[layer_idx].output[0][0, t] = corrupt_out[t_idx]\n",
    "\n",
    "                pred = model.lm_head.output[0, -1].argmax(dim=-1).save()\n",
    "\n",
    "        # print(f\"Pred: {model.tokenizer.decode([pred]).lower().strip()} | Target: {target}\")\n",
    "        if model.tokenizer.decode([pred]).lower().strip() == target.lower().strip():\n",
    "            correct += 1\n",
    "        total += 1\n",
    "\n",
    "        del pred, corrupt_out\n",
    "        torch.cuda.empty_cache()\n",
    "\n",
    "    acc = round(correct / total, 2)\n",
    "    print(f\"Layer: {layer_idx} | Accuracy: {acc}\")\n",
    "\n",
    "    accs_vis_source[layer_idx] = acc"
   ]
  },
  {
   "cell_type": "code",
   "execution_count": 14,
   "metadata": {},
   "outputs": [
    {
     "data": {
      "image/png": "[encoded data removed]",
      "text/plain": [
       "<Figure size 700x300 with 1 Axes>"
      ]
     },
     "metadata": {},
     "output_type": "display_data"
    }
   ],
   "source": [
    "# Visualize accs_vis_source as a line plot\n",
    "plt.figure(figsize=(7, 3))\n",
    "layers = list(accs_vis_source.keys())\n",
    "accuracies = list(accs_vis_source.values())\n",
    "\n",
    "plt.plot(layers, accuracies, marker=\"o\", linestyle=\"-\", linewidth=2)\n",
    "plt.xlabel(\"Layer\")\n",
    "plt.ylabel(\"IIA\")\n",
    "plt.title(\"Visibility Source IIA by Layer\")\n",
    "plt.grid(True, linestyle=\"--\", alpha=0.7)\n",
    "plt.xticks(layers)\n",
    "plt.ylim(0, 1.1)\n",
    "\n",
    "plt.tight_layout()\n",
    "plt.show()"
   ]
  },
  {
   "cell_type": "markdown",
   "metadata": {},
   "source": [
    "## Payload"
   ]
  },
  {
   "cell_type": "code",
   "execution_count": 15,
   "metadata": {},
   "outputs": [],
   "source": [
    "n_samples = 20\n",
    "batch_size = 1\n",
    "\n",
    "dataset = get_visibility_lookback_data(\n",
    "    all_characters,\n",
    "    all_objects,\n",
    "    all_states,\n",
    "    n_samples,\n",
    ")\n",
    "dataloader = DataLoader(dataset, batch_size=batch_size, shuffle=False)"
   ]
  },
  {
   "cell_type": "code",
   "execution_count": 16,
   "metadata": {},
   "outputs": [
    {
     "name": "stdout",
     "output_type": "stream",
     "text": [
      "Instruction: 1. Track the belief of each character as described in the story. 2. A character's belief is formed only when they perform an action themselves or can observe the action taking place. 3. A character does not have any beliefs about the container and its contents which they cannot observe. 4. To answer the question, predict only what is inside the queried container, strictly based on the belief of the character, mentioned in the question. 5. If the queried character has no belief about the container in question, then predict 'unknown'. 6. Do not predict container or character as the final output.\n",
      "\n",
      "Story: Ray and Liz are working in a busy restaurant. To complete an order, Ray grabs an opaque container and fills it with coffee. Then Liz grabs another opaque pitcher and fills it with cocoa. Liz cannot observe Ray's actions. Ray can observe Liz's actions.\n",
      "Question: What does Ray believe the pitcher contains?\n",
      "Answer: cocoa\n",
      "Instruction: 1. Track the belief of each character as described in the story. 2. A character's belief is formed only when they perform an action themselves or can observe the action taking place. 3. A character does not have any beliefs about the container and its contents which they cannot observe. 4. To answer the question, predict only what is inside the queried container, strictly based on the belief of the character, mentioned in the question. 5. If the queried character has no belief about the container in question, then predict 'unknown'. 6. Do not predict container or character as the final output.\n",
      "\n",
      "Story: Max and Karen are working in a busy restaurant. To complete an order, Max grabs an opaque tun and fills it with port. Then Karen grabs another opaque dispenser and fills it with water. Karen cannot observe Max's actions. Max cannot observe Karen's actions.\n",
      "Question: What does Max believe the dispenser contains?\n",
      "Answer: unknown\n",
      "\n",
      "Target:  water\n"
     ]
    }
   ],
   "source": [
    "idx = 0\n",
    "print(dataset[idx][\"corrupt_prompt\"], dataset[idx][\"corrupt_ans\"])\n",
    "print(dataset[idx][\"clean_prompt\"], dataset[idx][\"clean_ans\"])\n",
    "print(f\"\\nTarget: {dataset[idx]['target']}\")"
   ]
  },
  {
   "cell_type": "code",
   "execution_count": 17,
   "metadata": {},
   "outputs": [
    {
     "name": "stderr",
     "output_type": "stream",
     "text": [
      "100%|██████████| 20/20 [00:08<00:00,  2.33it/s]\n"
     ]
    }
   ],
   "source": [
    "_, errors = error_detection(model, dataloader, is_remote)"
   ]
  },
  {
   "cell_type": "code",
   "execution_count": 19,
   "metadata": {},
   "outputs": [
    {
     "name": "stderr",
     "output_type": "stream",
     "text": [
      "100%|██████████| 20/20 [00:11<00:00,  1.73it/s]\n"
     ]
    },
    {
     "name": "stdout",
     "output_type": "stream",
     "text": [
      "Layer: 0 | Accuracy: 0.0\n"
     ]
    },
    {
     "name": "stderr",
     "output_type": "stream",
     "text": [
      "100%|██████████| 20/20 [00:11<00:00,  1.73it/s]\n"
     ]
    },
    {
     "name": "stdout",
     "output_type": "stream",
     "text": [
      "Layer: 10 | Accuracy: 0.05\n"
     ]
    },
    {
     "name": "stderr",
     "output_type": "stream",
     "text": [
      "100%|██████████| 20/20 [00:11<00:00,  1.70it/s]\n"
     ]
    },
    {
     "name": "stdout",
     "output_type": "stream",
     "text": [
      "Layer: 20 | Accuracy: 0.0\n"
     ]
    },
    {
     "name": "stderr",
     "output_type": "stream",
     "text": [
      "100%|██████████| 20/20 [00:12<00:00,  1.63it/s]\n"
     ]
    },
    {
     "name": "stdout",
     "output_type": "stream",
     "text": [
      "Layer: 30 | Accuracy: 0.11\n"
     ]
    },
    {
     "name": "stderr",
     "output_type": "stream",
     "text": [
      "100%|██████████| 20/20 [00:12<00:00,  1.64it/s]\n"
     ]
    },
    {
     "name": "stdout",
     "output_type": "stream",
     "text": [
      "Layer: 32 | Accuracy: 0.79\n"
     ]
    },
    {
     "name": "stderr",
     "output_type": "stream",
     "text": [
      "100%|██████████| 20/20 [00:12<00:00,  1.63it/s]\n"
     ]
    },
    {
     "name": "stdout",
     "output_type": "stream",
     "text": [
      "Layer: 34 | Accuracy: 0.95\n"
     ]
    },
    {
     "name": "stderr",
     "output_type": "stream",
     "text": [
      "100%|██████████| 20/20 [00:12<00:00,  1.61it/s]\n"
     ]
    },
    {
     "name": "stdout",
     "output_type": "stream",
     "text": [
      "Layer: 36 | Accuracy: 0.95\n"
     ]
    },
    {
     "name": "stderr",
     "output_type": "stream",
     "text": [
      "100%|██████████| 20/20 [00:12<00:00,  1.62it/s]\n"
     ]
    },
    {
     "name": "stdout",
     "output_type": "stream",
     "text": [
      "Layer: 38 | Accuracy: 1.0\n"
     ]
    },
    {
     "name": "stderr",
     "output_type": "stream",
     "text": [
      "100%|██████████| 20/20 [00:12<00:00,  1.61it/s]\n"
     ]
    },
    {
     "name": "stdout",
     "output_type": "stream",
     "text": [
      "Layer: 40 | Accuracy: 0.95\n"
     ]
    },
    {
     "name": "stderr",
     "output_type": "stream",
     "text": [
      "100%|██████████| 20/20 [00:12<00:00,  1.59it/s]\n"
     ]
    },
    {
     "name": "stdout",
     "output_type": "stream",
     "text": [
      "Layer: 42 | Accuracy: 0.95\n"
     ]
    },
    {
     "name": "stderr",
     "output_type": "stream",
     "text": [
      "100%|██████████| 20/20 [00:12<00:00,  1.61it/s]\n"
     ]
    },
    {
     "name": "stdout",
     "output_type": "stream",
     "text": [
      "Layer: 44 | Accuracy: 0.95\n"
     ]
    },
    {
     "name": "stderr",
     "output_type": "stream",
     "text": [
      "100%|██████████| 20/20 [00:12<00:00,  1.60it/s]\n"
     ]
    },
    {
     "name": "stdout",
     "output_type": "stream",
     "text": [
      "Layer: 46 | Accuracy: 0.95\n"
     ]
    },
    {
     "name": "stderr",
     "output_type": "stream",
     "text": [
      "100%|██████████| 20/20 [00:12<00:00,  1.57it/s]\n"
     ]
    },
    {
     "name": "stdout",
     "output_type": "stream",
     "text": [
      "Layer: 48 | Accuracy: 0.95\n"
     ]
    },
    {
     "name": "stderr",
     "output_type": "stream",
     "text": [
      "100%|██████████| 20/20 [00:12<00:00,  1.59it/s]\n"
     ]
    },
    {
     "name": "stdout",
     "output_type": "stream",
     "text": [
      "Layer: 50 | Accuracy: 0.95\n"
     ]
    },
    {
     "name": "stderr",
     "output_type": "stream",
     "text": [
      "100%|██████████| 20/20 [00:12<00:00,  1.54it/s]\n"
     ]
    },
    {
     "name": "stdout",
     "output_type": "stream",
     "text": [
      "Layer: 52 | Accuracy: 0.79\n"
     ]
    },
    {
     "name": "stderr",
     "output_type": "stream",
     "text": [
      "100%|██████████| 20/20 [00:13<00:00,  1.51it/s]\n"
     ]
    },
    {
     "name": "stdout",
     "output_type": "stream",
     "text": [
      "Layer: 54 | Accuracy: 0.21\n"
     ]
    },
    {
     "name": "stderr",
     "output_type": "stream",
     "text": [
      "100%|██████████| 20/20 [00:13<00:00,  1.52it/s]\n"
     ]
    },
    {
     "name": "stdout",
     "output_type": "stream",
     "text": [
      "Layer: 56 | Accuracy: 0.05\n"
     ]
    },
    {
     "name": "stderr",
     "output_type": "stream",
     "text": [
      "100%|██████████| 20/20 [00:13<00:00,  1.49it/s]\n"
     ]
    },
    {
     "name": "stdout",
     "output_type": "stream",
     "text": [
      "Layer: 58 | Accuracy: 0.0\n"
     ]
    },
    {
     "name": "stderr",
     "output_type": "stream",
     "text": [
      "100%|██████████| 20/20 [00:13<00:00,  1.51it/s]\n"
     ]
    },
    {
     "name": "stdout",
     "output_type": "stream",
     "text": [
      "Layer: 60 | Accuracy: 0.0\n"
     ]
    },
    {
     "name": "stderr",
     "output_type": "stream",
     "text": [
      "100%|██████████| 20/20 [00:13<00:00,  1.47it/s]"
     ]
    },
    {
     "name": "stdout",
     "output_type": "stream",
     "text": [
      "Layer: 70 | Accuracy: 0.0\n"
     ]
    },
    {
     "name": "stderr",
     "output_type": "stream",
     "text": [
      "\n"
     ]
    }
   ],
   "source": [
    "accs_vis_payload = {}\n",
    "patch_layers = (\n",
    "    [i for i in range(0, 40, 10)]\n",
    "    + [i for i in range(32, 62, 2)]\n",
    "    + [i for i in range(70, model.config.num_hidden_layers, 10)]\n",
    ")\n",
    "\n",
    "for layer_idx in patch_layers:\n",
    "    correct, total = 0, 0\n",
    "\n",
    "    for bi, batch in tqdm(enumerate(dataloader), total=len(dataloader)):\n",
    "        if bi in errors:\n",
    "            continue\n",
    "        corrupt_prompt = batch[\"corrupt_prompt\"][0]\n",
    "        clean_prompt = batch[\"clean_prompt\"][0]\n",
    "        target = batch[\"target\"][0]\n",
    "\n",
    "        corrupt_out = defaultdict(dict)\n",
    "        with model.session():\n",
    "            with model.trace(corrupt_prompt):\n",
    "                for t_idx, t in enumerate(query_sent):\n",
    "                    corrupt_out[t_idx] = (\n",
    "                        model.model.layers[layer_idx].output[0][0, t].clone()\n",
    "                    )\n",
    "\n",
    "            with model.trace(clean_prompt):\n",
    "                for t_idx, t in enumerate(query_sent):\n",
    "                    model.model.layers[layer_idx].output[0][0, t] = corrupt_out[t_idx]\n",
    "\n",
    "                pred = model.lm_head.output[0, -1].argmax(dim=-1).save()\n",
    "\n",
    "        # print(f\"Pred: {model.tokenizer.decode([pred]).lower().strip()} | Target: {target}\")\n",
    "        if model.tokenizer.decode([pred]).lower().strip() == target.lower().strip():\n",
    "            correct += 1\n",
    "        total += 1\n",
    "\n",
    "        del pred, corrupt_out\n",
    "        torch.cuda.empty_cache()\n",
    "\n",
    "    acc = round(correct / total, 2)\n",
    "    print(f\"Layer: {layer_idx} | Accuracy: {acc}\")\n",
    "\n",
    "    accs_vis_payload[layer_idx] = acc"
   ]
  },
  {
   "cell_type": "code",
   "execution_count": 20,
   "metadata": {},
   "outputs": [
    {
     "data": {
      "image/png": "[encoded data removed]",
      "text/plain": [
       "<Figure size 700x300 with 1 Axes>"
      ]
     },
     "metadata": {},
     "output_type": "display_data"
    }
   ],
   "source": [
    "# Visualize accs_vis_source as a line plot\n",
    "plt.figure(figsize=(7, 3))\n",
    "layers = list(accs_vis_source.keys())\n",
    "accuracies = list(accs_vis_source.values())\n",
    "\n",
    "plt.plot(layers, accuracies, marker=\"o\", linestyle=\"-\", linewidth=2)\n",
    "plt.xlabel(\"Layer\")\n",
    "plt.ylabel(\"IIA\")\n",
    "plt.title(\"Visibility Payload IIA by Layer\")\n",
    "plt.grid(True, linestyle=\"--\", alpha=0.7)\n",
    "plt.xticks(layers)\n",
    "plt.ylim(0, 1.1)\n",
    "\n",
    "plt.tight_layout()\n",
    "plt.show()"
   ]
  },
  {
   "cell_type": "markdown",
   "metadata": {},
   "source": [
    "## Source and Pointer"
   ]
  },
  {
   "cell_type": "code",
   "execution_count": 28,
   "metadata": {},
   "outputs": [],
   "source": [
    "n_samples = 20\n",
    "batch_size = 1\n",
    "\n",
    "dataset = get_visibility_lookback_data(\n",
    "    all_characters,\n",
    "    all_objects,\n",
    "    all_states,\n",
    "    n_samples,\n",
    ")\n",
    "dataloader = DataLoader(dataset, batch_size=batch_size, shuffle=False)"
   ]
  },
  {
   "cell_type": "code",
   "execution_count": 29,
   "metadata": {},
   "outputs": [
    {
     "name": "stdout",
     "output_type": "stream",
     "text": [
      "Instruction: 1. Track the belief of each character as described in the story. 2. A character's belief is formed only when they perform an action themselves or can observe the action taking place. 3. A character does not have any beliefs about the container and its contents which they cannot observe. 4. To answer the question, predict only what is inside the queried container, strictly based on the belief of the character, mentioned in the question. 5. If the queried character has no belief about the container in question, then predict 'unknown'. 6. Do not predict container or character as the final output.\n",
      "\n",
      "Story: Oscar and Jake are working in a busy restaurant. To complete an order, Oscar grabs an opaque flute and fills it with ale. Then Jake grabs another opaque can and fills it with cocktail. Jake cannot observe Oscar's actions. Oscar can observe Jake's actions.\n",
      "Question: What does Oscar believe the can contains?\n",
      "Answer: cocktail\n",
      "Instruction: 1. Track the belief of each character as described in the story. 2. A character's belief is formed only when they perform an action themselves or can observe the action taking place. 3. A character does not have any beliefs about the container and its contents which they cannot observe. 4. To answer the question, predict only what is inside the queried container, strictly based on the belief of the character, mentioned in the question. 5. If the queried character has no belief about the container in question, then predict 'unknown'. 6. Do not predict container or character as the final output.\n",
      "\n",
      "Story: Zoe and Luke are working in a busy restaurant. To complete an order, Zoe grabs an opaque quart and fills it with espresso. Then Luke grabs another opaque jar and fills it with stout. Luke cannot observe Zoe's actions. Zoe cannot observe Luke's actions.\n",
      "Question: What does Zoe believe the jar contains?\n",
      "Answer: unknown\n",
      "\n",
      "Target:  stout\n"
     ]
    }
   ],
   "source": [
    "idx = 0\n",
    "print(dataset[idx][\"corrupt_prompt\"], dataset[idx][\"corrupt_ans\"])\n",
    "print(dataset[idx][\"clean_prompt\"], dataset[idx][\"clean_ans\"])\n",
    "print(f\"\\nTarget: {dataset[idx]['target']}\")"
   ]
  },
  {
   "cell_type": "code",
   "execution_count": 30,
   "metadata": {},
   "outputs": [
    {
     "name": "stderr",
     "output_type": "stream",
     "text": [
      "100%|██████████| 20/20 [00:08<00:00,  2.32it/s]\n"
     ]
    }
   ],
   "source": [
    "_, errors = error_detection(model, dataloader, is_remote)"
   ]
  },
  {
   "cell_type": "code",
   "execution_count": 36,
   "metadata": {},
   "outputs": [
    {
     "name": "stderr",
     "output_type": "stream",
     "text": [
      "100%|██████████| 20/20 [00:11<00:00,  1.72it/s]\n"
     ]
    },
    {
     "name": "stdout",
     "output_type": "stream",
     "text": [
      "Layer: 0 | Accuracy: 0.0\n"
     ]
    },
    {
     "name": "stderr",
     "output_type": "stream",
     "text": [
      "100%|██████████| 20/20 [00:11<00:00,  1.73it/s]\n"
     ]
    },
    {
     "name": "stdout",
     "output_type": "stream",
     "text": [
      "Layer: 2 | Accuracy: 0.0\n"
     ]
    },
    {
     "name": "stderr",
     "output_type": "stream",
     "text": [
      "100%|██████████| 20/20 [00:11<00:00,  1.73it/s]\n"
     ]
    },
    {
     "name": "stdout",
     "output_type": "stream",
     "text": [
      "Layer: 4 | Accuracy: 0.0\n"
     ]
    },
    {
     "name": "stderr",
     "output_type": "stream",
     "text": [
      "100%|██████████| 20/20 [00:11<00:00,  1.72it/s]\n"
     ]
    },
    {
     "name": "stdout",
     "output_type": "stream",
     "text": [
      "Layer: 6 | Accuracy: 0.32\n"
     ]
    },
    {
     "name": "stderr",
     "output_type": "stream",
     "text": [
      "100%|██████████| 20/20 [00:11<00:00,  1.72it/s]\n"
     ]
    },
    {
     "name": "stdout",
     "output_type": "stream",
     "text": [
      "Layer: 8 | Accuracy: 0.58\n"
     ]
    },
    {
     "name": "stderr",
     "output_type": "stream",
     "text": [
      "100%|██████████| 20/20 [00:11<00:00,  1.72it/s]\n"
     ]
    },
    {
     "name": "stdout",
     "output_type": "stream",
     "text": [
      "Layer: 10 | Accuracy: 0.63\n"
     ]
    },
    {
     "name": "stderr",
     "output_type": "stream",
     "text": [
      "100%|██████████| 20/20 [00:11<00:00,  1.68it/s]\n"
     ]
    },
    {
     "name": "stdout",
     "output_type": "stream",
     "text": [
      "Layer: 12 | Accuracy: 0.89\n"
     ]
    },
    {
     "name": "stderr",
     "output_type": "stream",
     "text": [
      "100%|██████████| 20/20 [00:11<00:00,  1.70it/s]\n"
     ]
    },
    {
     "name": "stdout",
     "output_type": "stream",
     "text": [
      "Layer: 14 | Accuracy: 1.0\n"
     ]
    },
    {
     "name": "stderr",
     "output_type": "stream",
     "text": [
      "100%|██████████| 20/20 [00:11<00:00,  1.70it/s]\n"
     ]
    },
    {
     "name": "stdout",
     "output_type": "stream",
     "text": [
      "Layer: 16 | Accuracy: 1.0\n"
     ]
    },
    {
     "name": "stderr",
     "output_type": "stream",
     "text": [
      "100%|██████████| 20/20 [00:11<00:00,  1.67it/s]\n"
     ]
    },
    {
     "name": "stdout",
     "output_type": "stream",
     "text": [
      "Layer: 18 | Accuracy: 1.0\n"
     ]
    },
    {
     "name": "stderr",
     "output_type": "stream",
     "text": [
      "100%|██████████| 20/20 [00:11<00:00,  1.69it/s]\n"
     ]
    },
    {
     "name": "stdout",
     "output_type": "stream",
     "text": [
      "Layer: 20 | Accuracy: 1.0\n"
     ]
    },
    {
     "name": "stderr",
     "output_type": "stream",
     "text": [
      "100%|██████████| 20/20 [00:11<00:00,  1.68it/s]\n"
     ]
    },
    {
     "name": "stdout",
     "output_type": "stream",
     "text": [
      "Layer: 22 | Accuracy: 1.0\n"
     ]
    },
    {
     "name": "stderr",
     "output_type": "stream",
     "text": [
      "100%|██████████| 20/20 [00:12<00:00,  1.66it/s]\n"
     ]
    },
    {
     "name": "stdout",
     "output_type": "stream",
     "text": [
      "Layer: 24 | Accuracy: 1.0\n"
     ]
    },
    {
     "name": "stderr",
     "output_type": "stream",
     "text": [
      "100%|██████████| 20/20 [00:11<00:00,  1.67it/s]\n"
     ]
    },
    {
     "name": "stdout",
     "output_type": "stream",
     "text": [
      "Layer: 26 | Accuracy: 1.0\n"
     ]
    },
    {
     "name": "stderr",
     "output_type": "stream",
     "text": [
      "100%|██████████| 20/20 [00:12<00:00,  1.59it/s]\n"
     ]
    },
    {
     "name": "stdout",
     "output_type": "stream",
     "text": [
      "Layer: 28 | Accuracy: 1.0\n"
     ]
    },
    {
     "name": "stderr",
     "output_type": "stream",
     "text": [
      "100%|██████████| 20/20 [00:14<00:00,  1.41it/s]\n"
     ]
    },
    {
     "name": "stdout",
     "output_type": "stream",
     "text": [
      "Layer: 30 | Accuracy: 1.0\n"
     ]
    },
    {
     "name": "stderr",
     "output_type": "stream",
     "text": [
      "100%|██████████| 20/20 [00:12<00:00,  1.58it/s]\n"
     ]
    },
    {
     "name": "stdout",
     "output_type": "stream",
     "text": [
      "Layer: 32 | Accuracy: 1.0\n"
     ]
    },
    {
     "name": "stderr",
     "output_type": "stream",
     "text": [
      "100%|██████████| 20/20 [00:12<00:00,  1.61it/s]\n"
     ]
    },
    {
     "name": "stdout",
     "output_type": "stream",
     "text": [
      "Layer: 34 | Accuracy: 1.0\n"
     ]
    },
    {
     "name": "stderr",
     "output_type": "stream",
     "text": [
      "100%|██████████| 20/20 [00:12<00:00,  1.59it/s]\n"
     ]
    },
    {
     "name": "stdout",
     "output_type": "stream",
     "text": [
      "Layer: 36 | Accuracy: 1.0\n"
     ]
    },
    {
     "name": "stderr",
     "output_type": "stream",
     "text": [
      "100%|██████████| 20/20 [00:12<00:00,  1.55it/s]\n"
     ]
    },
    {
     "name": "stdout",
     "output_type": "stream",
     "text": [
      "Layer: 38 | Accuracy: 1.0\n"
     ]
    },
    {
     "name": "stderr",
     "output_type": "stream",
     "text": [
      "100%|██████████| 20/20 [00:12<00:00,  1.55it/s]\n"
     ]
    },
    {
     "name": "stdout",
     "output_type": "stream",
     "text": [
      "Layer: 40 | Accuracy: 0.95\n"
     ]
    },
    {
     "name": "stderr",
     "output_type": "stream",
     "text": [
      "100%|██████████| 20/20 [00:12<00:00,  1.58it/s]\n"
     ]
    },
    {
     "name": "stdout",
     "output_type": "stream",
     "text": [
      "Layer: 42 | Accuracy: 0.95\n"
     ]
    },
    {
     "name": "stderr",
     "output_type": "stream",
     "text": [
      "100%|██████████| 20/20 [00:12<00:00,  1.57it/s]\n"
     ]
    },
    {
     "name": "stdout",
     "output_type": "stream",
     "text": [
      "Layer: 44 | Accuracy: 0.95\n"
     ]
    },
    {
     "name": "stderr",
     "output_type": "stream",
     "text": [
      "100%|██████████| 20/20 [00:12<00:00,  1.55it/s]\n"
     ]
    },
    {
     "name": "stdout",
     "output_type": "stream",
     "text": [
      "Layer: 46 | Accuracy: 0.95\n"
     ]
    },
    {
     "name": "stderr",
     "output_type": "stream",
     "text": [
      "100%|██████████| 20/20 [00:12<00:00,  1.56it/s]\n"
     ]
    },
    {
     "name": "stdout",
     "output_type": "stream",
     "text": [
      "Layer: 48 | Accuracy: 1.0\n"
     ]
    },
    {
     "name": "stderr",
     "output_type": "stream",
     "text": [
      "100%|██████████| 20/20 [00:12<00:00,  1.55it/s]\n"
     ]
    },
    {
     "name": "stdout",
     "output_type": "stream",
     "text": [
      "Layer: 50 | Accuracy: 1.0\n"
     ]
    },
    {
     "name": "stderr",
     "output_type": "stream",
     "text": [
      "100%|██████████| 20/20 [00:13<00:00,  1.51it/s]\n"
     ]
    },
    {
     "name": "stdout",
     "output_type": "stream",
     "text": [
      "Layer: 52 | Accuracy: 0.95\n"
     ]
    },
    {
     "name": "stderr",
     "output_type": "stream",
     "text": [
      "100%|██████████| 20/20 [00:13<00:00,  1.53it/s]\n"
     ]
    },
    {
     "name": "stdout",
     "output_type": "stream",
     "text": [
      "Layer: 54 | Accuracy: 0.32\n"
     ]
    },
    {
     "name": "stderr",
     "output_type": "stream",
     "text": [
      "100%|██████████| 20/20 [00:13<00:00,  1.51it/s]\n"
     ]
    },
    {
     "name": "stdout",
     "output_type": "stream",
     "text": [
      "Layer: 56 | Accuracy: 0.05\n"
     ]
    },
    {
     "name": "stderr",
     "output_type": "stream",
     "text": [
      "100%|██████████| 20/20 [00:13<00:00,  1.51it/s]\n"
     ]
    },
    {
     "name": "stdout",
     "output_type": "stream",
     "text": [
      "Layer: 58 | Accuracy: 0.0\n"
     ]
    },
    {
     "name": "stderr",
     "output_type": "stream",
     "text": [
      "100%|██████████| 20/20 [00:13<00:00,  1.51it/s]\n"
     ]
    },
    {
     "name": "stdout",
     "output_type": "stream",
     "text": [
      "Layer: 60 | Accuracy: 0.0\n"
     ]
    },
    {
     "name": "stderr",
     "output_type": "stream",
     "text": [
      "100%|██████████| 20/20 [00:13<00:00,  1.45it/s]"
     ]
    },
    {
     "name": "stdout",
     "output_type": "stream",
     "text": [
      "Layer: 70 | Accuracy: 0.0\n"
     ]
    },
    {
     "name": "stderr",
     "output_type": "stream",
     "text": [
      "\n"
     ]
    }
   ],
   "source": [
    "accs_vis_address_pointer = {}\n",
    "patch_layers = [i for i in range(0, 62, 2)] + [\n",
    "    i for i in range(70, model.config.num_hidden_layers, 10)\n",
    "]\n",
    "\n",
    "for layer_idx in patch_layers:\n",
    "    correct, total = 0, 0\n",
    "\n",
    "    for bi, batch in tqdm(enumerate(dataloader), total=len(dataloader)):\n",
    "        if bi in errors:\n",
    "            continue\n",
    "        corrupt_prompt = batch[\"corrupt_prompt\"][0]\n",
    "        clean_prompt = batch[\"clean_prompt\"][0]\n",
    "        target = batch[\"target\"][0]\n",
    "\n",
    "        corrupt_out = defaultdict(dict)\n",
    "        with model.session():\n",
    "            with model.trace(corrupt_prompt):\n",
    "                for t_idx, t in enumerate(second_visibility_sent + query_sent):\n",
    "                    corrupt_out[t_idx] = (\n",
    "                        model.model.layers[layer_idx].output[0][0, t].clone()\n",
    "                    )\n",
    "\n",
    "            with model.trace(clean_prompt):\n",
    "                for t_idx, t in enumerate(second_visibility_sent + query_sent):\n",
    "                    model.model.layers[layer_idx].output[0][0, t] = corrupt_out[t_idx]\n",
    "\n",
    "                pred = model.lm_head.output[0, -1].argmax(dim=-1).save()\n",
    "\n",
    "        # print(f\"Pred: {model.tokenizer.decode([pred]).lower().strip()} | Target: {target}\")\n",
    "        if model.tokenizer.decode([pred]).lower().strip() == target.lower().strip():\n",
    "            correct += 1\n",
    "        total += 1\n",
    "\n",
    "        del pred, corrupt_out\n",
    "        torch.cuda.empty_cache()\n",
    "\n",
    "    acc = round(correct / total, 2)\n",
    "    print(f\"Layer: {layer_idx} | Accuracy: {acc}\")\n",
    "\n",
    "    accs_vis_address_pointer[layer_idx] = acc"
   ]
  },
  {
   "cell_type": "code",
   "execution_count": 38,
   "metadata": {},
   "outputs": [
    {
     "data": {
      "image/png": "[encoded data removed]",
      "text/plain": [
       "<Figure size 700x300 with 1 Axes>"
      ]
     },
     "metadata": {},
     "output_type": "display_data"
    }
   ],
   "source": [
    "# Visualize accs_vis_address_pointer as a line plot\n",
    "plt.figure(figsize=(7, 3))\n",
    "layers = list(accs_vis_address_pointer.keys())\n",
    "accuracies = list(accs_vis_address_pointer.values())\n",
    "\n",
    "plt.plot(layers, accuracies, marker=\"o\", linestyle=\"-\", linewidth=2)\n",
    "plt.xlabel(\"Layer\")\n",
    "plt.ylabel(\"IIA\")\n",
    "plt.title(\"Visibility Address Pointer IIA by Layer\")\n",
    "plt.grid(True, linestyle=\"--\", alpha=0.7)\n",
    "plt.xticks(layers)\n",
    "plt.ylim(0, 1.1)\n",
    "\n",
    "plt.tight_layout()\n",
    "plt.show()"
   ]
  },
  {
   "cell_type": "markdown",
   "metadata": {},
   "source": [
    "# Attention Knockout"
   ]
  },
  {
   "cell_type": "code",
   "execution_count": 22,
   "metadata": {},
   "outputs": [],
   "source": [
    "n_rep = model.config.num_key_value_heads\n",
    "n_heads = model.config.num_attention_heads\n",
    "head_dim = model.config.hidden_size // model.config.num_attention_heads\n",
    "\n",
    "\n",
    "def rotate_half(x):\n",
    "    \"\"\"Rotates half the hidden dims of the input.\"\"\"\n",
    "    x1 = x[..., : head_dim // 2]\n",
    "    x2 = x[..., head_dim // 2 :]\n",
    "    return torch.cat((-x2, x1), dim=-1)\n",
    "\n",
    "\n",
    "def apply_rotary_pos_emb(q, k, cos, sin, position_ids=None, unsqueeze_dim=1):\n",
    "    \"\"\"Applies Rotary Position Embedding to the query and key tensors.\n",
    "\n",
    "    Args:\n",
    "        q (`torch.Tensor`): The query tensor.\n",
    "        k (`torch.Tensor`): The key tensor.\n",
    "        cos (`torch.Tensor`): The cosine part of the rotary embedding.\n",
    "        sin (`torch.Tensor`): The sine part of the rotary embedding.\n",
    "        position_ids (`torch.Tensor`, *optional*):\n",
    "            Deprecated and unused.\n",
    "        unsqueeze_dim (`int`, *optional*, defaults to 1):\n",
    "            The 'unsqueeze_dim' argument specifies the dimension along which to unsqueeze cos[position_ids] and\n",
    "            sin[position_ids] so that they can be properly broadcasted to the dimensions of q and k. For example, note\n",
    "            that cos[position_ids] and sin[position_ids] have the shape [batch_size, seq_len, head_dim]. Then, if q and\n",
    "            k have the shape [batch_size, heads, seq_len, head_dim], then setting unsqueeze_dim=1 makes\n",
    "            cos[position_ids] and sin[position_ids] broadcastable to the shapes of q and k. Similarly, if q and k have\n",
    "            the shape [batch_size, seq_len, heads, head_dim], then set unsqueeze_dim=2.\n",
    "    Returns:\n",
    "        `tuple(torch.Tensor)` comprising of the query and key tensors rotated using the Rotary Position Embedding.\n",
    "    \"\"\"\n",
    "    cos = cos.unsqueeze(unsqueeze_dim)\n",
    "    sin = sin.unsqueeze(unsqueeze_dim)\n",
    "    q_embed = (q * cos) + (rotate_half(q) * sin)\n",
    "    k_embed = (k * cos) + (rotate_half(k) * sin)\n",
    "    return q_embed, k_embed\n",
    "\n",
    "\n",
    "def repeat_kv(hidden_states: torch.Tensor, n_rep: int) -> torch.Tensor:\n",
    "    \"\"\"\n",
    "    This is the equivalent of torch.repeat_interleave(x, dim=1, repeats=n_rep). The hidden states go from (batch,\n",
    "    num_key_value_heads, seqlen, head_dim) to (batch, num_attention_heads, seqlen, head_dim)\n",
    "    \"\"\"\n",
    "    X = hidden_states.shape\n",
    "    batch, num_key_value_heads, slen, head_dim = X[0], X[1], X[2], X[3]\n",
    "    if n_rep == 1:\n",
    "        return hidden_states\n",
    "    hidden_states = hidden_states[:, :, None, :, :].expand(\n",
    "        batch, num_key_value_heads, n_rep, slen, head_dim\n",
    "    )\n",
    "    return hidden_states.reshape(batch, num_key_value_heads * n_rep, slen, head_dim)"
   ]
  },
  {
   "cell_type": "code",
   "execution_count": 23,
   "metadata": {},
   "outputs": [],
   "source": [
    "def apply_causal_mask(attn_scores, knockout_mask=None):\n",
    "    ignore = torch.tensor(torch.finfo(torch.float16).min)\n",
    "\n",
    "    # Apply causal mask\n",
    "    mask = torch.triu(\n",
    "        torch.ones(\n",
    "            attn_scores.size(-2), attn_scores.size(-1), device=attn_scores.device\n",
    "        ),\n",
    "        diagonal=1,\n",
    "    ).bool()\n",
    "    attn_scores.masked_fill_(mask, ignore)\n",
    "\n",
    "    attn_scores.masked_fill_(knockout_mask.to(attn_scores.device), ignore)\n",
    "\n",
    "    return attn_scores"
   ]
  },
  {
   "cell_type": "code",
   "execution_count": 33,
   "metadata": {},
   "outputs": [],
   "source": [
    "knockout = {}\n",
    "for t in second_visibility_sent:\n",
    "    knockout[t] = second_sent.copy()\n",
    "    # knockout[t] += first_visibility_sent.copy()\n",
    "\n",
    "# Create source and target indices tensors\n",
    "batch_size = 1\n",
    "num_heads = model.config.num_attention_heads\n",
    "tokens = model.tokenizer(dataset[0][\"corrupt_prompt\"], return_tensors=\"pt\")[\"input_ids\"]\n",
    "q_len = tokens.size(1)\n",
    "\n",
    "# Create a mask of zeros with the shape as batch_size, num_heads, q_len, q_len\n",
    "knockout_mask = torch.zeros(\n",
    "    batch_size, num_heads, q_len, q_len, device=model.device, dtype=torch.bool\n",
    ")\n",
    "\n",
    "# Expand indices for broadcasting\n",
    "# We create pairs of (from_pos, to_pos) for every entry in the knockout dict\n",
    "from_indices = []\n",
    "to_indices = []\n",
    "\n",
    "for from_pos, to_pos_list in knockout.items():\n",
    "    for to_pos in to_pos_list:\n",
    "        from_indices.append(from_pos)\n",
    "        to_indices.append(to_pos)\n",
    "\n",
    "# Convert to tensors\n",
    "from_indices = torch.tensor(from_indices)\n",
    "to_indices = torch.tensor(to_indices)\n",
    "\n",
    "# Create indices for each batch and head\n",
    "for b in range(1, batch_size):\n",
    "    knockout_mask[b, :, from_indices, to_indices] = True\n",
    "\n",
    "# Set all heads for first batch\n",
    "for h in range(num_heads):\n",
    "    knockout_mask[0, h, from_indices, to_indices] = True"
   ]
  },
  {
   "cell_type": "code",
   "execution_count": 34,
   "metadata": {},
   "outputs": [],
   "source": [
    "patch_layers = [i for i in range(35)] + [i for i in range(40, 80, 10)]"
   ]
  },
  {
   "cell_type": "code",
   "execution_count": 35,
   "metadata": {},
   "outputs": [
    {
     "name": "stderr",
     "output_type": "stream",
     "text": [
      "  0%|          | 0/100 [00:00<?, ?it/s]"
     ]
    },
    {
     "name": "stderr",
     "output_type": "stream",
     "text": [
      "100%|██████████| 100/100 [01:31<00:00,  1.10it/s]\n"
     ]
    },
    {
     "name": "stdout",
     "output_type": "stream",
     "text": [
      "Layer: 0 | Accuracy: 0.35\n"
     ]
    },
    {
     "name": "stderr",
     "output_type": "stream",
     "text": [
      "100%|██████████| 100/100 [01:19<00:00,  1.25it/s]\n"
     ]
    },
    {
     "name": "stdout",
     "output_type": "stream",
     "text": [
      "Layer: 1 | Accuracy: 0.35\n"
     ]
    },
    {
     "name": "stderr",
     "output_type": "stream",
     "text": [
      "100%|██████████| 100/100 [01:31<00:00,  1.09it/s]\n"
     ]
    },
    {
     "name": "stdout",
     "output_type": "stream",
     "text": [
      "Layer: 2 | Accuracy: 0.36\n"
     ]
    },
    {
     "name": "stderr",
     "output_type": "stream",
     "text": [
      "100%|██████████| 100/100 [01:23<00:00,  1.20it/s]\n"
     ]
    },
    {
     "name": "stdout",
     "output_type": "stream",
     "text": [
      "Layer: 3 | Accuracy: 0.36\n"
     ]
    },
    {
     "name": "stderr",
     "output_type": "stream",
     "text": [
      "100%|██████████| 100/100 [01:24<00:00,  1.18it/s]\n"
     ]
    },
    {
     "name": "stdout",
     "output_type": "stream",
     "text": [
      "Layer: 4 | Accuracy: 0.36\n"
     ]
    },
    {
     "name": "stderr",
     "output_type": "stream",
     "text": [
      "100%|██████████| 100/100 [01:27<00:00,  1.14it/s]\n"
     ]
    },
    {
     "name": "stdout",
     "output_type": "stream",
     "text": [
      "Layer: 5 | Accuracy: 0.36\n"
     ]
    },
    {
     "name": "stderr",
     "output_type": "stream",
     "text": [
      "100%|██████████| 100/100 [01:16<00:00,  1.30it/s]\n"
     ]
    },
    {
     "name": "stdout",
     "output_type": "stream",
     "text": [
      "Layer: 6 | Accuracy: 0.38\n"
     ]
    },
    {
     "name": "stderr",
     "output_type": "stream",
     "text": [
      "100%|██████████| 100/100 [01:18<00:00,  1.28it/s]\n"
     ]
    },
    {
     "name": "stdout",
     "output_type": "stream",
     "text": [
      "Layer: 7 | Accuracy: 0.39\n"
     ]
    },
    {
     "name": "stderr",
     "output_type": "stream",
     "text": [
      "100%|██████████| 100/100 [01:16<00:00,  1.31it/s]\n"
     ]
    },
    {
     "name": "stdout",
     "output_type": "stream",
     "text": [
      "Layer: 8 | Accuracy: 0.41\n"
     ]
    },
    {
     "name": "stderr",
     "output_type": "stream",
     "text": [
      "100%|██████████| 100/100 [01:14<00:00,  1.34it/s]\n"
     ]
    },
    {
     "name": "stdout",
     "output_type": "stream",
     "text": [
      "Layer: 9 | Accuracy: 0.41\n"
     ]
    },
    {
     "name": "stderr",
     "output_type": "stream",
     "text": [
      "100%|██████████| 100/100 [01:12<00:00,  1.38it/s]\n"
     ]
    },
    {
     "name": "stdout",
     "output_type": "stream",
     "text": [
      "Layer: 10 | Accuracy: 0.41\n"
     ]
    },
    {
     "name": "stderr",
     "output_type": "stream",
     "text": [
      "100%|██████████| 100/100 [01:16<00:00,  1.31it/s]\n"
     ]
    },
    {
     "name": "stdout",
     "output_type": "stream",
     "text": [
      "Layer: 11 | Accuracy: 0.41\n"
     ]
    },
    {
     "name": "stderr",
     "output_type": "stream",
     "text": [
      "100%|██████████| 100/100 [01:13<00:00,  1.36it/s]\n"
     ]
    },
    {
     "name": "stdout",
     "output_type": "stream",
     "text": [
      "Layer: 12 | Accuracy: 0.41\n"
     ]
    },
    {
     "name": "stderr",
     "output_type": "stream",
     "text": [
      "100%|██████████| 100/100 [01:10<00:00,  1.42it/s]\n"
     ]
    },
    {
     "name": "stdout",
     "output_type": "stream",
     "text": [
      "Layer: 13 | Accuracy: 0.42\n"
     ]
    },
    {
     "name": "stderr",
     "output_type": "stream",
     "text": [
      "100%|██████████| 100/100 [01:09<00:00,  1.43it/s]\n"
     ]
    },
    {
     "name": "stdout",
     "output_type": "stream",
     "text": [
      "Layer: 14 | Accuracy: 0.42\n"
     ]
    },
    {
     "name": "stderr",
     "output_type": "stream",
     "text": [
      "100%|██████████| 100/100 [01:09<00:00,  1.44it/s]\n"
     ]
    },
    {
     "name": "stdout",
     "output_type": "stream",
     "text": [
      "Layer: 15 | Accuracy: 0.44\n"
     ]
    },
    {
     "name": "stderr",
     "output_type": "stream",
     "text": [
      "100%|██████████| 100/100 [01:05<00:00,  1.52it/s]\n"
     ]
    },
    {
     "name": "stdout",
     "output_type": "stream",
     "text": [
      "Layer: 16 | Accuracy: 0.45\n"
     ]
    },
    {
     "name": "stderr",
     "output_type": "stream",
     "text": [
      "100%|██████████| 100/100 [01:04<00:00,  1.54it/s]\n"
     ]
    },
    {
     "name": "stdout",
     "output_type": "stream",
     "text": [
      "Layer: 17 | Accuracy: 0.45\n"
     ]
    },
    {
     "name": "stderr",
     "output_type": "stream",
     "text": [
      "100%|██████████| 100/100 [01:01<00:00,  1.63it/s]\n"
     ]
    },
    {
     "name": "stdout",
     "output_type": "stream",
     "text": [
      "Layer: 18 | Accuracy: 0.5\n"
     ]
    },
    {
     "name": "stderr",
     "output_type": "stream",
     "text": [
      "100%|██████████| 100/100 [01:02<00:00,  1.59it/s]\n"
     ]
    },
    {
     "name": "stdout",
     "output_type": "stream",
     "text": [
      "Layer: 19 | Accuracy: 0.55\n"
     ]
    },
    {
     "name": "stderr",
     "output_type": "stream",
     "text": [
      "100%|██████████| 100/100 [01:04<00:00,  1.55it/s]\n"
     ]
    },
    {
     "name": "stdout",
     "output_type": "stream",
     "text": [
      "Layer: 20 | Accuracy: 0.56\n"
     ]
    },
    {
     "name": "stderr",
     "output_type": "stream",
     "text": [
      "100%|██████████| 100/100 [01:05<00:00,  1.52it/s]\n"
     ]
    },
    {
     "name": "stdout",
     "output_type": "stream",
     "text": [
      "Layer: 21 | Accuracy: 0.56\n"
     ]
    },
    {
     "name": "stderr",
     "output_type": "stream",
     "text": [
      "100%|██████████| 100/100 [01:07<00:00,  1.47it/s]\n"
     ]
    },
    {
     "name": "stdout",
     "output_type": "stream",
     "text": [
      "Layer: 22 | Accuracy: 0.71\n"
     ]
    },
    {
     "name": "stderr",
     "output_type": "stream",
     "text": [
      "100%|██████████| 100/100 [01:10<00:00,  1.43it/s]\n"
     ]
    },
    {
     "name": "stdout",
     "output_type": "stream",
     "text": [
      "Layer: 23 | Accuracy: 0.79\n"
     ]
    },
    {
     "name": "stderr",
     "output_type": "stream",
     "text": [
      "100%|██████████| 100/100 [01:11<00:00,  1.40it/s]\n"
     ]
    },
    {
     "name": "stdout",
     "output_type": "stream",
     "text": [
      "Layer: 24 | Accuracy: 0.89\n"
     ]
    },
    {
     "name": "stderr",
     "output_type": "stream",
     "text": [
      "100%|██████████| 100/100 [01:00<00:00,  1.65it/s]\n"
     ]
    },
    {
     "name": "stdout",
     "output_type": "stream",
     "text": [
      "Layer: 25 | Accuracy: 0.89\n"
     ]
    },
    {
     "name": "stderr",
     "output_type": "stream",
     "text": [
      "100%|██████████| 100/100 [01:00<00:00,  1.65it/s]\n"
     ]
    },
    {
     "name": "stdout",
     "output_type": "stream",
     "text": [
      "Layer: 26 | Accuracy: 0.92\n"
     ]
    },
    {
     "name": "stderr",
     "output_type": "stream",
     "text": [
      "100%|██████████| 100/100 [01:02<00:00,  1.60it/s]\n"
     ]
    },
    {
     "name": "stdout",
     "output_type": "stream",
     "text": [
      "Layer: 27 | Accuracy: 0.97\n"
     ]
    },
    {
     "name": "stderr",
     "output_type": "stream",
     "text": [
      "100%|██████████| 100/100 [01:04<00:00,  1.54it/s]\n"
     ]
    },
    {
     "name": "stdout",
     "output_type": "stream",
     "text": [
      "Layer: 28 | Accuracy: 0.97\n"
     ]
    },
    {
     "name": "stderr",
     "output_type": "stream",
     "text": [
      "100%|██████████| 100/100 [01:07<00:00,  1.49it/s]\n"
     ]
    },
    {
     "name": "stdout",
     "output_type": "stream",
     "text": [
      "Layer: 29 | Accuracy: 0.97\n"
     ]
    },
    {
     "name": "stderr",
     "output_type": "stream",
     "text": [
      "100%|██████████| 100/100 [01:09<00:00,  1.45it/s]\n"
     ]
    },
    {
     "name": "stdout",
     "output_type": "stream",
     "text": [
      "Layer: 30 | Accuracy: 0.98\n"
     ]
    },
    {
     "name": "stderr",
     "output_type": "stream",
     "text": [
      "100%|██████████| 100/100 [01:10<00:00,  1.42it/s]\n"
     ]
    },
    {
     "name": "stdout",
     "output_type": "stream",
     "text": [
      "Layer: 31 | Accuracy: 0.98\n"
     ]
    },
    {
     "name": "stderr",
     "output_type": "stream",
     "text": [
      "100%|██████████| 100/100 [01:11<00:00,  1.40it/s]\n"
     ]
    },
    {
     "name": "stdout",
     "output_type": "stream",
     "text": [
      "Layer: 32 | Accuracy: 0.98\n"
     ]
    },
    {
     "name": "stderr",
     "output_type": "stream",
     "text": [
      "100%|██████████| 100/100 [01:03<00:00,  1.58it/s]\n"
     ]
    },
    {
     "name": "stdout",
     "output_type": "stream",
     "text": [
      "Layer: 33 | Accuracy: 0.98\n"
     ]
    },
    {
     "name": "stderr",
     "output_type": "stream",
     "text": [
      "100%|██████████| 100/100 [01:00<00:00,  1.64it/s]\n"
     ]
    },
    {
     "name": "stdout",
     "output_type": "stream",
     "text": [
      "Layer: 34 | Accuracy: 0.98\n"
     ]
    },
    {
     "name": "stderr",
     "output_type": "stream",
     "text": [
      "100%|██████████| 100/100 [00:53<00:00,  1.86it/s]\n"
     ]
    },
    {
     "name": "stdout",
     "output_type": "stream",
     "text": [
      "Layer: 40 | Accuracy: 1.0\n"
     ]
    },
    {
     "name": "stderr",
     "output_type": "stream",
     "text": [
      "100%|██████████| 100/100 [00:42<00:00,  2.34it/s]\n"
     ]
    },
    {
     "name": "stdout",
     "output_type": "stream",
     "text": [
      "Layer: 50 | Accuracy: 1.0\n"
     ]
    },
    {
     "name": "stderr",
     "output_type": "stream",
     "text": [
      "100%|██████████| 100/100 [00:35<00:00,  2.81it/s]\n"
     ]
    },
    {
     "name": "stdout",
     "output_type": "stream",
     "text": [
      "Layer: 60 | Accuracy: 1.0\n"
     ]
    },
    {
     "name": "stderr",
     "output_type": "stream",
     "text": [
      "100%|██████████| 100/100 [00:27<00:00,  3.58it/s]"
     ]
    },
    {
     "name": "stdout",
     "output_type": "stream",
     "text": [
      "Layer: 70 | Accuracy: 1.0\n"
     ]
    },
    {
     "name": "stderr",
     "output_type": "stream",
     "text": [
      "\n"
     ]
    }
   ],
   "source": [
    "accs_knockout_3 = {}\n",
    "for layer_idx in patch_layers:\n",
    "    correct, total = 0, 0\n",
    "    for bi, batch in tqdm(enumerate(dataloader), total=len(dataloader)):\n",
    "        if bi in errors or bi >= 80:\n",
    "            continue\n",
    "        prompt = batch[\"corrupt_prompt\"][0]\n",
    "        ans = batch[\"corrupt_ans\"][0]\n",
    "        input_tokens = model.tokenizer(prompt, return_tensors=\"pt\").input_ids\n",
    "        bsz, q_len = input_tokens.shape\n",
    "        positions = torch.arange(q_len)\n",
    "        positions = torch.tensor(positions).unsqueeze(0).repeat(bsz, 1)\n",
    "\n",
    "        with torch.no_grad():\n",
    "            with model.trace(prompt) as tracer:\n",
    "                for l in range(layer_idx, model.config.num_hidden_layers):\n",
    "                    query_states = model.model.layers[l].self_attn.q_proj.output\n",
    "                    key_states = model.model.layers[l].self_attn.k_proj.output\n",
    "                    value_states = model.model.layers[l].self_attn.v_proj.output\n",
    "\n",
    "                    query_states = query_states.view(\n",
    "                        bsz, q_len, -1, head_dim\n",
    "                    ).transpose(1, 2)\n",
    "                    key_states = key_states.view(bsz, q_len, -1, head_dim).transpose(\n",
    "                        1, 2\n",
    "                    )\n",
    "                    value_states = value_states.view(\n",
    "                        bsz, q_len, -1, head_dim\n",
    "                    ).transpose(1, 2)\n",
    "\n",
    "                    X = model.model.rotary_emb(value_states, positions)\n",
    "                    cos, sin = X[0], X[1]\n",
    "                    X = apply_rotary_pos_emb(\n",
    "                        q=query_states, k=key_states, cos=cos, sin=sin\n",
    "                    )\n",
    "                    query_states, key_states = X[0], X[1]\n",
    "\n",
    "                    key_states = repeat_kv(key_states, n_rep)\n",
    "                    value_states = repeat_kv(value_states, n_rep)\n",
    "\n",
    "                    attn_weights = torch.matmul(\n",
    "                        query_states, key_states.transpose(2, 3)\n",
    "                    ) / math.sqrt(head_dim)\n",
    "                    attn_weights = apply_causal_mask(\n",
    "                        attn_scores=attn_weights,\n",
    "                        knockout_mask=knockout_mask,\n",
    "                    )\n",
    "\n",
    "                    attn_weights = torch.nn.functional.softmax(attn_weights, dim=-1)\n",
    "                    attn_weights = torch.nn.functional.dropout(\n",
    "                        attn_weights, p=0.0, training=False\n",
    "                    )\n",
    "                    attn_output = torch.matmul(attn_weights, value_states)\n",
    "                    attn_output = attn_output.transpose(1, 2).contiguous()\n",
    "                    attn_output = attn_output.reshape(bsz, q_len, -1)\n",
    "\n",
    "                    model.model.layers[l].self_attn.o_proj.input = attn_output\n",
    "\n",
    "                pred = model.lm_head.output[:, -1].argmax(dim=-1).item().save()\n",
    "\n",
    "            # print(f\"Prediction: {model.tokenizer.decode([pred]).lower().strip()} | Target: {ans}\")\n",
    "            if model.tokenizer.decode([pred]).lower().strip() == ans:\n",
    "                correct += 1\n",
    "            total += 1\n",
    "\n",
    "    print(f\"Layer: {layer_idx} | Accuracy: {round(correct / total, 2)}\")\n",
    "    accs_knockout_3[layer_idx] = round(correct / total, 2)\n",
    "\n",
    "    with open(\"../accs_knockout_3.json\", \"w\") as f:\n",
    "        json.dump(accs_knockout_3, f, indent=4)\n"
   ]
  },
  {
   "cell_type": "code",
   "execution_count": 27,
   "metadata": {},
   "outputs": [
    {
     "data": {
      "text/plain": [
       "{0: 0.05,\n",
       " 1: 0.05,\n",
       " 2: 0.05,\n",
       " 3: 0.06,\n",
       " 4: 0.06,\n",
       " 5: 0.06,\n",
       " 6: 0.06,\n",
       " 7: 0.05,\n",
       " 8: 0.05,\n",
       " 9: 0.05,\n",
       " 10: 0.05,\n",
       " 11: 0.05,\n",
       " 12: 0.03,\n",
       " 13: 0.02,\n",
       " 14: 0.02,\n",
       " 15: 0.03,\n",
       " 16: 0.02,\n",
       " 17: 0.03,\n",
       " 18: 0.03,\n",
       " 19: 0.05,\n",
       " 20: 0.09,\n",
       " 21: 0.08,\n",
       " 22: 0.15,\n",
       " 23: 0.2,\n",
       " 24: 0.45,\n",
       " 25: 0.62,\n",
       " 26: 0.73,\n",
       " 27: 0.74,\n",
       " 28: 0.88,\n",
       " 29: 0.97,\n",
       " 30: 0.97,\n",
       " 31: 0.97,\n",
       " 32: 0.98,\n",
       " 33: 0.98,\n",
       " 34: 1.0,\n",
       " 40: 1.0,\n",
       " 50: 1.0,\n",
       " 60: 1.0,\n",
       " 70: 1.0}"
      ]
     },
     "execution_count": 27,
     "metadata": {},
     "output_type": "execute_result"
    }
   ],
   "source": [
    "# Sort accs_knockout by layer index\n",
    "accs_knockout = dict(sorted(accs_knockout.items(), key=lambda x: x[0]))\n",
    "accs_knockout"
   ]
  },
  {
   "cell_type": "code",
   "execution_count": 32,
   "metadata": {},
   "outputs": [
    {
     "data": {
      "text/plain": [
       "{0: 0.0,\n",
       " 5: 0.0,\n",
       " 10: 0.0,\n",
       " 15: 0.0,\n",
       " 20: 0.0,\n",
       " 25: 0.47,\n",
       " 26: 0.84,\n",
       " 27: 0.95,\n",
       " 28: 0.95,\n",
       " 29: 0.95,\n",
       " 30: 0.95}"
      ]
     },
     "execution_count": 32,
     "metadata": {},
     "output_type": "execute_result"
    }
   ],
   "source": [
    "# Sort accs_knockout by layer index\n",
    "accs_knockout = dict(sorted(accs_knockout.items(), key=lambda x: x[0]))\n",
    "accs_knockout"
   ]
  },
  {
   "cell_type": "code",
   "execution_count": 36,
   "metadata": {},
   "outputs": [
    {
     "data": {
      "image/png": "[encoded data removed]",
      "text/plain": [
       "<Figure size 500x300 with 1 Axes>"
      ]
     },
     "metadata": {},
     "output_type": "display_data"
    }
   ],
   "source": [
    "# Visualize accs using a line plot\n",
    "plt.figure(figsize=(5, 3))\n",
    "plt.plot(accs_knockout.keys(), accs_knockout.values(), marker=\"o\")\n",
    "plt.xlabel(\"Layers\")\n",
    "plt.ylabel(\"Knockout Accuracy\")\n",
    "plt.title(\"Restricting Heads at 2nd Vis Sent to attend 2nd Sent + 1st Vis Sent\")\n",
    "plt.ylim(-0.1, 1.1)\n",
    "plt.grid()\n",
    "plt.show()"
   ]
  },
  {
   "cell_type": "code",
   "execution_count": 35,
   "metadata": {},
   "outputs": [
    {
     "data": {
      "image/png": "[encoded data removed]",
      "text/plain": [
       "<Figure size 500x300 with 1 Axes>"
      ]
     },
     "metadata": {},
     "output_type": "display_data"
    }
   ],
   "source": []
  },
  {
   "cell_type": "code",
   "execution_count": 14,
   "metadata": {},
   "outputs": [
    {
     "data": {
      "image/png": "[encoded data removed]",
      "text/plain": [
       "<Figure size 1500x900 with 1 Axes>"
      ]
     },
     "metadata": {},
     "output_type": "display_data"
    }
   ],
   "source": [
    "import json\n",
    "\n",
    "import matplotlib as mpl\n",
    "import matplotlib.pyplot as plt\n",
    "from matplotlib.ticker import MaxNLocator\n",
    "\n",
    "# Set up the plot style for publication quality\n",
    "plt.style.use(\"seaborn-v0_8-whitegrid\")\n",
    "mpl.rcParams[\"font.family\"] = \"serif\"\n",
    "mpl.rcParams[\"font.serif\"] = [\"Times New Roman\"] + plt.rcParams[\"font.serif\"]\n",
    "mpl.rcParams[\"axes.labelsize\"] = 14\n",
    "mpl.rcParams[\"axes.titlesize\"] = 16\n",
    "mpl.rcParams[\"xtick.labelsize\"] = 12\n",
    "mpl.rcParams[\"ytick.labelsize\"] = 12\n",
    "mpl.rcParams[\"legend.fontsize\"] = 12\n",
    "mpl.rcParams[\"figure.titlesize\"] = 16\n",
    "\n",
    "# Load the data\n",
    "with open(\"../accs_knockout.json\", \"r\") as f:\n",
    "    data1 = json.load(f)\n",
    "\n",
    "with open(\"../accs_knockout_2.json\", \"r\") as f:\n",
    "    data2 = json.load(f)\n",
    "\n",
    "with open(\"../accs_knockout_3.json\", \"r\") as f:\n",
    "    data3 = json.load(f)\n",
    "\n",
    "# Convert to lists for plotting\n",
    "layers1 = [int(k) for k in data1.keys()]\n",
    "accuracy1 = [float(v) for v in data1.values()]\n",
    "\n",
    "layers2 = [int(k) for k in data2.keys()]\n",
    "accuracy2 = [float(v) for v in data2.values()]\n",
    "\n",
    "layers3 = [int(k) for k in data3.keys()]\n",
    "accuracy3 = [float(v) for v in data3.values()]\n",
    "\n",
    "# Sort by layer number\n",
    "sorted_data1 = sorted(zip(layers1, accuracy1))\n",
    "sorted_data2 = sorted(zip(layers2, accuracy2))\n",
    "sorted_data3 = sorted(zip(layers3, accuracy3))\n",
    "\n",
    "layers1, accuracy1 = zip(*sorted_data1)\n",
    "layers2, accuracy2 = zip(*sorted_data2)\n",
    "layers3, accuracy3 = zip(*sorted_data3)\n",
    "\n",
    "# Create the figure and axis\n",
    "fig, ax = plt.subplots(figsize=(5, 3), dpi=300)\n",
    "\n",
    "# Plot the data with different line styles and markers\n",
    "ax.plot(\n",
    "    layers1,\n",
    "    accuracy1,\n",
    "    \"o-\",\n",
    "    color=\"#1f77b4\",\n",
    "    linewidth=2,\n",
    "    markersize=6,\n",
    "    label=\"Second sent + First vis sent\",\n",
    ")\n",
    "ax.plot(\n",
    "    layers2,\n",
    "    accuracy2,\n",
    "    \"s-\",\n",
    "    color=\"#ff7f0e\",\n",
    "    linewidth=2,\n",
    "    markersize=6,\n",
    "    label=\"First vis sent\",\n",
    ")\n",
    "ax.plot(\n",
    "    layers3,\n",
    "    accuracy3,\n",
    "    \"^-\",\n",
    "    color=\"#2ca02c\",\n",
    "    linewidth=2,\n",
    "    markersize=6,\n",
    "    label=\"Second sent\",\n",
    ")\n",
    "\n",
    "# Customize the plot\n",
    "ax.set_xlabel(\"Layer Index\")\n",
    "ax.set_ylabel(\"Intervention Accuracy\")\n",
    "ax.set_title(\"Layer-wise IIA with Attention Knockouts\")\n",
    "\n",
    "# Set the x-axis to only show integer values\n",
    "ax.xaxis.set_major_locator(MaxNLocator(integer=True))\n",
    "\n",
    "# Add a grid for better readability\n",
    "ax.grid(True, linestyle=\"--\", alpha=0.7)\n",
    "\n",
    "# Ensure y-axis starts from 0 and goes to 1.0\n",
    "ax.set_ylim(0, 1.05)\n",
    "\n",
    "# Enhance the legend\n",
    "ax.legend(loc=\"lower right\", frameon=True, framealpha=0.9)\n",
    "\n",
    "# Tight layout for better spacing\n",
    "plt.tight_layout()\n",
    "\n",
    "# Save the figure in high resolution\n",
    "plt.savefig(\"../plots/knockout_results.png\", dpi=300, bbox_inches=\"tight\")\n",
    "plt.savefig(\"../plots/knockout_results.pdf\", bbox_inches=\"tight\")\n",
    "\n",
    "plt.show()"
   ]
  },
  {
   "cell_type": "code",
   "execution_count": null,
   "metadata": {},
   "outputs": [],
   "source": []
  }
 ],
 "metadata": {
  "kernelspec": {
   "display_name": "mind",
   "language": "python",
   "name": "python3"
  },
  "language_info": {
   "codemirror_mode": {
    "name": "ipython",
    "version": 3
   },
   "file_extension": ".py",
   "mimetype": "text/x-python",
   "name": "python",
   "nbconvert_exporter": "python",
   "pygments_lexer": "ipython3",
   "version": "3.10.16"
  }
 },
 "nbformat": 4,
 "nbformat_minor": 2
}
